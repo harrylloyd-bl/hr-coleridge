{
  "cells": [
    {
      "cell_type": "markdown",
      "metadata": {
        "id": "view-in-github",
        "colab_type": "text"
      },
      "source": [
        "<a href=\"https://colab.research.google.com/github/harrylloyd-bl/hr-coleridge/blob/hr/Extract_Entities.ipynb\" target=\"_parent\"><img src=\"https://colab.research.google.com/assets/colab-badge.svg\" alt=\"Open In Colab\"/></a>"
      ]
    },
    {
      "cell_type": "markdown",
      "id": "dd0b9fc9-eaf2-4523-93d9-f418c8e11867",
      "metadata": {
        "id": "dd0b9fc9-eaf2-4523-93d9-f418c8e11867"
      },
      "source": [
        "# Extract Entities"
      ]
    },
    {
      "cell_type": "markdown",
      "source": [
        "## Import Packages"
      ],
      "metadata": {
        "id": "dO_-dzYodKcl"
      },
      "id": "dO_-dzYodKcl"
    },
    {
      "cell_type": "markdown",
      "source": [
        "Import modules from the standard library to work with the file system xmls and regular expressions.\n",
        "\n",
        "\n",
        "*   glob - searches for filenames that match a specific pattern\n",
        "*   ElementTree - for working with xmls\n",
        "*   re - for regular expressions (patterns used to find specific parts of strings)\n",
        "*   os - os.remove for deleting files\n",
        "\n",
        "[Colab Markdown Cheat Sheet](https://colab.research.google.com/notebooks/markdown_guide.ipynb)\n"
      ],
      "metadata": {
        "id": "aG6Ll6zlelZ4"
      },
      "id": "aG6Ll6zlelZ4"
    },
    {
      "cell_type": "code",
      "execution_count": 1,
      "id": "62cd1d6d-0aa7-4b86-a63b-6ad76c4b8be5",
      "metadata": {
        "id": "62cd1d6d-0aa7-4b86-a63b-6ad76c4b8be5"
      },
      "outputs": [],
      "source": [
        "import glob\n",
        "import xml.etree.ElementTree as ET\n",
        "import re\n",
        "import os\n",
        "import pandas as pd"
      ]
    },
    {
      "cell_type": "markdown",
      "source": [
        "## Combine pages"
      ],
      "metadata": {
        "id": "KsYhqnltmvU_"
      },
      "id": "KsYhqnltmvU_"
    },
    {
      "cell_type": "markdown",
      "source": [
        "### Define report_date"
      ],
      "metadata": {
        "id": "9nM4_JS5gjlS"
      },
      "id": "9nM4_JS5gjlS"
    },
    {
      "cell_type": "code",
      "source": [
        "report_date = 1866"
      ],
      "metadata": {
        "id": "NhHBxMDxxohO"
      },
      "id": "NhHBxMDxxohO",
      "execution_count": 2,
      "outputs": []
    },
    {
      "cell_type": "markdown",
      "source": [
        "### Define data path\n"
      ],
      "metadata": {
        "id": "oFlSkuq_SC5x"
      },
      "id": "oFlSkuq_SC5x"
    },
    {
      "cell_type": "code",
      "execution_count": 3,
      "id": "a9971bcc-121f-4582-bc47-c9474ec4b227",
      "metadata": {
        "id": "a9971bcc-121f-4582-bc47-c9474ec4b227"
      },
      "outputs": [],
      "source": [
        "pages = glob.glob(f\"sample_data/{report_date}/00*.xml\")"
      ]
    },
    {
      "cell_type": "markdown",
      "source": [
        "### Import data from path"
      ],
      "metadata": {
        "id": "u-p46AR0YXv0"
      },
      "id": "u-p46AR0YXv0"
    },
    {
      "cell_type": "code",
      "execution_count": 4,
      "id": "9cadb519-1d83-4f52-923c-983f7530ac3d",
      "metadata": {
        "id": "9cadb519-1d83-4f52-923c-983f7530ac3d",
        "outputId": "2c47dc7c-ac31-4b16-acbd-4811d5cc62fb",
        "colab": {
          "base_uri": "https://localhost:8080/"
        }
      },
      "outputs": [
        {
          "output_type": "execute_result",
          "data": {
            "text/plain": [
              "['sample_data/1866/0009_p008.xml',\n",
              " 'sample_data/1866/0040_p041.xml',\n",
              " 'sample_data/1866/0005_p004.xml',\n",
              " 'sample_data/1866/0050_p051.xml',\n",
              " 'sample_data/1866/0037_p038.xml',\n",
              " 'sample_data/1866/0007_p006.xml',\n",
              " 'sample_data/1866/0033_p034.xml',\n",
              " 'sample_data/1866/0013_p012.xml',\n",
              " 'sample_data/1866/0017_p016.xml',\n",
              " 'sample_data/1866/0016_p015.xml',\n",
              " 'sample_data/1866/0011_p010.xml',\n",
              " 'sample_data/1866/0039_p040.xml',\n",
              " 'sample_data/1866/0029_p030.xml',\n",
              " 'sample_data/1866/0008_p007.xml',\n",
              " 'sample_data/1866/0012_p011.xml',\n",
              " 'sample_data/1866/0043_p044.xml',\n",
              " 'sample_data/1866/0001_1866 title page.xml',\n",
              " 'sample_data/1866/0047_p048.xml',\n",
              " 'sample_data/1866/0014_p013.xml',\n",
              " 'sample_data/1866/0015_p014.xml',\n",
              " 'sample_data/1866/0051_p052.xml',\n",
              " 'sample_data/1866/0021_p020.xml',\n",
              " 'sample_data/1866/0022_p021.xml',\n",
              " 'sample_data/1866/0038_p039.xml',\n",
              " 'sample_data/1866/0004_p003.xml',\n",
              " 'sample_data/1866/0023_p022.xml',\n",
              " 'sample_data/1866/0034_p035.xml',\n",
              " 'sample_data/1866/0028_p029.xml',\n",
              " 'sample_data/1866/0041_p042.xml',\n",
              " 'sample_data/1866/0055_p056.xml',\n",
              " 'sample_data/1866/0025_p025.xml',\n",
              " 'sample_data/1866/0036_p037.xml',\n",
              " 'sample_data/1866/0002_12.xml',\n",
              " 'sample_data/1866/0026_p027.xml',\n",
              " 'sample_data/1866/0035_p036.xml',\n",
              " 'sample_data/1866/0046_p047.xml',\n",
              " 'sample_data/1866/0045_p046.xml',\n",
              " 'sample_data/1866/0042_p043.xml',\n",
              " 'sample_data/1866/0031_p032.xml',\n",
              " 'sample_data/1866/0003_p002.xml',\n",
              " 'sample_data/1866/0030_p031.xml',\n",
              " 'sample_data/1866/0010_p009.xml',\n",
              " 'sample_data/1866/0052_p053.xml',\n",
              " 'sample_data/1866/0049_p050.xml',\n",
              " 'sample_data/1866/0032_p033.xml',\n",
              " 'sample_data/1866/0020_p019.xml',\n",
              " 'sample_data/1866/0018_p017.xml',\n",
              " 'sample_data/1866/0054_p055.xml',\n",
              " 'sample_data/1866/0056_p057.xml',\n",
              " 'sample_data/1866/0019_p018.xml',\n",
              " 'sample_data/1866/0027_p028.xml',\n",
              " 'sample_data/1866/0048_p049.xml',\n",
              " 'sample_data/1866/0006_p005.xml',\n",
              " 'sample_data/1866/0053_p054.xml',\n",
              " 'sample_data/1866/0024_p023.xml',\n",
              " 'sample_data/1866/0044_p045.xml']"
            ]
          },
          "metadata": {},
          "execution_count": 4
        }
      ],
      "source": [
        "pages"
      ]
    },
    {
      "cell_type": "markdown",
      "source": [
        "### Order pages correctly"
      ],
      "metadata": {
        "id": "Uqq5mOZ3aWW_"
      },
      "id": "Uqq5mOZ3aWW_"
    },
    {
      "cell_type": "code",
      "source": [
        "ordered_pages = sorted(pages, key=lambda x: int(x.split(\"/\")[-1].split(\"_\")[0]))\n",
        "ordered_pages"
      ],
      "metadata": {
        "id": "ziWymWGun9wm",
        "outputId": "8e335819-7ecf-46fd-fa17-439f72000ca0",
        "colab": {
          "base_uri": "https://localhost:8080/"
        }
      },
      "id": "ziWymWGun9wm",
      "execution_count": 5,
      "outputs": [
        {
          "output_type": "execute_result",
          "data": {
            "text/plain": [
              "['sample_data/1866/0001_1866 title page.xml',\n",
              " 'sample_data/1866/0002_12.xml',\n",
              " 'sample_data/1866/0003_p002.xml',\n",
              " 'sample_data/1866/0004_p003.xml',\n",
              " 'sample_data/1866/0005_p004.xml',\n",
              " 'sample_data/1866/0006_p005.xml',\n",
              " 'sample_data/1866/0007_p006.xml',\n",
              " 'sample_data/1866/0008_p007.xml',\n",
              " 'sample_data/1866/0009_p008.xml',\n",
              " 'sample_data/1866/0010_p009.xml',\n",
              " 'sample_data/1866/0011_p010.xml',\n",
              " 'sample_data/1866/0012_p011.xml',\n",
              " 'sample_data/1866/0013_p012.xml',\n",
              " 'sample_data/1866/0014_p013.xml',\n",
              " 'sample_data/1866/0015_p014.xml',\n",
              " 'sample_data/1866/0016_p015.xml',\n",
              " 'sample_data/1866/0017_p016.xml',\n",
              " 'sample_data/1866/0018_p017.xml',\n",
              " 'sample_data/1866/0019_p018.xml',\n",
              " 'sample_data/1866/0020_p019.xml',\n",
              " 'sample_data/1866/0021_p020.xml',\n",
              " 'sample_data/1866/0022_p021.xml',\n",
              " 'sample_data/1866/0023_p022.xml',\n",
              " 'sample_data/1866/0024_p023.xml',\n",
              " 'sample_data/1866/0025_p025.xml',\n",
              " 'sample_data/1866/0026_p027.xml',\n",
              " 'sample_data/1866/0027_p028.xml',\n",
              " 'sample_data/1866/0028_p029.xml',\n",
              " 'sample_data/1866/0029_p030.xml',\n",
              " 'sample_data/1866/0030_p031.xml',\n",
              " 'sample_data/1866/0031_p032.xml',\n",
              " 'sample_data/1866/0032_p033.xml',\n",
              " 'sample_data/1866/0033_p034.xml',\n",
              " 'sample_data/1866/0034_p035.xml',\n",
              " 'sample_data/1866/0035_p036.xml',\n",
              " 'sample_data/1866/0036_p037.xml',\n",
              " 'sample_data/1866/0037_p038.xml',\n",
              " 'sample_data/1866/0038_p039.xml',\n",
              " 'sample_data/1866/0039_p040.xml',\n",
              " 'sample_data/1866/0040_p041.xml',\n",
              " 'sample_data/1866/0041_p042.xml',\n",
              " 'sample_data/1866/0042_p043.xml',\n",
              " 'sample_data/1866/0043_p044.xml',\n",
              " 'sample_data/1866/0044_p045.xml',\n",
              " 'sample_data/1866/0045_p046.xml',\n",
              " 'sample_data/1866/0046_p047.xml',\n",
              " 'sample_data/1866/0047_p048.xml',\n",
              " 'sample_data/1866/0048_p049.xml',\n",
              " 'sample_data/1866/0049_p050.xml',\n",
              " 'sample_data/1866/0050_p051.xml',\n",
              " 'sample_data/1866/0051_p052.xml',\n",
              " 'sample_data/1866/0052_p053.xml',\n",
              " 'sample_data/1866/0053_p054.xml',\n",
              " 'sample_data/1866/0054_p055.xml',\n",
              " 'sample_data/1866/0055_p056.xml',\n",
              " 'sample_data/1866/0056_p057.xml']"
            ]
          },
          "metadata": {},
          "execution_count": 5
        }
      ]
    },
    {
      "cell_type": "markdown",
      "source": [
        "### Define tree and root"
      ],
      "metadata": {
        "id": "528OEQpqbPCk"
      },
      "id": "528OEQpqbPCk"
    },
    {
      "cell_type": "code",
      "execution_count": 6,
      "id": "dcbaedb7-1424-4f77-8b50-af6cbb7326fe",
      "metadata": {
        "id": "dcbaedb7-1424-4f77-8b50-af6cbb7326fe"
      },
      "outputs": [],
      "source": [
        "trees, roots = [], []\n",
        "for p in ordered_pages:\n",
        "    if 'Table' not in p:\n",
        "      tree = ET.parse(p)\n",
        "      root = tree.getroot()\n",
        "\n",
        "      trees.append(tree)\n",
        "      roots.append(root)"
      ]
    },
    {
      "cell_type": "markdown",
      "source": [
        "### Specify combined trees and roots"
      ],
      "metadata": {
        "id": "_BhcofvtdEWe"
      },
      "id": "_BhcofvtdEWe"
    },
    {
      "cell_type": "code",
      "execution_count": 7,
      "id": "292fe6a2-d459-4c9c-abe3-00ed4f828935",
      "metadata": {
        "id": "292fe6a2-d459-4c9c-abe3-00ed4f828935"
      },
      "outputs": [],
      "source": [
        "combined_root = roots[0]\n",
        "combined_tree = trees[0]"
      ]
    },
    {
      "cell_type": "markdown",
      "source": [
        "### Combine children into single list"
      ],
      "metadata": {
        "id": "djBp_cwneI1i"
      },
      "id": "djBp_cwneI1i"
    },
    {
      "cell_type": "code",
      "execution_count": 8,
      "id": "f4a8783d-e7c6-4cd1-bfc7-0c478a21f1ca",
      "metadata": {
        "id": "f4a8783d-e7c6-4cd1-bfc7-0c478a21f1ca"
      },
      "outputs": [],
      "source": [
        "for root in roots[1:]:\n",
        "    for child in root:\n",
        "        combined_root.append(child)"
      ]
    },
    {
      "cell_type": "markdown",
      "source": [
        "### Print combined list of children"
      ],
      "metadata": {
        "id": "jjXvc7hAehsC"
      },
      "id": "jjXvc7hAehsC"
    },
    {
      "cell_type": "code",
      "execution_count": 9,
      "id": "089d2c39-7c5f-42b0-ac4a-25074a93d269",
      "metadata": {
        "id": "089d2c39-7c5f-42b0-ac4a-25074a93d269",
        "outputId": "ffa42737-eb17-43af-8ed7-afec7e0f6cc1",
        "colab": {
          "base_uri": "https://localhost:8080/"
        }
      },
      "outputs": [
        {
          "output_type": "stream",
          "name": "stdout",
          "text": [
            "{http://schema.primaresearch.org/PAGE/gts/pagecontent/2013-07-15}Metadata\n",
            "{http://schema.primaresearch.org/PAGE/gts/pagecontent/2013-07-15}Page\n",
            "{http://schema.primaresearch.org/PAGE/gts/pagecontent/2013-07-15}Metadata\n",
            "{http://schema.primaresearch.org/PAGE/gts/pagecontent/2013-07-15}Page\n",
            "{http://schema.primaresearch.org/PAGE/gts/pagecontent/2013-07-15}Metadata\n",
            "{http://schema.primaresearch.org/PAGE/gts/pagecontent/2013-07-15}Page\n",
            "{http://schema.primaresearch.org/PAGE/gts/pagecontent/2013-07-15}Metadata\n",
            "{http://schema.primaresearch.org/PAGE/gts/pagecontent/2013-07-15}Page\n",
            "{http://schema.primaresearch.org/PAGE/gts/pagecontent/2013-07-15}Metadata\n",
            "{http://schema.primaresearch.org/PAGE/gts/pagecontent/2013-07-15}Page\n",
            "{http://schema.primaresearch.org/PAGE/gts/pagecontent/2013-07-15}Metadata\n",
            "{http://schema.primaresearch.org/PAGE/gts/pagecontent/2013-07-15}Page\n",
            "{http://schema.primaresearch.org/PAGE/gts/pagecontent/2013-07-15}Metadata\n",
            "{http://schema.primaresearch.org/PAGE/gts/pagecontent/2013-07-15}Page\n",
            "{http://schema.primaresearch.org/PAGE/gts/pagecontent/2013-07-15}Metadata\n",
            "{http://schema.primaresearch.org/PAGE/gts/pagecontent/2013-07-15}Page\n",
            "{http://schema.primaresearch.org/PAGE/gts/pagecontent/2013-07-15}Metadata\n",
            "{http://schema.primaresearch.org/PAGE/gts/pagecontent/2013-07-15}Page\n",
            "{http://schema.primaresearch.org/PAGE/gts/pagecontent/2013-07-15}Metadata\n",
            "{http://schema.primaresearch.org/PAGE/gts/pagecontent/2013-07-15}Page\n",
            "{http://schema.primaresearch.org/PAGE/gts/pagecontent/2013-07-15}Metadata\n",
            "{http://schema.primaresearch.org/PAGE/gts/pagecontent/2013-07-15}Page\n",
            "{http://schema.primaresearch.org/PAGE/gts/pagecontent/2013-07-15}Metadata\n",
            "{http://schema.primaresearch.org/PAGE/gts/pagecontent/2013-07-15}Page\n",
            "{http://schema.primaresearch.org/PAGE/gts/pagecontent/2013-07-15}Metadata\n",
            "{http://schema.primaresearch.org/PAGE/gts/pagecontent/2013-07-15}Page\n",
            "{http://schema.primaresearch.org/PAGE/gts/pagecontent/2013-07-15}Metadata\n",
            "{http://schema.primaresearch.org/PAGE/gts/pagecontent/2013-07-15}Page\n",
            "{http://schema.primaresearch.org/PAGE/gts/pagecontent/2013-07-15}Metadata\n",
            "{http://schema.primaresearch.org/PAGE/gts/pagecontent/2013-07-15}Page\n",
            "{http://schema.primaresearch.org/PAGE/gts/pagecontent/2013-07-15}Metadata\n",
            "{http://schema.primaresearch.org/PAGE/gts/pagecontent/2013-07-15}Page\n",
            "{http://schema.primaresearch.org/PAGE/gts/pagecontent/2013-07-15}Metadata\n",
            "{http://schema.primaresearch.org/PAGE/gts/pagecontent/2013-07-15}Page\n",
            "{http://schema.primaresearch.org/PAGE/gts/pagecontent/2013-07-15}Metadata\n",
            "{http://schema.primaresearch.org/PAGE/gts/pagecontent/2013-07-15}Page\n",
            "{http://schema.primaresearch.org/PAGE/gts/pagecontent/2013-07-15}Metadata\n",
            "{http://schema.primaresearch.org/PAGE/gts/pagecontent/2013-07-15}Page\n",
            "{http://schema.primaresearch.org/PAGE/gts/pagecontent/2013-07-15}Metadata\n",
            "{http://schema.primaresearch.org/PAGE/gts/pagecontent/2013-07-15}Page\n",
            "{http://schema.primaresearch.org/PAGE/gts/pagecontent/2013-07-15}Metadata\n",
            "{http://schema.primaresearch.org/PAGE/gts/pagecontent/2013-07-15}Page\n",
            "{http://schema.primaresearch.org/PAGE/gts/pagecontent/2013-07-15}Metadata\n",
            "{http://schema.primaresearch.org/PAGE/gts/pagecontent/2013-07-15}Page\n",
            "{http://schema.primaresearch.org/PAGE/gts/pagecontent/2013-07-15}Metadata\n",
            "{http://schema.primaresearch.org/PAGE/gts/pagecontent/2013-07-15}Page\n",
            "{http://schema.primaresearch.org/PAGE/gts/pagecontent/2013-07-15}Metadata\n",
            "{http://schema.primaresearch.org/PAGE/gts/pagecontent/2013-07-15}Page\n",
            "{http://schema.primaresearch.org/PAGE/gts/pagecontent/2013-07-15}Metadata\n",
            "{http://schema.primaresearch.org/PAGE/gts/pagecontent/2013-07-15}Page\n",
            "{http://schema.primaresearch.org/PAGE/gts/pagecontent/2013-07-15}Metadata\n",
            "{http://schema.primaresearch.org/PAGE/gts/pagecontent/2013-07-15}Page\n",
            "{http://schema.primaresearch.org/PAGE/gts/pagecontent/2013-07-15}Metadata\n",
            "{http://schema.primaresearch.org/PAGE/gts/pagecontent/2013-07-15}Page\n",
            "{http://schema.primaresearch.org/PAGE/gts/pagecontent/2013-07-15}Metadata\n",
            "{http://schema.primaresearch.org/PAGE/gts/pagecontent/2013-07-15}Page\n",
            "{http://schema.primaresearch.org/PAGE/gts/pagecontent/2013-07-15}Metadata\n",
            "{http://schema.primaresearch.org/PAGE/gts/pagecontent/2013-07-15}Page\n",
            "{http://schema.primaresearch.org/PAGE/gts/pagecontent/2013-07-15}Metadata\n",
            "{http://schema.primaresearch.org/PAGE/gts/pagecontent/2013-07-15}Page\n",
            "{http://schema.primaresearch.org/PAGE/gts/pagecontent/2013-07-15}Metadata\n",
            "{http://schema.primaresearch.org/PAGE/gts/pagecontent/2013-07-15}Page\n",
            "{http://schema.primaresearch.org/PAGE/gts/pagecontent/2013-07-15}Metadata\n",
            "{http://schema.primaresearch.org/PAGE/gts/pagecontent/2013-07-15}Page\n",
            "{http://schema.primaresearch.org/PAGE/gts/pagecontent/2013-07-15}Metadata\n",
            "{http://schema.primaresearch.org/PAGE/gts/pagecontent/2013-07-15}Page\n",
            "{http://schema.primaresearch.org/PAGE/gts/pagecontent/2013-07-15}Metadata\n",
            "{http://schema.primaresearch.org/PAGE/gts/pagecontent/2013-07-15}Page\n",
            "{http://schema.primaresearch.org/PAGE/gts/pagecontent/2013-07-15}Metadata\n",
            "{http://schema.primaresearch.org/PAGE/gts/pagecontent/2013-07-15}Page\n",
            "{http://schema.primaresearch.org/PAGE/gts/pagecontent/2013-07-15}Metadata\n",
            "{http://schema.primaresearch.org/PAGE/gts/pagecontent/2013-07-15}Page\n",
            "{http://schema.primaresearch.org/PAGE/gts/pagecontent/2013-07-15}Metadata\n",
            "{http://schema.primaresearch.org/PAGE/gts/pagecontent/2013-07-15}Page\n",
            "{http://schema.primaresearch.org/PAGE/gts/pagecontent/2013-07-15}Metadata\n",
            "{http://schema.primaresearch.org/PAGE/gts/pagecontent/2013-07-15}Page\n",
            "{http://schema.primaresearch.org/PAGE/gts/pagecontent/2013-07-15}Metadata\n",
            "{http://schema.primaresearch.org/PAGE/gts/pagecontent/2013-07-15}Page\n",
            "{http://schema.primaresearch.org/PAGE/gts/pagecontent/2013-07-15}Metadata\n",
            "{http://schema.primaresearch.org/PAGE/gts/pagecontent/2013-07-15}Page\n",
            "{http://schema.primaresearch.org/PAGE/gts/pagecontent/2013-07-15}Metadata\n",
            "{http://schema.primaresearch.org/PAGE/gts/pagecontent/2013-07-15}Page\n",
            "{http://schema.primaresearch.org/PAGE/gts/pagecontent/2013-07-15}Metadata\n",
            "{http://schema.primaresearch.org/PAGE/gts/pagecontent/2013-07-15}Page\n",
            "{http://schema.primaresearch.org/PAGE/gts/pagecontent/2013-07-15}Metadata\n",
            "{http://schema.primaresearch.org/PAGE/gts/pagecontent/2013-07-15}Page\n",
            "{http://schema.primaresearch.org/PAGE/gts/pagecontent/2013-07-15}Metadata\n",
            "{http://schema.primaresearch.org/PAGE/gts/pagecontent/2013-07-15}Page\n",
            "{http://schema.primaresearch.org/PAGE/gts/pagecontent/2013-07-15}Metadata\n",
            "{http://schema.primaresearch.org/PAGE/gts/pagecontent/2013-07-15}Page\n",
            "{http://schema.primaresearch.org/PAGE/gts/pagecontent/2013-07-15}Metadata\n",
            "{http://schema.primaresearch.org/PAGE/gts/pagecontent/2013-07-15}Page\n",
            "{http://schema.primaresearch.org/PAGE/gts/pagecontent/2013-07-15}Metadata\n",
            "{http://schema.primaresearch.org/PAGE/gts/pagecontent/2013-07-15}Page\n",
            "{http://schema.primaresearch.org/PAGE/gts/pagecontent/2013-07-15}Metadata\n",
            "{http://schema.primaresearch.org/PAGE/gts/pagecontent/2013-07-15}Page\n",
            "{http://schema.primaresearch.org/PAGE/gts/pagecontent/2013-07-15}Metadata\n",
            "{http://schema.primaresearch.org/PAGE/gts/pagecontent/2013-07-15}Page\n",
            "{http://schema.primaresearch.org/PAGE/gts/pagecontent/2013-07-15}Metadata\n",
            "{http://schema.primaresearch.org/PAGE/gts/pagecontent/2013-07-15}Page\n",
            "{http://schema.primaresearch.org/PAGE/gts/pagecontent/2013-07-15}Metadata\n",
            "{http://schema.primaresearch.org/PAGE/gts/pagecontent/2013-07-15}Page\n",
            "{http://schema.primaresearch.org/PAGE/gts/pagecontent/2013-07-15}Metadata\n",
            "{http://schema.primaresearch.org/PAGE/gts/pagecontent/2013-07-15}Page\n",
            "{http://schema.primaresearch.org/PAGE/gts/pagecontent/2013-07-15}Metadata\n",
            "{http://schema.primaresearch.org/PAGE/gts/pagecontent/2013-07-15}Page\n",
            "{http://schema.primaresearch.org/PAGE/gts/pagecontent/2013-07-15}Metadata\n",
            "{http://schema.primaresearch.org/PAGE/gts/pagecontent/2013-07-15}Page\n",
            "{http://schema.primaresearch.org/PAGE/gts/pagecontent/2013-07-15}Metadata\n",
            "{http://schema.primaresearch.org/PAGE/gts/pagecontent/2013-07-15}Page\n",
            "{http://schema.primaresearch.org/PAGE/gts/pagecontent/2013-07-15}Metadata\n",
            "{http://schema.primaresearch.org/PAGE/gts/pagecontent/2013-07-15}Page\n"
          ]
        }
      ],
      "source": [
        "for child in combined_root:\n",
        "    print(child.tag)"
      ]
    },
    {
      "cell_type": "markdown",
      "source": [
        "### Save combined tree in a new file"
      ],
      "metadata": {
        "id": "-SPPIZIkesl6"
      },
      "id": "-SPPIZIkesl6"
    },
    {
      "cell_type": "code",
      "execution_count": 10,
      "id": "4052de8f-df59-4bd5-b841-94c9ed94b482",
      "metadata": {
        "id": "4052de8f-df59-4bd5-b841-94c9ed94b482"
      },
      "outputs": [],
      "source": [
        "ET.indent(combined_tree, space=\"    \")\n",
        "combined_tree.write(f\"{report_date}_combined_pages.xml\", encoding=\"UTF-8\")"
      ]
    },
    {
      "cell_type": "markdown",
      "source": [
        "## Extract Attributes"
      ],
      "metadata": {
        "id": "M5vbRfZ5STBr"
      },
      "id": "M5vbRfZ5STBr"
    },
    {
      "cell_type": "markdown",
      "id": "f340af6e-00c6-4864-aedb-b3f9b7e2ee93",
      "metadata": {
        "id": "f340af6e-00c6-4864-aedb-b3f9b7e2ee93"
      },
      "source": [
        "### Parse header sections"
      ]
    },
    {
      "cell_type": "code",
      "source": [
        "my_list = [4,5,6,7]"
      ],
      "metadata": {
        "id": "sSg86pEIUnJX"
      },
      "id": "sSg86pEIUnJX",
      "execution_count": 21,
      "outputs": []
    },
    {
      "cell_type": "code",
      "source": [
        "my_list[1:-1]"
      ],
      "metadata": {
        "colab": {
          "base_uri": "https://localhost:8080/"
        },
        "id": "RntxfynnUpU_",
        "outputId": "07d2ccb8-cb5a-401e-a3ac-f9296213d1e5"
      },
      "id": "RntxfynnUpU_",
      "execution_count": 23,
      "outputs": [
        {
          "output_type": "execute_result",
          "data": {
            "text/plain": [
              "[5, 6]"
            ]
          },
          "metadata": {},
          "execution_count": 23
        }
      ]
    },
    {
      "cell_type": "code",
      "execution_count": 29,
      "id": "b291a34b-0db3-436a-b607-4257c18686bf",
      "metadata": {
        "id": "b291a34b-0db3-436a-b607-4257c18686bf",
        "outputId": "fca26ff7-f031-4c54-d2b8-d707b4e2d08f",
        "colab": {
          "base_uri": "https://localhost:8080/"
        }
      },
      "outputs": [
        {
          "output_type": "stream",
          "name": "stdout",
          "text": [
            "{'id': 'r_3', 'custom': 'readingOrder {index:2;} structure {type:heading;}'}\n",
            "EXECUTIVE SURVEYS.\n",
            "Nos. 1 AND 7 PARTIES.\n",
            "GWALIOR, CENTRAL INDIA AND RAJPOOTANA SURVEY.\n",
            "{'id': 'r', 'custom': 'readingOrder {index:1;} structure {type:heading;}'}\n",
            "None\n",
            "No. 2 PARTY.\n",
            "HYDERABAD SURVEY.\n",
            "{'id': 'r_3', 'custom': 'readingOrder {index:1;} structure {type:heading;}'}\n",
            "No. 3 PARTY.\n",
            "GANJAM AND ORISSA SURVEY.\n",
            "{'id': 'r_2', 'custom': 'readingOrder {index:1;} structure {type:heading;}'}\n",
            "No. 4 PARTY.\n",
            "CHOTA NAGPORE DIVISION SURVEY.\n",
            "{'id': 'r_3', 'custom': 'readingOrder {index:1;} structure {type:heading;}'}\n",
            "No. 5 PARTY.\n",
            "REWAH AND BUNDELKUND SURVEY.\n",
            "{'id': 'r_3', 'custom': 'readingOrder {index:2;} structure {type:heading;}'}\n",
            "No. 6 PARTY.\n",
            "KOSSIA AND GARROW HILLS SURVEY.\n",
            "{'id': 'r_6', 'custom': 'readingOrder {index:4;} structure {type:heading;}'}\n",
            "THE PEGU SURVEY.\n",
            "{'id': 'r', 'custom': 'readingOrder {index:0;} structure {type:heading;}'}\n",
            "THE OPERATIONS IN THE DRAWING, LITHOGRAPHIC AND PHOTOGRAPHIC BRANCHES OF THE\n",
            "SURVEYOR GENERAL'S OFFICE DURING 1864-65 ; EXTRACTED FROM LIEUT.-COLONEL\n",
            "GASTRELL’S REPORT, NO. 36A, DATED 5TH MAY, 1866, ON THE REVENUE SURVEYS IN\n",
            "THE UPPER PROVINCES OF THE BENGAL PRESIDENCY\n",
            "{'id': 'r', 'custom': 'readingOrder {index:1;} structure {type:heading;}'}\n",
            "Table showing the Nature and Quantity of Work performed in the Photographic Branch, Surveyor General's Office, for\n",
            "the Year commencing April, 1865, and ending March, 1866\n",
            "{'id': 'r_5', 'custom': 'readingOrder {index:4;} structure {type:heading;}'}\n",
            "Statement of the Works executed in the Surveyor General's Office, Lithographic\n",
            "Branch for the year 1865.\n",
            "{'id': 'r_14', 'custom': 'readingOrder {index:5;} structure {type:heading;}'}\n",
            "ABSTRACT.\n",
            "{'id': 'r', 'custom': 'readingOrder {index:0;} structure {type:heading;}'}\n",
            "EXTRACTS FROM NARRATIVE REPORTS OF NOS. 1 AND 7 TOPOGRAPHICAL SURVEY PARTIES,\n",
            "BY CAPTAIN A. B. MELVILLE, EXECUTIVE OFFICER IN CHARGE.\n",
            "{'id': 'r_2', 'custom': 'readingOrder {index:2;} structure {type:heading;}'}\n",
            "Extracts of a Letter, No. 12 of 1865-66, from Lieutenant George Strahan, R.E.,\n",
            "to Captain Melville.\n",
            "{'id': 'r', 'custom': 'readingOrder {index:0;} structure {type:heading;}'}\n",
            "EXTRACTS FROM NARRATIVE REPORT OF NO. 2 TOPOGRAPHICAL SURVEY PARTY BY\n",
            "J. MULHERAN, ESQ., EXECUTIVE OFFICER IN CHARGE.\n",
            "{'id': 'r', 'custom': 'readingOrder {index:0;} structure {type:heading;}'}\n",
            "EXTRACT FROM NARRATIVE REPORT OF NO. 3 TOPOGRAPHICAL SURVEY PARTY, BY LIEUT.-\n",
            "COLONEL G. H. SAXTON, EXECUTIVE OFFICER IN CHARGE.\n",
            "{'id': 'r', 'custom': 'readingOrder {index:0;} structure {type:heading;}'}\n",
            "EXTRACTS FROM NARRATIVE REPORT OF NO. 4 TOPOGRAPHICAL SURVEY PARTY,\n",
            "BY CAPTAIN G. C. DEPREE, EXECUTIVE OFFICER IN CHARGE.\n",
            "{'id': 'r', 'custom': 'readingOrder {index:0;} structure {type:heading;}'}\n",
            "EXTRACTS FROM NARRATIVE REPORT OF NO. 5 TOPOGRAPHICAL PARTY, BY LIEUTENANT\n",
            "W. G. MURRAY, EXECUTIVE OFFICER IN CHARGE.\n",
            "{'id': 'r', 'custom': 'readingOrder {index:0;} structure {type:heading;}'}\n",
            "EXTRACT FROM NARRATIVE REPORT OF (CAPTAIN H. H. GODWIN-AUSTEN, EXECUTIVE\n",
            "OFFICER IN CHARGE BHOOTAN SURVEY PARTY.\n",
            "{'id': 'r', 'custom': 'readingOrder {index:0;} structure {type:heading;}'}\n",
            "EXTRACT FROM NARRATIVE REPORT OF NO. 6 TOPOGRAPHICAL SURVEY PARTY, BY LIEUTENANT\n",
            "R. V. RIDDELL, R.E., EXECUTIVE OFFICER IN CHARGE.\n",
            "{'id': 'r', 'custom': 'readingOrder {index:0;} structure {type:heading;}'}\n",
            "REPORT OF THE OPERATIONS OF THE PEGU SURVEY FOR THE YEAR 1864-65, BY CAPTAIN\n",
            "W. H. EDGCOME, R.E., OFFICIATING SUPERINTENDENT.\n"
          ]
        }
      ],
      "source": [
        "heading = []\n",
        "for i, TextRegion in enumerate(combined_root.iter(\"{http://schema.primaresearch.org/PAGE/gts/pagecontent/2013-07-15}TextRegion\")):\n",
        "  if \"structure {type:heading;}\" in TextRegion.attrib.get(\"custom\", []):\n",
        "    print(TextRegion.attrib)\n",
        "    try:\n",
        "      for TextLine in TextRegion[1:-1]:\n",
        "        print(TextLine[2][0].text)\n",
        "        if TextLine[2][0].text and (\"PARTY\" in TextLine[2][0].text or \"PARTIES\" in TextLine[2][0].text):\n",
        "          survey_party = TextLine[2][0].text\n",
        "          heading.append((TextRegion, survey_party))\n",
        "    except IndexError:\n",
        "      print(\"Error in Heading {i}\")"
      ]
    },
    {
      "cell_type": "code",
      "source": [
        "heading"
      ],
      "metadata": {
        "colab": {
          "base_uri": "https://localhost:8080/"
        },
        "id": "9XNWkhVlcCYu",
        "outputId": "e01568b2-db9d-4eb3-c6b7-7a7783afdffd"
      },
      "id": "9XNWkhVlcCYu",
      "execution_count": 30,
      "outputs": [
        {
          "output_type": "execute_result",
          "data": {
            "text/plain": [
              "[(<Element '{http://schema.primaresearch.org/PAGE/gts/pagecontent/2013-07-15}TextRegion' at 0x7c90fb4928e0>,\n",
              "  'Nos. 1 AND 7 PARTIES.'),\n",
              " (<Element '{http://schema.primaresearch.org/PAGE/gts/pagecontent/2013-07-15}TextRegion' at 0x7c90fb300770>,\n",
              "  'No. 2 PARTY.'),\n",
              " (<Element '{http://schema.primaresearch.org/PAGE/gts/pagecontent/2013-07-15}TextRegion' at 0x7c90fb33e840>,\n",
              "  'No. 3 PARTY.'),\n",
              " (<Element '{http://schema.primaresearch.org/PAGE/gts/pagecontent/2013-07-15}TextRegion' at 0x7c90fb38d530>,\n",
              "  'No. 4 PARTY.'),\n",
              " (<Element '{http://schema.primaresearch.org/PAGE/gts/pagecontent/2013-07-15}TextRegion' at 0x7c90fb1dcc70>,\n",
              "  'No. 5 PARTY.'),\n",
              " (<Element '{http://schema.primaresearch.org/PAGE/gts/pagecontent/2013-07-15}TextRegion' at 0x7c90fb21de90>,\n",
              "  'No. 6 PARTY.'),\n",
              " (<Element '{http://schema.primaresearch.org/PAGE/gts/pagecontent/2013-07-15}TextRegion' at 0x7c90faf06890>,\n",
              "  'EXTRACTS FROM NARRATIVE REPORTS OF NOS. 1 AND 7 TOPOGRAPHICAL SURVEY PARTIES,'),\n",
              " (<Element '{http://schema.primaresearch.org/PAGE/gts/pagecontent/2013-07-15}TextRegion' at 0x7c90fadeb420>,\n",
              "  'EXTRACTS FROM NARRATIVE REPORT OF NO. 2 TOPOGRAPHICAL SURVEY PARTY BY'),\n",
              " (<Element '{http://schema.primaresearch.org/PAGE/gts/pagecontent/2013-07-15}TextRegion' at 0x7c90fae3d580>,\n",
              "  'EXTRACT FROM NARRATIVE REPORT OF NO. 3 TOPOGRAPHICAL SURVEY PARTY, BY LIEUT.-'),\n",
              " (<Element '{http://schema.primaresearch.org/PAGE/gts/pagecontent/2013-07-15}TextRegion' at 0x7c90fad4fe70>,\n",
              "  'EXTRACTS FROM NARRATIVE REPORT OF NO. 4 TOPOGRAPHICAL SURVEY PARTY,'),\n",
              " (<Element '{http://schema.primaresearch.org/PAGE/gts/pagecontent/2013-07-15}TextRegion' at 0x7c90fac3f920>,\n",
              "  'EXTRACTS FROM NARRATIVE REPORT OF NO. 5 TOPOGRAPHICAL PARTY, BY LIEUTENANT'),\n",
              " (<Element '{http://schema.primaresearch.org/PAGE/gts/pagecontent/2013-07-15}TextRegion' at 0x7c90fab74ae0>,\n",
              "  'OFFICER IN CHARGE BHOOTAN SURVEY PARTY.'),\n",
              " (<Element '{http://schema.primaresearch.org/PAGE/gts/pagecontent/2013-07-15}TextRegion' at 0x7c90fab87bf0>,\n",
              "  'EXTRACT FROM NARRATIVE REPORT OF NO. 6 TOPOGRAPHICAL SURVEY PARTY, BY LIEUTENANT')]"
            ]
          },
          "metadata": {},
          "execution_count": 30
        }
      ]
    },
    {
      "cell_type": "markdown",
      "source": [
        "### Find Person"
      ],
      "metadata": {
        "id": "qRHQO6Zp1d3m"
      },
      "id": "qRHQO6Zp1d3m"
    },
    {
      "cell_type": "code",
      "source": [
        "# TODO Some credit sections are tables of square miles covered, these are poorly OCR'd and have been downloaded as separate tables\n",
        "# Find a way to exclude these sections from network analysis\n",
        "\n",
        "credits = []\n",
        "for i, child in enumerate(combined_root.iter(\"{http://schema.primaresearch.org/PAGE/gts/pagecontent/2013-07-15}TextRegion\")):\n",
        "  if \"structure {type:credit;}\" in child.attrib.get(\"custom\", []):\n",
        "    print(child.attrib)\n",
        "    try:\n",
        "      print(child[1][2][0].text)\n",
        "      credits.append(child)\n",
        "    except IndexError:\n",
        "      print(\"Error in Credit {i}\")\n",
        "    # if child.tag.split(\"}\")[1] == \"Page\":\n",
        "    #     for region in child:\n",
        "    #         if \"structure {type:credit;}\" in region.attrib.get(\"custom\", []):\n",
        "    #             credits.append(region)"
      ],
      "metadata": {
        "colab": {
          "base_uri": "https://localhost:8080/"
        },
        "id": "ZaIuwQM61jen",
        "outputId": "ff763c01-c0bd-4f68-e416-d52d2647fee7"
      },
      "id": "ZaIuwQM61jen",
      "execution_count": 12,
      "outputs": [
        {
          "output_type": "stream",
          "name": "stdout",
          "text": [
            "{'id': 'r_2', 'custom': 'readingOrder {index:3;} structure {type:credit;}'}\n",
            "PERSONNEL.\n",
            "{'id': 'r_3', 'custom': 'readingOrder {index:1;} structure {type:credit;}'}\n",
            "No. 1 PARTY.\n",
            "{'id': 'r_3', 'custom': 'readingOrder {index:2;} structure {type:credit;}'}\n",
            "PERSONNEL.\n",
            "{'id': 'r_4', 'custom': 'readingOrder {index:3;} structure {type:credit;}'}\n",
            "Square miles.\n",
            "{'id': 'r_5', 'custom': 'readingOrder {index:2;} structure {type:credit;}'}\n",
            "Square miles.\n",
            "{'id': 'r_4', 'custom': 'readingOrder {index:3;} structure {type:credit;}'}\n",
            "PERSONNEL.\n",
            "{'id': 'r_9', 'custom': 'readingOrder {index:2;} structure {type:credit;}'}\n",
            "PERSONNEL.\n",
            "{'id': 'r_10', 'custom': 'readingOrder {index:3;} structure {type:credit;}'}\n",
            "Mr. McGill,\n",
            "{'id': 'r_4', 'custom': 'readingOrder {index:2;} structure {type:credit;}'}\n",
            "PERSONNEL.\n",
            "{'id': 'r_5', 'custom': 'readingOrder {index:3;} structure {type:credit;}'}\n",
            "Square miles\n",
            "{'id': 'r_4', 'custom': 'readingOrder {index:3;} structure {type:credit;}'}\n",
            "PERSONNEL.\n",
            "{'id': 'r_5', 'custom': 'readingOrder {index:4;} structure {type:credit;}'}\n",
            "Mr. Atkinson, ... 40\n",
            "{'id': 'r_7', 'custom': 'readingOrder {index:5;} structure {type:credit;}'}\n",
            "PERSONNEL.\n",
            "{'id': 'r_3', 'custom': 'readingOrder {index:2;} structure {type:credit;}'}\n",
            "W. Crossley and Jas. Mackenzie.\n",
            "{'id': 'r_3', 'custom': 'readingOrder {index:1;} structure {type:credit;}'}\n",
            "Mr. D. Atkinson,\n",
            "{'id': 'r_4', 'custom': 'readingOrder {index:2;} structure {type:credit;}'}\n",
            "Mr. R. W. Chew.\n",
            "{'id': 'r_5', 'custom': 'readingOrder {index:3;} structure {type:credit;}'}\n",
            "Mr. J. Harper.\n",
            "{'id': 'r_6', 'custom': 'readingOrder {index:4;} structure {type:credit;}'}\n",
            "Mr. Adams.\n",
            "{'id': 'r', 'custom': 'readingOrder {index:1;} structure {type:credit;}'}\n",
            "Mr. J. A. May.\n",
            "{'id': 'r_3', 'custom': 'readingOrder {index:2;} structure {type:credit;}'}\n",
            "Mr. Rayner, and Mr.\n",
            "{'id': 'r_4', 'custom': 'readingOrder {index:3;} structure {type:credit;}'}\n",
            "Abdul Rahman.\n",
            "{'id': 'r_5', 'custom': 'readingOrder {index:4;} structure {type:credit;}'}\n",
            "Hediatoollah.\n",
            "{'id': 'r', 'custom': 'readingOrder {index:1;} structure {type:credit;}'}\n",
            "Mr. Apothecary\n",
            "{'id': 'r_8', 'custom': 'readingOrder {index:2;} structure {type:credit;}'}\n",
            "1ST CLASS, \n",
            "{'id': 'r', 'custom': 'readingOrder {index:2;} structure {type:credit;}'}\n",
            "Mr. F. B. Girdlestone. \n",
            "{'id': 'r_5', 'custom': 'readingOrder {index:2;} structure {type:credit;}'}\n",
            "﻿Obligatory\n"
          ]
        }
      ]
    },
    {
      "cell_type": "markdown",
      "source": [
        "### Parse person attributes"
      ],
      "metadata": {
        "id": "12VDv35tdUH2"
      },
      "id": "12VDv35tdUH2"
    },
    {
      "cell_type": "code",
      "source": [
        "def parse_attributes(attrib: str):\n",
        "  attrib_pair_re = re.compile(r\"(?P<tag>\\w+) (?P<text>\\{[\\.\\w\\s:;\\d]+\\})\")\n",
        "  attrib_inner_re = re.compile(r\"(?P<tag>\\w+):(?P<text>[\\.\\w\\s\\d]+)\")\n",
        "  all_attribs = attrib_pair_re.findall(attrib)\n",
        "  return {k:attrib_inner_re.findall(v[1:-1]) for k,v in all_attribs}"
      ],
      "metadata": {
        "id": "pXwreLg37CGX"
      },
      "id": "pXwreLg37CGX",
      "execution_count": 13,
      "outputs": []
    },
    {
      "cell_type": "code",
      "source": [
        "parse_attributes(\"readingOrder {index:1;} person {offset:0; length:23;firstname:A.\\u0020B.; title:Captian; lastname:Melville;} leader {offset:0; length:22;} Role {offset:24; length:9; continued:true;title:Executive\\u0020Officer\\u0020in\\u0020Charge;}\")"
      ],
      "metadata": {
        "colab": {
          "base_uri": "https://localhost:8080/"
        },
        "id": "GzLij1WS7w5y",
        "outputId": "195c3e37-3bf2-49c1-a923-74eadc60ecfc"
      },
      "id": "GzLij1WS7w5y",
      "execution_count": 14,
      "outputs": [
        {
          "output_type": "execute_result",
          "data": {
            "text/plain": [
              "{'readingOrder': [('index', '1')],\n",
              " 'person': [('offset', '0'),\n",
              "  ('length', '23'),\n",
              "  ('firstname', 'A. B.'),\n",
              "  ('title', 'Captian'),\n",
              "  ('lastname', 'Melville')],\n",
              " 'leader': [('offset', '0'), ('length', '22')],\n",
              " 'Role': [('offset', '24'),\n",
              "  ('length', '9'),\n",
              "  ('continued', 'true'),\n",
              "  ('title', 'Executive Officer in Charge')]}"
            ]
          },
          "metadata": {},
          "execution_count": 14
        }
      ]
    },
    {
      "cell_type": "markdown",
      "source": [
        "### Create entities list"
      ],
      "metadata": {
        "id": "ODPxiDJtdZXJ"
      },
      "id": "ODPxiDJtdZXJ"
    },
    {
      "cell_type": "code",
      "source": [
        "entities = []"
      ],
      "metadata": {
        "id": "JnBPakQkAx00"
      },
      "id": "JnBPakQkAx00",
      "execution_count": 15,
      "outputs": []
    },
    {
      "cell_type": "markdown",
      "source": [
        "### Extract person attributes"
      ],
      "metadata": {
        "id": "45zAzSowdziP"
      },
      "id": "45zAzSowdziP"
    },
    {
      "cell_type": "code",
      "source": [
        "for line in credits[0].iter(\"{http://schema.primaresearch.org/PAGE/gts/pagecontent/2013-07-15}TextLine\"):\n",
        "  line_attributes = parse_attributes(line.attrib.get(\"custom\", []))\n",
        "  if \"person\" in line_attributes:\n",
        "    print(line_attributes.get(\"person\"))\n",
        "    print(line[2][0].text)\n",
        "    entity = {}\n",
        "    for attrib in line_attributes.get(\"person\")[2:]:\n",
        "      entity[attrib[0]] = attrib[1]\n",
        "    entities.append(entity)"
      ],
      "metadata": {
        "colab": {
          "base_uri": "https://localhost:8080/"
        },
        "id": "cOhQNOaa3vAL",
        "outputId": "f66bf943-89a2-4e89-8d43-7d070595d6f2"
      },
      "id": "cOhQNOaa3vAL",
      "execution_count": 16,
      "outputs": [
        {
          "output_type": "stream",
          "name": "stdout",
          "text": [
            "[('offset', '0'), ('length', '23'), ('firstname', 'G.'), ('title', 'Lieut.'), ('lastname', 'Strahan')]\n",
            "Lieut. G. Strahan, R.E., Senior Assistant Surveyor.\n",
            "[('offset', '0'), ('length', '23'), ('firstname', 'C.'), ('title', 'Lieut.'), ('lastname', 'Strahan')]\n",
            "Lieut. C. Strahan, R.E., Assistant Surveyor\n",
            "[('offset', '0'), ('length', '12'), ('firstname', 'H.'), ('title', 'Mr.'), ('lastname', 'Horst')]\n",
            "Mr. H. Horst, Civil Assistant.\n",
            "[('offset', '0'), ('length', '12'), ('firstname', 'G.'), ('title', 'Mr.'), ('lastname', 'Chill')]\n",
            "Mr. G. Chill, Sub-Assistant,  2nd Class.\n",
            "[('offset', '0'), ('length', '14'), ('firstname', 'W.'), ('title', 'Mr.'), ('lastname', 'Chapman')]\n",
            "Mr. W. Chapman, Sub-Assistant.\n",
            "[('offset', '0'), ('length', '15'), ('firstname', 'G.'), ('title', 'Mr.'), ('lastname', 'McCarthy')]\n",
            "Mr. G. McCarthy, Sub-Assistant, 3rd Class.\n",
            "[('offset', '0'), ('length', '13'), ('firstname', 'J.'), ('title', 'Mr.'), ('lastname', 'Hussey')]\n",
            "Mr. J. Hussey, Sub-Assistant, 3rd Class.\n",
            "[('offset', '0'), ('length', '11'), ('firstname', 'R.'), ('title', 'Mr.'), ('lastname', 'Todd')]\n",
            "Mr. R. Todd, Sub-Assistant, 3rd Class.\n",
            "[('offset', '0'), ('length', '14'), ('firstname', 'C.'), ('title', 'Mr.'), ('lastname', 'Tapsell')]\n",
            "Mr. C. Tapsell, Sub-Assistant, 3rd Class.\n",
            "[('offset', '0'), ('length', '14'), ('firstname', 'F.'), ('title', 'Mr.'), ('lastname', 'Kitchen')]\n",
            "Mr. F. Kitchen, Sub-Assistant, 3rd Class.\n",
            "[('offset', '0'), ('length', '11'), ('firstname', 'C.'), ('title', 'Mr.'), ('lastname', 'Kirk')]\n",
            "Mr. C. Kirk, Sub-Assistant, 3rd Class.\n",
            "[('offset', '0'), ('length', '17'), ('firstname', 'W.'), ('title', 'Mr.'), ('lastname', 'Stotesbury')]\n",
            "Mr. W. Stotesbury, Sub-Assistant, 3rd Class.\n",
            "[('offset', '49'), ('length', '9'), ('lastname', 'Chooramun')]\n",
            "Joala Pershad, Abdool Samud Khan, Golam Mahomed, Chooramun,\n",
            "[('offset', '19'), ('length', '13'), ('firstname', 'Hurlall'), ('lastname', 'Singh')]\n",
            "Kalka Pershad, and Hurlall Singh.\n"
          ]
        }
      ]
    },
    {
      "cell_type": "markdown",
      "source": [
        "### List entities"
      ],
      "metadata": {
        "id": "NKXHYb8KfnX2"
      },
      "id": "NKXHYb8KfnX2"
    },
    {
      "cell_type": "code",
      "source": [
        "entities"
      ],
      "metadata": {
        "colab": {
          "base_uri": "https://localhost:8080/"
        },
        "id": "52GyJ95gFmto",
        "outputId": "e59c8dc5-89db-4a43-f1b2-c183869b5568"
      },
      "id": "52GyJ95gFmto",
      "execution_count": 17,
      "outputs": [
        {
          "output_type": "execute_result",
          "data": {
            "text/plain": [
              "[{'firstname': 'G.', 'title': 'Lieut.', 'lastname': 'Strahan'},\n",
              " {'firstname': 'C.', 'title': 'Lieut.', 'lastname': 'Strahan'},\n",
              " {'firstname': 'H.', 'title': 'Mr.', 'lastname': 'Horst'},\n",
              " {'firstname': 'G.', 'title': 'Mr.', 'lastname': 'Chill'},\n",
              " {'firstname': 'W.', 'title': 'Mr.', 'lastname': 'Chapman'},\n",
              " {'firstname': 'G.', 'title': 'Mr.', 'lastname': 'McCarthy'},\n",
              " {'firstname': 'J.', 'title': 'Mr.', 'lastname': 'Hussey'},\n",
              " {'firstname': 'R.', 'title': 'Mr.', 'lastname': 'Todd'},\n",
              " {'firstname': 'C.', 'title': 'Mr.', 'lastname': 'Tapsell'},\n",
              " {'firstname': 'F.', 'title': 'Mr.', 'lastname': 'Kitchen'},\n",
              " {'firstname': 'C.', 'title': 'Mr.', 'lastname': 'Kirk'},\n",
              " {'firstname': 'W.', 'title': 'Mr.', 'lastname': 'Stotesbury'},\n",
              " {'lastname': 'Chooramun'},\n",
              " {'firstname': 'Hurlall', 'lastname': 'Singh'}]"
            ]
          },
          "metadata": {},
          "execution_count": 17
        }
      ]
    },
    {
      "cell_type": "markdown",
      "source": [
        "### Extract entities to data frame"
      ],
      "metadata": {
        "id": "b5xFOvWweC6-"
      },
      "id": "b5xFOvWweC6-"
    },
    {
      "cell_type": "code",
      "source": [
        "pd.DataFrame(entities)"
      ],
      "metadata": {
        "id": "jfXvgEvjGgRB",
        "outputId": "1892cdbc-e322-4f60-e5a9-9a45d9779487",
        "colab": {
          "base_uri": "https://localhost:8080/",
          "height": 488
        }
      },
      "id": "jfXvgEvjGgRB",
      "execution_count": 18,
      "outputs": [
        {
          "output_type": "execute_result",
          "data": {
            "text/plain": [
              "   firstname   title    lastname\n",
              "0         G.  Lieut.     Strahan\n",
              "1         C.  Lieut.     Strahan\n",
              "2         H.     Mr.       Horst\n",
              "3         G.     Mr.       Chill\n",
              "4         W.     Mr.     Chapman\n",
              "5         G.     Mr.    McCarthy\n",
              "6         J.     Mr.      Hussey\n",
              "7         R.     Mr.        Todd\n",
              "8         C.     Mr.     Tapsell\n",
              "9         F.     Mr.     Kitchen\n",
              "10        C.     Mr.        Kirk\n",
              "11        W.     Mr.  Stotesbury\n",
              "12       NaN     NaN   Chooramun\n",
              "13   Hurlall     NaN       Singh"
            ],
            "text/html": [
              "\n",
              "  <div id=\"df-836137d9-45a4-4f7d-854e-b2be3dac0972\" class=\"colab-df-container\">\n",
              "    <div>\n",
              "<style scoped>\n",
              "    .dataframe tbody tr th:only-of-type {\n",
              "        vertical-align: middle;\n",
              "    }\n",
              "\n",
              "    .dataframe tbody tr th {\n",
              "        vertical-align: top;\n",
              "    }\n",
              "\n",
              "    .dataframe thead th {\n",
              "        text-align: right;\n",
              "    }\n",
              "</style>\n",
              "<table border=\"1\" class=\"dataframe\">\n",
              "  <thead>\n",
              "    <tr style=\"text-align: right;\">\n",
              "      <th></th>\n",
              "      <th>firstname</th>\n",
              "      <th>title</th>\n",
              "      <th>lastname</th>\n",
              "    </tr>\n",
              "  </thead>\n",
              "  <tbody>\n",
              "    <tr>\n",
              "      <th>0</th>\n",
              "      <td>G.</td>\n",
              "      <td>Lieut.</td>\n",
              "      <td>Strahan</td>\n",
              "    </tr>\n",
              "    <tr>\n",
              "      <th>1</th>\n",
              "      <td>C.</td>\n",
              "      <td>Lieut.</td>\n",
              "      <td>Strahan</td>\n",
              "    </tr>\n",
              "    <tr>\n",
              "      <th>2</th>\n",
              "      <td>H.</td>\n",
              "      <td>Mr.</td>\n",
              "      <td>Horst</td>\n",
              "    </tr>\n",
              "    <tr>\n",
              "      <th>3</th>\n",
              "      <td>G.</td>\n",
              "      <td>Mr.</td>\n",
              "      <td>Chill</td>\n",
              "    </tr>\n",
              "    <tr>\n",
              "      <th>4</th>\n",
              "      <td>W.</td>\n",
              "      <td>Mr.</td>\n",
              "      <td>Chapman</td>\n",
              "    </tr>\n",
              "    <tr>\n",
              "      <th>5</th>\n",
              "      <td>G.</td>\n",
              "      <td>Mr.</td>\n",
              "      <td>McCarthy</td>\n",
              "    </tr>\n",
              "    <tr>\n",
              "      <th>6</th>\n",
              "      <td>J.</td>\n",
              "      <td>Mr.</td>\n",
              "      <td>Hussey</td>\n",
              "    </tr>\n",
              "    <tr>\n",
              "      <th>7</th>\n",
              "      <td>R.</td>\n",
              "      <td>Mr.</td>\n",
              "      <td>Todd</td>\n",
              "    </tr>\n",
              "    <tr>\n",
              "      <th>8</th>\n",
              "      <td>C.</td>\n",
              "      <td>Mr.</td>\n",
              "      <td>Tapsell</td>\n",
              "    </tr>\n",
              "    <tr>\n",
              "      <th>9</th>\n",
              "      <td>F.</td>\n",
              "      <td>Mr.</td>\n",
              "      <td>Kitchen</td>\n",
              "    </tr>\n",
              "    <tr>\n",
              "      <th>10</th>\n",
              "      <td>C.</td>\n",
              "      <td>Mr.</td>\n",
              "      <td>Kirk</td>\n",
              "    </tr>\n",
              "    <tr>\n",
              "      <th>11</th>\n",
              "      <td>W.</td>\n",
              "      <td>Mr.</td>\n",
              "      <td>Stotesbury</td>\n",
              "    </tr>\n",
              "    <tr>\n",
              "      <th>12</th>\n",
              "      <td>NaN</td>\n",
              "      <td>NaN</td>\n",
              "      <td>Chooramun</td>\n",
              "    </tr>\n",
              "    <tr>\n",
              "      <th>13</th>\n",
              "      <td>Hurlall</td>\n",
              "      <td>NaN</td>\n",
              "      <td>Singh</td>\n",
              "    </tr>\n",
              "  </tbody>\n",
              "</table>\n",
              "</div>\n",
              "    <div class=\"colab-df-buttons\">\n",
              "\n",
              "  <div class=\"colab-df-container\">\n",
              "    <button class=\"colab-df-convert\" onclick=\"convertToInteractive('df-836137d9-45a4-4f7d-854e-b2be3dac0972')\"\n",
              "            title=\"Convert this dataframe to an interactive table.\"\n",
              "            style=\"display:none;\">\n",
              "\n",
              "  <svg xmlns=\"http://www.w3.org/2000/svg\" height=\"24px\" viewBox=\"0 -960 960 960\">\n",
              "    <path d=\"M120-120v-720h720v720H120Zm60-500h600v-160H180v160Zm220 220h160v-160H400v160Zm0 220h160v-160H400v160ZM180-400h160v-160H180v160Zm440 0h160v-160H620v160ZM180-180h160v-160H180v160Zm440 0h160v-160H620v160Z\"/>\n",
              "  </svg>\n",
              "    </button>\n",
              "\n",
              "  <style>\n",
              "    .colab-df-container {\n",
              "      display:flex;\n",
              "      gap: 12px;\n",
              "    }\n",
              "\n",
              "    .colab-df-convert {\n",
              "      background-color: #E8F0FE;\n",
              "      border: none;\n",
              "      border-radius: 50%;\n",
              "      cursor: pointer;\n",
              "      display: none;\n",
              "      fill: #1967D2;\n",
              "      height: 32px;\n",
              "      padding: 0 0 0 0;\n",
              "      width: 32px;\n",
              "    }\n",
              "\n",
              "    .colab-df-convert:hover {\n",
              "      background-color: #E2EBFA;\n",
              "      box-shadow: 0px 1px 2px rgba(60, 64, 67, 0.3), 0px 1px 3px 1px rgba(60, 64, 67, 0.15);\n",
              "      fill: #174EA6;\n",
              "    }\n",
              "\n",
              "    .colab-df-buttons div {\n",
              "      margin-bottom: 4px;\n",
              "    }\n",
              "\n",
              "    [theme=dark] .colab-df-convert {\n",
              "      background-color: #3B4455;\n",
              "      fill: #D2E3FC;\n",
              "    }\n",
              "\n",
              "    [theme=dark] .colab-df-convert:hover {\n",
              "      background-color: #434B5C;\n",
              "      box-shadow: 0px 1px 3px 1px rgba(0, 0, 0, 0.15);\n",
              "      filter: drop-shadow(0px 1px 2px rgba(0, 0, 0, 0.3));\n",
              "      fill: #FFFFFF;\n",
              "    }\n",
              "  </style>\n",
              "\n",
              "    <script>\n",
              "      const buttonEl =\n",
              "        document.querySelector('#df-836137d9-45a4-4f7d-854e-b2be3dac0972 button.colab-df-convert');\n",
              "      buttonEl.style.display =\n",
              "        google.colab.kernel.accessAllowed ? 'block' : 'none';\n",
              "\n",
              "      async function convertToInteractive(key) {\n",
              "        const element = document.querySelector('#df-836137d9-45a4-4f7d-854e-b2be3dac0972');\n",
              "        const dataTable =\n",
              "          await google.colab.kernel.invokeFunction('convertToInteractive',\n",
              "                                                    [key], {});\n",
              "        if (!dataTable) return;\n",
              "\n",
              "        const docLinkHtml = 'Like what you see? Visit the ' +\n",
              "          '<a target=\"_blank\" href=https://colab.research.google.com/notebooks/data_table.ipynb>data table notebook</a>'\n",
              "          + ' to learn more about interactive tables.';\n",
              "        element.innerHTML = '';\n",
              "        dataTable['output_type'] = 'display_data';\n",
              "        await google.colab.output.renderOutput(dataTable, element);\n",
              "        const docLink = document.createElement('div');\n",
              "        docLink.innerHTML = docLinkHtml;\n",
              "        element.appendChild(docLink);\n",
              "      }\n",
              "    </script>\n",
              "  </div>\n",
              "\n",
              "\n",
              "    <div id=\"df-13d78cc0-547e-44a4-b60c-abba3f5e8ace\">\n",
              "      <button class=\"colab-df-quickchart\" onclick=\"quickchart('df-13d78cc0-547e-44a4-b60c-abba3f5e8ace')\"\n",
              "                title=\"Suggest charts\"\n",
              "                style=\"display:none;\">\n",
              "\n",
              "<svg xmlns=\"http://www.w3.org/2000/svg\" height=\"24px\"viewBox=\"0 0 24 24\"\n",
              "     width=\"24px\">\n",
              "    <g>\n",
              "        <path d=\"M19 3H5c-1.1 0-2 .9-2 2v14c0 1.1.9 2 2 2h14c1.1 0 2-.9 2-2V5c0-1.1-.9-2-2-2zM9 17H7v-7h2v7zm4 0h-2V7h2v10zm4 0h-2v-4h2v4z\"/>\n",
              "    </g>\n",
              "</svg>\n",
              "      </button>\n",
              "\n",
              "<style>\n",
              "  .colab-df-quickchart {\n",
              "      --bg-color: #E8F0FE;\n",
              "      --fill-color: #1967D2;\n",
              "      --hover-bg-color: #E2EBFA;\n",
              "      --hover-fill-color: #174EA6;\n",
              "      --disabled-fill-color: #AAA;\n",
              "      --disabled-bg-color: #DDD;\n",
              "  }\n",
              "\n",
              "  [theme=dark] .colab-df-quickchart {\n",
              "      --bg-color: #3B4455;\n",
              "      --fill-color: #D2E3FC;\n",
              "      --hover-bg-color: #434B5C;\n",
              "      --hover-fill-color: #FFFFFF;\n",
              "      --disabled-bg-color: #3B4455;\n",
              "      --disabled-fill-color: #666;\n",
              "  }\n",
              "\n",
              "  .colab-df-quickchart {\n",
              "    background-color: var(--bg-color);\n",
              "    border: none;\n",
              "    border-radius: 50%;\n",
              "    cursor: pointer;\n",
              "    display: none;\n",
              "    fill: var(--fill-color);\n",
              "    height: 32px;\n",
              "    padding: 0;\n",
              "    width: 32px;\n",
              "  }\n",
              "\n",
              "  .colab-df-quickchart:hover {\n",
              "    background-color: var(--hover-bg-color);\n",
              "    box-shadow: 0 1px 2px rgba(60, 64, 67, 0.3), 0 1px 3px 1px rgba(60, 64, 67, 0.15);\n",
              "    fill: var(--button-hover-fill-color);\n",
              "  }\n",
              "\n",
              "  .colab-df-quickchart-complete:disabled,\n",
              "  .colab-df-quickchart-complete:disabled:hover {\n",
              "    background-color: var(--disabled-bg-color);\n",
              "    fill: var(--disabled-fill-color);\n",
              "    box-shadow: none;\n",
              "  }\n",
              "\n",
              "  .colab-df-spinner {\n",
              "    border: 2px solid var(--fill-color);\n",
              "    border-color: transparent;\n",
              "    border-bottom-color: var(--fill-color);\n",
              "    animation:\n",
              "      spin 1s steps(1) infinite;\n",
              "  }\n",
              "\n",
              "  @keyframes spin {\n",
              "    0% {\n",
              "      border-color: transparent;\n",
              "      border-bottom-color: var(--fill-color);\n",
              "      border-left-color: var(--fill-color);\n",
              "    }\n",
              "    20% {\n",
              "      border-color: transparent;\n",
              "      border-left-color: var(--fill-color);\n",
              "      border-top-color: var(--fill-color);\n",
              "    }\n",
              "    30% {\n",
              "      border-color: transparent;\n",
              "      border-left-color: var(--fill-color);\n",
              "      border-top-color: var(--fill-color);\n",
              "      border-right-color: var(--fill-color);\n",
              "    }\n",
              "    40% {\n",
              "      border-color: transparent;\n",
              "      border-right-color: var(--fill-color);\n",
              "      border-top-color: var(--fill-color);\n",
              "    }\n",
              "    60% {\n",
              "      border-color: transparent;\n",
              "      border-right-color: var(--fill-color);\n",
              "    }\n",
              "    80% {\n",
              "      border-color: transparent;\n",
              "      border-right-color: var(--fill-color);\n",
              "      border-bottom-color: var(--fill-color);\n",
              "    }\n",
              "    90% {\n",
              "      border-color: transparent;\n",
              "      border-bottom-color: var(--fill-color);\n",
              "    }\n",
              "  }\n",
              "</style>\n",
              "\n",
              "      <script>\n",
              "        async function quickchart(key) {\n",
              "          const quickchartButtonEl =\n",
              "            document.querySelector('#' + key + ' button');\n",
              "          quickchartButtonEl.disabled = true;  // To prevent multiple clicks.\n",
              "          quickchartButtonEl.classList.add('colab-df-spinner');\n",
              "          try {\n",
              "            const charts = await google.colab.kernel.invokeFunction(\n",
              "                'suggestCharts', [key], {});\n",
              "          } catch (error) {\n",
              "            console.error('Error during call to suggestCharts:', error);\n",
              "          }\n",
              "          quickchartButtonEl.classList.remove('colab-df-spinner');\n",
              "          quickchartButtonEl.classList.add('colab-df-quickchart-complete');\n",
              "        }\n",
              "        (() => {\n",
              "          let quickchartButtonEl =\n",
              "            document.querySelector('#df-13d78cc0-547e-44a4-b60c-abba3f5e8ace button');\n",
              "          quickchartButtonEl.style.display =\n",
              "            google.colab.kernel.accessAllowed ? 'block' : 'none';\n",
              "        })();\n",
              "      </script>\n",
              "    </div>\n",
              "\n",
              "    </div>\n",
              "  </div>\n"
            ],
            "application/vnd.google.colaboratory.intrinsic+json": {
              "type": "dataframe",
              "summary": "{\n  \"name\": \"pd\",\n  \"rows\": 14,\n  \"fields\": [\n    {\n      \"column\": \"firstname\",\n      \"properties\": {\n        \"dtype\": \"string\",\n        \"num_unique_values\": 8,\n        \"samples\": [\n          \"C.\",\n          \"R.\",\n          \"G.\"\n        ],\n        \"semantic_type\": \"\",\n        \"description\": \"\"\n      }\n    },\n    {\n      \"column\": \"title\",\n      \"properties\": {\n        \"dtype\": \"category\",\n        \"num_unique_values\": 2,\n        \"samples\": [\n          \"Mr.\",\n          \"Lieut.\"\n        ],\n        \"semantic_type\": \"\",\n        \"description\": \"\"\n      }\n    },\n    {\n      \"column\": \"lastname\",\n      \"properties\": {\n        \"dtype\": \"string\",\n        \"num_unique_values\": 13,\n        \"samples\": [\n          \"Chooramun\",\n          \"Kirk\"\n        ],\n        \"semantic_type\": \"\",\n        \"description\": \"\"\n      }\n    }\n  ]\n}"
            }
          },
          "metadata": {},
          "execution_count": 18
        }
      ]
    },
    {
      "cell_type": "markdown",
      "source": [
        "# Redundant Cells"
      ],
      "metadata": {
        "id": "0e4PhARJUK5J"
      },
      "id": "0e4PhARJUK5J"
    },
    {
      "cell_type": "markdown",
      "source": [
        "### Parse report date"
      ],
      "metadata": {
        "id": "6yHDK98cSkeF"
      },
      "id": "6yHDK98cSkeF"
    },
    {
      "cell_type": "code",
      "source": [],
      "metadata": {
        "id": "Ejzx3PJySt4k"
      },
      "id": "Ejzx3PJySt4k",
      "execution_count": null,
      "outputs": []
    },
    {
      "cell_type": "markdown",
      "source": [
        "### Parse name"
      ],
      "metadata": {
        "id": "xC5oCJjlSJ9H"
      },
      "id": "xC5oCJjlSJ9H"
    },
    {
      "cell_type": "code",
      "execution_count": null,
      "id": "b97df8a9-b5be-4a6e-a5ee-84b0fd811a28",
      "metadata": {
        "id": "b97df8a9-b5be-4a6e-a5ee-84b0fd811a28"
      },
      "outputs": [],
      "source": [
        "def parse_xml_attrib(s):\n",
        "    return re.findall(r\"(?<attr_name>\\w*)\\s\\(?<attr_value>{[\\w:\\s\\d]*;\\})\", s)"
      ]
    },
    {
      "cell_type": "code",
      "execution_count": null,
      "id": "083b814d-5b2f-428d-a9e6-ca213e507955",
      "metadata": {
        "id": "083b814d-5b2f-428d-a9e6-ca213e507955",
        "colab": {
          "base_uri": "https://localhost:8080/",
          "height": 36
        },
        "outputId": "5712a918-2490-4038-f2e1-b498da9d71ee"
      },
      "outputs": [
        {
          "output_type": "execute_result",
          "data": {
            "text/plain": [
              "'readingOrder {index:2;} Role {offset:0; length:18; continued:true;title:Executive\\\\u0020Officer\\\\u0020in\\\\u0020Charge;}'"
            ],
            "application/vnd.google.colaboratory.intrinsic+json": {
              "type": "string"
            }
          },
          "metadata": {},
          "execution_count": 66
        }
      ],
      "source": [
        "s = credits[0][3].attrib[\"custom\"]\n",
        "s"
      ]
    },
    {
      "cell_type": "code",
      "execution_count": null,
      "id": "62a55765-eadb-4907-bb2e-1aeb1e24f4f9",
      "metadata": {
        "id": "62a55765-eadb-4907-bb2e-1aeb1e24f4f9",
        "colab": {
          "base_uri": "https://localhost:8080/"
        },
        "outputId": "ca1b8093-ef64-4b5b-bad0-ee476463b3ca"
      },
      "outputs": [
        {
          "output_type": "execute_result",
          "data": {
            "text/plain": [
              "[('readingOrder', '{index:2;}')]"
            ]
          },
          "metadata": {},
          "execution_count": 67
        }
      ],
      "source": [
        "re.findall(r\"(?P<attr_name>\\w*)\\s(?P<attr_value>\\{[\\w:;\\s\\d]*;\\})\", s)"
      ]
    },
    {
      "cell_type": "markdown",
      "source": [
        "## Define pages to delete with path"
      ],
      "metadata": {
        "id": "gsP1Qdy5NbO6"
      },
      "id": "gsP1Qdy5NbO6"
    },
    {
      "cell_type": "code",
      "execution_count": null,
      "metadata": {
        "id": "Ka87o-aIi3YW"
      },
      "outputs": [],
      "source": [
        "pages_to_delete = glob.glob(\"sample_data/00*.xml\")"
      ],
      "id": "Ka87o-aIi3YW"
    },
    {
      "cell_type": "code",
      "source": [
        "for page in pages_to_delete:\n",
        "  os.remove(page)"
      ],
      "metadata": {
        "id": "Z75BDAwJjEV9"
      },
      "id": "Z75BDAwJjEV9",
      "execution_count": null,
      "outputs": []
    },
    {
      "cell_type": "markdown",
      "source": [
        "## Split filename string demo"
      ],
      "metadata": {
        "id": "A39u437dYkmn"
      },
      "id": "A39u437dYkmn"
    },
    {
      "cell_type": "code",
      "source": [
        "int(pages[7].split(\"/\")[-1].split(\"_\")[0])"
      ],
      "metadata": {
        "id": "C1ZnfsfwkTon",
        "outputId": "47e033ea-5e04-4e5c-f36e-1272d3e55b3f",
        "colab": {
          "base_uri": "https://localhost:8080/"
        }
      },
      "id": "C1ZnfsfwkTon",
      "execution_count": null,
      "outputs": [
        {
          "output_type": "execute_result",
          "data": {
            "text/plain": [
              "9"
            ]
          },
          "metadata": {},
          "execution_count": 70
        }
      ]
    },
    {
      "cell_type": "markdown",
      "source": [
        "## Print integer demo"
      ],
      "metadata": {
        "id": "4ueph3QSbD77"
      },
      "id": "4ueph3QSbD77"
    },
    {
      "cell_type": "code",
      "source": [
        "for i in [0,1,2,3,4]:\n",
        "  print(i)"
      ],
      "metadata": {
        "id": "kGDzunSvtU8Z",
        "outputId": "3d28fe9d-064a-4f37-df04-52bea432db6c",
        "colab": {
          "base_uri": "https://localhost:8080/"
        }
      },
      "id": "kGDzunSvtU8Z",
      "execution_count": null,
      "outputs": [
        {
          "output_type": "stream",
          "name": "stdout",
          "text": [
            "0\n",
            "1\n",
            "2\n",
            "3\n",
            "4\n"
          ]
        }
      ]
    },
    {
      "cell_type": "markdown",
      "source": [
        "## Print children demo"
      ],
      "metadata": {
        "id": "aR2LPHuwddKL"
      },
      "id": "aR2LPHuwddKL"
    },
    {
      "cell_type": "code",
      "source": [],
      "metadata": {
        "id": "jQUagjoNU7Qv"
      },
      "id": "jQUagjoNU7Qv",
      "execution_count": null,
      "outputs": []
    },
    {
      "cell_type": "code",
      "execution_count": null,
      "id": "6ecb67b2-f82d-42b8-a75d-8f9aaec82185",
      "metadata": {
        "id": "6ecb67b2-f82d-42b8-a75d-8f9aaec82185",
        "outputId": "9d5bc793-b94b-480f-d587-9425bb1950e3",
        "colab": {
          "base_uri": "https://localhost:8080/"
        }
      },
      "outputs": [
        {
          "output_type": "stream",
          "name": "stdout",
          "text": [
            "<Element '{http://schema.primaresearch.org/PAGE/gts/pagecontent/2013-07-15}Metadata' at 0x7d80ff3149f0>\n",
            "<Element '{http://schema.primaresearch.org/PAGE/gts/pagecontent/2013-07-15}Page' at 0x7d80ffa48bd0>\n",
            "<Element '{http://schema.primaresearch.org/PAGE/gts/pagecontent/2013-07-15}Metadata' at 0x7d80fefe0310>\n",
            "<Element '{http://schema.primaresearch.org/PAGE/gts/pagecontent/2013-07-15}Page' at 0x7d80fefe0540>\n",
            "<Element '{http://schema.primaresearch.org/PAGE/gts/pagecontent/2013-07-15}Metadata' at 0x7d80feff5490>\n",
            "<Element '{http://schema.primaresearch.org/PAGE/gts/pagecontent/2013-07-15}Page' at 0x7d80feff56c0>\n",
            "<Element '{http://schema.primaresearch.org/PAGE/gts/pagecontent/2013-07-15}Metadata' at 0x7d80ff007880>\n",
            "<Element '{http://schema.primaresearch.org/PAGE/gts/pagecontent/2013-07-15}Page' at 0x7d80ff007ab0>\n",
            "<Element '{http://schema.primaresearch.org/PAGE/gts/pagecontent/2013-07-15}Metadata' at 0x7d80ff01c4a0>\n",
            "<Element '{http://schema.primaresearch.org/PAGE/gts/pagecontent/2013-07-15}Page' at 0x7d80ff01c6d0>\n",
            "<Element '{http://schema.primaresearch.org/PAGE/gts/pagecontent/2013-07-15}Metadata' at 0x7d80ff0299e0>\n",
            "<Element '{http://schema.primaresearch.org/PAGE/gts/pagecontent/2013-07-15}Page' at 0x7d80ff029c10>\n",
            "<Element '{http://schema.primaresearch.org/PAGE/gts/pagecontent/2013-07-15}Metadata' at 0x7d80ff045120>\n",
            "<Element '{http://schema.primaresearch.org/PAGE/gts/pagecontent/2013-07-15}Page' at 0x7d80ff045350>\n",
            "<Element '{http://schema.primaresearch.org/PAGE/gts/pagecontent/2013-07-15}Metadata' at 0x7d80ff05f830>\n",
            "<Element '{http://schema.primaresearch.org/PAGE/gts/pagecontent/2013-07-15}Page' at 0x7d80ff05fa60>\n",
            "<Element '{http://schema.primaresearch.org/PAGE/gts/pagecontent/2013-07-15}Metadata' at 0x7d80ff07d850>\n",
            "<Element '{http://schema.primaresearch.org/PAGE/gts/pagecontent/2013-07-15}Page' at 0x7d80ff07da80>\n",
            "<Element '{http://schema.primaresearch.org/PAGE/gts/pagecontent/2013-07-15}Metadata' at 0x7d80feeb1e40>\n",
            "<Element '{http://schema.primaresearch.org/PAGE/gts/pagecontent/2013-07-15}Page' at 0x7d80feeb2070>\n",
            "<Element '{http://schema.primaresearch.org/PAGE/gts/pagecontent/2013-07-15}Metadata' at 0x7d80feed2980>\n",
            "<Element '{http://schema.primaresearch.org/PAGE/gts/pagecontent/2013-07-15}Page' at 0x7d80feed2bb0>\n",
            "<Element '{http://schema.primaresearch.org/PAGE/gts/pagecontent/2013-07-15}Metadata' at 0x7d80feeecea0>\n",
            "<Element '{http://schema.primaresearch.org/PAGE/gts/pagecontent/2013-07-15}Page' at 0x7d80feeed0d0>\n",
            "<Element '{http://schema.primaresearch.org/PAGE/gts/pagecontent/2013-07-15}Metadata' at 0x7d80fef10130>\n",
            "<Element '{http://schema.primaresearch.org/PAGE/gts/pagecontent/2013-07-15}Page' at 0x7d80fef10360>\n",
            "<Element '{http://schema.primaresearch.org/PAGE/gts/pagecontent/2013-07-15}Metadata' at 0x7d80fef45760>\n",
            "<Element '{http://schema.primaresearch.org/PAGE/gts/pagecontent/2013-07-15}Page' at 0x7d80fef45990>\n",
            "<Element '{http://schema.primaresearch.org/PAGE/gts/pagecontent/2013-07-15}Metadata' at 0x7d80fef58fe0>\n",
            "<Element '{http://schema.primaresearch.org/PAGE/gts/pagecontent/2013-07-15}Page' at 0x7d80fef59210>\n",
            "<Element '{http://schema.primaresearch.org/PAGE/gts/pagecontent/2013-07-15}Metadata' at 0x7d80fef598f0>\n",
            "<Element '{http://schema.primaresearch.org/PAGE/gts/pagecontent/2013-07-15}Page' at 0x7d80fef59b20>\n",
            "<Element '{http://schema.primaresearch.org/PAGE/gts/pagecontent/2013-07-15}Metadata' at 0x7d80fef5a020>\n",
            "<Element '{http://schema.primaresearch.org/PAGE/gts/pagecontent/2013-07-15}Page' at 0x7d80fef5a250>\n",
            "<Element '{http://schema.primaresearch.org/PAGE/gts/pagecontent/2013-07-15}Metadata' at 0x7d80fef5ab10>\n",
            "<Element '{http://schema.primaresearch.org/PAGE/gts/pagecontent/2013-07-15}Page' at 0x7d80fef5ad40>\n",
            "<Element '{http://schema.primaresearch.org/PAGE/gts/pagecontent/2013-07-15}Metadata' at 0x7d80fef5b420>\n",
            "<Element '{http://schema.primaresearch.org/PAGE/gts/pagecontent/2013-07-15}Page' at 0x7d80fef5b650>\n",
            "<Element '{http://schema.primaresearch.org/PAGE/gts/pagecontent/2013-07-15}Metadata' at 0x7d80fef5b970>\n",
            "<Element '{http://schema.primaresearch.org/PAGE/gts/pagecontent/2013-07-15}Page' at 0x7d80fef5bba0>\n",
            "<Element '{http://schema.primaresearch.org/PAGE/gts/pagecontent/2013-07-15}Metadata' at 0x7d80fef6c0e0>\n",
            "<Element '{http://schema.primaresearch.org/PAGE/gts/pagecontent/2013-07-15}Page' at 0x7d80fef6c310>\n",
            "<Element '{http://schema.primaresearch.org/PAGE/gts/pagecontent/2013-07-15}Metadata' at 0x7d80fef6cf90>\n",
            "<Element '{http://schema.primaresearch.org/PAGE/gts/pagecontent/2013-07-15}Page' at 0x7d80fef6d1c0>\n",
            "<Element '{http://schema.primaresearch.org/PAGE/gts/pagecontent/2013-07-15}Metadata' at 0x7d80fef6d8a0>\n",
            "<Element '{http://schema.primaresearch.org/PAGE/gts/pagecontent/2013-07-15}Page' at 0x7d80fef6dad0>\n",
            "<Element '{http://schema.primaresearch.org/PAGE/gts/pagecontent/2013-07-15}Metadata' at 0x7d80fef6e8e0>\n",
            "<Element '{http://schema.primaresearch.org/PAGE/gts/pagecontent/2013-07-15}Page' at 0x7d80fef6eb10>\n",
            "<Element '{http://schema.primaresearch.org/PAGE/gts/pagecontent/2013-07-15}Metadata' at 0x7d80fedacb30>\n",
            "<Element '{http://schema.primaresearch.org/PAGE/gts/pagecontent/2013-07-15}Page' at 0x7d80fedacd60>\n",
            "<Element '{http://schema.primaresearch.org/PAGE/gts/pagecontent/2013-07-15}Metadata' at 0x7d80fedcb100>\n",
            "<Element '{http://schema.primaresearch.org/PAGE/gts/pagecontent/2013-07-15}Page' at 0x7d80fedcb330>\n",
            "<Element '{http://schema.primaresearch.org/PAGE/gts/pagecontent/2013-07-15}Metadata' at 0x7d80fedcb650>\n",
            "<Element '{http://schema.primaresearch.org/PAGE/gts/pagecontent/2013-07-15}Page' at 0x7d80fedcb880>\n",
            "<Element '{http://schema.primaresearch.org/PAGE/gts/pagecontent/2013-07-15}Metadata' at 0x7d80fedf1f80>\n",
            "<Element '{http://schema.primaresearch.org/PAGE/gts/pagecontent/2013-07-15}Page' at 0x7d80fedf21b0>\n",
            "<Element '{http://schema.primaresearch.org/PAGE/gts/pagecontent/2013-07-15}Metadata' at 0x7d80fee1c5e0>\n",
            "<Element '{http://schema.primaresearch.org/PAGE/gts/pagecontent/2013-07-15}Page' at 0x7d80fee1c810>\n",
            "<Element '{http://schema.primaresearch.org/PAGE/gts/pagecontent/2013-07-15}Metadata' at 0x7d80fee38f40>\n",
            "<Element '{http://schema.primaresearch.org/PAGE/gts/pagecontent/2013-07-15}Page' at 0x7d80fee39170>\n",
            "<Element '{http://schema.primaresearch.org/PAGE/gts/pagecontent/2013-07-15}Metadata' at 0x7d80fee72200>\n",
            "<Element '{http://schema.primaresearch.org/PAGE/gts/pagecontent/2013-07-15}Page' at 0x7d80fee72430>\n",
            "<Element '{http://schema.primaresearch.org/PAGE/gts/pagecontent/2013-07-15}Metadata' at 0x7d80fecb2cf0>\n",
            "<Element '{http://schema.primaresearch.org/PAGE/gts/pagecontent/2013-07-15}Page' at 0x7d80fecb2f20>\n",
            "<Element '{http://schema.primaresearch.org/PAGE/gts/pagecontent/2013-07-15}Metadata' at 0x7d80fecdfce0>\n",
            "<Element '{http://schema.primaresearch.org/PAGE/gts/pagecontent/2013-07-15}Page' at 0x7d80fecdff10>\n",
            "<Element '{http://schema.primaresearch.org/PAGE/gts/pagecontent/2013-07-15}Metadata' at 0x7d80fed214e0>\n",
            "<Element '{http://schema.primaresearch.org/PAGE/gts/pagecontent/2013-07-15}Page' at 0x7d80fed21710>\n",
            "<Element '{http://schema.primaresearch.org/PAGE/gts/pagecontent/2013-07-15}Metadata' at 0x7d80fed55c10>\n",
            "<Element '{http://schema.primaresearch.org/PAGE/gts/pagecontent/2013-07-15}Page' at 0x7d80fed55e40>\n",
            "<Element '{http://schema.primaresearch.org/PAGE/gts/pagecontent/2013-07-15}Metadata' at 0x7d80fed8aa20>\n",
            "<Element '{http://schema.primaresearch.org/PAGE/gts/pagecontent/2013-07-15}Page' at 0x7d80fed8ac50>\n",
            "<Element '{http://schema.primaresearch.org/PAGE/gts/pagecontent/2013-07-15}Metadata' at 0x7d80feba69d0>\n",
            "<Element '{http://schema.primaresearch.org/PAGE/gts/pagecontent/2013-07-15}Page' at 0x7d80feba6c00>\n",
            "<Element '{http://schema.primaresearch.org/PAGE/gts/pagecontent/2013-07-15}Metadata' at 0x7d80febde4d0>\n",
            "<Element '{http://schema.primaresearch.org/PAGE/gts/pagecontent/2013-07-15}Page' at 0x7d80febde700>\n",
            "<Element '{http://schema.primaresearch.org/PAGE/gts/pagecontent/2013-07-15}Metadata' at 0x7d80fec08db0>\n",
            "<Element '{http://schema.primaresearch.org/PAGE/gts/pagecontent/2013-07-15}Page' at 0x7d80fec08fe0>\n",
            "<Element '{http://schema.primaresearch.org/PAGE/gts/pagecontent/2013-07-15}Metadata' at 0x7d80fec3a2a0>\n",
            "<Element '{http://schema.primaresearch.org/PAGE/gts/pagecontent/2013-07-15}Page' at 0x7d80fec3a4d0>\n",
            "<Element '{http://schema.primaresearch.org/PAGE/gts/pagecontent/2013-07-15}Metadata' at 0x7d80fec6db20>\n",
            "<Element '{http://schema.primaresearch.org/PAGE/gts/pagecontent/2013-07-15}Page' at 0x7d80fec6dd50>\n",
            "<Element '{http://schema.primaresearch.org/PAGE/gts/pagecontent/2013-07-15}Metadata' at 0x7d80feaa1120>\n",
            "<Element '{http://schema.primaresearch.org/PAGE/gts/pagecontent/2013-07-15}Page' at 0x7d80feaa1350>\n",
            "<Element '{http://schema.primaresearch.org/PAGE/gts/pagecontent/2013-07-15}Metadata' at 0x7d80feabdd50>\n",
            "<Element '{http://schema.primaresearch.org/PAGE/gts/pagecontent/2013-07-15}Page' at 0x7d80feabdf80>\n",
            "<Element '{http://schema.primaresearch.org/PAGE/gts/pagecontent/2013-07-15}Metadata' at 0x7d80feaf2e30>\n",
            "<Element '{http://schema.primaresearch.org/PAGE/gts/pagecontent/2013-07-15}Page' at 0x7d80feaf3060>\n",
            "<Element '{http://schema.primaresearch.org/PAGE/gts/pagecontent/2013-07-15}Metadata' at 0x7d80feb3c770>\n",
            "<Element '{http://schema.primaresearch.org/PAGE/gts/pagecontent/2013-07-15}Page' at 0x7d80feb3c9a0>\n",
            "<Element '{http://schema.primaresearch.org/PAGE/gts/pagecontent/2013-07-15}Metadata' at 0x7d80feb75030>\n",
            "<Element '{http://schema.primaresearch.org/PAGE/gts/pagecontent/2013-07-15}Page' at 0x7d80feb75260>\n",
            "<Element '{http://schema.primaresearch.org/PAGE/gts/pagecontent/2013-07-15}Metadata' at 0x7d80fe9b1710>\n",
            "<Element '{http://schema.primaresearch.org/PAGE/gts/pagecontent/2013-07-15}Page' at 0x7d80fe9b1940>\n",
            "<Element '{http://schema.primaresearch.org/PAGE/gts/pagecontent/2013-07-15}Metadata' at 0x7d80fe9de5c0>\n",
            "<Element '{http://schema.primaresearch.org/PAGE/gts/pagecontent/2013-07-15}Page' at 0x7d80fe9de7f0>\n",
            "<Element '{http://schema.primaresearch.org/PAGE/gts/pagecontent/2013-07-15}Metadata' at 0x7d80fea13790>\n",
            "<Element '{http://schema.primaresearch.org/PAGE/gts/pagecontent/2013-07-15}Page' at 0x7d80fea139c0>\n",
            "<Element '{http://schema.primaresearch.org/PAGE/gts/pagecontent/2013-07-15}Metadata' at 0x7d80fea2b790>\n",
            "<Element '{http://schema.primaresearch.org/PAGE/gts/pagecontent/2013-07-15}Page' at 0x7d80fea2b9c0>\n",
            "<Element '{http://schema.primaresearch.org/PAGE/gts/pagecontent/2013-07-15}Metadata' at 0x7d80fea5e7f0>\n",
            "<Element '{http://schema.primaresearch.org/PAGE/gts/pagecontent/2013-07-15}Page' at 0x7d80fea5ea20>\n",
            "<Element '{http://schema.primaresearch.org/PAGE/gts/pagecontent/2013-07-15}Metadata' at 0x7d80fe8b2a70>\n",
            "<Element '{http://schema.primaresearch.org/PAGE/gts/pagecontent/2013-07-15}Page' at 0x7d80fe8b2ca0>\n",
            "<Element '{http://schema.primaresearch.org/PAGE/gts/pagecontent/2013-07-15}Metadata' at 0x7d80fe8e8f90>\n",
            "<Element '{http://schema.primaresearch.org/PAGE/gts/pagecontent/2013-07-15}Page' at 0x7d80fe8e91c0>\n",
            "<Element '{http://schema.primaresearch.org/PAGE/gts/pagecontent/2013-07-15}Metadata' at 0x7d80fe916610>\n",
            "<Element '{http://schema.primaresearch.org/PAGE/gts/pagecontent/2013-07-15}Page' at 0x7d80fe916840>\n",
            "<Element '{http://schema.primaresearch.org/PAGE/gts/pagecontent/2013-07-15}Metadata' at 0x7d80fe94bb00>\n",
            "<Element '{http://schema.primaresearch.org/PAGE/gts/pagecontent/2013-07-15}Page' at 0x7d80fe94bd30>\n",
            "<Element '{http://schema.primaresearch.org/PAGE/gts/pagecontent/2013-07-15}Metadata' at 0x7d80fe798ae0>\n",
            "<Element '{http://schema.primaresearch.org/PAGE/gts/pagecontent/2013-07-15}Page' at 0x7d80fe798d10>\n",
            "<Element '{http://schema.primaresearch.org/PAGE/gts/pagecontent/2013-07-15}Metadata' at 0x7d80fe7d0090>\n",
            "<Element '{http://schema.primaresearch.org/PAGE/gts/pagecontent/2013-07-15}Page' at 0x7d80fe7d02c0>\n",
            "<Element '{http://schema.primaresearch.org/PAGE/gts/pagecontent/2013-07-15}Metadata' at 0x7d80fe7eb8d0>\n",
            "<Element '{http://schema.primaresearch.org/PAGE/gts/pagecontent/2013-07-15}Page' at 0x7d80fe7ebb00>\n",
            "<Element '{http://schema.primaresearch.org/PAGE/gts/pagecontent/2013-07-15}Metadata' at 0x7d80fe822660>\n",
            "<Element '{http://schema.primaresearch.org/PAGE/gts/pagecontent/2013-07-15}Page' at 0x7d80fe822890>\n",
            "<Element '{http://schema.primaresearch.org/PAGE/gts/pagecontent/2013-07-15}Metadata' at 0x7d80fe851760>\n",
            "<Element '{http://schema.primaresearch.org/PAGE/gts/pagecontent/2013-07-15}Page' at 0x7d80fe851990>\n",
            "<Element '{http://schema.primaresearch.org/PAGE/gts/pagecontent/2013-07-15}Metadata' at 0x7d80fe888e50>\n",
            "<Element '{http://schema.primaresearch.org/PAGE/gts/pagecontent/2013-07-15}Page' at 0x7d80fe889080>\n",
            "<Element '{http://schema.primaresearch.org/PAGE/gts/pagecontent/2013-07-15}Metadata' at 0x7d80fe6c4630>\n",
            "<Element '{http://schema.primaresearch.org/PAGE/gts/pagecontent/2013-07-15}Page' at 0x7d80fe6c4860>\n",
            "<Element '{http://schema.primaresearch.org/PAGE/gts/pagecontent/2013-07-15}Metadata' at 0x7d80fe6dbec0>\n",
            "<Element '{http://schema.primaresearch.org/PAGE/gts/pagecontent/2013-07-15}Page' at 0x7d80fe6f0130>\n",
            "<Element '{http://schema.primaresearch.org/PAGE/gts/pagecontent/2013-07-15}Metadata' at 0x7d80fe72ce00>\n",
            "<Element '{http://schema.primaresearch.org/PAGE/gts/pagecontent/2013-07-15}Page' at 0x7d80fe72d030>\n",
            "<Element '{http://schema.primaresearch.org/PAGE/gts/pagecontent/2013-07-15}Metadata' at 0x7d80ff2a7ec0>\n",
            "<Element '{http://schema.primaresearch.org/PAGE/gts/pagecontent/2013-07-15}Page' at 0x7d80fe72e660>\n",
            "<Element '{http://schema.primaresearch.org/PAGE/gts/pagecontent/2013-07-15}Metadata' at 0x7d80fe7604f0>\n",
            "<Element '{http://schema.primaresearch.org/PAGE/gts/pagecontent/2013-07-15}Page' at 0x7d80fe760720>\n",
            "<Element '{http://schema.primaresearch.org/PAGE/gts/pagecontent/2013-07-15}Metadata' at 0x7d80fe77f4c0>\n",
            "<Element '{http://schema.primaresearch.org/PAGE/gts/pagecontent/2013-07-15}Page' at 0x7d80fe77f6f0>\n",
            "<Element '{http://schema.primaresearch.org/PAGE/gts/pagecontent/2013-07-15}Metadata' at 0x7d80fe5b29d0>\n",
            "<Element '{http://schema.primaresearch.org/PAGE/gts/pagecontent/2013-07-15}Page' at 0x7d80fe5b2c00>\n",
            "<Element '{http://schema.primaresearch.org/PAGE/gts/pagecontent/2013-07-15}Metadata' at 0x7d80fe5e90d0>\n",
            "<Element '{http://schema.primaresearch.org/PAGE/gts/pagecontent/2013-07-15}Page' at 0x7d80fe5e9300>\n",
            "<Element '{http://schema.primaresearch.org/PAGE/gts/pagecontent/2013-07-15}Metadata' at 0x7d80fe5fba60>\n",
            "<Element '{http://schema.primaresearch.org/PAGE/gts/pagecontent/2013-07-15}Page' at 0x7d80fe5fbc90>\n",
            "<Element '{http://schema.primaresearch.org/PAGE/gts/pagecontent/2013-07-15}Metadata' at 0x7d80fe611f30>\n",
            "<Element '{http://schema.primaresearch.org/PAGE/gts/pagecontent/2013-07-15}Page' at 0x7d80fe612160>\n",
            "<Element '{http://schema.primaresearch.org/PAGE/gts/pagecontent/2013-07-15}Metadata' at 0x7d80fe6505e0>\n",
            "<Element '{http://schema.primaresearch.org/PAGE/gts/pagecontent/2013-07-15}Page' at 0x7d80fe650810>\n",
            "<Element '{http://schema.primaresearch.org/PAGE/gts/pagecontent/2013-07-15}Metadata' at 0x7d80fe678310>\n",
            "<Element '{http://schema.primaresearch.org/PAGE/gts/pagecontent/2013-07-15}Page' at 0x7d80fe678540>\n",
            "<Element '{http://schema.primaresearch.org/PAGE/gts/pagecontent/2013-07-15}Metadata' at 0x7d80fe496660>\n",
            "<Element '{http://schema.primaresearch.org/PAGE/gts/pagecontent/2013-07-15}Page' at 0x7d80fe496890>\n",
            "<Element '{http://schema.primaresearch.org/PAGE/gts/pagecontent/2013-07-15}Metadata' at 0x7d80fe4cf920>\n",
            "<Element '{http://schema.primaresearch.org/PAGE/gts/pagecontent/2013-07-15}Page' at 0x7d80fe4cfb50>\n",
            "<Element '{http://schema.primaresearch.org/PAGE/gts/pagecontent/2013-07-15}Metadata' at 0x7d80fe4fb470>\n",
            "<Element '{http://schema.primaresearch.org/PAGE/gts/pagecontent/2013-07-15}Page' at 0x7d80fe4fb6a0>\n",
            "<Element '{http://schema.primaresearch.org/PAGE/gts/pagecontent/2013-07-15}Metadata' at 0x7d80fe52e4d0>\n",
            "<Element '{http://schema.primaresearch.org/PAGE/gts/pagecontent/2013-07-15}Page' at 0x7d80fe52e700>\n",
            "<Element '{http://schema.primaresearch.org/PAGE/gts/pagecontent/2013-07-15}Metadata' at 0x7d80fe549990>\n",
            "<Element '{http://schema.primaresearch.org/PAGE/gts/pagecontent/2013-07-15}Page' at 0x7d80fe549bc0>\n",
            "<Element '{http://schema.primaresearch.org/PAGE/gts/pagecontent/2013-07-15}Metadata' at 0x7d80fe579ad0>\n",
            "<Element '{http://schema.primaresearch.org/PAGE/gts/pagecontent/2013-07-15}Page' at 0x7d80fe579d00>\n"
          ]
        }
      ],
      "source": [
        "for child in roots[0]:\n",
        "    print(child)"
      ]
    },
    {
      "cell_type": "markdown",
      "source": [
        "## Print text line demo"
      ],
      "metadata": {
        "id": "kGOohzRKdpaE"
      },
      "id": "kGOohzRKdpaE"
    },
    {
      "cell_type": "code",
      "execution_count": null,
      "id": "e66eaa25-810e-4e05-8387-bd1244d15cd9",
      "metadata": {
        "id": "e66eaa25-810e-4e05-8387-bd1244d15cd9",
        "outputId": "84602b30-20e5-4f5d-bc12-dc7a9c4c33f0",
        "colab": {
          "base_uri": "https://localhost:8080/",
          "height": 164
        }
      },
      "outputs": [
        {
          "output_type": "error",
          "ename": "IndexError",
          "evalue": "child index out of range",
          "traceback": [
            "\u001b[0;31m---------------------------------------------------------------------------\u001b[0m",
            "\u001b[0;31mIndexError\u001b[0m                                Traceback (most recent call last)",
            "\u001b[0;32m/tmp/ipython-input-3486957132.py\u001b[0m in \u001b[0;36m<cell line: 0>\u001b[0;34m()\u001b[0m\n\u001b[0;32m----> 1\u001b[0;31m \u001b[0;32mfor\u001b[0m \u001b[0mchild\u001b[0m \u001b[0;32min\u001b[0m \u001b[0mroots\u001b[0m\u001b[0;34m[\u001b[0m\u001b[0;36m2\u001b[0m\u001b[0;34m]\u001b[0m\u001b[0;34m[\u001b[0m\u001b[0;36m2\u001b[0m\u001b[0;34m]\u001b[0m\u001b[0;34m[\u001b[0m\u001b[0;36m5\u001b[0m\u001b[0;34m]\u001b[0m\u001b[0;34m[\u001b[0m\u001b[0;36m7\u001b[0m\u001b[0;34m]\u001b[0m\u001b[0;34m[\u001b[0m\u001b[0;36m2\u001b[0m\u001b[0;34m]\u001b[0m\u001b[0;34m:\u001b[0m\u001b[0;34m\u001b[0m\u001b[0;34m\u001b[0m\u001b[0m\n\u001b[0m\u001b[1;32m      2\u001b[0m     \u001b[0mprint\u001b[0m\u001b[0;34m(\u001b[0m\u001b[0mchild\u001b[0m\u001b[0;34m.\u001b[0m\u001b[0mtext\u001b[0m\u001b[0;34m)\u001b[0m\u001b[0;34m\u001b[0m\u001b[0;34m\u001b[0m\u001b[0m\n",
            "\u001b[0;31mIndexError\u001b[0m: child index out of range"
          ]
        }
      ],
      "source": [
        "for child in roots[2][2][5][7][2]:\n",
        "    print(child.text)"
      ]
    }
  ],
  "metadata": {
    "kernelspec": {
      "display_name": "Python [conda env:base-plus] *",
      "language": "python",
      "name": "conda-env-base-plus-py"
    },
    "language_info": {
      "codemirror_mode": {
        "name": "ipython",
        "version": 3
      },
      "file_extension": ".py",
      "mimetype": "text/x-python",
      "name": "python",
      "nbconvert_exporter": "python",
      "pygments_lexer": "ipython3",
      "version": "3.13.0"
    },
    "colab": {
      "provenance": [],
      "include_colab_link": true
    }
  },
  "nbformat": 4,
  "nbformat_minor": 5
}