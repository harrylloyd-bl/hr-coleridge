{
  "cells": [
    {
      "cell_type": "markdown",
      "metadata": {
        "id": "view-in-github",
        "colab_type": "text"
      },
      "source": [
        "<a href=\"https://colab.research.google.com/github/harrylloyd-bl/hr-coleridge/blob/hr/Extract_Entities.ipynb\" target=\"_parent\"><img src=\"https://colab.research.google.com/assets/colab-badge.svg\" alt=\"Open In Colab\"/></a>"
      ]
    },
    {
      "cell_type": "markdown",
      "id": "dd0b9fc9-eaf2-4523-93d9-f418c8e11867",
      "metadata": {
        "id": "dd0b9fc9-eaf2-4523-93d9-f418c8e11867"
      },
      "source": [
        "# Extract Entities"
      ]
    },
    {
      "cell_type": "markdown",
      "source": [
        "## Import Packages"
      ],
      "metadata": {
        "id": "dO_-dzYodKcl"
      },
      "id": "dO_-dzYodKcl"
    },
    {
      "cell_type": "markdown",
      "source": [
        "Import modules from the standard library to work with the file system xmls and regular expressions.\n",
        "\n",
        "\n",
        "*   glob - searches for filenames that match a specific pattern\n",
        "*   ElementTree - for working with xmls\n",
        "*   re - for regular expressions (patterns used to find specific parts of strings)\n",
        "*   os - os.remove for deleting files\n",
        "\n",
        "[Colab Markdown Cheat Sheet](https://colab.research.google.com/notebooks/markdown_guide.ipynb)\n"
      ],
      "metadata": {
        "id": "aG6Ll6zlelZ4"
      },
      "id": "aG6Ll6zlelZ4"
    },
    {
      "cell_type": "code",
      "execution_count": null,
      "id": "62cd1d6d-0aa7-4b86-a63b-6ad76c4b8be5",
      "metadata": {
        "id": "62cd1d6d-0aa7-4b86-a63b-6ad76c4b8be5"
      },
      "outputs": [],
      "source": [
        "import glob\n",
        "import xml.etree.ElementTree as ET\n",
        "import re\n",
        "import os"
      ]
    },
    {
      "cell_type": "markdown",
      "source": [
        "## Combine pages"
      ],
      "metadata": {
        "id": "KsYhqnltmvU_"
      },
      "id": "KsYhqnltmvU_"
    },
    {
      "cell_type": "markdown",
      "source": [
        "### Define path for data\n"
      ],
      "metadata": {
        "id": "oFlSkuq_SC5x"
      },
      "id": "oFlSkuq_SC5x"
    },
    {
      "cell_type": "code",
      "execution_count": null,
      "id": "a9971bcc-121f-4582-bc47-c9474ec4b227",
      "metadata": {
        "id": "a9971bcc-121f-4582-bc47-c9474ec4b227"
      },
      "outputs": [],
      "source": [
        "pages = glob.glob(\"sample_data/1865/00*.xml\")"
      ]
    },
    {
      "cell_type": "markdown",
      "source": [
        "### Import data from path"
      ],
      "metadata": {
        "id": "u-p46AR0YXv0"
      },
      "id": "u-p46AR0YXv0"
    },
    {
      "cell_type": "code",
      "execution_count": null,
      "id": "9cadb519-1d83-4f52-923c-983f7530ac3d",
      "metadata": {
        "id": "9cadb519-1d83-4f52-923c-983f7530ac3d",
        "outputId": "ef91f736-5ad2-4b15-e5e9-5fda537061b3",
        "colab": {
          "base_uri": "https://localhost:8080/"
        }
      },
      "outputs": [
        {
          "output_type": "execute_result",
          "data": {
            "text/plain": [
              "['sample_data/1865/0024_p032.xml',\n",
              " 'sample_data/1865/0013_p021.xml',\n",
              " 'sample_data/1865/0009_p017.xml',\n",
              " 'sample_data/1865/0017_p025.xml',\n",
              " 'sample_data/1865/0018_p026.xml',\n",
              " 'sample_data/1865/0023_p031.xml',\n",
              " 'sample_data/1865/0006_p014.xml',\n",
              " 'sample_data/1865/0004_p011.xml',\n",
              " 'sample_data/1865/0016_p024.xml',\n",
              " 'sample_data/1865/0014_p022.xml',\n",
              " 'sample_data/1865/0003_1865_page_1.xml',\n",
              " 'sample_data/1865/0011_p019.xml',\n",
              " 'sample_data/1865/0022_p030.xml',\n",
              " 'sample_data/1865/0025_p033.xml',\n",
              " 'sample_data/1865/0008_p016.xml',\n",
              " 'sample_data/1865/0026_p034.xml',\n",
              " 'sample_data/1865/0002_1865_letter.xml',\n",
              " 'sample_data/1865/0019_p027.xml',\n",
              " 'sample_data/1865/0001_1865_cover.xml',\n",
              " 'sample_data/1865/0010_p018.xml',\n",
              " 'sample_data/1865/0015_p023.xml',\n",
              " 'sample_data/1865/0020_p028.xml',\n",
              " 'sample_data/1865/0007_p015.xml',\n",
              " 'sample_data/1865/0005_p013.xml',\n",
              " 'sample_data/1865/0012_p020.xml',\n",
              " 'sample_data/1865/0021_p029.xml']"
            ]
          },
          "metadata": {},
          "execution_count": 4
        }
      ],
      "source": [
        "pages"
      ]
    },
    {
      "cell_type": "markdown",
      "source": [
        "### Order pages correctly"
      ],
      "metadata": {
        "id": "Uqq5mOZ3aWW_"
      },
      "id": "Uqq5mOZ3aWW_"
    },
    {
      "cell_type": "code",
      "source": [
        "ordered_pages = sorted(pages, key=lambda x: int(x.split(\"/\")[-1].split(\"_\")[0]))\n",
        "ordered_pages"
      ],
      "metadata": {
        "id": "ziWymWGun9wm",
        "outputId": "3015e9d5-dfbb-4732-e937-679113d8f420",
        "colab": {
          "base_uri": "https://localhost:8080/"
        }
      },
      "id": "ziWymWGun9wm",
      "execution_count": null,
      "outputs": [
        {
          "output_type": "execute_result",
          "data": {
            "text/plain": [
              "['sample_data/1865/0001_1865_cover.xml',\n",
              " 'sample_data/1865/0002_1865_letter.xml',\n",
              " 'sample_data/1865/0003_1865_page_1.xml',\n",
              " 'sample_data/1865/0004_p011.xml',\n",
              " 'sample_data/1865/0005_p013.xml',\n",
              " 'sample_data/1865/0006_p014.xml',\n",
              " 'sample_data/1865/0007_p015.xml',\n",
              " 'sample_data/1865/0008_p016.xml',\n",
              " 'sample_data/1865/0009_p017.xml',\n",
              " 'sample_data/1865/0010_p018.xml',\n",
              " 'sample_data/1865/0011_p019.xml',\n",
              " 'sample_data/1865/0012_p020.xml',\n",
              " 'sample_data/1865/0013_p021.xml',\n",
              " 'sample_data/1865/0014_p022.xml',\n",
              " 'sample_data/1865/0015_p023.xml',\n",
              " 'sample_data/1865/0016_p024.xml',\n",
              " 'sample_data/1865/0017_p025.xml',\n",
              " 'sample_data/1865/0018_p026.xml',\n",
              " 'sample_data/1865/0019_p027.xml',\n",
              " 'sample_data/1865/0020_p028.xml',\n",
              " 'sample_data/1865/0021_p029.xml',\n",
              " 'sample_data/1865/0022_p030.xml',\n",
              " 'sample_data/1865/0023_p031.xml',\n",
              " 'sample_data/1865/0024_p032.xml',\n",
              " 'sample_data/1865/0025_p033.xml',\n",
              " 'sample_data/1865/0026_p034.xml']"
            ]
          },
          "metadata": {},
          "execution_count": 5
        }
      ]
    },
    {
      "cell_type": "markdown",
      "source": [
        "### Define tree and root"
      ],
      "metadata": {
        "id": "528OEQpqbPCk"
      },
      "id": "528OEQpqbPCk"
    },
    {
      "cell_type": "code",
      "execution_count": null,
      "id": "dcbaedb7-1424-4f77-8b50-af6cbb7326fe",
      "metadata": {
        "id": "dcbaedb7-1424-4f77-8b50-af6cbb7326fe"
      },
      "outputs": [],
      "source": [
        "trees, roots = [], []\n",
        "for p in ordered_pages:\n",
        "    tree = ET.parse(p)\n",
        "    root = tree.getroot()\n",
        "\n",
        "    trees.append(tree)\n",
        "    roots.append(root)"
      ]
    },
    {
      "cell_type": "markdown",
      "source": [
        "### Specify combined trees and roots"
      ],
      "metadata": {
        "id": "_BhcofvtdEWe"
      },
      "id": "_BhcofvtdEWe"
    },
    {
      "cell_type": "code",
      "execution_count": null,
      "id": "292fe6a2-d459-4c9c-abe3-00ed4f828935",
      "metadata": {
        "id": "292fe6a2-d459-4c9c-abe3-00ed4f828935"
      },
      "outputs": [],
      "source": [
        "combined_root = roots[0]\n",
        "combined_tree = trees[0]"
      ]
    },
    {
      "cell_type": "markdown",
      "source": [
        "### Combine children into single list"
      ],
      "metadata": {
        "id": "djBp_cwneI1i"
      },
      "id": "djBp_cwneI1i"
    },
    {
      "cell_type": "code",
      "execution_count": null,
      "id": "f4a8783d-e7c6-4cd1-bfc7-0c478a21f1ca",
      "metadata": {
        "id": "f4a8783d-e7c6-4cd1-bfc7-0c478a21f1ca"
      },
      "outputs": [],
      "source": [
        "for root in roots[1:]:\n",
        "    for child in root:\n",
        "        combined_root.append(child)"
      ]
    },
    {
      "cell_type": "markdown",
      "source": [
        "### Print combined list of children"
      ],
      "metadata": {
        "id": "jjXvc7hAehsC"
      },
      "id": "jjXvc7hAehsC"
    },
    {
      "cell_type": "code",
      "execution_count": null,
      "id": "089d2c39-7c5f-42b0-ac4a-25074a93d269",
      "metadata": {
        "id": "089d2c39-7c5f-42b0-ac4a-25074a93d269",
        "outputId": "b37273a2-6ee6-48fe-e43a-30d730d2e8b1",
        "colab": {
          "base_uri": "https://localhost:8080/"
        }
      },
      "outputs": [
        {
          "output_type": "stream",
          "name": "stdout",
          "text": [
            "{http://schema.primaresearch.org/PAGE/gts/pagecontent/2013-07-15}Metadata\n",
            "{http://schema.primaresearch.org/PAGE/gts/pagecontent/2013-07-15}Page\n",
            "{http://schema.primaresearch.org/PAGE/gts/pagecontent/2013-07-15}Metadata\n",
            "{http://schema.primaresearch.org/PAGE/gts/pagecontent/2013-07-15}Page\n",
            "{http://schema.primaresearch.org/PAGE/gts/pagecontent/2013-07-15}Metadata\n",
            "{http://schema.primaresearch.org/PAGE/gts/pagecontent/2013-07-15}Page\n",
            "{http://schema.primaresearch.org/PAGE/gts/pagecontent/2013-07-15}Metadata\n",
            "{http://schema.primaresearch.org/PAGE/gts/pagecontent/2013-07-15}Page\n",
            "{http://schema.primaresearch.org/PAGE/gts/pagecontent/2013-07-15}Metadata\n",
            "{http://schema.primaresearch.org/PAGE/gts/pagecontent/2013-07-15}Page\n",
            "{http://schema.primaresearch.org/PAGE/gts/pagecontent/2013-07-15}Metadata\n",
            "{http://schema.primaresearch.org/PAGE/gts/pagecontent/2013-07-15}Page\n",
            "{http://schema.primaresearch.org/PAGE/gts/pagecontent/2013-07-15}Metadata\n",
            "{http://schema.primaresearch.org/PAGE/gts/pagecontent/2013-07-15}Page\n",
            "{http://schema.primaresearch.org/PAGE/gts/pagecontent/2013-07-15}Metadata\n",
            "{http://schema.primaresearch.org/PAGE/gts/pagecontent/2013-07-15}Page\n",
            "{http://schema.primaresearch.org/PAGE/gts/pagecontent/2013-07-15}Metadata\n",
            "{http://schema.primaresearch.org/PAGE/gts/pagecontent/2013-07-15}Page\n",
            "{http://schema.primaresearch.org/PAGE/gts/pagecontent/2013-07-15}Metadata\n",
            "{http://schema.primaresearch.org/PAGE/gts/pagecontent/2013-07-15}Page\n",
            "{http://schema.primaresearch.org/PAGE/gts/pagecontent/2013-07-15}Metadata\n",
            "{http://schema.primaresearch.org/PAGE/gts/pagecontent/2013-07-15}Page\n",
            "{http://schema.primaresearch.org/PAGE/gts/pagecontent/2013-07-15}Metadata\n",
            "{http://schema.primaresearch.org/PAGE/gts/pagecontent/2013-07-15}Page\n",
            "{http://schema.primaresearch.org/PAGE/gts/pagecontent/2013-07-15}Metadata\n",
            "{http://schema.primaresearch.org/PAGE/gts/pagecontent/2013-07-15}Page\n",
            "{http://schema.primaresearch.org/PAGE/gts/pagecontent/2013-07-15}Metadata\n",
            "{http://schema.primaresearch.org/PAGE/gts/pagecontent/2013-07-15}Page\n",
            "{http://schema.primaresearch.org/PAGE/gts/pagecontent/2013-07-15}Metadata\n",
            "{http://schema.primaresearch.org/PAGE/gts/pagecontent/2013-07-15}Page\n",
            "{http://schema.primaresearch.org/PAGE/gts/pagecontent/2013-07-15}Metadata\n",
            "{http://schema.primaresearch.org/PAGE/gts/pagecontent/2013-07-15}Page\n",
            "{http://schema.primaresearch.org/PAGE/gts/pagecontent/2013-07-15}Metadata\n",
            "{http://schema.primaresearch.org/PAGE/gts/pagecontent/2013-07-15}Page\n",
            "{http://schema.primaresearch.org/PAGE/gts/pagecontent/2013-07-15}Metadata\n",
            "{http://schema.primaresearch.org/PAGE/gts/pagecontent/2013-07-15}Page\n",
            "{http://schema.primaresearch.org/PAGE/gts/pagecontent/2013-07-15}Metadata\n",
            "{http://schema.primaresearch.org/PAGE/gts/pagecontent/2013-07-15}Page\n",
            "{http://schema.primaresearch.org/PAGE/gts/pagecontent/2013-07-15}Metadata\n",
            "{http://schema.primaresearch.org/PAGE/gts/pagecontent/2013-07-15}Page\n",
            "{http://schema.primaresearch.org/PAGE/gts/pagecontent/2013-07-15}Metadata\n",
            "{http://schema.primaresearch.org/PAGE/gts/pagecontent/2013-07-15}Page\n",
            "{http://schema.primaresearch.org/PAGE/gts/pagecontent/2013-07-15}Metadata\n",
            "{http://schema.primaresearch.org/PAGE/gts/pagecontent/2013-07-15}Page\n",
            "{http://schema.primaresearch.org/PAGE/gts/pagecontent/2013-07-15}Metadata\n",
            "{http://schema.primaresearch.org/PAGE/gts/pagecontent/2013-07-15}Page\n",
            "{http://schema.primaresearch.org/PAGE/gts/pagecontent/2013-07-15}Metadata\n",
            "{http://schema.primaresearch.org/PAGE/gts/pagecontent/2013-07-15}Page\n",
            "{http://schema.primaresearch.org/PAGE/gts/pagecontent/2013-07-15}Metadata\n",
            "{http://schema.primaresearch.org/PAGE/gts/pagecontent/2013-07-15}Page\n",
            "{http://schema.primaresearch.org/PAGE/gts/pagecontent/2013-07-15}Metadata\n",
            "{http://schema.primaresearch.org/PAGE/gts/pagecontent/2013-07-15}Page\n"
          ]
        }
      ],
      "source": [
        "for child in combined_root:\n",
        "    print(child.tag)"
      ]
    },
    {
      "cell_type": "markdown",
      "source": [
        "### Save combined tree in a new file"
      ],
      "metadata": {
        "id": "-SPPIZIkesl6"
      },
      "id": "-SPPIZIkesl6"
    },
    {
      "cell_type": "code",
      "execution_count": null,
      "id": "4052de8f-df59-4bd5-b841-94c9ed94b482",
      "metadata": {
        "id": "4052de8f-df59-4bd5-b841-94c9ed94b482"
      },
      "outputs": [],
      "source": [
        "ET.indent(combined_tree, space=\"    \")\n",
        "combined_tree.write(\"combined_pages.xml\", encoding=\"UTF-8\")"
      ]
    },
    {
      "cell_type": "markdown",
      "source": [
        "## Extract Attributes"
      ],
      "metadata": {
        "id": "M5vbRfZ5STBr"
      },
      "id": "M5vbRfZ5STBr"
    },
    {
      "cell_type": "markdown",
      "source": [
        "### Parse report date"
      ],
      "metadata": {
        "id": "6yHDK98cSkeF"
      },
      "id": "6yHDK98cSkeF"
    },
    {
      "cell_type": "code",
      "source": [],
      "metadata": {
        "id": "Ejzx3PJySt4k"
      },
      "id": "Ejzx3PJySt4k",
      "execution_count": null,
      "outputs": []
    },
    {
      "cell_type": "markdown",
      "id": "f340af6e-00c6-4864-aedb-b3f9b7e2ee93",
      "metadata": {
        "id": "f340af6e-00c6-4864-aedb-b3f9b7e2ee93"
      },
      "source": [
        "### Parse header sections"
      ]
    },
    {
      "cell_type": "code",
      "execution_count": null,
      "id": "b291a34b-0db3-436a-b607-4257c18686bf",
      "metadata": {
        "id": "b291a34b-0db3-436a-b607-4257c18686bf",
        "outputId": "c7ee48c7-be71-4f37-a15c-e0d1a60fd05c",
        "colab": {
          "base_uri": "https://localhost:8080/"
        }
      },
      "outputs": [
        {
          "output_type": "stream",
          "name": "stdout",
          "text": [
            "{'id': 'r_2', 'custom': 'readingOrder {index:1;} structure {type:heading;}'}\n",
            "EXECUTIVE SURVEYS.\n",
            "{'id': 'r_22', 'custom': 'readingOrder {index:1;} structure {type:heading;}'}\n",
            "No. 2 TOPOGRAPHICAL PARTY\n",
            "{'id': 'r_25', 'custom': 'readingOrder {index:3;} structure {type:heading;}'}\n",
            "No. 3 TOPOGRAPHICAL PARTY.\n",
            "{'id': 'r_14', 'custom': 'readingOrder {index:1;} structure {type:heading;}'}\n",
            "No. 4 TOPOGRAPHICAL PARTY.\n",
            "{'id': 'r_37', 'custom': 'readingOrder {index:5;} structure {type:heading;}'}\n",
            "No. 5 TOPOGRAPHICAL PARTY.\n",
            "{'id': 'r_111', 'custom': 'readingOrder {index:6;} structure {type:heading;}'}\n",
            "No. 6 TOPOGRAPHICAL SURVEY.\n",
            "{'id': 'r_5', 'custom': 'readingOrder {index:1;} structure {type:heading;}'}\n",
            "No. 7 TOPOGRAPHICAL PARTY.\n",
            "{'id': 'r_58', 'custom': 'readingOrder {index:6;} structure {type:heading;}'}\n",
            "No. 8 TOPOGRAPHICAL PARTY.\n"
          ]
        }
      ],
      "source": [
        "credits = []\n",
        "for i, child in enumerate(combined_root.iter(\"{http://schema.primaresearch.org/PAGE/gts/pagecontent/2013-07-15}TextRegion\")):\n",
        "  if \"structure {type:heading;}\" in child.attrib.get(\"custom\", []):\n",
        "    print(child.attrib)\n",
        "    try:\n",
        "      print(child[1][2][0].text)\n",
        "    except IndexError:\n",
        "      print(\"Error in Heading {i}\")\n",
        "    # if child.tag.split(\"}\")[1] == \"Page\":\n",
        "    #     for region in child:\n",
        "    #         if \"structure {type:credit;}\" in region.attrib.get(\"custom\", []):\n",
        "    #             credits.append(region)"
      ]
    },
    {
      "cell_type": "markdown",
      "source": [
        "### Parse name"
      ],
      "metadata": {
        "id": "xC5oCJjlSJ9H"
      },
      "id": "xC5oCJjlSJ9H"
    },
    {
      "cell_type": "code",
      "execution_count": null,
      "id": "b97df8a9-b5be-4a6e-a5ee-84b0fd811a28",
      "metadata": {
        "id": "b97df8a9-b5be-4a6e-a5ee-84b0fd811a28"
      },
      "outputs": [],
      "source": [
        "def parse_xml_attrib(s):\n",
        "    return re.findall(r\"(?<attr_name>\\w*)\\s\\(?<attr_value>{[\\w:\\s\\d]*;\\})\", s)"
      ]
    },
    {
      "cell_type": "code",
      "execution_count": null,
      "id": "083b814d-5b2f-428d-a9e6-ca213e507955",
      "metadata": {
        "id": "083b814d-5b2f-428d-a9e6-ca213e507955"
      },
      "outputs": [],
      "source": [
        "s = credits[0][3].attrib[\"custom\"]\n",
        "s"
      ]
    },
    {
      "cell_type": "code",
      "execution_count": null,
      "id": "62a55765-eadb-4907-bb2e-1aeb1e24f4f9",
      "metadata": {
        "id": "62a55765-eadb-4907-bb2e-1aeb1e24f4f9"
      },
      "outputs": [],
      "source": [
        "re.findall(r\"(?P<attr_name>\\w*)\\s(?P<attr_value>\\{[\\w:;\\s\\d]*;\\})\", s)"
      ]
    },
    {
      "cell_type": "markdown",
      "source": [
        "# Redundant Cells"
      ],
      "metadata": {
        "id": "0e4PhARJUK5J"
      },
      "id": "0e4PhARJUK5J"
    },
    {
      "cell_type": "markdown",
      "source": [
        "## Define pages to delete with path"
      ],
      "metadata": {
        "id": "gsP1Qdy5NbO6"
      },
      "id": "gsP1Qdy5NbO6"
    },
    {
      "cell_type": "code",
      "execution_count": null,
      "metadata": {
        "id": "Ka87o-aIi3YW"
      },
      "outputs": [],
      "source": [
        "pages_to_delete = glob.glob(\"sample_data/00*.xml\")"
      ],
      "id": "Ka87o-aIi3YW"
    },
    {
      "cell_type": "code",
      "source": [
        "for page in pages_to_delete:\n",
        "  os.remove(page)"
      ],
      "metadata": {
        "id": "Z75BDAwJjEV9"
      },
      "id": "Z75BDAwJjEV9",
      "execution_count": null,
      "outputs": []
    },
    {
      "cell_type": "markdown",
      "source": [
        "## Split filename string demo"
      ],
      "metadata": {
        "id": "A39u437dYkmn"
      },
      "id": "A39u437dYkmn"
    },
    {
      "cell_type": "code",
      "source": [
        "int(pages[7].split(\"/\")[-1].split(\"_\")[0])"
      ],
      "metadata": {
        "id": "C1ZnfsfwkTon",
        "outputId": "0da62d70-fc87-4347-fd8c-f94cdc5f2651",
        "colab": {
          "base_uri": "https://localhost:8080/"
        }
      },
      "id": "C1ZnfsfwkTon",
      "execution_count": null,
      "outputs": [
        {
          "output_type": "execute_result",
          "data": {
            "text/plain": [
              "19"
            ]
          },
          "metadata": {},
          "execution_count": 27
        }
      ]
    },
    {
      "cell_type": "markdown",
      "source": [
        "## Print integer demo"
      ],
      "metadata": {
        "id": "4ueph3QSbD77"
      },
      "id": "4ueph3QSbD77"
    },
    {
      "cell_type": "code",
      "source": [
        "for i in [0,1,2,3,4]:\n",
        "  print(i)"
      ],
      "metadata": {
        "id": "kGDzunSvtU8Z",
        "outputId": "402b797a-437e-46fd-d287-6f8f8f321732",
        "colab": {
          "base_uri": "https://localhost:8080/"
        }
      },
      "id": "kGDzunSvtU8Z",
      "execution_count": null,
      "outputs": [
        {
          "output_type": "stream",
          "name": "stdout",
          "text": [
            "0\n",
            "1\n",
            "2\n",
            "3\n",
            "4\n"
          ]
        }
      ]
    },
    {
      "cell_type": "markdown",
      "source": [
        "## Print children demo"
      ],
      "metadata": {
        "id": "aR2LPHuwddKL"
      },
      "id": "aR2LPHuwddKL"
    },
    {
      "cell_type": "code",
      "source": [],
      "metadata": {
        "id": "jQUagjoNU7Qv"
      },
      "id": "jQUagjoNU7Qv",
      "execution_count": null,
      "outputs": []
    },
    {
      "cell_type": "code",
      "execution_count": null,
      "id": "6ecb67b2-f82d-42b8-a75d-8f9aaec82185",
      "metadata": {
        "id": "6ecb67b2-f82d-42b8-a75d-8f9aaec82185",
        "outputId": "1d485f88-0187-4454-976a-d8fa39ebe911",
        "colab": {
          "base_uri": "https://localhost:8080/"
        }
      },
      "outputs": [
        {
          "output_type": "stream",
          "name": "stdout",
          "text": [
            "<Element '{http://schema.primaresearch.org/PAGE/gts/pagecontent/2013-07-15}Metadata' at 0x79fb9c52ae80>\n",
            "<Element '{http://schema.primaresearch.org/PAGE/gts/pagecontent/2013-07-15}Page' at 0x79fb9c5d98a0>\n"
          ]
        }
      ],
      "source": [
        "for child in roots[0]:\n",
        "    print(child)"
      ]
    },
    {
      "cell_type": "markdown",
      "source": [
        "## Print text line demo"
      ],
      "metadata": {
        "id": "kGOohzRKdpaE"
      },
      "id": "kGOohzRKdpaE"
    },
    {
      "cell_type": "code",
      "execution_count": null,
      "id": "e66eaa25-810e-4e05-8387-bd1244d15cd9",
      "metadata": {
        "id": "e66eaa25-810e-4e05-8387-bd1244d15cd9",
        "outputId": "54621d27-40d3-4352-d0cc-6feb1da58288",
        "colab": {
          "base_uri": "https://localhost:8080/",
          "height": 159
        }
      },
      "outputs": [
        {
          "output_type": "error",
          "ename": "IndexError",
          "evalue": "child index out of range",
          "traceback": [
            "\u001b[0;31m---------------------------------------------------------------------------\u001b[0m",
            "\u001b[0;31mIndexError\u001b[0m                                Traceback (most recent call last)",
            "\u001b[0;32m/tmp/ipython-input-3486957132.py\u001b[0m in \u001b[0;36m<cell line: 0>\u001b[0;34m()\u001b[0m\n\u001b[0;32m----> 1\u001b[0;31m \u001b[0;32mfor\u001b[0m \u001b[0mchild\u001b[0m \u001b[0;32min\u001b[0m \u001b[0mroots\u001b[0m\u001b[0;34m[\u001b[0m\u001b[0;36m2\u001b[0m\u001b[0;34m]\u001b[0m\u001b[0;34m[\u001b[0m\u001b[0;36m2\u001b[0m\u001b[0;34m]\u001b[0m\u001b[0;34m[\u001b[0m\u001b[0;36m5\u001b[0m\u001b[0;34m]\u001b[0m\u001b[0;34m[\u001b[0m\u001b[0;36m7\u001b[0m\u001b[0;34m]\u001b[0m\u001b[0;34m[\u001b[0m\u001b[0;36m2\u001b[0m\u001b[0;34m]\u001b[0m\u001b[0;34m:\u001b[0m\u001b[0;34m\u001b[0m\u001b[0;34m\u001b[0m\u001b[0m\n\u001b[0m\u001b[1;32m      2\u001b[0m     \u001b[0mprint\u001b[0m\u001b[0;34m(\u001b[0m\u001b[0mchild\u001b[0m\u001b[0;34m.\u001b[0m\u001b[0mtext\u001b[0m\u001b[0;34m)\u001b[0m\u001b[0;34m\u001b[0m\u001b[0;34m\u001b[0m\u001b[0m\n",
            "\u001b[0;31mIndexError\u001b[0m: child index out of range"
          ]
        }
      ],
      "source": [
        "for child in roots[2][2][5][7][2]:\n",
        "    print(child.text)"
      ]
    }
  ],
  "metadata": {
    "kernelspec": {
      "display_name": "Python [conda env:base-plus] *",
      "language": "python",
      "name": "conda-env-base-plus-py"
    },
    "language_info": {
      "codemirror_mode": {
        "name": "ipython",
        "version": 3
      },
      "file_extension": ".py",
      "mimetype": "text/x-python",
      "name": "python",
      "nbconvert_exporter": "python",
      "pygments_lexer": "ipython3",
      "version": "3.13.0"
    },
    "colab": {
      "provenance": [],
      "include_colab_link": true
    }
  },
  "nbformat": 4,
  "nbformat_minor": 5
}