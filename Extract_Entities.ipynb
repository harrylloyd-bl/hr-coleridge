{
  "cells": [
    {
      "cell_type": "markdown",
      "metadata": {
        "id": "view-in-github",
        "colab_type": "text"
      },
      "source": [
        "<a href=\"https://colab.research.google.com/github/harrylloyd-bl/hr-coleridge/blob/hr/Extract_Entities.ipynb\" target=\"_parent\"><img src=\"https://colab.research.google.com/assets/colab-badge.svg\" alt=\"Open In Colab\"/></a>"
      ]
    },
    {
      "cell_type": "markdown",
      "id": "dd0b9fc9-eaf2-4523-93d9-f418c8e11867",
      "metadata": {
        "id": "dd0b9fc9-eaf2-4523-93d9-f418c8e11867"
      },
      "source": [
        "# Extract Entities"
      ]
    },
    {
      "cell_type": "markdown",
      "source": [
        "## Import Packages"
      ],
      "metadata": {
        "id": "dO_-dzYodKcl"
      },
      "id": "dO_-dzYodKcl"
    },
    {
      "cell_type": "markdown",
      "source": [
        "Import modules from the standard library to work with the file system xmls and regular expressions.\n",
        "\n",
        "\n",
        "*   glob - searches for filenames that match a specific pattern\n",
        "*   ElementTree - for working with xmls\n",
        "*   re - for regular expressions (patterns used to find specific parts of strings)\n",
        "*   os - os.remove for deleting files\n",
        "\n",
        "[Colab Markdown Cheat Sheet](https://colab.research.google.com/notebooks/markdown_guide.ipynb)\n"
      ],
      "metadata": {
        "id": "aG6Ll6zlelZ4"
      },
      "id": "aG6Ll6zlelZ4"
    },
    {
      "cell_type": "code",
      "execution_count": null,
      "id": "62cd1d6d-0aa7-4b86-a63b-6ad76c4b8be5",
      "metadata": {
        "id": "62cd1d6d-0aa7-4b86-a63b-6ad76c4b8be5"
      },
      "outputs": [],
      "source": [
        "import glob\n",
        "import xml.etree.ElementTree as ET\n",
        "import re\n",
        "import os\n",
        "import pandas as pd"
      ]
    },
    {
      "cell_type": "markdown",
      "source": [
        "## Combine pages"
      ],
      "metadata": {
        "id": "KsYhqnltmvU_"
      },
      "id": "KsYhqnltmvU_"
    },
    {
      "cell_type": "markdown",
      "source": [
        "### Define path for data\n"
      ],
      "metadata": {
        "id": "oFlSkuq_SC5x"
      },
      "id": "oFlSkuq_SC5x"
    },
    {
      "cell_type": "code",
      "source": [
        "report_date = 1867"
      ],
      "metadata": {
        "id": "NhHBxMDxxohO"
      },
      "id": "NhHBxMDxxohO",
      "execution_count": null,
      "outputs": []
    },
    {
      "cell_type": "code",
      "execution_count": null,
      "id": "a9971bcc-121f-4582-bc47-c9474ec4b227",
      "metadata": {
        "id": "a9971bcc-121f-4582-bc47-c9474ec4b227"
      },
      "outputs": [],
      "source": [
        "pages = glob.glob(f\"sample_data/{report_date}/00*.xml\")"
      ]
    },
    {
      "cell_type": "markdown",
      "source": [
        "### Import data from path"
      ],
      "metadata": {
        "id": "u-p46AR0YXv0"
      },
      "id": "u-p46AR0YXv0"
    },
    {
      "cell_type": "code",
      "execution_count": null,
      "id": "9cadb519-1d83-4f52-923c-983f7530ac3d",
      "metadata": {
        "id": "9cadb519-1d83-4f52-923c-983f7530ac3d",
        "outputId": "da46bd56-dcb8-44c9-e6b3-b23618bb66f0",
        "colab": {
          "base_uri": "https://localhost:8080/"
        }
      },
      "outputs": [
        {
          "output_type": "execute_result",
          "data": {
            "text/plain": [
              "['sample_data/1867/0012_p012.xml',\n",
              " 'sample_data/1867/0017_p017.xml',\n",
              " 'sample_data/1867/0030_p031.xml',\n",
              " 'sample_data/1867/0067_p068.xml',\n",
              " 'sample_data/1867/0070_p071.xml',\n",
              " 'sample_data/1867/0025_p026.xml',\n",
              " 'sample_data/1867/0033_p034.xml',\n",
              " 'sample_data/1867/0068_p069.xml',\n",
              " 'sample_data/1867/0037_p038.xml',\n",
              " 'sample_data/1867/0016_p016.xml',\n",
              " 'sample_data/1867/0061_p062.xml',\n",
              " 'sample_data/1867/0032_p033.xml',\n",
              " 'sample_data/1867/0009_p009.xml',\n",
              " 'sample_data/1867/0044_p045.xml',\n",
              " 'sample_data/1867/0034_p035.xml',\n",
              " 'sample_data/1867/0011_p011.xml',\n",
              " 'sample_data/1867/0029_p030.xml',\n",
              " 'sample_data/1867/0082_1867 p.8 Table.xml',\n",
              " 'sample_data/1867/0024_p025.xml',\n",
              " 'sample_data/1867/0039_p040.xml',\n",
              " 'sample_data/1867/0078_p079.xml',\n",
              " 'sample_data/1867/0003_p003.xml',\n",
              " 'sample_data/1867/0077_p078.xml',\n",
              " 'sample_data/1867/0051_p052.xml',\n",
              " 'sample_data/1867/0083_1867 p.9 Table.xml',\n",
              " 'sample_data/1867/0050_p051.xml',\n",
              " 'sample_data/1867/0079_p080.xml',\n",
              " 'sample_data/1867/0007_p007.xml',\n",
              " 'sample_data/1867/0046_p047.xml',\n",
              " 'sample_data/1867/0004_p004.xml',\n",
              " 'sample_data/1867/0019_p019.xml',\n",
              " 'sample_data/1867/0036_p037.xml',\n",
              " 'sample_data/1867/0042_p043.xml',\n",
              " 'sample_data/1867/0066_p067.xml',\n",
              " 'sample_data/1867/0048_p049.xml',\n",
              " 'sample_data/1867/0031_p032.xml',\n",
              " 'sample_data/1867/0035_p036.xml',\n",
              " 'sample_data/1867/0053_p054.xml',\n",
              " 'sample_data/1867/0038_p039.xml',\n",
              " 'sample_data/1867/0085_1867 p.12 Table.xml',\n",
              " 'sample_data/1867/0021_p021.xml',\n",
              " 'sample_data/1867/0058_p059.xml',\n",
              " 'sample_data/1867/0005_p005.xml',\n",
              " 'sample_data/1867/0059_p060.xml',\n",
              " 'sample_data/1867/0006_p006.xml',\n",
              " 'sample_data/1867/0063_p064.xml',\n",
              " 'sample_data/1867/0013_p013.xml',\n",
              " 'sample_data/1867/0008_p008.xml',\n",
              " 'sample_data/1867/0052_p053.xml',\n",
              " 'sample_data/1867/0080_1867 p.7 Table.xml',\n",
              " 'sample_data/1867/0081_1867 p.5 Table.xml',\n",
              " 'sample_data/1867/0001_p001.xml',\n",
              " 'sample_data/1867/0015_p015.xml',\n",
              " 'sample_data/1867/0022_p022.xml',\n",
              " 'sample_data/1867/0020_p020.xml',\n",
              " 'sample_data/1867/0055_p056.xml',\n",
              " 'sample_data/1867/0018_p018.xml',\n",
              " 'sample_data/1867/0028_p029.xml',\n",
              " 'sample_data/1867/0014_p014.xml',\n",
              " 'sample_data/1867/0002_p002.xml',\n",
              " 'sample_data/1867/0062_p063.xml',\n",
              " 'sample_data/1867/0060_p061.xml',\n",
              " 'sample_data/1867/0010_p010.xml',\n",
              " 'sample_data/1867/0026_p027.xml',\n",
              " 'sample_data/1867/0074_p075.xml',\n",
              " 'sample_data/1867/0040_p041.xml',\n",
              " 'sample_data/1867/0073_p074.xml',\n",
              " 'sample_data/1867/0064_p065.xml',\n",
              " 'sample_data/1867/0072_p073.xml',\n",
              " 'sample_data/1867/0047_p048.xml',\n",
              " 'sample_data/1867/0045_p046.xml',\n",
              " 'sample_data/1867/0086_1867 p.11 Table.xml',\n",
              " 'sample_data/1867/0041_p042.xml',\n",
              " 'sample_data/1867/0075_p076.xml',\n",
              " 'sample_data/1867/0071_p072.xml',\n",
              " 'sample_data/1867/0084_1867 p.10 Table.xml',\n",
              " 'sample_data/1867/0065_p066.xml',\n",
              " 'sample_data/1867/0049_p050.xml',\n",
              " 'sample_data/1867/0027_p028.xml',\n",
              " 'sample_data/1867/0069_p070.xml',\n",
              " 'sample_data/1867/0023_p023.xml',\n",
              " 'sample_data/1867/0057_p058.xml',\n",
              " 'sample_data/1867/0056_p057.xml',\n",
              " 'sample_data/1867/0076_p077.xml',\n",
              " 'sample_data/1867/0054_p055.xml',\n",
              " 'sample_data/1867/0043_p044.xml']"
            ]
          },
          "metadata": {},
          "execution_count": 13
        }
      ],
      "source": [
        "pages"
      ]
    },
    {
      "cell_type": "markdown",
      "source": [
        "### Order pages correctly"
      ],
      "metadata": {
        "id": "Uqq5mOZ3aWW_"
      },
      "id": "Uqq5mOZ3aWW_"
    },
    {
      "cell_type": "code",
      "source": [
        "ordered_pages = sorted(pages, key=lambda x: int(x.split(\"/\")[-1].split(\"_\")[0]))\n",
        "ordered_pages"
      ],
      "metadata": {
        "id": "ziWymWGun9wm",
        "outputId": "e8a3224f-4e9d-4a0a-b5d0-426e27b79591",
        "colab": {
          "base_uri": "https://localhost:8080/"
        }
      },
      "id": "ziWymWGun9wm",
      "execution_count": null,
      "outputs": [
        {
          "output_type": "execute_result",
          "data": {
            "text/plain": [
              "['sample_data/1867/0001_p001.xml',\n",
              " 'sample_data/1867/0002_p002.xml',\n",
              " 'sample_data/1867/0003_p003.xml',\n",
              " 'sample_data/1867/0004_p004.xml',\n",
              " 'sample_data/1867/0005_p005.xml',\n",
              " 'sample_data/1867/0006_p006.xml',\n",
              " 'sample_data/1867/0007_p007.xml',\n",
              " 'sample_data/1867/0008_p008.xml',\n",
              " 'sample_data/1867/0009_p009.xml',\n",
              " 'sample_data/1867/0010_p010.xml',\n",
              " 'sample_data/1867/0011_p011.xml',\n",
              " 'sample_data/1867/0012_p012.xml',\n",
              " 'sample_data/1867/0013_p013.xml',\n",
              " 'sample_data/1867/0014_p014.xml',\n",
              " 'sample_data/1867/0015_p015.xml',\n",
              " 'sample_data/1867/0016_p016.xml',\n",
              " 'sample_data/1867/0017_p017.xml',\n",
              " 'sample_data/1867/0018_p018.xml',\n",
              " 'sample_data/1867/0019_p019.xml',\n",
              " 'sample_data/1867/0020_p020.xml',\n",
              " 'sample_data/1867/0021_p021.xml',\n",
              " 'sample_data/1867/0022_p022.xml',\n",
              " 'sample_data/1867/0023_p023.xml',\n",
              " 'sample_data/1867/0024_p025.xml',\n",
              " 'sample_data/1867/0025_p026.xml',\n",
              " 'sample_data/1867/0026_p027.xml',\n",
              " 'sample_data/1867/0027_p028.xml',\n",
              " 'sample_data/1867/0028_p029.xml',\n",
              " 'sample_data/1867/0029_p030.xml',\n",
              " 'sample_data/1867/0030_p031.xml',\n",
              " 'sample_data/1867/0031_p032.xml',\n",
              " 'sample_data/1867/0032_p033.xml',\n",
              " 'sample_data/1867/0033_p034.xml',\n",
              " 'sample_data/1867/0034_p035.xml',\n",
              " 'sample_data/1867/0035_p036.xml',\n",
              " 'sample_data/1867/0036_p037.xml',\n",
              " 'sample_data/1867/0037_p038.xml',\n",
              " 'sample_data/1867/0038_p039.xml',\n",
              " 'sample_data/1867/0039_p040.xml',\n",
              " 'sample_data/1867/0040_p041.xml',\n",
              " 'sample_data/1867/0041_p042.xml',\n",
              " 'sample_data/1867/0042_p043.xml',\n",
              " 'sample_data/1867/0043_p044.xml',\n",
              " 'sample_data/1867/0044_p045.xml',\n",
              " 'sample_data/1867/0045_p046.xml',\n",
              " 'sample_data/1867/0046_p047.xml',\n",
              " 'sample_data/1867/0047_p048.xml',\n",
              " 'sample_data/1867/0048_p049.xml',\n",
              " 'sample_data/1867/0049_p050.xml',\n",
              " 'sample_data/1867/0050_p051.xml',\n",
              " 'sample_data/1867/0051_p052.xml',\n",
              " 'sample_data/1867/0052_p053.xml',\n",
              " 'sample_data/1867/0053_p054.xml',\n",
              " 'sample_data/1867/0054_p055.xml',\n",
              " 'sample_data/1867/0055_p056.xml',\n",
              " 'sample_data/1867/0056_p057.xml',\n",
              " 'sample_data/1867/0057_p058.xml',\n",
              " 'sample_data/1867/0058_p059.xml',\n",
              " 'sample_data/1867/0059_p060.xml',\n",
              " 'sample_data/1867/0060_p061.xml',\n",
              " 'sample_data/1867/0061_p062.xml',\n",
              " 'sample_data/1867/0062_p063.xml',\n",
              " 'sample_data/1867/0063_p064.xml',\n",
              " 'sample_data/1867/0064_p065.xml',\n",
              " 'sample_data/1867/0065_p066.xml',\n",
              " 'sample_data/1867/0066_p067.xml',\n",
              " 'sample_data/1867/0067_p068.xml',\n",
              " 'sample_data/1867/0068_p069.xml',\n",
              " 'sample_data/1867/0069_p070.xml',\n",
              " 'sample_data/1867/0070_p071.xml',\n",
              " 'sample_data/1867/0071_p072.xml',\n",
              " 'sample_data/1867/0072_p073.xml',\n",
              " 'sample_data/1867/0073_p074.xml',\n",
              " 'sample_data/1867/0074_p075.xml',\n",
              " 'sample_data/1867/0075_p076.xml',\n",
              " 'sample_data/1867/0076_p077.xml',\n",
              " 'sample_data/1867/0077_p078.xml',\n",
              " 'sample_data/1867/0078_p079.xml',\n",
              " 'sample_data/1867/0079_p080.xml',\n",
              " 'sample_data/1867/0080_1867 p.7 Table.xml',\n",
              " 'sample_data/1867/0081_1867 p.5 Table.xml',\n",
              " 'sample_data/1867/0082_1867 p.8 Table.xml',\n",
              " 'sample_data/1867/0083_1867 p.9 Table.xml',\n",
              " 'sample_data/1867/0084_1867 p.10 Table.xml',\n",
              " 'sample_data/1867/0085_1867 p.12 Table.xml',\n",
              " 'sample_data/1867/0086_1867 p.11 Table.xml']"
            ]
          },
          "metadata": {},
          "execution_count": 4
        }
      ]
    },
    {
      "cell_type": "markdown",
      "source": [
        "### Define tree and root"
      ],
      "metadata": {
        "id": "528OEQpqbPCk"
      },
      "id": "528OEQpqbPCk"
    },
    {
      "cell_type": "code",
      "execution_count": null,
      "id": "dcbaedb7-1424-4f77-8b50-af6cbb7326fe",
      "metadata": {
        "id": "dcbaedb7-1424-4f77-8b50-af6cbb7326fe"
      },
      "outputs": [],
      "source": [
        "trees, roots = [], []\n",
        "for p in ordered_pages:\n",
        "    if 'Table' not in p:\n",
        "      tree = ET.parse(p)\n",
        "      root = tree.getroot()\n",
        "\n",
        "      trees.append(tree)\n",
        "      roots.append(root)"
      ]
    },
    {
      "cell_type": "markdown",
      "source": [
        "### Specify combined trees and roots"
      ],
      "metadata": {
        "id": "_BhcofvtdEWe"
      },
      "id": "_BhcofvtdEWe"
    },
    {
      "cell_type": "code",
      "execution_count": null,
      "id": "292fe6a2-d459-4c9c-abe3-00ed4f828935",
      "metadata": {
        "id": "292fe6a2-d459-4c9c-abe3-00ed4f828935"
      },
      "outputs": [],
      "source": [
        "combined_root = roots[0]\n",
        "combined_tree = trees[0]"
      ]
    },
    {
      "cell_type": "markdown",
      "source": [
        "### Combine children into single list"
      ],
      "metadata": {
        "id": "djBp_cwneI1i"
      },
      "id": "djBp_cwneI1i"
    },
    {
      "cell_type": "code",
      "execution_count": null,
      "id": "f4a8783d-e7c6-4cd1-bfc7-0c478a21f1ca",
      "metadata": {
        "id": "f4a8783d-e7c6-4cd1-bfc7-0c478a21f1ca"
      },
      "outputs": [],
      "source": [
        "for root in roots[1:]:\n",
        "    for child in root:\n",
        "        combined_root.append(child)"
      ]
    },
    {
      "cell_type": "markdown",
      "source": [
        "### Print combined list of children"
      ],
      "metadata": {
        "id": "jjXvc7hAehsC"
      },
      "id": "jjXvc7hAehsC"
    },
    {
      "cell_type": "code",
      "execution_count": null,
      "id": "089d2c39-7c5f-42b0-ac4a-25074a93d269",
      "metadata": {
        "id": "089d2c39-7c5f-42b0-ac4a-25074a93d269",
        "outputId": "65f6921d-209d-4861-8376-1fc17a885922",
        "colab": {
          "base_uri": "https://localhost:8080/"
        }
      },
      "outputs": [
        {
          "output_type": "stream",
          "name": "stdout",
          "text": [
            "{http://schema.primaresearch.org/PAGE/gts/pagecontent/2013-07-15}Metadata\n",
            "{http://schema.primaresearch.org/PAGE/gts/pagecontent/2013-07-15}Page\n",
            "{http://schema.primaresearch.org/PAGE/gts/pagecontent/2013-07-15}Metadata\n",
            "{http://schema.primaresearch.org/PAGE/gts/pagecontent/2013-07-15}Page\n",
            "{http://schema.primaresearch.org/PAGE/gts/pagecontent/2013-07-15}Metadata\n",
            "{http://schema.primaresearch.org/PAGE/gts/pagecontent/2013-07-15}Page\n",
            "{http://schema.primaresearch.org/PAGE/gts/pagecontent/2013-07-15}Metadata\n",
            "{http://schema.primaresearch.org/PAGE/gts/pagecontent/2013-07-15}Page\n",
            "{http://schema.primaresearch.org/PAGE/gts/pagecontent/2013-07-15}Metadata\n",
            "{http://schema.primaresearch.org/PAGE/gts/pagecontent/2013-07-15}Page\n",
            "{http://schema.primaresearch.org/PAGE/gts/pagecontent/2013-07-15}Metadata\n",
            "{http://schema.primaresearch.org/PAGE/gts/pagecontent/2013-07-15}Page\n",
            "{http://schema.primaresearch.org/PAGE/gts/pagecontent/2013-07-15}Metadata\n",
            "{http://schema.primaresearch.org/PAGE/gts/pagecontent/2013-07-15}Page\n",
            "{http://schema.primaresearch.org/PAGE/gts/pagecontent/2013-07-15}Metadata\n",
            "{http://schema.primaresearch.org/PAGE/gts/pagecontent/2013-07-15}Page\n",
            "{http://schema.primaresearch.org/PAGE/gts/pagecontent/2013-07-15}Metadata\n",
            "{http://schema.primaresearch.org/PAGE/gts/pagecontent/2013-07-15}Page\n",
            "{http://schema.primaresearch.org/PAGE/gts/pagecontent/2013-07-15}Metadata\n",
            "{http://schema.primaresearch.org/PAGE/gts/pagecontent/2013-07-15}Page\n",
            "{http://schema.primaresearch.org/PAGE/gts/pagecontent/2013-07-15}Metadata\n",
            "{http://schema.primaresearch.org/PAGE/gts/pagecontent/2013-07-15}Page\n",
            "{http://schema.primaresearch.org/PAGE/gts/pagecontent/2013-07-15}Metadata\n",
            "{http://schema.primaresearch.org/PAGE/gts/pagecontent/2013-07-15}Page\n",
            "{http://schema.primaresearch.org/PAGE/gts/pagecontent/2013-07-15}Metadata\n",
            "{http://schema.primaresearch.org/PAGE/gts/pagecontent/2013-07-15}Page\n",
            "{http://schema.primaresearch.org/PAGE/gts/pagecontent/2013-07-15}Metadata\n",
            "{http://schema.primaresearch.org/PAGE/gts/pagecontent/2013-07-15}Page\n",
            "{http://schema.primaresearch.org/PAGE/gts/pagecontent/2013-07-15}Metadata\n",
            "{http://schema.primaresearch.org/PAGE/gts/pagecontent/2013-07-15}Page\n",
            "{http://schema.primaresearch.org/PAGE/gts/pagecontent/2013-07-15}Metadata\n",
            "{http://schema.primaresearch.org/PAGE/gts/pagecontent/2013-07-15}Page\n",
            "{http://schema.primaresearch.org/PAGE/gts/pagecontent/2013-07-15}Metadata\n",
            "{http://schema.primaresearch.org/PAGE/gts/pagecontent/2013-07-15}Page\n",
            "{http://schema.primaresearch.org/PAGE/gts/pagecontent/2013-07-15}Metadata\n",
            "{http://schema.primaresearch.org/PAGE/gts/pagecontent/2013-07-15}Page\n",
            "{http://schema.primaresearch.org/PAGE/gts/pagecontent/2013-07-15}Metadata\n",
            "{http://schema.primaresearch.org/PAGE/gts/pagecontent/2013-07-15}Page\n",
            "{http://schema.primaresearch.org/PAGE/gts/pagecontent/2013-07-15}Metadata\n",
            "{http://schema.primaresearch.org/PAGE/gts/pagecontent/2013-07-15}Page\n",
            "{http://schema.primaresearch.org/PAGE/gts/pagecontent/2013-07-15}Metadata\n",
            "{http://schema.primaresearch.org/PAGE/gts/pagecontent/2013-07-15}Page\n",
            "{http://schema.primaresearch.org/PAGE/gts/pagecontent/2013-07-15}Metadata\n",
            "{http://schema.primaresearch.org/PAGE/gts/pagecontent/2013-07-15}Page\n",
            "{http://schema.primaresearch.org/PAGE/gts/pagecontent/2013-07-15}Metadata\n",
            "{http://schema.primaresearch.org/PAGE/gts/pagecontent/2013-07-15}Page\n",
            "{http://schema.primaresearch.org/PAGE/gts/pagecontent/2013-07-15}Metadata\n",
            "{http://schema.primaresearch.org/PAGE/gts/pagecontent/2013-07-15}Page\n",
            "{http://schema.primaresearch.org/PAGE/gts/pagecontent/2013-07-15}Metadata\n",
            "{http://schema.primaresearch.org/PAGE/gts/pagecontent/2013-07-15}Page\n",
            "{http://schema.primaresearch.org/PAGE/gts/pagecontent/2013-07-15}Metadata\n",
            "{http://schema.primaresearch.org/PAGE/gts/pagecontent/2013-07-15}Page\n",
            "{http://schema.primaresearch.org/PAGE/gts/pagecontent/2013-07-15}Metadata\n",
            "{http://schema.primaresearch.org/PAGE/gts/pagecontent/2013-07-15}Page\n",
            "{http://schema.primaresearch.org/PAGE/gts/pagecontent/2013-07-15}Metadata\n",
            "{http://schema.primaresearch.org/PAGE/gts/pagecontent/2013-07-15}Page\n",
            "{http://schema.primaresearch.org/PAGE/gts/pagecontent/2013-07-15}Metadata\n",
            "{http://schema.primaresearch.org/PAGE/gts/pagecontent/2013-07-15}Page\n",
            "{http://schema.primaresearch.org/PAGE/gts/pagecontent/2013-07-15}Metadata\n",
            "{http://schema.primaresearch.org/PAGE/gts/pagecontent/2013-07-15}Page\n",
            "{http://schema.primaresearch.org/PAGE/gts/pagecontent/2013-07-15}Metadata\n",
            "{http://schema.primaresearch.org/PAGE/gts/pagecontent/2013-07-15}Page\n",
            "{http://schema.primaresearch.org/PAGE/gts/pagecontent/2013-07-15}Metadata\n",
            "{http://schema.primaresearch.org/PAGE/gts/pagecontent/2013-07-15}Page\n",
            "{http://schema.primaresearch.org/PAGE/gts/pagecontent/2013-07-15}Metadata\n",
            "{http://schema.primaresearch.org/PAGE/gts/pagecontent/2013-07-15}Page\n",
            "{http://schema.primaresearch.org/PAGE/gts/pagecontent/2013-07-15}Metadata\n",
            "{http://schema.primaresearch.org/PAGE/gts/pagecontent/2013-07-15}Page\n",
            "{http://schema.primaresearch.org/PAGE/gts/pagecontent/2013-07-15}Metadata\n",
            "{http://schema.primaresearch.org/PAGE/gts/pagecontent/2013-07-15}Page\n",
            "{http://schema.primaresearch.org/PAGE/gts/pagecontent/2013-07-15}Metadata\n",
            "{http://schema.primaresearch.org/PAGE/gts/pagecontent/2013-07-15}Page\n",
            "{http://schema.primaresearch.org/PAGE/gts/pagecontent/2013-07-15}Metadata\n",
            "{http://schema.primaresearch.org/PAGE/gts/pagecontent/2013-07-15}Page\n",
            "{http://schema.primaresearch.org/PAGE/gts/pagecontent/2013-07-15}Metadata\n",
            "{http://schema.primaresearch.org/PAGE/gts/pagecontent/2013-07-15}Page\n",
            "{http://schema.primaresearch.org/PAGE/gts/pagecontent/2013-07-15}Metadata\n",
            "{http://schema.primaresearch.org/PAGE/gts/pagecontent/2013-07-15}Page\n",
            "{http://schema.primaresearch.org/PAGE/gts/pagecontent/2013-07-15}Metadata\n",
            "{http://schema.primaresearch.org/PAGE/gts/pagecontent/2013-07-15}Page\n",
            "{http://schema.primaresearch.org/PAGE/gts/pagecontent/2013-07-15}Metadata\n",
            "{http://schema.primaresearch.org/PAGE/gts/pagecontent/2013-07-15}Page\n",
            "{http://schema.primaresearch.org/PAGE/gts/pagecontent/2013-07-15}Metadata\n",
            "{http://schema.primaresearch.org/PAGE/gts/pagecontent/2013-07-15}Page\n",
            "{http://schema.primaresearch.org/PAGE/gts/pagecontent/2013-07-15}Metadata\n",
            "{http://schema.primaresearch.org/PAGE/gts/pagecontent/2013-07-15}Page\n",
            "{http://schema.primaresearch.org/PAGE/gts/pagecontent/2013-07-15}Metadata\n",
            "{http://schema.primaresearch.org/PAGE/gts/pagecontent/2013-07-15}Page\n",
            "{http://schema.primaresearch.org/PAGE/gts/pagecontent/2013-07-15}Metadata\n",
            "{http://schema.primaresearch.org/PAGE/gts/pagecontent/2013-07-15}Page\n",
            "{http://schema.primaresearch.org/PAGE/gts/pagecontent/2013-07-15}Metadata\n",
            "{http://schema.primaresearch.org/PAGE/gts/pagecontent/2013-07-15}Page\n",
            "{http://schema.primaresearch.org/PAGE/gts/pagecontent/2013-07-15}Metadata\n",
            "{http://schema.primaresearch.org/PAGE/gts/pagecontent/2013-07-15}Page\n",
            "{http://schema.primaresearch.org/PAGE/gts/pagecontent/2013-07-15}Metadata\n",
            "{http://schema.primaresearch.org/PAGE/gts/pagecontent/2013-07-15}Page\n",
            "{http://schema.primaresearch.org/PAGE/gts/pagecontent/2013-07-15}Metadata\n",
            "{http://schema.primaresearch.org/PAGE/gts/pagecontent/2013-07-15}Page\n",
            "{http://schema.primaresearch.org/PAGE/gts/pagecontent/2013-07-15}Metadata\n",
            "{http://schema.primaresearch.org/PAGE/gts/pagecontent/2013-07-15}Page\n",
            "{http://schema.primaresearch.org/PAGE/gts/pagecontent/2013-07-15}Metadata\n",
            "{http://schema.primaresearch.org/PAGE/gts/pagecontent/2013-07-15}Page\n",
            "{http://schema.primaresearch.org/PAGE/gts/pagecontent/2013-07-15}Metadata\n",
            "{http://schema.primaresearch.org/PAGE/gts/pagecontent/2013-07-15}Page\n",
            "{http://schema.primaresearch.org/PAGE/gts/pagecontent/2013-07-15}Metadata\n",
            "{http://schema.primaresearch.org/PAGE/gts/pagecontent/2013-07-15}Page\n",
            "{http://schema.primaresearch.org/PAGE/gts/pagecontent/2013-07-15}Metadata\n",
            "{http://schema.primaresearch.org/PAGE/gts/pagecontent/2013-07-15}Page\n",
            "{http://schema.primaresearch.org/PAGE/gts/pagecontent/2013-07-15}Metadata\n",
            "{http://schema.primaresearch.org/PAGE/gts/pagecontent/2013-07-15}Page\n",
            "{http://schema.primaresearch.org/PAGE/gts/pagecontent/2013-07-15}Metadata\n",
            "{http://schema.primaresearch.org/PAGE/gts/pagecontent/2013-07-15}Page\n",
            "{http://schema.primaresearch.org/PAGE/gts/pagecontent/2013-07-15}Metadata\n",
            "{http://schema.primaresearch.org/PAGE/gts/pagecontent/2013-07-15}Page\n",
            "{http://schema.primaresearch.org/PAGE/gts/pagecontent/2013-07-15}Metadata\n",
            "{http://schema.primaresearch.org/PAGE/gts/pagecontent/2013-07-15}Page\n",
            "{http://schema.primaresearch.org/PAGE/gts/pagecontent/2013-07-15}Metadata\n",
            "{http://schema.primaresearch.org/PAGE/gts/pagecontent/2013-07-15}Page\n",
            "{http://schema.primaresearch.org/PAGE/gts/pagecontent/2013-07-15}Metadata\n",
            "{http://schema.primaresearch.org/PAGE/gts/pagecontent/2013-07-15}Page\n",
            "{http://schema.primaresearch.org/PAGE/gts/pagecontent/2013-07-15}Metadata\n",
            "{http://schema.primaresearch.org/PAGE/gts/pagecontent/2013-07-15}Page\n",
            "{http://schema.primaresearch.org/PAGE/gts/pagecontent/2013-07-15}Metadata\n",
            "{http://schema.primaresearch.org/PAGE/gts/pagecontent/2013-07-15}Page\n",
            "{http://schema.primaresearch.org/PAGE/gts/pagecontent/2013-07-15}Metadata\n",
            "{http://schema.primaresearch.org/PAGE/gts/pagecontent/2013-07-15}Page\n",
            "{http://schema.primaresearch.org/PAGE/gts/pagecontent/2013-07-15}Metadata\n",
            "{http://schema.primaresearch.org/PAGE/gts/pagecontent/2013-07-15}Page\n",
            "{http://schema.primaresearch.org/PAGE/gts/pagecontent/2013-07-15}Metadata\n",
            "{http://schema.primaresearch.org/PAGE/gts/pagecontent/2013-07-15}Page\n",
            "{http://schema.primaresearch.org/PAGE/gts/pagecontent/2013-07-15}Metadata\n",
            "{http://schema.primaresearch.org/PAGE/gts/pagecontent/2013-07-15}Page\n",
            "{http://schema.primaresearch.org/PAGE/gts/pagecontent/2013-07-15}Metadata\n",
            "{http://schema.primaresearch.org/PAGE/gts/pagecontent/2013-07-15}Page\n",
            "{http://schema.primaresearch.org/PAGE/gts/pagecontent/2013-07-15}Metadata\n",
            "{http://schema.primaresearch.org/PAGE/gts/pagecontent/2013-07-15}Page\n",
            "{http://schema.primaresearch.org/PAGE/gts/pagecontent/2013-07-15}Metadata\n",
            "{http://schema.primaresearch.org/PAGE/gts/pagecontent/2013-07-15}Page\n",
            "{http://schema.primaresearch.org/PAGE/gts/pagecontent/2013-07-15}Metadata\n",
            "{http://schema.primaresearch.org/PAGE/gts/pagecontent/2013-07-15}Page\n",
            "{http://schema.primaresearch.org/PAGE/gts/pagecontent/2013-07-15}Metadata\n",
            "{http://schema.primaresearch.org/PAGE/gts/pagecontent/2013-07-15}Page\n",
            "{http://schema.primaresearch.org/PAGE/gts/pagecontent/2013-07-15}Metadata\n",
            "{http://schema.primaresearch.org/PAGE/gts/pagecontent/2013-07-15}Page\n",
            "{http://schema.primaresearch.org/PAGE/gts/pagecontent/2013-07-15}Metadata\n",
            "{http://schema.primaresearch.org/PAGE/gts/pagecontent/2013-07-15}Page\n",
            "{http://schema.primaresearch.org/PAGE/gts/pagecontent/2013-07-15}Metadata\n",
            "{http://schema.primaresearch.org/PAGE/gts/pagecontent/2013-07-15}Page\n",
            "{http://schema.primaresearch.org/PAGE/gts/pagecontent/2013-07-15}Metadata\n",
            "{http://schema.primaresearch.org/PAGE/gts/pagecontent/2013-07-15}Page\n",
            "{http://schema.primaresearch.org/PAGE/gts/pagecontent/2013-07-15}Metadata\n",
            "{http://schema.primaresearch.org/PAGE/gts/pagecontent/2013-07-15}Page\n",
            "{http://schema.primaresearch.org/PAGE/gts/pagecontent/2013-07-15}Metadata\n",
            "{http://schema.primaresearch.org/PAGE/gts/pagecontent/2013-07-15}Page\n",
            "{http://schema.primaresearch.org/PAGE/gts/pagecontent/2013-07-15}Metadata\n",
            "{http://schema.primaresearch.org/PAGE/gts/pagecontent/2013-07-15}Page\n",
            "{http://schema.primaresearch.org/PAGE/gts/pagecontent/2013-07-15}Metadata\n",
            "{http://schema.primaresearch.org/PAGE/gts/pagecontent/2013-07-15}Page\n"
          ]
        }
      ],
      "source": [
        "for child in combined_root:\n",
        "    print(child.tag)"
      ]
    },
    {
      "cell_type": "markdown",
      "source": [
        "### Save combined tree in a new file"
      ],
      "metadata": {
        "id": "-SPPIZIkesl6"
      },
      "id": "-SPPIZIkesl6"
    },
    {
      "cell_type": "code",
      "execution_count": null,
      "id": "4052de8f-df59-4bd5-b841-94c9ed94b482",
      "metadata": {
        "id": "4052de8f-df59-4bd5-b841-94c9ed94b482"
      },
      "outputs": [],
      "source": [
        "ET.indent(combined_tree, space=\"    \")\n",
        "combined_tree.write(f\"{report_date}_combined_pages.xml\", encoding=\"UTF-8\")"
      ]
    },
    {
      "cell_type": "markdown",
      "source": [
        "## Extract Attributes"
      ],
      "metadata": {
        "id": "M5vbRfZ5STBr"
      },
      "id": "M5vbRfZ5STBr"
    },
    {
      "cell_type": "markdown",
      "id": "f340af6e-00c6-4864-aedb-b3f9b7e2ee93",
      "metadata": {
        "id": "f340af6e-00c6-4864-aedb-b3f9b7e2ee93"
      },
      "source": [
        "### Parse header sections"
      ]
    },
    {
      "cell_type": "code",
      "execution_count": null,
      "id": "b291a34b-0db3-436a-b607-4257c18686bf",
      "metadata": {
        "id": "b291a34b-0db3-436a-b607-4257c18686bf",
        "outputId": "06853aef-9c0c-481e-9d68-7e6c4af1361a",
        "colab": {
          "base_uri": "https://localhost:8080/"
        }
      },
      "outputs": [
        {
          "output_type": "stream",
          "name": "stdout",
          "text": [
            "{'id': 'r_28', 'custom': 'readingOrder {index:2;} structure {type:heading;}'}\n",
            "EXECUTIVE SURVEYS.\n",
            "{'id': 'r_2', 'custom': 'readingOrder {index:3;} structure {type:heading;}'}\n",
            "No. I PARTY.—GWALIOR AND CENTRAL INDIA SURVEY.\n",
            "{'id': 'r_6', 'custom': 'readingOrder {index:5;} structure {type:heading;}'}\n",
            "No. II PARTY.—HYDERABAD SURVEY.\n",
            "{'id': 'r_38', 'custom': 'readingOrder {index:1;} structure {type:heading;}'}\n",
            "No. III PARTY.—CENTRAL PROVINCES AND VIZAGAPATAM\n",
            "{'id': 'r_3', 'custom': 'readingOrder {index:1;} structure {type:heading;}'}\n",
            "No. IV PARTY —CHOTA NAGPORE SURVEY.\n",
            "{'id': 'r_2', 'custom': 'readingOrder {index:1;} structure {type:heading;}'}\n",
            "No. V PARTY.—REWAH AND BUNDELKUND SURVEY.\n",
            "{'id': 'r_1', 'custom': 'readingOrder {index:1;} structure {type:heading;}'}\n",
            "No. VI PARTY.—KOSSIA AND GARROW HILLS SURVEY.\n",
            "{'id': 'r_2', 'custom': 'readingOrder {index:2;} structure {type:heading;}'}\n",
            "No. VII PARTY.—RAJPOOTANA SURVEY.\n",
            "{'id': 'r_4', 'custom': 'readingOrder {index:4;} structure {type:heading;}'}\n",
            "THE PEGU SURVEY.\n",
            "{'id': 'r', 'custom': 'readingOrder {index:0;} structure {type:heading;}'}\n",
            "Error in Heading {i}\n",
            "{'id': 'r_1', 'custom': 'readingOrder {index:1;} structure {type:heading;}'}\n",
            "Error in Heading {i}\n",
            "{'id': 'r', 'custom': 'readingOrder {index:0;} structure {type:heading;}'}\n",
            "EXTRACT FROM THE NARRATIVE REPORT OF CAPTAIN A. B. MELVILLE, OFFICIATING\n",
            "{'id': 'r', 'custom': 'readingOrder {index:0;} structure {type:heading;}'}\n",
            "EXTRACT FROM THE NARRATIVE REPORT OF LIEUT. C. STRAHAN, R. E., IN CHARGE\n",
            "{'id': 'r_1', 'custom': 'readingOrder {index:0;} structure {type:heading;}'}\n",
            "No. 2 TOPOGRAPHICAL PARTY, DATED 21ST AUGUST 1866.\n",
            "{'id': 'r_1', 'custom': 'readingOrder {index:0;} structure {type:heading;}'}\n",
            "No. 3 TOPOGRAPHIICAL PARTY, DATED AUGUST 1866.\n",
            "{'id': 'r_1', 'custom': 'readingOrder {index:0;} structure {type:heading;}'}\n",
            "EXTRACT FROM THE NARRATIVE REPORT OF CAPTAIN G. C. DEPREE, STAFF CORPS, IN\n",
            "{'id': 'r_1', 'custom': 'readingOrder {index:0;} structure {type:heading;}'}\n",
            "EXTRACT FROM THE NARRATIVE REPORT OF CAPTAIN W. G. MURRAY, STAFF CORPS. IN\n",
            "{'id': 'r_1', 'custom': 'readingOrder {index:0;} structure {type:heading;}'}\n",
            "EXTRACT FROM THE NARRATIVE REPORT OF LIEUT. R. V. RIDDELL, R. E., IN CHARGE\n",
            "{'id': 'r_1', 'custom': 'readingOrder {index:0;} structure {type:heading;}'}\n",
            "EXTRACT FROM THE NARRATIVE REPORT OF LIEUTENANT GEORGE STRAHAN, R. E., IN\n",
            "{'id': 'r_1', 'custom': 'readingOrder {index:0;} structure {type:heading;}'}\n",
            "REPORT ON THE OPERATIONS OF THE PEGU SURVEY FOR THE YEAR 1865-66, BY\n"
          ]
        }
      ],
      "source": [
        "heading = []\n",
        "for i, child in enumerate(combined_root.iter(\"{http://schema.primaresearch.org/PAGE/gts/pagecontent/2013-07-15}TextRegion\")):\n",
        "  if \"structure {type:heading;}\" in child.attrib.get(\"custom\", []):\n",
        "    print(child.attrib)\n",
        "    try:\n",
        "      print(child[1][2][0].text)\n",
        "      heading.append(child)\n",
        "    except IndexError:\n",
        "      print(\"Error in Heading {i}\")\n",
        "    # if child.tag.split(\"}\")[1] == \"Page\":\n",
        "    #     for region in child:\n",
        "    #         if \"structure {type:credit;}\" in region.attrib.get(\"custom\", []):\n",
        "    #             credits.append(region)"
      ]
    },
    {
      "cell_type": "markdown",
      "source": [
        "### Find Person"
      ],
      "metadata": {
        "id": "qRHQO6Zp1d3m"
      },
      "id": "qRHQO6Zp1d3m"
    },
    {
      "cell_type": "code",
      "source": [
        "credits = []\n",
        "for i, child in enumerate(combined_root.iter(\"{http://schema.primaresearch.org/PAGE/gts/pagecontent/2013-07-15}TextRegion\")):\n",
        "  if \"structure {type:credit;}\" in child.attrib.get(\"custom\", []):\n",
        "    print(child.attrib)\n",
        "    try:\n",
        "      print(child[1][2][0].text)\n",
        "      credits.append(child)\n",
        "    except IndexError:\n",
        "      print(\"Error in Credit {i}\")\n",
        "    # if child.tag.split(\"}\")[1] == \"Page\":\n",
        "    #     for region in child:\n",
        "    #         if \"structure {type:credit;}\" in region.attrib.get(\"custom\", []):\n",
        "    #             credits.append(region)"
      ],
      "metadata": {
        "colab": {
          "base_uri": "https://localhost:8080/"
        },
        "id": "ZaIuwQM61jen",
        "outputId": "e09bc765-1f6a-4176-8b60-a2346108d3c2"
      },
      "id": "ZaIuwQM61jen",
      "execution_count": null,
      "outputs": [
        {
          "output_type": "stream",
          "name": "stdout",
          "text": [
            "{'id': 'r_3', 'custom': 'readingOrder {index:4;} structure {type:credit;}'}\n",
            "Personnel.\n",
            "{'id': 'r_2', 'custom': 'readingOrder {index:1;} structure {type:credit;}'}\n",
            "Personnel.\n",
            "{'id': 'r_39', 'custom': 'readingOrder {index:2;} structure {type:credit;}'}\n",
            "Personnel.\n",
            "{'id': 'r_41', 'custom': 'readingOrder {index:3;} structure {type:credit;}'}\n",
            "NAME OF ASSISTANTS.\n",
            "{'id': 'r_4', 'custom': 'readingOrder {index:2;} structure {type:credit;}'}\n",
            "Personnel.\n",
            "{'id': 'r_3', 'custom': 'readingOrder {index:2;} structure {type:credit;}'}\n",
            "Personnel.\n",
            "{'id': 'r_2', 'custom': 'readingOrder {index:2;} structure {type:credit;}'}\n",
            "Personnel.\n",
            "{'id': 'r', 'custom': 'readingOrder {index:3;} structure {type:credit;}'}\n",
            "Average Number of Plane\n",
            "{'id': 'r_3', 'custom': 'readingOrder {index:3;} structure {type:credit;}'}\n",
            "Personnel.\n",
            "{'id': 'r_5', 'custom': 'readingOrder {index:4;} structure {type:credit;}'}\n",
            "Table:—\n",
            "{'id': 'r_5', 'custom': 'readingOrder {index:5;} structure {type:credit;}'}\n",
            "Captain W. H. Edgcome, R. E., in\n",
            "{'id': 'r_2', 'custom': 'readingOrder {index:2;} structure {type:credit;}'}\n",
            "Sq. Miles.\n",
            "{'id': 'r_3', 'custom': 'readingOrder {index:3;} structure {type:credit;}'}\n",
            "Mr. 1st Class Sub-Assistant Farrell.\n",
            "{'id': 'r_2', 'custom': 'readingOrder {index:1;} structure {type:credit;}'}\n",
            "Lieut. Colonel G. H. Saxton, in\n",
            "{'id': 'r_1', 'custom': 'readingOrder {index:0;} structure {type:credit;}'}\n",
            "Lieutenant Downing executed\n",
            "{'id': 'r_2', 'custom': 'readingOrder {index:1;} structure {type:credit;}'}\n",
            "Mr. Chew, 326 square miles.\n",
            "{'id': 'r_3', 'custom': 'readingOrder {index:2;} structure {type:credit;}'}\n",
            "Mr. Claudius, 450 square miles.\n",
            "{'id': 'r_4', 'custom': 'readingOrder {index:3;} structure {type:credit;}'}\n",
            "Mr. Adams, 450 square miles.\n",
            "{'id': 'r_5', 'custom': 'readingOrder {index:4;} structure {type:credit;}'}\n",
            "Mr. Harper, 549 square miles.\n",
            "{'id': 'r_6', 'custom': 'readingOrder {index:5;} structure {type:credit;}'}\n",
            "Hidiatoola, 458 square miles.\n",
            "{'id': 'r_7', 'custom': 'readingOrder {index:6;} structure {type:credit;}'}\n",
            "Mr. Atkinson, 419 square miles.\n",
            "{'id': 'r_1', 'custom': 'readingOrder {index:1;} structure {type:credit;}'}\n",
            "Mr. May, 373 square miles.\n",
            "{'id': 'r_4', 'custom': 'readingOrder {index:1;} structure {type:credit;}'}\n",
            "D. Atkinson, 2nd Civil Assistant, will com¬\n",
            "{'id': 'r_1', 'custom': 'readingOrder {index:1;} structure {type:credit;}'}\n",
            "Square Mile\n",
            "{'id': 'r_1', 'custom': 'readingOrder {index:1;} structure {type:credit;}'}\n",
            "8•25\n",
            "{'id': 'r_2', 'custom': 'readingOrder {index:1;} structure {type:credit;}'}\n",
            "Lieutenant R. V. Riddell, R. E., in charge.\n"
          ]
        }
      ]
    },
    {
      "cell_type": "markdown",
      "source": [
        "### Print person text lines"
      ],
      "metadata": {
        "id": "ylMmBwlt3rRS"
      },
      "id": "ylMmBwlt3rRS"
    },
    {
      "cell_type": "code",
      "source": [
        "def parse_attributes(attrib: str):\n",
        "  attrib_pair_re = re.compile(r\"(?P<tag>\\w+) (?P<text>\\{[\\.\\w\\s:;\\d]+\\})\")\n",
        "  attrib_inner_re = re.compile(r\"(?P<tag>\\w+):(?P<text>[\\.\\w\\s\\d]+)\")\n",
        "  all_attribs = attrib_pair_re.findall(attrib)\n",
        "  return {k:attrib_inner_re.findall(v[1:-1]) for k,v in all_attribs}"
      ],
      "metadata": {
        "id": "pXwreLg37CGX"
      },
      "id": "pXwreLg37CGX",
      "execution_count": null,
      "outputs": []
    },
    {
      "cell_type": "markdown",
      "source": [
        "### Parse person attributes"
      ],
      "metadata": {
        "id": "12VDv35tdUH2"
      },
      "id": "12VDv35tdUH2"
    },
    {
      "cell_type": "code",
      "source": [
        "parse_attributes(\"readingOrder {index:1;} person {offset:0; length:23;firstname:A.\\u0020B.; title:Captian; lastname:Melville;} leader {offset:0; length:22;} Role {offset:24; length:9; continued:true;title:Executive\\u0020Officer\\u0020in\\u0020Charge;}\")"
      ],
      "metadata": {
        "colab": {
          "base_uri": "https://localhost:8080/"
        },
        "id": "GzLij1WS7w5y",
        "outputId": "d108f93d-78ef-479a-fa68-bc730abd5c68"
      },
      "id": "GzLij1WS7w5y",
      "execution_count": null,
      "outputs": [
        {
          "output_type": "execute_result",
          "data": {
            "text/plain": [
              "{'readingOrder': [('index', '1')],\n",
              " 'person': [('offset', '0'),\n",
              "  ('length', '23'),\n",
              "  ('firstname', 'A. B.'),\n",
              "  ('title', 'Captian'),\n",
              "  ('lastname', 'Melville')],\n",
              " 'leader': [('offset', '0'), ('length', '22')],\n",
              " 'Role': [('offset', '24'),\n",
              "  ('length', '9'),\n",
              "  ('continued', 'true'),\n",
              "  ('title', 'Executive Officer in Charge')]}"
            ]
          },
          "metadata": {},
          "execution_count": 65
        }
      ]
    },
    {
      "cell_type": "markdown",
      "source": [
        "### Create entities list"
      ],
      "metadata": {
        "id": "ODPxiDJtdZXJ"
      },
      "id": "ODPxiDJtdZXJ"
    },
    {
      "cell_type": "code",
      "source": [
        "entities = []"
      ],
      "metadata": {
        "id": "JnBPakQkAx00"
      },
      "id": "JnBPakQkAx00",
      "execution_count": null,
      "outputs": []
    },
    {
      "cell_type": "markdown",
      "source": [
        "### Extract person attributes"
      ],
      "metadata": {
        "id": "45zAzSowdziP"
      },
      "id": "45zAzSowdziP"
    },
    {
      "cell_type": "code",
      "source": [
        "for line in credits[0].iter(\"{http://schema.primaresearch.org/PAGE/gts/pagecontent/2013-07-15}TextLine\"):\n",
        "  line_attributes = parse_attributes(line.attrib.get(\"custom\", []))\n",
        "  if \"person\" in line_attributes:\n",
        "    print(line_attributes.get(\"person\"))\n",
        "    print(line[2][0].text)\n",
        "    entity = {}\n",
        "    for attrib in line_attributes.get(\"person\")[2:]:\n",
        "      entity[attrib[0]] = attrib[1]\n",
        "    entities.append(entity)"
      ],
      "metadata": {
        "colab": {
          "base_uri": "https://localhost:8080/"
        },
        "id": "cOhQNOaa3vAL",
        "outputId": "b0b5e8a1-7524-494b-ba55-b82ef0ca8731"
      },
      "id": "cOhQNOaa3vAL",
      "execution_count": null,
      "outputs": [
        {
          "output_type": "stream",
          "name": "stdout",
          "text": [
            "[('offset', '0'), ('length', '26'), ('firstname', 'Charles'), ('title', 'Lieutenant'), ('lastname', 'Strahan')]\n",
            "Lieutenant Charles Strahan, R. E.\n",
            "[('offset', '0'), ('length', '12'), ('firstname', 'H.'), ('title', 'Mr.'), ('lastname', 'Horst')]\n",
            "Mr. H. Horst, Civil Assistant.\n",
            "[('offset', '0'), ('length', '12'), ('firstname', 'P.'), ('title', 'Mr.'), ('lastname', 'Chill')]\n",
            "Mr. P. Chill, Sub-Assistant.\n",
            "[('offset', '0'), ('length', '14'), ('firstname', 'G.'), ('title', 'Mr.'), ('lastname', 'McArthy')]\n",
            "Mr. G. McArthy, Sub-Assistant.\n",
            "[('offset', '0'), ('length', '14'), ('firstname', 'G.'), ('title', 'Mr.'), ('lastname', 'Alluntt')]\n",
            "Mr. G. Alluntt, Sub-Assistant.\n",
            "[('offset', '0'), ('length', '13'), ('firstname', 'G.'), ('title', 'Mr.'), ('lastname', 'Murphy')]\n",
            "Mr. G. Murphy, Sub-Assistant.\n",
            "[('offset', '0'), ('length', '13'), ('firstname', 'G.'), ('title', 'Mr.'), ('lastname', 'Esteve')]\n",
            "Mr. G. Esteve, Sub-Assistant.\n",
            "[('offset', '16'), ('length', '9'), ('lastname', 'Chooramun')]\n",
            "Goolam Mahomed, Chooramun.\n"
          ]
        }
      ]
    },
    {
      "cell_type": "markdown",
      "source": [
        "### List entities"
      ],
      "metadata": {
        "id": "NKXHYb8KfnX2"
      },
      "id": "NKXHYb8KfnX2"
    },
    {
      "cell_type": "code",
      "source": [
        "entities"
      ],
      "metadata": {
        "colab": {
          "base_uri": "https://localhost:8080/"
        },
        "id": "52GyJ95gFmto",
        "outputId": "641a28f7-ae13-4086-8b48-cc750ed2691b"
      },
      "id": "52GyJ95gFmto",
      "execution_count": null,
      "outputs": [
        {
          "output_type": "execute_result",
          "data": {
            "text/plain": [
              "[{'firstname': 'Charles', 'title': 'Lieutenant', 'lastname': 'Strahan'},\n",
              " {'firstname': 'H.', 'title': 'Mr.', 'lastname': 'Horst'},\n",
              " {'firstname': 'P.', 'title': 'Mr.', 'lastname': 'Chill'},\n",
              " {'firstname': 'G.', 'title': 'Mr.', 'lastname': 'McArthy'},\n",
              " {'firstname': 'G.', 'title': 'Mr.', 'lastname': 'Alluntt'},\n",
              " {'firstname': 'G.', 'title': 'Mr.', 'lastname': 'Murphy'},\n",
              " {'firstname': 'G.', 'title': 'Mr.', 'lastname': 'Esteve'},\n",
              " {'lastname': 'Chooramun'}]"
            ]
          },
          "metadata": {},
          "execution_count": 72
        }
      ]
    },
    {
      "cell_type": "markdown",
      "source": [
        "### Extract entities to data frame"
      ],
      "metadata": {
        "id": "b5xFOvWweC6-"
      },
      "id": "b5xFOvWweC6-"
    },
    {
      "cell_type": "code",
      "source": [
        "pd.DataFrame(entities)"
      ],
      "metadata": {
        "id": "jfXvgEvjGgRB",
        "outputId": "347623ca-2982-457b-9aa5-c88d0530690b",
        "colab": {
          "base_uri": "https://localhost:8080/",
          "height": 300
        }
      },
      "id": "jfXvgEvjGgRB",
      "execution_count": null,
      "outputs": [
        {
          "output_type": "execute_result",
          "data": {
            "text/plain": [
              "  firstname       title   lastname\n",
              "0   Charles  Lieutenant    Strahan\n",
              "1        H.         Mr.      Horst\n",
              "2        P.         Mr.      Chill\n",
              "3        G.         Mr.    McArthy\n",
              "4        G.         Mr.    Alluntt\n",
              "5        G.         Mr.     Murphy\n",
              "6        G.         Mr.     Esteve\n",
              "7       NaN         NaN  Chooramun"
            ],
            "text/html": [
              "\n",
              "  <div id=\"df-7f47de9b-39f4-439b-a6ec-7ccd7114ad7d\" class=\"colab-df-container\">\n",
              "    <div>\n",
              "<style scoped>\n",
              "    .dataframe tbody tr th:only-of-type {\n",
              "        vertical-align: middle;\n",
              "    }\n",
              "\n",
              "    .dataframe tbody tr th {\n",
              "        vertical-align: top;\n",
              "    }\n",
              "\n",
              "    .dataframe thead th {\n",
              "        text-align: right;\n",
              "    }\n",
              "</style>\n",
              "<table border=\"1\" class=\"dataframe\">\n",
              "  <thead>\n",
              "    <tr style=\"text-align: right;\">\n",
              "      <th></th>\n",
              "      <th>firstname</th>\n",
              "      <th>title</th>\n",
              "      <th>lastname</th>\n",
              "    </tr>\n",
              "  </thead>\n",
              "  <tbody>\n",
              "    <tr>\n",
              "      <th>0</th>\n",
              "      <td>Charles</td>\n",
              "      <td>Lieutenant</td>\n",
              "      <td>Strahan</td>\n",
              "    </tr>\n",
              "    <tr>\n",
              "      <th>1</th>\n",
              "      <td>H.</td>\n",
              "      <td>Mr.</td>\n",
              "      <td>Horst</td>\n",
              "    </tr>\n",
              "    <tr>\n",
              "      <th>2</th>\n",
              "      <td>P.</td>\n",
              "      <td>Mr.</td>\n",
              "      <td>Chill</td>\n",
              "    </tr>\n",
              "    <tr>\n",
              "      <th>3</th>\n",
              "      <td>G.</td>\n",
              "      <td>Mr.</td>\n",
              "      <td>McArthy</td>\n",
              "    </tr>\n",
              "    <tr>\n",
              "      <th>4</th>\n",
              "      <td>G.</td>\n",
              "      <td>Mr.</td>\n",
              "      <td>Alluntt</td>\n",
              "    </tr>\n",
              "    <tr>\n",
              "      <th>5</th>\n",
              "      <td>G.</td>\n",
              "      <td>Mr.</td>\n",
              "      <td>Murphy</td>\n",
              "    </tr>\n",
              "    <tr>\n",
              "      <th>6</th>\n",
              "      <td>G.</td>\n",
              "      <td>Mr.</td>\n",
              "      <td>Esteve</td>\n",
              "    </tr>\n",
              "    <tr>\n",
              "      <th>7</th>\n",
              "      <td>NaN</td>\n",
              "      <td>NaN</td>\n",
              "      <td>Chooramun</td>\n",
              "    </tr>\n",
              "  </tbody>\n",
              "</table>\n",
              "</div>\n",
              "    <div class=\"colab-df-buttons\">\n",
              "\n",
              "  <div class=\"colab-df-container\">\n",
              "    <button class=\"colab-df-convert\" onclick=\"convertToInteractive('df-7f47de9b-39f4-439b-a6ec-7ccd7114ad7d')\"\n",
              "            title=\"Convert this dataframe to an interactive table.\"\n",
              "            style=\"display:none;\">\n",
              "\n",
              "  <svg xmlns=\"http://www.w3.org/2000/svg\" height=\"24px\" viewBox=\"0 -960 960 960\">\n",
              "    <path d=\"M120-120v-720h720v720H120Zm60-500h600v-160H180v160Zm220 220h160v-160H400v160Zm0 220h160v-160H400v160ZM180-400h160v-160H180v160Zm440 0h160v-160H620v160ZM180-180h160v-160H180v160Zm440 0h160v-160H620v160Z\"/>\n",
              "  </svg>\n",
              "    </button>\n",
              "\n",
              "  <style>\n",
              "    .colab-df-container {\n",
              "      display:flex;\n",
              "      gap: 12px;\n",
              "    }\n",
              "\n",
              "    .colab-df-convert {\n",
              "      background-color: #E8F0FE;\n",
              "      border: none;\n",
              "      border-radius: 50%;\n",
              "      cursor: pointer;\n",
              "      display: none;\n",
              "      fill: #1967D2;\n",
              "      height: 32px;\n",
              "      padding: 0 0 0 0;\n",
              "      width: 32px;\n",
              "    }\n",
              "\n",
              "    .colab-df-convert:hover {\n",
              "      background-color: #E2EBFA;\n",
              "      box-shadow: 0px 1px 2px rgba(60, 64, 67, 0.3), 0px 1px 3px 1px rgba(60, 64, 67, 0.15);\n",
              "      fill: #174EA6;\n",
              "    }\n",
              "\n",
              "    .colab-df-buttons div {\n",
              "      margin-bottom: 4px;\n",
              "    }\n",
              "\n",
              "    [theme=dark] .colab-df-convert {\n",
              "      background-color: #3B4455;\n",
              "      fill: #D2E3FC;\n",
              "    }\n",
              "\n",
              "    [theme=dark] .colab-df-convert:hover {\n",
              "      background-color: #434B5C;\n",
              "      box-shadow: 0px 1px 3px 1px rgba(0, 0, 0, 0.15);\n",
              "      filter: drop-shadow(0px 1px 2px rgba(0, 0, 0, 0.3));\n",
              "      fill: #FFFFFF;\n",
              "    }\n",
              "  </style>\n",
              "\n",
              "    <script>\n",
              "      const buttonEl =\n",
              "        document.querySelector('#df-7f47de9b-39f4-439b-a6ec-7ccd7114ad7d button.colab-df-convert');\n",
              "      buttonEl.style.display =\n",
              "        google.colab.kernel.accessAllowed ? 'block' : 'none';\n",
              "\n",
              "      async function convertToInteractive(key) {\n",
              "        const element = document.querySelector('#df-7f47de9b-39f4-439b-a6ec-7ccd7114ad7d');\n",
              "        const dataTable =\n",
              "          await google.colab.kernel.invokeFunction('convertToInteractive',\n",
              "                                                    [key], {});\n",
              "        if (!dataTable) return;\n",
              "\n",
              "        const docLinkHtml = 'Like what you see? Visit the ' +\n",
              "          '<a target=\"_blank\" href=https://colab.research.google.com/notebooks/data_table.ipynb>data table notebook</a>'\n",
              "          + ' to learn more about interactive tables.';\n",
              "        element.innerHTML = '';\n",
              "        dataTable['output_type'] = 'display_data';\n",
              "        await google.colab.output.renderOutput(dataTable, element);\n",
              "        const docLink = document.createElement('div');\n",
              "        docLink.innerHTML = docLinkHtml;\n",
              "        element.appendChild(docLink);\n",
              "      }\n",
              "    </script>\n",
              "  </div>\n",
              "\n",
              "\n",
              "    <div id=\"df-099005eb-26d2-4bf7-bc2c-c2560f025d39\">\n",
              "      <button class=\"colab-df-quickchart\" onclick=\"quickchart('df-099005eb-26d2-4bf7-bc2c-c2560f025d39')\"\n",
              "                title=\"Suggest charts\"\n",
              "                style=\"display:none;\">\n",
              "\n",
              "<svg xmlns=\"http://www.w3.org/2000/svg\" height=\"24px\"viewBox=\"0 0 24 24\"\n",
              "     width=\"24px\">\n",
              "    <g>\n",
              "        <path d=\"M19 3H5c-1.1 0-2 .9-2 2v14c0 1.1.9 2 2 2h14c1.1 0 2-.9 2-2V5c0-1.1-.9-2-2-2zM9 17H7v-7h2v7zm4 0h-2V7h2v10zm4 0h-2v-4h2v4z\"/>\n",
              "    </g>\n",
              "</svg>\n",
              "      </button>\n",
              "\n",
              "<style>\n",
              "  .colab-df-quickchart {\n",
              "      --bg-color: #E8F0FE;\n",
              "      --fill-color: #1967D2;\n",
              "      --hover-bg-color: #E2EBFA;\n",
              "      --hover-fill-color: #174EA6;\n",
              "      --disabled-fill-color: #AAA;\n",
              "      --disabled-bg-color: #DDD;\n",
              "  }\n",
              "\n",
              "  [theme=dark] .colab-df-quickchart {\n",
              "      --bg-color: #3B4455;\n",
              "      --fill-color: #D2E3FC;\n",
              "      --hover-bg-color: #434B5C;\n",
              "      --hover-fill-color: #FFFFFF;\n",
              "      --disabled-bg-color: #3B4455;\n",
              "      --disabled-fill-color: #666;\n",
              "  }\n",
              "\n",
              "  .colab-df-quickchart {\n",
              "    background-color: var(--bg-color);\n",
              "    border: none;\n",
              "    border-radius: 50%;\n",
              "    cursor: pointer;\n",
              "    display: none;\n",
              "    fill: var(--fill-color);\n",
              "    height: 32px;\n",
              "    padding: 0;\n",
              "    width: 32px;\n",
              "  }\n",
              "\n",
              "  .colab-df-quickchart:hover {\n",
              "    background-color: var(--hover-bg-color);\n",
              "    box-shadow: 0 1px 2px rgba(60, 64, 67, 0.3), 0 1px 3px 1px rgba(60, 64, 67, 0.15);\n",
              "    fill: var(--button-hover-fill-color);\n",
              "  }\n",
              "\n",
              "  .colab-df-quickchart-complete:disabled,\n",
              "  .colab-df-quickchart-complete:disabled:hover {\n",
              "    background-color: var(--disabled-bg-color);\n",
              "    fill: var(--disabled-fill-color);\n",
              "    box-shadow: none;\n",
              "  }\n",
              "\n",
              "  .colab-df-spinner {\n",
              "    border: 2px solid var(--fill-color);\n",
              "    border-color: transparent;\n",
              "    border-bottom-color: var(--fill-color);\n",
              "    animation:\n",
              "      spin 1s steps(1) infinite;\n",
              "  }\n",
              "\n",
              "  @keyframes spin {\n",
              "    0% {\n",
              "      border-color: transparent;\n",
              "      border-bottom-color: var(--fill-color);\n",
              "      border-left-color: var(--fill-color);\n",
              "    }\n",
              "    20% {\n",
              "      border-color: transparent;\n",
              "      border-left-color: var(--fill-color);\n",
              "      border-top-color: var(--fill-color);\n",
              "    }\n",
              "    30% {\n",
              "      border-color: transparent;\n",
              "      border-left-color: var(--fill-color);\n",
              "      border-top-color: var(--fill-color);\n",
              "      border-right-color: var(--fill-color);\n",
              "    }\n",
              "    40% {\n",
              "      border-color: transparent;\n",
              "      border-right-color: var(--fill-color);\n",
              "      border-top-color: var(--fill-color);\n",
              "    }\n",
              "    60% {\n",
              "      border-color: transparent;\n",
              "      border-right-color: var(--fill-color);\n",
              "    }\n",
              "    80% {\n",
              "      border-color: transparent;\n",
              "      border-right-color: var(--fill-color);\n",
              "      border-bottom-color: var(--fill-color);\n",
              "    }\n",
              "    90% {\n",
              "      border-color: transparent;\n",
              "      border-bottom-color: var(--fill-color);\n",
              "    }\n",
              "  }\n",
              "</style>\n",
              "\n",
              "      <script>\n",
              "        async function quickchart(key) {\n",
              "          const quickchartButtonEl =\n",
              "            document.querySelector('#' + key + ' button');\n",
              "          quickchartButtonEl.disabled = true;  // To prevent multiple clicks.\n",
              "          quickchartButtonEl.classList.add('colab-df-spinner');\n",
              "          try {\n",
              "            const charts = await google.colab.kernel.invokeFunction(\n",
              "                'suggestCharts', [key], {});\n",
              "          } catch (error) {\n",
              "            console.error('Error during call to suggestCharts:', error);\n",
              "          }\n",
              "          quickchartButtonEl.classList.remove('colab-df-spinner');\n",
              "          quickchartButtonEl.classList.add('colab-df-quickchart-complete');\n",
              "        }\n",
              "        (() => {\n",
              "          let quickchartButtonEl =\n",
              "            document.querySelector('#df-099005eb-26d2-4bf7-bc2c-c2560f025d39 button');\n",
              "          quickchartButtonEl.style.display =\n",
              "            google.colab.kernel.accessAllowed ? 'block' : 'none';\n",
              "        })();\n",
              "      </script>\n",
              "    </div>\n",
              "\n",
              "    </div>\n",
              "  </div>\n"
            ],
            "application/vnd.google.colaboratory.intrinsic+json": {
              "type": "dataframe",
              "summary": "{\n  \"name\": \"pd\",\n  \"rows\": 8,\n  \"fields\": [\n    {\n      \"column\": \"firstname\",\n      \"properties\": {\n        \"dtype\": \"string\",\n        \"num_unique_values\": 4,\n        \"samples\": [\n          \"H.\",\n          \"G.\",\n          \"Charles\"\n        ],\n        \"semantic_type\": \"\",\n        \"description\": \"\"\n      }\n    },\n    {\n      \"column\": \"title\",\n      \"properties\": {\n        \"dtype\": \"category\",\n        \"num_unique_values\": 2,\n        \"samples\": [\n          \"Mr.\",\n          \"Lieutenant\"\n        ],\n        \"semantic_type\": \"\",\n        \"description\": \"\"\n      }\n    },\n    {\n      \"column\": \"lastname\",\n      \"properties\": {\n        \"dtype\": \"string\",\n        \"num_unique_values\": 8,\n        \"samples\": [\n          \"Horst\",\n          \"Murphy\"\n        ],\n        \"semantic_type\": \"\",\n        \"description\": \"\"\n      }\n    }\n  ]\n}"
            }
          },
          "metadata": {},
          "execution_count": 74
        }
      ]
    },
    {
      "cell_type": "markdown",
      "source": [
        "# Redundant Cells"
      ],
      "metadata": {
        "id": "0e4PhARJUK5J"
      },
      "id": "0e4PhARJUK5J"
    },
    {
      "cell_type": "markdown",
      "source": [
        "### Parse report date"
      ],
      "metadata": {
        "id": "6yHDK98cSkeF"
      },
      "id": "6yHDK98cSkeF"
    },
    {
      "cell_type": "code",
      "source": [],
      "metadata": {
        "id": "Ejzx3PJySt4k"
      },
      "id": "Ejzx3PJySt4k",
      "execution_count": null,
      "outputs": []
    },
    {
      "cell_type": "markdown",
      "source": [
        "### Parse name"
      ],
      "metadata": {
        "id": "xC5oCJjlSJ9H"
      },
      "id": "xC5oCJjlSJ9H"
    },
    {
      "cell_type": "code",
      "execution_count": null,
      "id": "b97df8a9-b5be-4a6e-a5ee-84b0fd811a28",
      "metadata": {
        "id": "b97df8a9-b5be-4a6e-a5ee-84b0fd811a28"
      },
      "outputs": [],
      "source": [
        "def parse_xml_attrib(s):\n",
        "    return re.findall(r\"(?<attr_name>\\w*)\\s\\(?<attr_value>{[\\w:\\s\\d]*;\\})\", s)"
      ]
    },
    {
      "cell_type": "code",
      "execution_count": null,
      "id": "083b814d-5b2f-428d-a9e6-ca213e507955",
      "metadata": {
        "id": "083b814d-5b2f-428d-a9e6-ca213e507955"
      },
      "outputs": [],
      "source": [
        "s = credits[0][3].attrib[\"custom\"]\n",
        "s"
      ]
    },
    {
      "cell_type": "code",
      "execution_count": null,
      "id": "62a55765-eadb-4907-bb2e-1aeb1e24f4f9",
      "metadata": {
        "id": "62a55765-eadb-4907-bb2e-1aeb1e24f4f9"
      },
      "outputs": [],
      "source": [
        "re.findall(r\"(?P<attr_name>\\w*)\\s(?P<attr_value>\\{[\\w:;\\s\\d]*;\\})\", s)"
      ]
    },
    {
      "cell_type": "markdown",
      "source": [
        "## Define pages to delete with path"
      ],
      "metadata": {
        "id": "gsP1Qdy5NbO6"
      },
      "id": "gsP1Qdy5NbO6"
    },
    {
      "cell_type": "code",
      "execution_count": null,
      "metadata": {
        "id": "Ka87o-aIi3YW"
      },
      "outputs": [],
      "source": [
        "pages_to_delete = glob.glob(\"sample_data/00*.xml\")"
      ],
      "id": "Ka87o-aIi3YW"
    },
    {
      "cell_type": "code",
      "source": [
        "for page in pages_to_delete:\n",
        "  os.remove(page)"
      ],
      "metadata": {
        "id": "Z75BDAwJjEV9"
      },
      "id": "Z75BDAwJjEV9",
      "execution_count": null,
      "outputs": []
    },
    {
      "cell_type": "markdown",
      "source": [
        "## Split filename string demo"
      ],
      "metadata": {
        "id": "A39u437dYkmn"
      },
      "id": "A39u437dYkmn"
    },
    {
      "cell_type": "code",
      "source": [
        "int(pages[7].split(\"/\")[-1].split(\"_\")[0])"
      ],
      "metadata": {
        "id": "C1ZnfsfwkTon",
        "outputId": "0da62d70-fc87-4347-fd8c-f94cdc5f2651",
        "colab": {
          "base_uri": "https://localhost:8080/"
        }
      },
      "id": "C1ZnfsfwkTon",
      "execution_count": null,
      "outputs": [
        {
          "output_type": "execute_result",
          "data": {
            "text/plain": [
              "19"
            ]
          },
          "metadata": {},
          "execution_count": 27
        }
      ]
    },
    {
      "cell_type": "markdown",
      "source": [
        "## Print integer demo"
      ],
      "metadata": {
        "id": "4ueph3QSbD77"
      },
      "id": "4ueph3QSbD77"
    },
    {
      "cell_type": "code",
      "source": [
        "for i in [0,1,2,3,4]:\n",
        "  print(i)"
      ],
      "metadata": {
        "id": "kGDzunSvtU8Z",
        "outputId": "402b797a-437e-46fd-d287-6f8f8f321732",
        "colab": {
          "base_uri": "https://localhost:8080/"
        }
      },
      "id": "kGDzunSvtU8Z",
      "execution_count": null,
      "outputs": [
        {
          "output_type": "stream",
          "name": "stdout",
          "text": [
            "0\n",
            "1\n",
            "2\n",
            "3\n",
            "4\n"
          ]
        }
      ]
    },
    {
      "cell_type": "markdown",
      "source": [
        "## Print children demo"
      ],
      "metadata": {
        "id": "aR2LPHuwddKL"
      },
      "id": "aR2LPHuwddKL"
    },
    {
      "cell_type": "code",
      "source": [],
      "metadata": {
        "id": "jQUagjoNU7Qv"
      },
      "id": "jQUagjoNU7Qv",
      "execution_count": null,
      "outputs": []
    },
    {
      "cell_type": "code",
      "execution_count": null,
      "id": "6ecb67b2-f82d-42b8-a75d-8f9aaec82185",
      "metadata": {
        "id": "6ecb67b2-f82d-42b8-a75d-8f9aaec82185",
        "outputId": "1d485f88-0187-4454-976a-d8fa39ebe911",
        "colab": {
          "base_uri": "https://localhost:8080/"
        }
      },
      "outputs": [
        {
          "output_type": "stream",
          "name": "stdout",
          "text": [
            "<Element '{http://schema.primaresearch.org/PAGE/gts/pagecontent/2013-07-15}Metadata' at 0x79fb9c52ae80>\n",
            "<Element '{http://schema.primaresearch.org/PAGE/gts/pagecontent/2013-07-15}Page' at 0x79fb9c5d98a0>\n"
          ]
        }
      ],
      "source": [
        "for child in roots[0]:\n",
        "    print(child)"
      ]
    },
    {
      "cell_type": "markdown",
      "source": [
        "## Print text line demo"
      ],
      "metadata": {
        "id": "kGOohzRKdpaE"
      },
      "id": "kGOohzRKdpaE"
    },
    {
      "cell_type": "code",
      "execution_count": null,
      "id": "e66eaa25-810e-4e05-8387-bd1244d15cd9",
      "metadata": {
        "id": "e66eaa25-810e-4e05-8387-bd1244d15cd9",
        "outputId": "54621d27-40d3-4352-d0cc-6feb1da58288",
        "colab": {
          "base_uri": "https://localhost:8080/",
          "height": 159
        }
      },
      "outputs": [
        {
          "output_type": "error",
          "ename": "IndexError",
          "evalue": "child index out of range",
          "traceback": [
            "\u001b[0;31m---------------------------------------------------------------------------\u001b[0m",
            "\u001b[0;31mIndexError\u001b[0m                                Traceback (most recent call last)",
            "\u001b[0;32m/tmp/ipython-input-3486957132.py\u001b[0m in \u001b[0;36m<cell line: 0>\u001b[0;34m()\u001b[0m\n\u001b[0;32m----> 1\u001b[0;31m \u001b[0;32mfor\u001b[0m \u001b[0mchild\u001b[0m \u001b[0;32min\u001b[0m \u001b[0mroots\u001b[0m\u001b[0;34m[\u001b[0m\u001b[0;36m2\u001b[0m\u001b[0;34m]\u001b[0m\u001b[0;34m[\u001b[0m\u001b[0;36m2\u001b[0m\u001b[0;34m]\u001b[0m\u001b[0;34m[\u001b[0m\u001b[0;36m5\u001b[0m\u001b[0;34m]\u001b[0m\u001b[0;34m[\u001b[0m\u001b[0;36m7\u001b[0m\u001b[0;34m]\u001b[0m\u001b[0;34m[\u001b[0m\u001b[0;36m2\u001b[0m\u001b[0;34m]\u001b[0m\u001b[0;34m:\u001b[0m\u001b[0;34m\u001b[0m\u001b[0;34m\u001b[0m\u001b[0m\n\u001b[0m\u001b[1;32m      2\u001b[0m     \u001b[0mprint\u001b[0m\u001b[0;34m(\u001b[0m\u001b[0mchild\u001b[0m\u001b[0;34m.\u001b[0m\u001b[0mtext\u001b[0m\u001b[0;34m)\u001b[0m\u001b[0;34m\u001b[0m\u001b[0;34m\u001b[0m\u001b[0m\n",
            "\u001b[0;31mIndexError\u001b[0m: child index out of range"
          ]
        }
      ],
      "source": [
        "for child in roots[2][2][5][7][2]:\n",
        "    print(child.text)"
      ]
    }
  ],
  "metadata": {
    "kernelspec": {
      "display_name": "Python [conda env:base-plus] *",
      "language": "python",
      "name": "conda-env-base-plus-py"
    },
    "language_info": {
      "codemirror_mode": {
        "name": "ipython",
        "version": 3
      },
      "file_extension": ".py",
      "mimetype": "text/x-python",
      "name": "python",
      "nbconvert_exporter": "python",
      "pygments_lexer": "ipython3",
      "version": "3.13.0"
    },
    "colab": {
      "provenance": [],
      "toc_visible": true,
      "include_colab_link": true
    }
  },
  "nbformat": 4,
  "nbformat_minor": 5
}