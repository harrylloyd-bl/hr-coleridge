{
 "cells": [
  {
   "cell_type": "markdown",
   "metadata": {
    "id": "ge_Cq0FFaIrR"
   },
   "source": [
    "# Exploring Entity Co-occurrence Networks\n",
    "\n"
   ]
  },
  {
   "cell_type": "markdown",
   "metadata": {},
   "source": [
    "This notebook is adapted from the Impresso original at this Colab link: <a target=\"_blank\" href=\"https://colab.research.google.com/github/impresso/impresso-datalab-notebooks/blob/main/explore-vis/entity_network.ipynb\">\n",
    "  <img src=\"https://colab.research.google.com/assets/colab-badge.svg\" alt=\"Open In Colab\"/>\n",
    "</a>"
   ]
  },
  {
   "cell_type": "markdown",
   "metadata": {
    "id": "XD6ePQiEfYIR"
   },
   "source": [
    "## What is this notebook about?\n",
    "\n",
    "This notebook guides you step-by-step through how to create network graphs that represent people's connections in historical newspapers. We define people's connections based on whether their names are mentioned in the same content item.\n",
    "\n",
    "> In Impresso, a **Content Item** is the smallest unit of editorial content within a newspaper or radio collection. This can be an article (for newspapers) or a radio show or episode (for radio programs). Content items can also vary by type, including articles, advertisements, tables, images, and more. Please note that when a newspaper does not have segmentation ([OLR - Optical Layout Recognition](https://impresso-project.ch/app/faq#What-OCR)) content items for this title correspond to pages.\n",
    "\n",
    "With this notebook, you can produce a representation of the media narratives by looking at how people have been associated to others by the press. Interpreting this association, however, can be tricky. It doesn't mean necessarily that those people have had any type of relationship. It just means that their names have been mentioned in, for example, the same news article. Understanding the reasons behind a co-occurrence typically requires further contextual or qualitative analysis."
   ]
  },
  {
   "cell_type": "markdown",
   "metadata": {
    "id": "9OaaCBxofYIS"
   },
   "source": [
    "## What will you learn?\n",
    "\n",
    "By completing this notebook, you will learn how to:\n",
    "\n",
    "* Retrieve a list of persons (named entities) mentioned in content items for a given query;\n",
    "* Transform this list of entities into a dataframe suitable for generating co-occurrence network graphs;\n",
    "* Create and display an interactive network graph to visualise connections between persons mentioned together in Impresso content;\n",
    "* Export the resulting dataframes as CSV files to support reproducibility;\n",
    "* Save the network graph in different formats (png, svg, gexf, and json) for further analysis."
   ]
  },
  {
   "cell_type": "markdown",
   "metadata": {
    "id": "3aIAuslEfYIT"
   },
   "source": [
    "## Useful resources\n",
    "\n",
    "If you’d like to go deeper into network analysis or its use in historical research, the following resources are recommended:\n",
    "\n",
    "- [From Hermeneutics to Data to Networks: Data Extraction and Network Visualization of Historical Sources](https://programminghistorian.org/en/lessons/creating-network-diagrams-from-historical-sources): A conceptual and practical guide to extracting structured data from historical sources and creating meaningful network visualizations.\n",
    "- [Exploring and Analyzing Network Data with Python](https://programminghistorian.org/en/lessons/exploring-and-analyzing-network-data-with-python): An introduction to working with the NetworkX package and  drawing conclusions from network metrics when working with humanities data.\n",
    "\n",
    "Additional references:\n",
    "\n",
    "- [Impresso Public API documentation](https://impresso-project.ch/public-api/v1/docs/)\n",
    "\n",
    "- [Impresso python library](https://pypi.org/project/impresso/)\n",
    "\n",
    "- [NetworkX documentation](https://networkx.org/documentation/stable/reference/index.html)\n",
    "\n",
    "- [ipysigma documentation](https://github.com/medialab/ipysigma)\n"
   ]
  },
  {
   "cell_type": "markdown",
   "metadata": {
    "id": "-2mdVb3EfYIU"
   },
   "source": [
    "\n",
    "## Prerequisites\n"
   ]
  },
  {
   "cell_type": "markdown",
   "metadata": {
    "id": "TwR9UmpvaLhp"
   },
   "source": [
    "Install dependencies. You may need to restart the kernel to use updated packages. To do so, on Google Colab, go to *Runtime* and select *Restart session*."
   ]
  },
  {
   "cell_type": "code",
   "execution_count": 3,
   "metadata": {},
   "outputs": [],
   "source": [
    "# !mamba install ipysigma networkx tqdm pandas"
   ]
  },
  {
   "cell_type": "code",
   "execution_count": 4,
   "metadata": {
    "colab": {
     "base_uri": "https://localhost:8080/"
    },
    "id": "WRpCUxZdaGUf",
    "outputId": "2c73844d-eb5d-444a-eb83-d690723a8c70"
   },
   "outputs": [],
   "source": [
    "# %pip install -q ipysigma networkx tqdm pandas"
   ]
  },
  {
   "cell_type": "markdown",
   "metadata": {
    "id": "ArCk-DkOfYIY"
   },
   "source": [
    "# Part 1. Prepare your data"
   ]
  },
  {
   "cell_type": "markdown",
   "metadata": {
    "id": "b-2vEEpkawoj"
   },
   "source": [
    "## Get entities and their co-occurrences"
   ]
  },
  {
   "cell_type": "markdown",
   "metadata": {},
   "source": [
    "**Coleridge To Do**\n",
    "- Extract entities from xml\n",
    "- Use properties of xml to create relationships between entities in the xml\n",
    "    - Survey numbers\n",
    "- Use tag attributes to apply properties to entities\n"
   ]
  },
  {
   "cell_type": "markdown",
   "metadata": {
    "id": "b-2vEEpkawoj"
   },
   "source": [
    "First, we retrieve the top 100 most frequently mentioned person entities in all articles that talk about the [Prague Spring](https://en.wikipedia.org/wiki/Prague_Spring) using search facets method from the Impresso Python library.\n",
    "\n",
    "> **Facets** are properties of the data. In Impresso, some facets you can use to filter articles are language, newspaper, date of publication, etc. By using search facets method, you can filter by, for example, *persons* as shown in the example below."
   ]
  },
  {
   "cell_type": "code",
   "execution_count": 6,
   "metadata": {},
   "outputs": [
    {
     "ename": "ModuleNotFoundError",
     "evalue": "No module named 'impresso'",
     "output_type": "error",
     "traceback": [
      "\u001b[31m---------------------------------------------------------------------------\u001b[39m",
      "\u001b[31mModuleNotFoundError\u001b[39m                       Traceback (most recent call last)",
      "\u001b[36mCell\u001b[39m\u001b[36m \u001b[39m\u001b[32mIn[6]\u001b[39m\u001b[32m, line 1\u001b[39m\n\u001b[32m----> \u001b[39m\u001b[32m1\u001b[39m \u001b[38;5;28;01mfrom\u001b[39;00m\u001b[38;5;250m \u001b[39m\u001b[34;01mimpresso\u001b[39;00m\u001b[38;5;250m \u001b[39m\u001b[38;5;28;01mimport\u001b[39;00m connect, OR, AND\n\u001b[32m      3\u001b[39m impresso_session = connect()\n",
      "\u001b[31mModuleNotFoundError\u001b[39m: No module named 'impresso'"
     ]
    }
   ],
   "source": [
    "from impresso import connect, OR, AND\n",
    "\n",
    "impresso_session = connect()"
   ]
  },
  {
   "cell_type": "code",
   "execution_count": 5,
   "metadata": {
    "colab": {
     "base_uri": "https://localhost:8080/",
     "height": 315
    },
    "id": "ebAC0LuZEooc",
    "outputId": "bbfd9357-e22f-4d26-ff54-7766bfaf973c"
   },
   "outputs": [
    {
     "ename": "NameError",
     "evalue": "name 'OR' is not defined",
     "output_type": "error",
     "traceback": [
      "\u001b[31m---------------------------------------------------------------------------\u001b[39m",
      "\u001b[31mNameError\u001b[39m                                 Traceback (most recent call last)",
      "\u001b[36mCell\u001b[39m\u001b[36m \u001b[39m\u001b[32mIn[5]\u001b[39m\u001b[32m, line 1\u001b[39m\n\u001b[32m----> \u001b[39m\u001b[32m1\u001b[39m query = \u001b[43mOR\u001b[49m(\u001b[33m\"\u001b[39m\u001b[33mPrague Spring\u001b[39m\u001b[33m\"\u001b[39m, \u001b[33m\"\u001b[39m\u001b[33mPrager Frühling\u001b[39m\u001b[33m\"\u001b[39m, \u001b[33m\"\u001b[39m\u001b[33mPrintemps de Prague\u001b[39m\u001b[33m\"\u001b[39m)\n\u001b[32m      3\u001b[39m persons = impresso_session.search.facet(\n\u001b[32m      4\u001b[39m   facet=\u001b[33m\"\u001b[39m\u001b[33mperson\u001b[39m\u001b[33m\"\u001b[39m,\n\u001b[32m      5\u001b[39m   term=query,\n\u001b[32m      6\u001b[39m   order_by=\u001b[33m\"\u001b[39m\u001b[33m-count\u001b[39m\u001b[33m\"\u001b[39m,\n\u001b[32m      7\u001b[39m   limit=\u001b[32m100\u001b[39m\n\u001b[32m      8\u001b[39m )\n\u001b[32m      9\u001b[39m persons\n",
      "\u001b[31mNameError\u001b[39m: name 'OR' is not defined"
     ]
    }
   ],
   "source": [
    "query = OR(\"Prague Spring\", \"Prager Frühling\", \"Printemps de Prague\")\n",
    "\n",
    "persons = impresso_session.search.facet(\n",
    "  facet=\"person\",\n",
    "  term=query,\n",
    "  order_by=\"-count\",\n",
    "  limit=100\n",
    ")\n",
    "persons"
   ]
  },
  {
   "cell_type": "markdown",
   "metadata": {
    "id": "o1SJbmUyfYIe"
   },
   "source": [
    "The result is a list of the 100 most frequently mentioned person entities, where each entry includes:\n",
    "\n",
    "* a unique identifier (value),\n",
    "* the number of times the person is mentioned (count),\n",
    "* and the display name (label).\n",
    "\n",
    "Note: these 100 entries are the most frequent out of a total of 2,355 persons mentioned in all matched content items."
   ]
  },
  {
   "cell_type": "markdown",
   "metadata": {
    "id": "3zJPhvgXcR9d"
   },
   "source": [
    "Next, we generate all unique pairs of entities with a mention count higher than `n`. This will filter out pairs of entities that are mentioned just a few times.\n",
    "\n",
    "**Important note:** for now, we are just combining all the entities in pairs. The documents in which they occur will be found later.\n",
    "\n",
    "First, entities that meet the mention threshold are selected, and then all possible pairs are generated using the `itertools.combinations` function.\n",
    "\n",
    "The `n` value can be adjusted so that we don't get too many entity combinations. A sweet spot is just under 500 combinations. Keeping the number of combinations under 500 is typically recommended to avoid API throttling."
   ]
  },
  {
   "cell_type": "code",
   "execution_count": 5,
   "metadata": {
    "colab": {
     "base_uri": "https://localhost:8080/"
    },
    "id": "noFYDdkTcbZU",
    "outputId": "43652b13-7c62-44f0-d238-c25ee180a114"
   },
   "outputs": [
    {
     "name": "stdout",
     "output_type": "stream",
     "text": [
      "Total persons selected: 30\n",
      "Total combinations: 435\n"
     ]
    }
   ],
   "source": [
    "import itertools\n",
    "\n",
    "n = 6\n",
    "\n",
    "df = persons.df\n",
    "df = df[df[\"count\"] > n]\n",
    "persons_ids = df.index.tolist()\n",
    "print(f\"Total persons selected: {len(persons_ids)}\")\n",
    "\n",
    "person_ids_combinations = list(itertools.combinations(persons_ids, 2))\n",
    "print(f\"Total combinations: {len(person_ids_combinations)}\")\n",
    "\n",
    "# The code below outputs an Exception message in case the number of combinations exceed 500.\n",
    "# If this happens to you, try to increase the value of 'n'.\n",
    "\n",
    "if len(person_ids_combinations) > 500:\n",
    "  msg = (\n",
    "      f\"The number of combinations is quite high ({len(person_ids_combinations)}). \" +\n",
    "      \"This may put a lot of load on Impresso and your requests may be throttled. \" +\n",
    "      \"Try to increase the threshold number of mentions in the cell above which will reduce the number of selected persons. \" +\n",
    "      \"You can also disable this error by commenting out this cell, if this number of combinations is expected.\"\n",
    "  )\n",
    "  raise Exception(msg)\n"
   ]
  },
  {
   "cell_type": "markdown",
   "metadata": {
    "id": "M2tpzlOWdpjX"
   },
   "source": [
    "\n",
    "## Find articles where the entity pairs occur\n",
    "\n",
    "We also retrieve the dates and the number of articles where person entity pairs occur.\n",
    "\n",
    "This piece of code gets a facet for every combination of named entities. It is a single call per combination so it may take a while for a large number of combinations."
   ]
  },
  {
   "cell_type": "code",
   "execution_count": 6,
   "metadata": {
    "colab": {
     "base_uri": "https://localhost:8080/"
    },
    "id": "d-yxLSCQdpAz",
    "jupyter": {
     "is_executing": true
    },
    "outputId": "d051fdd7-5f07-4a18-a9ee-11a1042967aa"
   },
   "outputs": [
    {
     "name": "stderr",
     "output_type": "stream",
     "text": [
      "100%|██████████| 435/435 [01:43<00:00,  4.21it/s]\n"
     ]
    }
   ],
   "source": [
    "from impresso.util.error import ImpressoError\n",
    "from time import sleep\n",
    "from tqdm import tqdm\n",
    "\n",
    "connections = []\n",
    "\n",
    "# iterate over entity combinations, and build a query from each pair, faceting on `daterange`\n",
    "# the `query` variable hold the same value as above, i.e. keyword search for articles\n",
    "for idx, combo in tqdm(enumerate(person_ids_combinations), total=len(person_ids_combinations)):\n",
    "  try:\n",
    "    result = impresso_session.search.facet(\n",
    "      facet=\"daterange\",\n",
    "      term=query,\n",
    "      entity_id=AND(*combo),\n",
    "      limit=1000\n",
    "    )\n",
    "  except ImpressoError as e:\n",
    "    # a 429 status code means that the request has been throttled\n",
    "    # we sleep for 2 seconds and try again\n",
    "    if e.error.status == 429:\n",
    "      print(f\"Request throttled for {combo}. Retrying in 2s...\")\n",
    "      sleep(2)\n",
    "      try:\n",
    "          result = impresso_session.search.facet(\n",
    "          facet=\"daterange\",\n",
    "          term=query,\n",
    "          entity_id=AND(*combo),\n",
    "          limit=1000\n",
    "           )\n",
    "      except ImpressoError as e2:\n",
    "        print(f\"Retry failed for {combo}: {e2}\")\n",
    "      else:\n",
    "        print(f\"Error with {combo}: {e}\")\n",
    "\n",
    "  if result.size > 0:\n",
    "    df = result.df\n",
    "\n",
    "    items = list(zip(df.index.tolist(), df['count'].tolist(), [result.url for i in range(len(df))]))\n",
    "    connections.append((combo, items))"
   ]
  },
  {
   "cell_type": "markdown",
   "metadata": {
    "id": "Ak1rEp7Omi6_"
   },
   "source": [
    "We put all in a dataframe. Each row represents a co-occurrence event between two named persons in the Impresso dataset, for a specific date.\n",
    "\n",
    "The dataframe includes:\n",
    "\n",
    "* **node_a, node_b:** the unique identifiers of the co-mentioned persons;\n",
    "* **timestamp:** the date of publication of the articles where they co-occurred;\n",
    "* **count:** the number of articles on that date mentioning both entities;\n",
    "* **url:** a direct link to the matching articles in the Impresso web app."
   ]
  },
  {
   "cell_type": "code",
   "execution_count": 7,
   "metadata": {
    "colab": {
     "base_uri": "https://localhost:8080/",
     "height": 423
    },
    "id": "qkgCRrr3ez3r",
    "outputId": "3977fbe6-c1c9-4d0e-ef9f-ae6a2ad5939d"
   },
   "outputs": [
    {
     "data": {
      "application/vnd.google.colaboratory.intrinsic+json": {
       "summary": "{\n  \"name\": \"connections_df\",\n  \"rows\": 198,\n  \"fields\": [\n    {\n      \"column\": \"node_a\",\n      \"properties\": {\n        \"dtype\": \"category\",\n        \"num_unique_values\": 20,\n        \"samples\": [\n          \"aida-0001-50-Alexander_Dub\\u010dek\",\n          \"aida-0001-50-Milo\\u0161_Forman\",\n          \"aida-0001-50-Herbert_von_Karajan\"\n        ],\n        \"semantic_type\": \"\",\n        \"description\": \"\"\n      }\n    },\n    {\n      \"column\": \"node_b\",\n      \"properties\": {\n        \"dtype\": \"category\",\n        \"num_unique_values\": 28,\n        \"samples\": [\n          \"aida-0001-50-Anton\\u00edn_Novotn\\u00fd\",\n          \"aida-0001-50-Jean_Marais\",\n          \"aida-0001-50-Willy_Brandt\"\n        ],\n        \"semantic_type\": \"\",\n        \"description\": \"\"\n      }\n    },\n    {\n      \"column\": \"timestamp\",\n      \"properties\": {\n        \"dtype\": \"object\",\n        \"num_unique_values\": 22,\n        \"samples\": [\n          \"1968-10-02T00:00:00Z\",\n          \"1972-10-02T00:00:00Z\",\n          \"1967-10-02T00:00:00Z\"\n        ],\n        \"semantic_type\": \"\",\n        \"description\": \"\"\n      }\n    },\n    {\n      \"column\": \"count\",\n      \"properties\": {\n        \"dtype\": \"number\",\n        \"std\": 1,\n        \"min\": 1,\n        \"max\": 10,\n        \"num_unique_values\": 7,\n        \"samples\": [\n          4,\n          10,\n          9\n        ],\n        \"semantic_type\": \"\",\n        \"description\": \"\"\n      }\n    },\n    {\n      \"column\": \"url\",\n      \"properties\": {\n        \"dtype\": \"string\",\n        \"num_unique_values\": 106,\n        \"samples\": [\n          \"https://impresso-project.ch/app/search?index=search&facet=type&domain=daterange&sq=CjgYByoQUHJhZ2VyIEZyw7xobGluZyoTUHJpbnRlbXBzIGRlIFByYWd1ZSoNUHJhZ3VlIFNwcmluZwpAEAEYCCocYWlkYS0wMDAxLTUwLVdhbHRlcl9VbGJyaWNodCocYWlkYS0wMDAxLTUwLUpvaGFubmVzX0JyYWhtcw==&p=1\",\n          \"https://impresso-project.ch/app/search?index=search&facet=type&domain=daterange&sq=CjgYByoQUHJhZ2VyIEZyw7xobGluZyoTUHJpbnRlbXBzIGRlIFByYWd1ZSoNUHJhZ3VlIFNwcmluZwpDEAEYCCoeYWlkYS0wMDAxLTUwLUFsZXhhbmRlcl9EdWLEjWVrKh1haWRhLTAwMDEtNTAtWmRlbsSba19NbHluw6HFmQ==&p=1\",\n          \"https://impresso-project.ch/app/search?index=search&facet=type&domain=daterange&sq=CjgYByoQUHJhZ2VyIEZyw7xobGluZyoTUHJpbnRlbXBzIGRlIFByYWd1ZSoNUHJhZ3VlIFNwcmluZwo9EAEYCCoeYWlkYS0wMDAxLTUwLUFsZXhhbmRlcl9EdWLEjWVrKhdhaWRhLTAwMDEtNTAtSmFuX1BhbGFjaA==&p=1\"\n        ],\n        \"semantic_type\": \"\",\n        \"description\": \"\"\n      }\n    }\n  ]\n}",
       "type": "dataframe",
       "variable_name": "connections_df"
      },
      "text/html": [
       "\n",
       "  <div id=\"df-127862a8-aabc-451a-a4dd-4fd7570a18b5\" class=\"colab-df-container\">\n",
       "    <div>\n",
       "<style scoped>\n",
       "    .dataframe tbody tr th:only-of-type {\n",
       "        vertical-align: middle;\n",
       "    }\n",
       "\n",
       "    .dataframe tbody tr th {\n",
       "        vertical-align: top;\n",
       "    }\n",
       "\n",
       "    .dataframe thead th {\n",
       "        text-align: right;\n",
       "    }\n",
       "</style>\n",
       "<table border=\"1\" class=\"dataframe\">\n",
       "  <thead>\n",
       "    <tr style=\"text-align: right;\">\n",
       "      <th></th>\n",
       "      <th>node_a</th>\n",
       "      <th>node_b</th>\n",
       "      <th>timestamp</th>\n",
       "      <th>count</th>\n",
       "      <th>url</th>\n",
       "    </tr>\n",
       "  </thead>\n",
       "  <tbody>\n",
       "    <tr>\n",
       "      <th>0</th>\n",
       "      <td>aida-0001-50-Alexander_Dubček</td>\n",
       "      <td>aida-0001-50-Gustáv_Husák</td>\n",
       "      <td>1968-10-02T00:00:00Z</td>\n",
       "      <td>4</td>\n",
       "      <td>https://impresso-project.ch/app/search?index=s...</td>\n",
       "    </tr>\n",
       "    <tr>\n",
       "      <th>1</th>\n",
       "      <td>aida-0001-50-Alexander_Dubček</td>\n",
       "      <td>aida-0001-50-Gustáv_Husák</td>\n",
       "      <td>1969-10-02T00:00:00Z</td>\n",
       "      <td>10</td>\n",
       "      <td>https://impresso-project.ch/app/search?index=s...</td>\n",
       "    </tr>\n",
       "    <tr>\n",
       "      <th>2</th>\n",
       "      <td>aida-0001-50-Alexander_Dubček</td>\n",
       "      <td>aida-0001-50-Gustáv_Husák</td>\n",
       "      <td>1973-10-02T00:00:00Z</td>\n",
       "      <td>1</td>\n",
       "      <td>https://impresso-project.ch/app/search?index=s...</td>\n",
       "    </tr>\n",
       "    <tr>\n",
       "      <th>3</th>\n",
       "      <td>aida-0001-50-Alexander_Dubček</td>\n",
       "      <td>aida-0001-50-Gustáv_Husák</td>\n",
       "      <td>1974-10-02T00:00:00Z</td>\n",
       "      <td>2</td>\n",
       "      <td>https://impresso-project.ch/app/search?index=s...</td>\n",
       "    </tr>\n",
       "    <tr>\n",
       "      <th>4</th>\n",
       "      <td>aida-0001-50-Alexander_Dubček</td>\n",
       "      <td>aida-0001-50-Gustáv_Husák</td>\n",
       "      <td>1977-10-02T00:00:00Z</td>\n",
       "      <td>2</td>\n",
       "      <td>https://impresso-project.ch/app/search?index=s...</td>\n",
       "    </tr>\n",
       "    <tr>\n",
       "      <th>...</th>\n",
       "      <td>...</td>\n",
       "      <td>...</td>\n",
       "      <td>...</td>\n",
       "      <td>...</td>\n",
       "      <td>...</td>\n",
       "    </tr>\n",
       "    <tr>\n",
       "      <th>193</th>\n",
       "      <td>aida-0001-50-Miloš_Forman</td>\n",
       "      <td>aida-0001-50-Alessandro_Cagliostro</td>\n",
       "      <td>1975-10-02T00:00:00Z</td>\n",
       "      <td>1</td>\n",
       "      <td>https://impresso-project.ch/app/search?index=s...</td>\n",
       "    </tr>\n",
       "    <tr>\n",
       "      <th>194</th>\n",
       "      <td>aida-0001-50-Miloš_Forman</td>\n",
       "      <td>aida-0001-50-Jean_Marais</td>\n",
       "      <td>1975-10-02T00:00:00Z</td>\n",
       "      <td>1</td>\n",
       "      <td>https://impresso-project.ch/app/search?index=s...</td>\n",
       "    </tr>\n",
       "    <tr>\n",
       "      <th>195</th>\n",
       "      <td>aida-0001-50-Paul_Lendvai</td>\n",
       "      <td>aida-0001-50-Jiří_Hájek</td>\n",
       "      <td>1976-10-02T00:00:00Z</td>\n",
       "      <td>1</td>\n",
       "      <td>https://impresso-project.ch/app/search?index=s...</td>\n",
       "    </tr>\n",
       "    <tr>\n",
       "      <th>196</th>\n",
       "      <td>aida-0001-50-Paul_Lendvai</td>\n",
       "      <td>aida-0001-50-Lubomír_Štrougal</td>\n",
       "      <td>1975-10-02T00:00:00Z</td>\n",
       "      <td>1</td>\n",
       "      <td>https://impresso-project.ch/app/search?index=s...</td>\n",
       "    </tr>\n",
       "    <tr>\n",
       "      <th>197</th>\n",
       "      <td>aida-0001-50-Alessandro_Cagliostro</td>\n",
       "      <td>aida-0001-50-Jean_Marais</td>\n",
       "      <td>1975-10-02T00:00:00Z</td>\n",
       "      <td>6</td>\n",
       "      <td>https://impresso-project.ch/app/search?index=s...</td>\n",
       "    </tr>\n",
       "  </tbody>\n",
       "</table>\n",
       "<p>198 rows × 5 columns</p>\n",
       "</div>\n",
       "    <div class=\"colab-df-buttons\">\n",
       "\n",
       "  <div class=\"colab-df-container\">\n",
       "    <button class=\"colab-df-convert\" onclick=\"convertToInteractive('df-127862a8-aabc-451a-a4dd-4fd7570a18b5')\"\n",
       "            title=\"Convert this dataframe to an interactive table.\"\n",
       "            style=\"display:none;\">\n",
       "\n",
       "  <svg xmlns=\"http://www.w3.org/2000/svg\" height=\"24px\" viewBox=\"0 -960 960 960\">\n",
       "    <path d=\"M120-120v-720h720v720H120Zm60-500h600v-160H180v160Zm220 220h160v-160H400v160Zm0 220h160v-160H400v160ZM180-400h160v-160H180v160Zm440 0h160v-160H620v160ZM180-180h160v-160H180v160Zm440 0h160v-160H620v160Z\"/>\n",
       "  </svg>\n",
       "    </button>\n",
       "\n",
       "  <style>\n",
       "    .colab-df-container {\n",
       "      display:flex;\n",
       "      gap: 12px;\n",
       "    }\n",
       "\n",
       "    .colab-df-convert {\n",
       "      background-color: #E8F0FE;\n",
       "      border: none;\n",
       "      border-radius: 50%;\n",
       "      cursor: pointer;\n",
       "      display: none;\n",
       "      fill: #1967D2;\n",
       "      height: 32px;\n",
       "      padding: 0 0 0 0;\n",
       "      width: 32px;\n",
       "    }\n",
       "\n",
       "    .colab-df-convert:hover {\n",
       "      background-color: #E2EBFA;\n",
       "      box-shadow: 0px 1px 2px rgba(60, 64, 67, 0.3), 0px 1px 3px 1px rgba(60, 64, 67, 0.15);\n",
       "      fill: #174EA6;\n",
       "    }\n",
       "\n",
       "    .colab-df-buttons div {\n",
       "      margin-bottom: 4px;\n",
       "    }\n",
       "\n",
       "    [theme=dark] .colab-df-convert {\n",
       "      background-color: #3B4455;\n",
       "      fill: #D2E3FC;\n",
       "    }\n",
       "\n",
       "    [theme=dark] .colab-df-convert:hover {\n",
       "      background-color: #434B5C;\n",
       "      box-shadow: 0px 1px 3px 1px rgba(0, 0, 0, 0.15);\n",
       "      filter: drop-shadow(0px 1px 2px rgba(0, 0, 0, 0.3));\n",
       "      fill: #FFFFFF;\n",
       "    }\n",
       "  </style>\n",
       "\n",
       "    <script>\n",
       "      const buttonEl =\n",
       "        document.querySelector('#df-127862a8-aabc-451a-a4dd-4fd7570a18b5 button.colab-df-convert');\n",
       "      buttonEl.style.display =\n",
       "        google.colab.kernel.accessAllowed ? 'block' : 'none';\n",
       "\n",
       "      async function convertToInteractive(key) {\n",
       "        const element = document.querySelector('#df-127862a8-aabc-451a-a4dd-4fd7570a18b5');\n",
       "        const dataTable =\n",
       "          await google.colab.kernel.invokeFunction('convertToInteractive',\n",
       "                                                    [key], {});\n",
       "        if (!dataTable) return;\n",
       "\n",
       "        const docLinkHtml = 'Like what you see? Visit the ' +\n",
       "          '<a target=\"_blank\" href=https://colab.research.google.com/notebooks/data_table.ipynb>data table notebook</a>'\n",
       "          + ' to learn more about interactive tables.';\n",
       "        element.innerHTML = '';\n",
       "        dataTable['output_type'] = 'display_data';\n",
       "        await google.colab.output.renderOutput(dataTable, element);\n",
       "        const docLink = document.createElement('div');\n",
       "        docLink.innerHTML = docLinkHtml;\n",
       "        element.appendChild(docLink);\n",
       "      }\n",
       "    </script>\n",
       "  </div>\n",
       "\n",
       "\n",
       "    <div id=\"df-1bff6c97-9764-4bea-b7bf-3e60dffe2b99\">\n",
       "      <button class=\"colab-df-quickchart\" onclick=\"quickchart('df-1bff6c97-9764-4bea-b7bf-3e60dffe2b99')\"\n",
       "                title=\"Suggest charts\"\n",
       "                style=\"display:none;\">\n",
       "\n",
       "<svg xmlns=\"http://www.w3.org/2000/svg\" height=\"24px\"viewBox=\"0 0 24 24\"\n",
       "     width=\"24px\">\n",
       "    <g>\n",
       "        <path d=\"M19 3H5c-1.1 0-2 .9-2 2v14c0 1.1.9 2 2 2h14c1.1 0 2-.9 2-2V5c0-1.1-.9-2-2-2zM9 17H7v-7h2v7zm4 0h-2V7h2v10zm4 0h-2v-4h2v4z\"/>\n",
       "    </g>\n",
       "</svg>\n",
       "      </button>\n",
       "\n",
       "<style>\n",
       "  .colab-df-quickchart {\n",
       "      --bg-color: #E8F0FE;\n",
       "      --fill-color: #1967D2;\n",
       "      --hover-bg-color: #E2EBFA;\n",
       "      --hover-fill-color: #174EA6;\n",
       "      --disabled-fill-color: #AAA;\n",
       "      --disabled-bg-color: #DDD;\n",
       "  }\n",
       "\n",
       "  [theme=dark] .colab-df-quickchart {\n",
       "      --bg-color: #3B4455;\n",
       "      --fill-color: #D2E3FC;\n",
       "      --hover-bg-color: #434B5C;\n",
       "      --hover-fill-color: #FFFFFF;\n",
       "      --disabled-bg-color: #3B4455;\n",
       "      --disabled-fill-color: #666;\n",
       "  }\n",
       "\n",
       "  .colab-df-quickchart {\n",
       "    background-color: var(--bg-color);\n",
       "    border: none;\n",
       "    border-radius: 50%;\n",
       "    cursor: pointer;\n",
       "    display: none;\n",
       "    fill: var(--fill-color);\n",
       "    height: 32px;\n",
       "    padding: 0;\n",
       "    width: 32px;\n",
       "  }\n",
       "\n",
       "  .colab-df-quickchart:hover {\n",
       "    background-color: var(--hover-bg-color);\n",
       "    box-shadow: 0 1px 2px rgba(60, 64, 67, 0.3), 0 1px 3px 1px rgba(60, 64, 67, 0.15);\n",
       "    fill: var(--button-hover-fill-color);\n",
       "  }\n",
       "\n",
       "  .colab-df-quickchart-complete:disabled,\n",
       "  .colab-df-quickchart-complete:disabled:hover {\n",
       "    background-color: var(--disabled-bg-color);\n",
       "    fill: var(--disabled-fill-color);\n",
       "    box-shadow: none;\n",
       "  }\n",
       "\n",
       "  .colab-df-spinner {\n",
       "    border: 2px solid var(--fill-color);\n",
       "    border-color: transparent;\n",
       "    border-bottom-color: var(--fill-color);\n",
       "    animation:\n",
       "      spin 1s steps(1) infinite;\n",
       "  }\n",
       "\n",
       "  @keyframes spin {\n",
       "    0% {\n",
       "      border-color: transparent;\n",
       "      border-bottom-color: var(--fill-color);\n",
       "      border-left-color: var(--fill-color);\n",
       "    }\n",
       "    20% {\n",
       "      border-color: transparent;\n",
       "      border-left-color: var(--fill-color);\n",
       "      border-top-color: var(--fill-color);\n",
       "    }\n",
       "    30% {\n",
       "      border-color: transparent;\n",
       "      border-left-color: var(--fill-color);\n",
       "      border-top-color: var(--fill-color);\n",
       "      border-right-color: var(--fill-color);\n",
       "    }\n",
       "    40% {\n",
       "      border-color: transparent;\n",
       "      border-right-color: var(--fill-color);\n",
       "      border-top-color: var(--fill-color);\n",
       "    }\n",
       "    60% {\n",
       "      border-color: transparent;\n",
       "      border-right-color: var(--fill-color);\n",
       "    }\n",
       "    80% {\n",
       "      border-color: transparent;\n",
       "      border-right-color: var(--fill-color);\n",
       "      border-bottom-color: var(--fill-color);\n",
       "    }\n",
       "    90% {\n",
       "      border-color: transparent;\n",
       "      border-bottom-color: var(--fill-color);\n",
       "    }\n",
       "  }\n",
       "</style>\n",
       "\n",
       "      <script>\n",
       "        async function quickchart(key) {\n",
       "          const quickchartButtonEl =\n",
       "            document.querySelector('#' + key + ' button');\n",
       "          quickchartButtonEl.disabled = true;  // To prevent multiple clicks.\n",
       "          quickchartButtonEl.classList.add('colab-df-spinner');\n",
       "          try {\n",
       "            const charts = await google.colab.kernel.invokeFunction(\n",
       "                'suggestCharts', [key], {});\n",
       "          } catch (error) {\n",
       "            console.error('Error during call to suggestCharts:', error);\n",
       "          }\n",
       "          quickchartButtonEl.classList.remove('colab-df-spinner');\n",
       "          quickchartButtonEl.classList.add('colab-df-quickchart-complete');\n",
       "        }\n",
       "        (() => {\n",
       "          let quickchartButtonEl =\n",
       "            document.querySelector('#df-1bff6c97-9764-4bea-b7bf-3e60dffe2b99 button');\n",
       "          quickchartButtonEl.style.display =\n",
       "            google.colab.kernel.accessAllowed ? 'block' : 'none';\n",
       "        })();\n",
       "      </script>\n",
       "    </div>\n",
       "\n",
       "  <div id=\"id_4b7bbdb5-3888-463d-a92a-0a776df128bb\">\n",
       "    <style>\n",
       "      .colab-df-generate {\n",
       "        background-color: #E8F0FE;\n",
       "        border: none;\n",
       "        border-radius: 50%;\n",
       "        cursor: pointer;\n",
       "        display: none;\n",
       "        fill: #1967D2;\n",
       "        height: 32px;\n",
       "        padding: 0 0 0 0;\n",
       "        width: 32px;\n",
       "      }\n",
       "\n",
       "      .colab-df-generate:hover {\n",
       "        background-color: #E2EBFA;\n",
       "        box-shadow: 0px 1px 2px rgba(60, 64, 67, 0.3), 0px 1px 3px 1px rgba(60, 64, 67, 0.15);\n",
       "        fill: #174EA6;\n",
       "      }\n",
       "\n",
       "      [theme=dark] .colab-df-generate {\n",
       "        background-color: #3B4455;\n",
       "        fill: #D2E3FC;\n",
       "      }\n",
       "\n",
       "      [theme=dark] .colab-df-generate:hover {\n",
       "        background-color: #434B5C;\n",
       "        box-shadow: 0px 1px 3px 1px rgba(0, 0, 0, 0.15);\n",
       "        filter: drop-shadow(0px 1px 2px rgba(0, 0, 0, 0.3));\n",
       "        fill: #FFFFFF;\n",
       "      }\n",
       "    </style>\n",
       "    <button class=\"colab-df-generate\" onclick=\"generateWithVariable('connections_df')\"\n",
       "            title=\"Generate code using this dataframe.\"\n",
       "            style=\"display:none;\">\n",
       "\n",
       "  <svg xmlns=\"http://www.w3.org/2000/svg\" height=\"24px\"viewBox=\"0 0 24 24\"\n",
       "       width=\"24px\">\n",
       "    <path d=\"M7,19H8.4L18.45,9,17,7.55,7,17.6ZM5,21V16.75L18.45,3.32a2,2,0,0,1,2.83,0l1.4,1.43a1.91,1.91,0,0,1,.58,1.4,1.91,1.91,0,0,1-.58,1.4L9.25,21ZM18.45,9,17,7.55Zm-12,3A5.31,5.31,0,0,0,4.9,8.1,5.31,5.31,0,0,0,1,6.5,5.31,5.31,0,0,0,4.9,4.9,5.31,5.31,0,0,0,6.5,1,5.31,5.31,0,0,0,8.1,4.9,5.31,5.31,0,0,0,12,6.5,5.46,5.46,0,0,0,6.5,12Z\"/>\n",
       "  </svg>\n",
       "    </button>\n",
       "    <script>\n",
       "      (() => {\n",
       "      const buttonEl =\n",
       "        document.querySelector('#id_4b7bbdb5-3888-463d-a92a-0a776df128bb button.colab-df-generate');\n",
       "      buttonEl.style.display =\n",
       "        google.colab.kernel.accessAllowed ? 'block' : 'none';\n",
       "\n",
       "      buttonEl.onclick = () => {\n",
       "        google.colab.notebook.generateWithVariable('connections_df');\n",
       "      }\n",
       "      })();\n",
       "    </script>\n",
       "  </div>\n",
       "\n",
       "    </div>\n",
       "  </div>\n"
      ],
      "text/plain": [
       "                                 node_a                              node_b  \\\n",
       "0         aida-0001-50-Alexander_Dubček           aida-0001-50-Gustáv_Husák   \n",
       "1         aida-0001-50-Alexander_Dubček           aida-0001-50-Gustáv_Husák   \n",
       "2         aida-0001-50-Alexander_Dubček           aida-0001-50-Gustáv_Husák   \n",
       "3         aida-0001-50-Alexander_Dubček           aida-0001-50-Gustáv_Husák   \n",
       "4         aida-0001-50-Alexander_Dubček           aida-0001-50-Gustáv_Husák   \n",
       "..                                  ...                                 ...   \n",
       "193           aida-0001-50-Miloš_Forman  aida-0001-50-Alessandro_Cagliostro   \n",
       "194           aida-0001-50-Miloš_Forman            aida-0001-50-Jean_Marais   \n",
       "195           aida-0001-50-Paul_Lendvai             aida-0001-50-Jiří_Hájek   \n",
       "196           aida-0001-50-Paul_Lendvai       aida-0001-50-Lubomír_Štrougal   \n",
       "197  aida-0001-50-Alessandro_Cagliostro            aida-0001-50-Jean_Marais   \n",
       "\n",
       "                timestamp  count  \\\n",
       "0    1968-10-02T00:00:00Z      4   \n",
       "1    1969-10-02T00:00:00Z     10   \n",
       "2    1973-10-02T00:00:00Z      1   \n",
       "3    1974-10-02T00:00:00Z      2   \n",
       "4    1977-10-02T00:00:00Z      2   \n",
       "..                    ...    ...   \n",
       "193  1975-10-02T00:00:00Z      1   \n",
       "194  1975-10-02T00:00:00Z      1   \n",
       "195  1976-10-02T00:00:00Z      1   \n",
       "196  1975-10-02T00:00:00Z      1   \n",
       "197  1975-10-02T00:00:00Z      6   \n",
       "\n",
       "                                                   url  \n",
       "0    https://impresso-project.ch/app/search?index=s...  \n",
       "1    https://impresso-project.ch/app/search?index=s...  \n",
       "2    https://impresso-project.ch/app/search?index=s...  \n",
       "3    https://impresso-project.ch/app/search?index=s...  \n",
       "4    https://impresso-project.ch/app/search?index=s...  \n",
       "..                                                 ...  \n",
       "193  https://impresso-project.ch/app/search?index=s...  \n",
       "194  https://impresso-project.ch/app/search?index=s...  \n",
       "195  https://impresso-project.ch/app/search?index=s...  \n",
       "196  https://impresso-project.ch/app/search?index=s...  \n",
       "197  https://impresso-project.ch/app/search?index=s...  \n",
       "\n",
       "[198 rows x 5 columns]"
      ]
     },
     "execution_count": 7,
     "metadata": {},
     "output_type": "execute_result"
    }
   ],
   "source": [
    "import pandas as pd\n",
    "\n",
    "connections_denormalised = []\n",
    "for (node_a, node_b), edges in connections:\n",
    "    for ts, count, url in edges:\n",
    "        connections_denormalised.append([node_a, node_b, ts, count, url])\n",
    "\n",
    "connections_df = pd.DataFrame(connections_denormalised, columns=('node_a', 'node_b', 'timestamp', 'count', 'url'))\n",
    "connections_df"
   ]
  },
  {
   "cell_type": "markdown",
   "metadata": {
    "id": "hY8wuJfsfYIi"
   },
   "source": [
    "And save the connections into a CSV file that can be visualised independently in Part 2. Here you will be prompted to provide a name for the file."
   ]
  },
  {
   "cell_type": "code",
   "execution_count": 14,
   "metadata": {
    "colab": {
     "base_uri": "https://localhost:8080/",
     "height": 52
    },
    "id": "l6y80YUufYIi",
    "outputId": "6074a7d8-21d6-4b7a-f533-057ab2df2823"
   },
   "outputs": [
    {
     "name": "stdout",
     "output_type": "stream",
     "text": [
      "Enter the filename: impresso_network\n",
      "File saved in /tmp/impresso_network.csv\n"
     ]
    },
    {
     "data": {
      "application/javascript": [
       "\n",
       "    async function download(id, filename, size) {\n",
       "      if (!google.colab.kernel.accessAllowed) {\n",
       "        return;\n",
       "      }\n",
       "      const div = document.createElement('div');\n",
       "      const label = document.createElement('label');\n",
       "      label.textContent = `Downloading \"${filename}\": `;\n",
       "      div.appendChild(label);\n",
       "      const progress = document.createElement('progress');\n",
       "      progress.max = size;\n",
       "      div.appendChild(progress);\n",
       "      document.body.appendChild(div);\n",
       "\n",
       "      const buffers = [];\n",
       "      let downloaded = 0;\n",
       "\n",
       "      const channel = await google.colab.kernel.comms.open(id);\n",
       "      // Send a message to notify the kernel that we're ready.\n",
       "      channel.send({})\n",
       "\n",
       "      for await (const message of channel.messages) {\n",
       "        // Send a message to notify the kernel that we're ready.\n",
       "        channel.send({})\n",
       "        if (message.buffers) {\n",
       "          for (const buffer of message.buffers) {\n",
       "            buffers.push(buffer);\n",
       "            downloaded += buffer.byteLength;\n",
       "            progress.value = downloaded;\n",
       "          }\n",
       "        }\n",
       "      }\n",
       "      const blob = new Blob(buffers, {type: 'application/binary'});\n",
       "      const a = document.createElement('a');\n",
       "      a.href = window.URL.createObjectURL(blob);\n",
       "      a.download = filename;\n",
       "      div.appendChild(a);\n",
       "      a.click();\n",
       "      div.remove();\n",
       "    }\n",
       "  "
      ],
      "text/plain": [
       "<IPython.core.display.Javascript object>"
      ]
     },
     "metadata": {},
     "output_type": "display_data"
    },
    {
     "data": {
      "application/javascript": [
       "download(\"download_8af268e2-4fc7-4c97-b6a3-d324b0928423\", \"impresso_network.csv\", 66711)"
      ],
      "text/plain": [
       "<IPython.core.display.Javascript object>"
      ]
     },
     "metadata": {},
     "output_type": "display_data"
    }
   ],
   "source": [
    "from tempfile import gettempdir\n",
    "\n",
    "temp_dir = gettempdir()\n",
    "\n",
    "connections_csv_filename = input(\"Enter the filename: \").replace(\" \", \"_\")\n",
    "connections_csv_filepath = f\"{temp_dir}/{connections_csv_filename}.csv\"\n",
    "connections_df.to_csv(connections_csv_filepath, index=False)\n",
    "print(f\"File saved in {connections_csv_filepath}\")\n",
    "\n",
    "# download your csv file (if using Google Colab)\n",
    "from google.colab import files\n",
    "files.download(connections_csv_filepath)"
   ]
  },
  {
   "cell_type": "markdown",
   "metadata": {
    "id": "BDSucJXvoNTG"
   },
   "source": [
    "## Part 2: Visualise your data"
   ]
  },
  {
   "cell_type": "markdown",
   "metadata": {
    "id": "zqXEcFPgfYIj"
   },
   "source": [
    "Import the CSV file you created in Part 1"
   ]
  },
  {
   "cell_type": "code",
   "execution_count": 16,
   "metadata": {
    "colab": {
     "base_uri": "https://localhost:8080/",
     "height": 455
    },
    "id": "juaVZgkWoRKL",
    "outputId": "7fcb89f1-e1e0-40b0-89fc-a89e7a44295a"
   },
   "outputs": [
    {
     "data": {
      "application/vnd.google.colaboratory.intrinsic+json": {
       "summary": "{\n  \"name\": \"connections_df\",\n  \"rows\": 198,\n  \"fields\": [\n    {\n      \"column\": \"Unnamed: 0\",\n      \"properties\": {\n        \"dtype\": \"number\",\n        \"std\": 57,\n        \"min\": 0,\n        \"max\": 197,\n        \"num_unique_values\": 198,\n        \"samples\": [\n          65,\n          114,\n          16\n        ],\n        \"semantic_type\": \"\",\n        \"description\": \"\"\n      }\n    },\n    {\n      \"column\": \"node_a\",\n      \"properties\": {\n        \"dtype\": \"category\",\n        \"num_unique_values\": 20,\n        \"samples\": [\n          \"aida-0001-50-Alexander_Dub\\u010dek\",\n          \"aida-0001-50-Milo\\u0161_Forman\",\n          \"aida-0001-50-Herbert_von_Karajan\"\n        ],\n        \"semantic_type\": \"\",\n        \"description\": \"\"\n      }\n    },\n    {\n      \"column\": \"node_b\",\n      \"properties\": {\n        \"dtype\": \"category\",\n        \"num_unique_values\": 28,\n        \"samples\": [\n          \"aida-0001-50-Anton\\u00edn_Novotn\\u00fd\",\n          \"aida-0001-50-Jean_Marais\",\n          \"aida-0001-50-Willy_Brandt\"\n        ],\n        \"semantic_type\": \"\",\n        \"description\": \"\"\n      }\n    },\n    {\n      \"column\": \"timestamp\",\n      \"properties\": {\n        \"dtype\": \"object\",\n        \"num_unique_values\": 22,\n        \"samples\": [\n          \"1968-10-02T00:00:00Z\",\n          \"1972-10-02T00:00:00Z\",\n          \"1967-10-02T00:00:00Z\"\n        ],\n        \"semantic_type\": \"\",\n        \"description\": \"\"\n      }\n    },\n    {\n      \"column\": \"count\",\n      \"properties\": {\n        \"dtype\": \"number\",\n        \"std\": 1,\n        \"min\": 1,\n        \"max\": 10,\n        \"num_unique_values\": 7,\n        \"samples\": [\n          4,\n          10,\n          9\n        ],\n        \"semantic_type\": \"\",\n        \"description\": \"\"\n      }\n    },\n    {\n      \"column\": \"url\",\n      \"properties\": {\n        \"dtype\": \"string\",\n        \"num_unique_values\": 106,\n        \"samples\": [\n          \"https://impresso-project.ch/app/search?index=search&facet=type&domain=daterange&sq=CjgYByoQUHJhZ2VyIEZyw7xobGluZyoTUHJpbnRlbXBzIGRlIFByYWd1ZSoNUHJhZ3VlIFNwcmluZwpAEAEYCCocYWlkYS0wMDAxLTUwLVdhbHRlcl9VbGJyaWNodCocYWlkYS0wMDAxLTUwLUpvaGFubmVzX0JyYWhtcw==&p=1\",\n          \"https://impresso-project.ch/app/search?index=search&facet=type&domain=daterange&sq=CjgYByoQUHJhZ2VyIEZyw7xobGluZyoTUHJpbnRlbXBzIGRlIFByYWd1ZSoNUHJhZ3VlIFNwcmluZwpDEAEYCCoeYWlkYS0wMDAxLTUwLUFsZXhhbmRlcl9EdWLEjWVrKh1haWRhLTAwMDEtNTAtWmRlbsSba19NbHluw6HFmQ==&p=1\",\n          \"https://impresso-project.ch/app/search?index=search&facet=type&domain=daterange&sq=CjgYByoQUHJhZ2VyIEZyw7xobGluZyoTUHJpbnRlbXBzIGRlIFByYWd1ZSoNUHJhZ3VlIFNwcmluZwo9EAEYCCoeYWlkYS0wMDAxLTUwLUFsZXhhbmRlcl9EdWLEjWVrKhdhaWRhLTAwMDEtNTAtSmFuX1BhbGFjaA==&p=1\"\n        ],\n        \"semantic_type\": \"\",\n        \"description\": \"\"\n      }\n    }\n  ]\n}",
       "type": "dataframe",
       "variable_name": "connections_df"
      },
      "text/html": [
       "\n",
       "  <div id=\"df-dd87df65-2c71-430a-9bba-bef677ebe024\" class=\"colab-df-container\">\n",
       "    <div>\n",
       "<style scoped>\n",
       "    .dataframe tbody tr th:only-of-type {\n",
       "        vertical-align: middle;\n",
       "    }\n",
       "\n",
       "    .dataframe tbody tr th {\n",
       "        vertical-align: top;\n",
       "    }\n",
       "\n",
       "    .dataframe thead th {\n",
       "        text-align: right;\n",
       "    }\n",
       "</style>\n",
       "<table border=\"1\" class=\"dataframe\">\n",
       "  <thead>\n",
       "    <tr style=\"text-align: right;\">\n",
       "      <th></th>\n",
       "      <th>node_a</th>\n",
       "      <th>node_b</th>\n",
       "      <th>timestamp</th>\n",
       "      <th>count</th>\n",
       "      <th>url</th>\n",
       "    </tr>\n",
       "    <tr>\n",
       "      <th>Unnamed: 0</th>\n",
       "      <th></th>\n",
       "      <th></th>\n",
       "      <th></th>\n",
       "      <th></th>\n",
       "      <th></th>\n",
       "    </tr>\n",
       "  </thead>\n",
       "  <tbody>\n",
       "    <tr>\n",
       "      <th>0</th>\n",
       "      <td>aida-0001-50-Alexander_Dubček</td>\n",
       "      <td>aida-0001-50-Gustáv_Husák</td>\n",
       "      <td>1968-10-02T00:00:00Z</td>\n",
       "      <td>4</td>\n",
       "      <td>https://impresso-project.ch/app/search?index=s...</td>\n",
       "    </tr>\n",
       "    <tr>\n",
       "      <th>1</th>\n",
       "      <td>aida-0001-50-Alexander_Dubček</td>\n",
       "      <td>aida-0001-50-Gustáv_Husák</td>\n",
       "      <td>1969-10-02T00:00:00Z</td>\n",
       "      <td>10</td>\n",
       "      <td>https://impresso-project.ch/app/search?index=s...</td>\n",
       "    </tr>\n",
       "    <tr>\n",
       "      <th>2</th>\n",
       "      <td>aida-0001-50-Alexander_Dubček</td>\n",
       "      <td>aida-0001-50-Gustáv_Husák</td>\n",
       "      <td>1973-10-02T00:00:00Z</td>\n",
       "      <td>1</td>\n",
       "      <td>https://impresso-project.ch/app/search?index=s...</td>\n",
       "    </tr>\n",
       "    <tr>\n",
       "      <th>3</th>\n",
       "      <td>aida-0001-50-Alexander_Dubček</td>\n",
       "      <td>aida-0001-50-Gustáv_Husák</td>\n",
       "      <td>1974-10-02T00:00:00Z</td>\n",
       "      <td>2</td>\n",
       "      <td>https://impresso-project.ch/app/search?index=s...</td>\n",
       "    </tr>\n",
       "    <tr>\n",
       "      <th>4</th>\n",
       "      <td>aida-0001-50-Alexander_Dubček</td>\n",
       "      <td>aida-0001-50-Gustáv_Husák</td>\n",
       "      <td>1977-10-02T00:00:00Z</td>\n",
       "      <td>2</td>\n",
       "      <td>https://impresso-project.ch/app/search?index=s...</td>\n",
       "    </tr>\n",
       "    <tr>\n",
       "      <th>...</th>\n",
       "      <td>...</td>\n",
       "      <td>...</td>\n",
       "      <td>...</td>\n",
       "      <td>...</td>\n",
       "      <td>...</td>\n",
       "    </tr>\n",
       "    <tr>\n",
       "      <th>193</th>\n",
       "      <td>aida-0001-50-Miloš_Forman</td>\n",
       "      <td>aida-0001-50-Alessandro_Cagliostro</td>\n",
       "      <td>1975-10-02T00:00:00Z</td>\n",
       "      <td>1</td>\n",
       "      <td>https://impresso-project.ch/app/search?index=s...</td>\n",
       "    </tr>\n",
       "    <tr>\n",
       "      <th>194</th>\n",
       "      <td>aida-0001-50-Miloš_Forman</td>\n",
       "      <td>aida-0001-50-Jean_Marais</td>\n",
       "      <td>1975-10-02T00:00:00Z</td>\n",
       "      <td>1</td>\n",
       "      <td>https://impresso-project.ch/app/search?index=s...</td>\n",
       "    </tr>\n",
       "    <tr>\n",
       "      <th>195</th>\n",
       "      <td>aida-0001-50-Paul_Lendvai</td>\n",
       "      <td>aida-0001-50-Jiří_Hájek</td>\n",
       "      <td>1976-10-02T00:00:00Z</td>\n",
       "      <td>1</td>\n",
       "      <td>https://impresso-project.ch/app/search?index=s...</td>\n",
       "    </tr>\n",
       "    <tr>\n",
       "      <th>196</th>\n",
       "      <td>aida-0001-50-Paul_Lendvai</td>\n",
       "      <td>aida-0001-50-Lubomír_Štrougal</td>\n",
       "      <td>1975-10-02T00:00:00Z</td>\n",
       "      <td>1</td>\n",
       "      <td>https://impresso-project.ch/app/search?index=s...</td>\n",
       "    </tr>\n",
       "    <tr>\n",
       "      <th>197</th>\n",
       "      <td>aida-0001-50-Alessandro_Cagliostro</td>\n",
       "      <td>aida-0001-50-Jean_Marais</td>\n",
       "      <td>1975-10-02T00:00:00Z</td>\n",
       "      <td>6</td>\n",
       "      <td>https://impresso-project.ch/app/search?index=s...</td>\n",
       "    </tr>\n",
       "  </tbody>\n",
       "</table>\n",
       "<p>198 rows × 5 columns</p>\n",
       "</div>\n",
       "    <div class=\"colab-df-buttons\">\n",
       "\n",
       "  <div class=\"colab-df-container\">\n",
       "    <button class=\"colab-df-convert\" onclick=\"convertToInteractive('df-dd87df65-2c71-430a-9bba-bef677ebe024')\"\n",
       "            title=\"Convert this dataframe to an interactive table.\"\n",
       "            style=\"display:none;\">\n",
       "\n",
       "  <svg xmlns=\"http://www.w3.org/2000/svg\" height=\"24px\" viewBox=\"0 -960 960 960\">\n",
       "    <path d=\"M120-120v-720h720v720H120Zm60-500h600v-160H180v160Zm220 220h160v-160H400v160Zm0 220h160v-160H400v160ZM180-400h160v-160H180v160Zm440 0h160v-160H620v160ZM180-180h160v-160H180v160Zm440 0h160v-160H620v160Z\"/>\n",
       "  </svg>\n",
       "    </button>\n",
       "\n",
       "  <style>\n",
       "    .colab-df-container {\n",
       "      display:flex;\n",
       "      gap: 12px;\n",
       "    }\n",
       "\n",
       "    .colab-df-convert {\n",
       "      background-color: #E8F0FE;\n",
       "      border: none;\n",
       "      border-radius: 50%;\n",
       "      cursor: pointer;\n",
       "      display: none;\n",
       "      fill: #1967D2;\n",
       "      height: 32px;\n",
       "      padding: 0 0 0 0;\n",
       "      width: 32px;\n",
       "    }\n",
       "\n",
       "    .colab-df-convert:hover {\n",
       "      background-color: #E2EBFA;\n",
       "      box-shadow: 0px 1px 2px rgba(60, 64, 67, 0.3), 0px 1px 3px 1px rgba(60, 64, 67, 0.15);\n",
       "      fill: #174EA6;\n",
       "    }\n",
       "\n",
       "    .colab-df-buttons div {\n",
       "      margin-bottom: 4px;\n",
       "    }\n",
       "\n",
       "    [theme=dark] .colab-df-convert {\n",
       "      background-color: #3B4455;\n",
       "      fill: #D2E3FC;\n",
       "    }\n",
       "\n",
       "    [theme=dark] .colab-df-convert:hover {\n",
       "      background-color: #434B5C;\n",
       "      box-shadow: 0px 1px 3px 1px rgba(0, 0, 0, 0.15);\n",
       "      filter: drop-shadow(0px 1px 2px rgba(0, 0, 0, 0.3));\n",
       "      fill: #FFFFFF;\n",
       "    }\n",
       "  </style>\n",
       "\n",
       "    <script>\n",
       "      const buttonEl =\n",
       "        document.querySelector('#df-dd87df65-2c71-430a-9bba-bef677ebe024 button.colab-df-convert');\n",
       "      buttonEl.style.display =\n",
       "        google.colab.kernel.accessAllowed ? 'block' : 'none';\n",
       "\n",
       "      async function convertToInteractive(key) {\n",
       "        const element = document.querySelector('#df-dd87df65-2c71-430a-9bba-bef677ebe024');\n",
       "        const dataTable =\n",
       "          await google.colab.kernel.invokeFunction('convertToInteractive',\n",
       "                                                    [key], {});\n",
       "        if (!dataTable) return;\n",
       "\n",
       "        const docLinkHtml = 'Like what you see? Visit the ' +\n",
       "          '<a target=\"_blank\" href=https://colab.research.google.com/notebooks/data_table.ipynb>data table notebook</a>'\n",
       "          + ' to learn more about interactive tables.';\n",
       "        element.innerHTML = '';\n",
       "        dataTable['output_type'] = 'display_data';\n",
       "        await google.colab.output.renderOutput(dataTable, element);\n",
       "        const docLink = document.createElement('div');\n",
       "        docLink.innerHTML = docLinkHtml;\n",
       "        element.appendChild(docLink);\n",
       "      }\n",
       "    </script>\n",
       "  </div>\n",
       "\n",
       "\n",
       "    <div id=\"df-98a0a55b-442a-4e2b-abd8-bc22d6adb5ae\">\n",
       "      <button class=\"colab-df-quickchart\" onclick=\"quickchart('df-98a0a55b-442a-4e2b-abd8-bc22d6adb5ae')\"\n",
       "                title=\"Suggest charts\"\n",
       "                style=\"display:none;\">\n",
       "\n",
       "<svg xmlns=\"http://www.w3.org/2000/svg\" height=\"24px\"viewBox=\"0 0 24 24\"\n",
       "     width=\"24px\">\n",
       "    <g>\n",
       "        <path d=\"M19 3H5c-1.1 0-2 .9-2 2v14c0 1.1.9 2 2 2h14c1.1 0 2-.9 2-2V5c0-1.1-.9-2-2-2zM9 17H7v-7h2v7zm4 0h-2V7h2v10zm4 0h-2v-4h2v4z\"/>\n",
       "    </g>\n",
       "</svg>\n",
       "      </button>\n",
       "\n",
       "<style>\n",
       "  .colab-df-quickchart {\n",
       "      --bg-color: #E8F0FE;\n",
       "      --fill-color: #1967D2;\n",
       "      --hover-bg-color: #E2EBFA;\n",
       "      --hover-fill-color: #174EA6;\n",
       "      --disabled-fill-color: #AAA;\n",
       "      --disabled-bg-color: #DDD;\n",
       "  }\n",
       "\n",
       "  [theme=dark] .colab-df-quickchart {\n",
       "      --bg-color: #3B4455;\n",
       "      --fill-color: #D2E3FC;\n",
       "      --hover-bg-color: #434B5C;\n",
       "      --hover-fill-color: #FFFFFF;\n",
       "      --disabled-bg-color: #3B4455;\n",
       "      --disabled-fill-color: #666;\n",
       "  }\n",
       "\n",
       "  .colab-df-quickchart {\n",
       "    background-color: var(--bg-color);\n",
       "    border: none;\n",
       "    border-radius: 50%;\n",
       "    cursor: pointer;\n",
       "    display: none;\n",
       "    fill: var(--fill-color);\n",
       "    height: 32px;\n",
       "    padding: 0;\n",
       "    width: 32px;\n",
       "  }\n",
       "\n",
       "  .colab-df-quickchart:hover {\n",
       "    background-color: var(--hover-bg-color);\n",
       "    box-shadow: 0 1px 2px rgba(60, 64, 67, 0.3), 0 1px 3px 1px rgba(60, 64, 67, 0.15);\n",
       "    fill: var(--button-hover-fill-color);\n",
       "  }\n",
       "\n",
       "  .colab-df-quickchart-complete:disabled,\n",
       "  .colab-df-quickchart-complete:disabled:hover {\n",
       "    background-color: var(--disabled-bg-color);\n",
       "    fill: var(--disabled-fill-color);\n",
       "    box-shadow: none;\n",
       "  }\n",
       "\n",
       "  .colab-df-spinner {\n",
       "    border: 2px solid var(--fill-color);\n",
       "    border-color: transparent;\n",
       "    border-bottom-color: var(--fill-color);\n",
       "    animation:\n",
       "      spin 1s steps(1) infinite;\n",
       "  }\n",
       "\n",
       "  @keyframes spin {\n",
       "    0% {\n",
       "      border-color: transparent;\n",
       "      border-bottom-color: var(--fill-color);\n",
       "      border-left-color: var(--fill-color);\n",
       "    }\n",
       "    20% {\n",
       "      border-color: transparent;\n",
       "      border-left-color: var(--fill-color);\n",
       "      border-top-color: var(--fill-color);\n",
       "    }\n",
       "    30% {\n",
       "      border-color: transparent;\n",
       "      border-left-color: var(--fill-color);\n",
       "      border-top-color: var(--fill-color);\n",
       "      border-right-color: var(--fill-color);\n",
       "    }\n",
       "    40% {\n",
       "      border-color: transparent;\n",
       "      border-right-color: var(--fill-color);\n",
       "      border-top-color: var(--fill-color);\n",
       "    }\n",
       "    60% {\n",
       "      border-color: transparent;\n",
       "      border-right-color: var(--fill-color);\n",
       "    }\n",
       "    80% {\n",
       "      border-color: transparent;\n",
       "      border-right-color: var(--fill-color);\n",
       "      border-bottom-color: var(--fill-color);\n",
       "    }\n",
       "    90% {\n",
       "      border-color: transparent;\n",
       "      border-bottom-color: var(--fill-color);\n",
       "    }\n",
       "  }\n",
       "</style>\n",
       "\n",
       "      <script>\n",
       "        async function quickchart(key) {\n",
       "          const quickchartButtonEl =\n",
       "            document.querySelector('#' + key + ' button');\n",
       "          quickchartButtonEl.disabled = true;  // To prevent multiple clicks.\n",
       "          quickchartButtonEl.classList.add('colab-df-spinner');\n",
       "          try {\n",
       "            const charts = await google.colab.kernel.invokeFunction(\n",
       "                'suggestCharts', [key], {});\n",
       "          } catch (error) {\n",
       "            console.error('Error during call to suggestCharts:', error);\n",
       "          }\n",
       "          quickchartButtonEl.classList.remove('colab-df-spinner');\n",
       "          quickchartButtonEl.classList.add('colab-df-quickchart-complete');\n",
       "        }\n",
       "        (() => {\n",
       "          let quickchartButtonEl =\n",
       "            document.querySelector('#df-98a0a55b-442a-4e2b-abd8-bc22d6adb5ae button');\n",
       "          quickchartButtonEl.style.display =\n",
       "            google.colab.kernel.accessAllowed ? 'block' : 'none';\n",
       "        })();\n",
       "      </script>\n",
       "    </div>\n",
       "\n",
       "  <div id=\"id_f517f01f-b536-47e1-9103-a1b5d8dd87be\">\n",
       "    <style>\n",
       "      .colab-df-generate {\n",
       "        background-color: #E8F0FE;\n",
       "        border: none;\n",
       "        border-radius: 50%;\n",
       "        cursor: pointer;\n",
       "        display: none;\n",
       "        fill: #1967D2;\n",
       "        height: 32px;\n",
       "        padding: 0 0 0 0;\n",
       "        width: 32px;\n",
       "      }\n",
       "\n",
       "      .colab-df-generate:hover {\n",
       "        background-color: #E2EBFA;\n",
       "        box-shadow: 0px 1px 2px rgba(60, 64, 67, 0.3), 0px 1px 3px 1px rgba(60, 64, 67, 0.15);\n",
       "        fill: #174EA6;\n",
       "      }\n",
       "\n",
       "      [theme=dark] .colab-df-generate {\n",
       "        background-color: #3B4455;\n",
       "        fill: #D2E3FC;\n",
       "      }\n",
       "\n",
       "      [theme=dark] .colab-df-generate:hover {\n",
       "        background-color: #434B5C;\n",
       "        box-shadow: 0px 1px 3px 1px rgba(0, 0, 0, 0.15);\n",
       "        filter: drop-shadow(0px 1px 2px rgba(0, 0, 0, 0.3));\n",
       "        fill: #FFFFFF;\n",
       "      }\n",
       "    </style>\n",
       "    <button class=\"colab-df-generate\" onclick=\"generateWithVariable('connections_df')\"\n",
       "            title=\"Generate code using this dataframe.\"\n",
       "            style=\"display:none;\">\n",
       "\n",
       "  <svg xmlns=\"http://www.w3.org/2000/svg\" height=\"24px\"viewBox=\"0 0 24 24\"\n",
       "       width=\"24px\">\n",
       "    <path d=\"M7,19H8.4L18.45,9,17,7.55,7,17.6ZM5,21V16.75L18.45,3.32a2,2,0,0,1,2.83,0l1.4,1.43a1.91,1.91,0,0,1,.58,1.4,1.91,1.91,0,0,1-.58,1.4L9.25,21ZM18.45,9,17,7.55Zm-12,3A5.31,5.31,0,0,0,4.9,8.1,5.31,5.31,0,0,0,1,6.5,5.31,5.31,0,0,0,4.9,4.9,5.31,5.31,0,0,0,6.5,1,5.31,5.31,0,0,0,8.1,4.9,5.31,5.31,0,0,0,12,6.5,5.46,5.46,0,0,0,6.5,12Z\"/>\n",
       "  </svg>\n",
       "    </button>\n",
       "    <script>\n",
       "      (() => {\n",
       "      const buttonEl =\n",
       "        document.querySelector('#id_f517f01f-b536-47e1-9103-a1b5d8dd87be button.colab-df-generate');\n",
       "      buttonEl.style.display =\n",
       "        google.colab.kernel.accessAllowed ? 'block' : 'none';\n",
       "\n",
       "      buttonEl.onclick = () => {\n",
       "        google.colab.notebook.generateWithVariable('connections_df');\n",
       "      }\n",
       "      })();\n",
       "    </script>\n",
       "  </div>\n",
       "\n",
       "    </div>\n",
       "  </div>\n"
      ],
      "text/plain": [
       "                                        node_a  \\\n",
       "Unnamed: 0                                       \n",
       "0                aida-0001-50-Alexander_Dubček   \n",
       "1                aida-0001-50-Alexander_Dubček   \n",
       "2                aida-0001-50-Alexander_Dubček   \n",
       "3                aida-0001-50-Alexander_Dubček   \n",
       "4                aida-0001-50-Alexander_Dubček   \n",
       "...                                        ...   \n",
       "193                  aida-0001-50-Miloš_Forman   \n",
       "194                  aida-0001-50-Miloš_Forman   \n",
       "195                  aida-0001-50-Paul_Lendvai   \n",
       "196                  aida-0001-50-Paul_Lendvai   \n",
       "197         aida-0001-50-Alessandro_Cagliostro   \n",
       "\n",
       "                                        node_b             timestamp  count  \\\n",
       "Unnamed: 0                                                                    \n",
       "0                    aida-0001-50-Gustáv_Husák  1968-10-02T00:00:00Z      4   \n",
       "1                    aida-0001-50-Gustáv_Husák  1969-10-02T00:00:00Z     10   \n",
       "2                    aida-0001-50-Gustáv_Husák  1973-10-02T00:00:00Z      1   \n",
       "3                    aida-0001-50-Gustáv_Husák  1974-10-02T00:00:00Z      2   \n",
       "4                    aida-0001-50-Gustáv_Husák  1977-10-02T00:00:00Z      2   \n",
       "...                                        ...                   ...    ...   \n",
       "193         aida-0001-50-Alessandro_Cagliostro  1975-10-02T00:00:00Z      1   \n",
       "194                   aida-0001-50-Jean_Marais  1975-10-02T00:00:00Z      1   \n",
       "195                    aida-0001-50-Jiří_Hájek  1976-10-02T00:00:00Z      1   \n",
       "196              aida-0001-50-Lubomír_Štrougal  1975-10-02T00:00:00Z      1   \n",
       "197                   aida-0001-50-Jean_Marais  1975-10-02T00:00:00Z      6   \n",
       "\n",
       "                                                          url  \n",
       "Unnamed: 0                                                     \n",
       "0           https://impresso-project.ch/app/search?index=s...  \n",
       "1           https://impresso-project.ch/app/search?index=s...  \n",
       "2           https://impresso-project.ch/app/search?index=s...  \n",
       "3           https://impresso-project.ch/app/search?index=s...  \n",
       "4           https://impresso-project.ch/app/search?index=s...  \n",
       "...                                                       ...  \n",
       "193         https://impresso-project.ch/app/search?index=s...  \n",
       "194         https://impresso-project.ch/app/search?index=s...  \n",
       "195         https://impresso-project.ch/app/search?index=s...  \n",
       "196         https://impresso-project.ch/app/search?index=s...  \n",
       "197         https://impresso-project.ch/app/search?index=s...  \n",
       "\n",
       "[198 rows x 5 columns]"
      ]
     },
     "execution_count": 16,
     "metadata": {},
     "output_type": "execute_result"
    }
   ],
   "source": [
    "import pandas as pd\n",
    "\n",
    "connections_df = pd.read_csv(connections_csv_filepath, index_col=0)\n",
    "connections_df"
   ]
  },
  {
   "cell_type": "markdown",
   "metadata": {
    "id": "RcAtUJlUfYIk"
   },
   "source": [
    "Now, we group results by frequency of pairs to create connections (edges), and count the number of connections. We also preserve the URL.\n",
    "\n",
    "**Important information**: The URL does not contain DateRange information, that's why they can be grouped here as they just refer to the search terms and the pair of persons occuring in documents."
   ]
  },
  {
   "cell_type": "code",
   "execution_count": 17,
   "metadata": {
    "colab": {
     "base_uri": "https://localhost:8080/",
     "height": 597
    },
    "id": "7oD3RMWtfmXw",
    "outputId": "48641a21-622f-426f-f744-851fc812be5d"
   },
   "outputs": [
    {
     "data": {
      "application/vnd.google.colaboratory.intrinsic+json": {
       "summary": "{\n  \"name\": \"grouped_connections_df\",\n  \"rows\": 106,\n  \"fields\": [\n    {\n      \"column\": \"node_a\",\n      \"properties\": {\n        \"dtype\": \"category\",\n        \"num_unique_values\": 20,\n        \"samples\": [\n          \"aida-0001-50-Alessandro_Cagliostro\",\n          \"aida-0001-50-V\\u011bra_Chytilov\\u00e1\",\n          \"aida-0001-50-Paul_Lendvai\"\n        ],\n        \"semantic_type\": \"\",\n        \"description\": \"\"\n      }\n    },\n    {\n      \"column\": \"node_b\",\n      \"properties\": {\n        \"dtype\": \"category\",\n        \"num_unique_values\": 28,\n        \"samples\": [\n          \"aida-0001-50-Mikhail_Gorbachev\",\n          \"aida-0001-50-Alessandro_Cagliostro\",\n          \"aida-0001-50-Ludv\\u00edk_Svoboda\"\n        ],\n        \"semantic_type\": \"\",\n        \"description\": \"\"\n      }\n    },\n    {\n      \"column\": \"timestamp\",\n      \"properties\": {\n        \"dtype\": \"string\",\n        \"num_unique_values\": 53,\n        \"samples\": [\n          \"1977-10-02T00:00:00Z\",\n          \"1982-10-02T00:00:00Z, 1992-10-02T00:00:00Z\",\n          \"1976-10-02T00:00:00Z\"\n        ],\n        \"semantic_type\": \"\",\n        \"description\": \"\"\n      }\n    },\n    {\n      \"column\": \"count\",\n      \"properties\": {\n        \"dtype\": \"number\",\n        \"std\": 2,\n        \"min\": 1,\n        \"max\": 24,\n        \"num_unique_values\": 11,\n        \"samples\": [\n          2,\n          6,\n          13\n        ],\n        \"semantic_type\": \"\",\n        \"description\": \"\"\n      }\n    },\n    {\n      \"column\": \"url\",\n      \"properties\": {\n        \"dtype\": \"string\",\n        \"num_unique_values\": 106,\n        \"samples\": [\n          \"https://impresso-project.ch/app/search?index=search&facet=type&domain=daterange&sq=CjgYByoQUHJhZ2VyIEZyw7xobGluZyoTUHJpbnRlbXBzIGRlIFByYWd1ZSoNUHJhZ3VlIFNwcmluZwo7EAEYCCoZYWlkYS0wMDAxLTUwLVdpbGx5X0JyYW5kdCoaYWlkYS0wMDAxLTUwLUhhcm9sZF9XaWxzb24=&p=1\",\n          \"https://impresso-project.ch/app/search?index=search&facet=type&domain=daterange&sq=CjgYByoQUHJhZ2VyIEZyw7xobGluZyoTUHJpbnRlbXBzIGRlIFByYWd1ZSoNUHJhZ3VlIFNwcmluZwpAEAEYCCoeYWlkYS0wMDAxLTUwLUFsZXhhbmRlcl9EdWLEjWVrKhphaWRhLTAwMDEtNTAtTWlsb8WhX0Zvcm1hbg==&p=1\",\n          \"https://impresso-project.ch/app/search?index=search&facet=type&domain=daterange&sq=CjgYByoQUHJhZ2VyIEZyw7xobGluZyoTUHJpbnRlbXBzIGRlIFByYWd1ZSoNUHJhZ3VlIFNwcmluZwo9EAEYCCoeYWlkYS0wMDAxLTUwLUFsZXhhbmRlcl9EdWLEjWVrKhdhaWRhLTAwMDEtNTAtSmFuX1BhbGFjaA==&p=1\"\n        ],\n        \"semantic_type\": \"\",\n        \"description\": \"\"\n      }\n    }\n  ]\n}",
       "type": "dataframe",
       "variable_name": "grouped_connections_df"
      },
      "text/html": [
       "\n",
       "  <div id=\"df-85129786-c6e8-46e4-8ccd-01c92a17e14f\" class=\"colab-df-container\">\n",
       "    <div>\n",
       "<style scoped>\n",
       "    .dataframe tbody tr th:only-of-type {\n",
       "        vertical-align: middle;\n",
       "    }\n",
       "\n",
       "    .dataframe tbody tr th {\n",
       "        vertical-align: top;\n",
       "    }\n",
       "\n",
       "    .dataframe thead th {\n",
       "        text-align: right;\n",
       "    }\n",
       "</style>\n",
       "<table border=\"1\" class=\"dataframe\">\n",
       "  <thead>\n",
       "    <tr style=\"text-align: right;\">\n",
       "      <th></th>\n",
       "      <th>node_a</th>\n",
       "      <th>node_b</th>\n",
       "      <th>timestamp</th>\n",
       "      <th>count</th>\n",
       "      <th>url</th>\n",
       "    </tr>\n",
       "  </thead>\n",
       "  <tbody>\n",
       "    <tr>\n",
       "      <th>0</th>\n",
       "      <td>aida-0001-50-Alessandro_Cagliostro</td>\n",
       "      <td>aida-0001-50-Jean_Marais</td>\n",
       "      <td>1975-10-02T00:00:00Z</td>\n",
       "      <td>6</td>\n",
       "      <td>https://impresso-project.ch/app/search?index=s...</td>\n",
       "    </tr>\n",
       "    <tr>\n",
       "      <th>1</th>\n",
       "      <td>aida-0001-50-Alexander_Dubček</td>\n",
       "      <td>aida-0001-50-Antonín_Novotný</td>\n",
       "      <td>1967-10-02T00:00:00Z, 1968-10-02T00:00:00Z, 19...</td>\n",
       "      <td>7</td>\n",
       "      <td>https://impresso-project.ch/app/search?index=s...</td>\n",
       "    </tr>\n",
       "    <tr>\n",
       "      <th>2</th>\n",
       "      <td>aida-0001-50-Alexander_Dubček</td>\n",
       "      <td>aida-0001-50-Gustáv_Husák</td>\n",
       "      <td>1968-10-02T00:00:00Z, 1969-10-02T00:00:00Z, 19...</td>\n",
       "      <td>24</td>\n",
       "      <td>https://impresso-project.ch/app/search?index=s...</td>\n",
       "    </tr>\n",
       "    <tr>\n",
       "      <th>3</th>\n",
       "      <td>aida-0001-50-Alexander_Dubček</td>\n",
       "      <td>aida-0001-50-Harold_Wilson</td>\n",
       "      <td>1968-10-02T00:00:00Z, 1969-10-02T00:00:00Z, 19...</td>\n",
       "      <td>3</td>\n",
       "      <td>https://impresso-project.ch/app/search?index=s...</td>\n",
       "    </tr>\n",
       "    <tr>\n",
       "      <th>4</th>\n",
       "      <td>aida-0001-50-Alexander_Dubček</td>\n",
       "      <td>aida-0001-50-Jan_Palach</td>\n",
       "      <td>1969-10-02T00:00:00Z, 1972-10-02T00:00:00Z, 19...</td>\n",
       "      <td>4</td>\n",
       "      <td>https://impresso-project.ch/app/search?index=s...</td>\n",
       "    </tr>\n",
       "    <tr>\n",
       "      <th>...</th>\n",
       "      <td>...</td>\n",
       "      <td>...</td>\n",
       "      <td>...</td>\n",
       "      <td>...</td>\n",
       "      <td>...</td>\n",
       "    </tr>\n",
       "    <tr>\n",
       "      <th>101</th>\n",
       "      <td>aida-0001-50-Willy_Brandt</td>\n",
       "      <td>aida-0001-50-Johannes_Brahms</td>\n",
       "      <td>1969-10-02T00:00:00Z</td>\n",
       "      <td>1</td>\n",
       "      <td>https://impresso-project.ch/app/search?index=s...</td>\n",
       "    </tr>\n",
       "    <tr>\n",
       "      <th>102</th>\n",
       "      <td>aida-0001-50-Willy_Brandt</td>\n",
       "      <td>aida-0001-50-Lubomír_Štrougal</td>\n",
       "      <td>1969-10-02T00:00:00Z</td>\n",
       "      <td>1</td>\n",
       "      <td>https://impresso-project.ch/app/search?index=s...</td>\n",
       "    </tr>\n",
       "    <tr>\n",
       "      <th>103</th>\n",
       "      <td>aida-0001-50-Willy_Brandt</td>\n",
       "      <td>aida-0001-50-Walter_Ulbricht</td>\n",
       "      <td>1969-10-02T00:00:00Z, 1970-10-02T00:00:00Z</td>\n",
       "      <td>2</td>\n",
       "      <td>https://impresso-project.ch/app/search?index=s...</td>\n",
       "    </tr>\n",
       "    <tr>\n",
       "      <th>104</th>\n",
       "      <td>aida-0001-50-Zdeněk_Mlynář</td>\n",
       "      <td>aida-0001-50-Jiří_Pelikán</td>\n",
       "      <td>1977-10-02T00:00:00Z</td>\n",
       "      <td>1</td>\n",
       "      <td>https://impresso-project.ch/app/search?index=s...</td>\n",
       "    </tr>\n",
       "    <tr>\n",
       "      <th>105</th>\n",
       "      <td>aida-0001-50-Zdeněk_Mlynář</td>\n",
       "      <td>aida-0001-50-Pavel_Kohout</td>\n",
       "      <td>1976-10-02T00:00:00Z</td>\n",
       "      <td>1</td>\n",
       "      <td>https://impresso-project.ch/app/search?index=s...</td>\n",
       "    </tr>\n",
       "  </tbody>\n",
       "</table>\n",
       "<p>106 rows × 5 columns</p>\n",
       "</div>\n",
       "    <div class=\"colab-df-buttons\">\n",
       "\n",
       "  <div class=\"colab-df-container\">\n",
       "    <button class=\"colab-df-convert\" onclick=\"convertToInteractive('df-85129786-c6e8-46e4-8ccd-01c92a17e14f')\"\n",
       "            title=\"Convert this dataframe to an interactive table.\"\n",
       "            style=\"display:none;\">\n",
       "\n",
       "  <svg xmlns=\"http://www.w3.org/2000/svg\" height=\"24px\" viewBox=\"0 -960 960 960\">\n",
       "    <path d=\"M120-120v-720h720v720H120Zm60-500h600v-160H180v160Zm220 220h160v-160H400v160Zm0 220h160v-160H400v160ZM180-400h160v-160H180v160Zm440 0h160v-160H620v160ZM180-180h160v-160H180v160Zm440 0h160v-160H620v160Z\"/>\n",
       "  </svg>\n",
       "    </button>\n",
       "\n",
       "  <style>\n",
       "    .colab-df-container {\n",
       "      display:flex;\n",
       "      gap: 12px;\n",
       "    }\n",
       "\n",
       "    .colab-df-convert {\n",
       "      background-color: #E8F0FE;\n",
       "      border: none;\n",
       "      border-radius: 50%;\n",
       "      cursor: pointer;\n",
       "      display: none;\n",
       "      fill: #1967D2;\n",
       "      height: 32px;\n",
       "      padding: 0 0 0 0;\n",
       "      width: 32px;\n",
       "    }\n",
       "\n",
       "    .colab-df-convert:hover {\n",
       "      background-color: #E2EBFA;\n",
       "      box-shadow: 0px 1px 2px rgba(60, 64, 67, 0.3), 0px 1px 3px 1px rgba(60, 64, 67, 0.15);\n",
       "      fill: #174EA6;\n",
       "    }\n",
       "\n",
       "    .colab-df-buttons div {\n",
       "      margin-bottom: 4px;\n",
       "    }\n",
       "\n",
       "    [theme=dark] .colab-df-convert {\n",
       "      background-color: #3B4455;\n",
       "      fill: #D2E3FC;\n",
       "    }\n",
       "\n",
       "    [theme=dark] .colab-df-convert:hover {\n",
       "      background-color: #434B5C;\n",
       "      box-shadow: 0px 1px 3px 1px rgba(0, 0, 0, 0.15);\n",
       "      filter: drop-shadow(0px 1px 2px rgba(0, 0, 0, 0.3));\n",
       "      fill: #FFFFFF;\n",
       "    }\n",
       "  </style>\n",
       "\n",
       "    <script>\n",
       "      const buttonEl =\n",
       "        document.querySelector('#df-85129786-c6e8-46e4-8ccd-01c92a17e14f button.colab-df-convert');\n",
       "      buttonEl.style.display =\n",
       "        google.colab.kernel.accessAllowed ? 'block' : 'none';\n",
       "\n",
       "      async function convertToInteractive(key) {\n",
       "        const element = document.querySelector('#df-85129786-c6e8-46e4-8ccd-01c92a17e14f');\n",
       "        const dataTable =\n",
       "          await google.colab.kernel.invokeFunction('convertToInteractive',\n",
       "                                                    [key], {});\n",
       "        if (!dataTable) return;\n",
       "\n",
       "        const docLinkHtml = 'Like what you see? Visit the ' +\n",
       "          '<a target=\"_blank\" href=https://colab.research.google.com/notebooks/data_table.ipynb>data table notebook</a>'\n",
       "          + ' to learn more about interactive tables.';\n",
       "        element.innerHTML = '';\n",
       "        dataTable['output_type'] = 'display_data';\n",
       "        await google.colab.output.renderOutput(dataTable, element);\n",
       "        const docLink = document.createElement('div');\n",
       "        docLink.innerHTML = docLinkHtml;\n",
       "        element.appendChild(docLink);\n",
       "      }\n",
       "    </script>\n",
       "  </div>\n",
       "\n",
       "\n",
       "    <div id=\"df-c8f84ae2-d27c-4b59-87c3-91bf87bad8cf\">\n",
       "      <button class=\"colab-df-quickchart\" onclick=\"quickchart('df-c8f84ae2-d27c-4b59-87c3-91bf87bad8cf')\"\n",
       "                title=\"Suggest charts\"\n",
       "                style=\"display:none;\">\n",
       "\n",
       "<svg xmlns=\"http://www.w3.org/2000/svg\" height=\"24px\"viewBox=\"0 0 24 24\"\n",
       "     width=\"24px\">\n",
       "    <g>\n",
       "        <path d=\"M19 3H5c-1.1 0-2 .9-2 2v14c0 1.1.9 2 2 2h14c1.1 0 2-.9 2-2V5c0-1.1-.9-2-2-2zM9 17H7v-7h2v7zm4 0h-2V7h2v10zm4 0h-2v-4h2v4z\"/>\n",
       "    </g>\n",
       "</svg>\n",
       "      </button>\n",
       "\n",
       "<style>\n",
       "  .colab-df-quickchart {\n",
       "      --bg-color: #E8F0FE;\n",
       "      --fill-color: #1967D2;\n",
       "      --hover-bg-color: #E2EBFA;\n",
       "      --hover-fill-color: #174EA6;\n",
       "      --disabled-fill-color: #AAA;\n",
       "      --disabled-bg-color: #DDD;\n",
       "  }\n",
       "\n",
       "  [theme=dark] .colab-df-quickchart {\n",
       "      --bg-color: #3B4455;\n",
       "      --fill-color: #D2E3FC;\n",
       "      --hover-bg-color: #434B5C;\n",
       "      --hover-fill-color: #FFFFFF;\n",
       "      --disabled-bg-color: #3B4455;\n",
       "      --disabled-fill-color: #666;\n",
       "  }\n",
       "\n",
       "  .colab-df-quickchart {\n",
       "    background-color: var(--bg-color);\n",
       "    border: none;\n",
       "    border-radius: 50%;\n",
       "    cursor: pointer;\n",
       "    display: none;\n",
       "    fill: var(--fill-color);\n",
       "    height: 32px;\n",
       "    padding: 0;\n",
       "    width: 32px;\n",
       "  }\n",
       "\n",
       "  .colab-df-quickchart:hover {\n",
       "    background-color: var(--hover-bg-color);\n",
       "    box-shadow: 0 1px 2px rgba(60, 64, 67, 0.3), 0 1px 3px 1px rgba(60, 64, 67, 0.15);\n",
       "    fill: var(--button-hover-fill-color);\n",
       "  }\n",
       "\n",
       "  .colab-df-quickchart-complete:disabled,\n",
       "  .colab-df-quickchart-complete:disabled:hover {\n",
       "    background-color: var(--disabled-bg-color);\n",
       "    fill: var(--disabled-fill-color);\n",
       "    box-shadow: none;\n",
       "  }\n",
       "\n",
       "  .colab-df-spinner {\n",
       "    border: 2px solid var(--fill-color);\n",
       "    border-color: transparent;\n",
       "    border-bottom-color: var(--fill-color);\n",
       "    animation:\n",
       "      spin 1s steps(1) infinite;\n",
       "  }\n",
       "\n",
       "  @keyframes spin {\n",
       "    0% {\n",
       "      border-color: transparent;\n",
       "      border-bottom-color: var(--fill-color);\n",
       "      border-left-color: var(--fill-color);\n",
       "    }\n",
       "    20% {\n",
       "      border-color: transparent;\n",
       "      border-left-color: var(--fill-color);\n",
       "      border-top-color: var(--fill-color);\n",
       "    }\n",
       "    30% {\n",
       "      border-color: transparent;\n",
       "      border-left-color: var(--fill-color);\n",
       "      border-top-color: var(--fill-color);\n",
       "      border-right-color: var(--fill-color);\n",
       "    }\n",
       "    40% {\n",
       "      border-color: transparent;\n",
       "      border-right-color: var(--fill-color);\n",
       "      border-top-color: var(--fill-color);\n",
       "    }\n",
       "    60% {\n",
       "      border-color: transparent;\n",
       "      border-right-color: var(--fill-color);\n",
       "    }\n",
       "    80% {\n",
       "      border-color: transparent;\n",
       "      border-right-color: var(--fill-color);\n",
       "      border-bottom-color: var(--fill-color);\n",
       "    }\n",
       "    90% {\n",
       "      border-color: transparent;\n",
       "      border-bottom-color: var(--fill-color);\n",
       "    }\n",
       "  }\n",
       "</style>\n",
       "\n",
       "      <script>\n",
       "        async function quickchart(key) {\n",
       "          const quickchartButtonEl =\n",
       "            document.querySelector('#' + key + ' button');\n",
       "          quickchartButtonEl.disabled = true;  // To prevent multiple clicks.\n",
       "          quickchartButtonEl.classList.add('colab-df-spinner');\n",
       "          try {\n",
       "            const charts = await google.colab.kernel.invokeFunction(\n",
       "                'suggestCharts', [key], {});\n",
       "          } catch (error) {\n",
       "            console.error('Error during call to suggestCharts:', error);\n",
       "          }\n",
       "          quickchartButtonEl.classList.remove('colab-df-spinner');\n",
       "          quickchartButtonEl.classList.add('colab-df-quickchart-complete');\n",
       "        }\n",
       "        (() => {\n",
       "          let quickchartButtonEl =\n",
       "            document.querySelector('#df-c8f84ae2-d27c-4b59-87c3-91bf87bad8cf button');\n",
       "          quickchartButtonEl.style.display =\n",
       "            google.colab.kernel.accessAllowed ? 'block' : 'none';\n",
       "        })();\n",
       "      </script>\n",
       "    </div>\n",
       "\n",
       "  <div id=\"id_2d89efca-0383-4757-b9ea-e488705817b5\">\n",
       "    <style>\n",
       "      .colab-df-generate {\n",
       "        background-color: #E8F0FE;\n",
       "        border: none;\n",
       "        border-radius: 50%;\n",
       "        cursor: pointer;\n",
       "        display: none;\n",
       "        fill: #1967D2;\n",
       "        height: 32px;\n",
       "        padding: 0 0 0 0;\n",
       "        width: 32px;\n",
       "      }\n",
       "\n",
       "      .colab-df-generate:hover {\n",
       "        background-color: #E2EBFA;\n",
       "        box-shadow: 0px 1px 2px rgba(60, 64, 67, 0.3), 0px 1px 3px 1px rgba(60, 64, 67, 0.15);\n",
       "        fill: #174EA6;\n",
       "      }\n",
       "\n",
       "      [theme=dark] .colab-df-generate {\n",
       "        background-color: #3B4455;\n",
       "        fill: #D2E3FC;\n",
       "      }\n",
       "\n",
       "      [theme=dark] .colab-df-generate:hover {\n",
       "        background-color: #434B5C;\n",
       "        box-shadow: 0px 1px 3px 1px rgba(0, 0, 0, 0.15);\n",
       "        filter: drop-shadow(0px 1px 2px rgba(0, 0, 0, 0.3));\n",
       "        fill: #FFFFFF;\n",
       "      }\n",
       "    </style>\n",
       "    <button class=\"colab-df-generate\" onclick=\"generateWithVariable('grouped_connections_df')\"\n",
       "            title=\"Generate code using this dataframe.\"\n",
       "            style=\"display:none;\">\n",
       "\n",
       "  <svg xmlns=\"http://www.w3.org/2000/svg\" height=\"24px\"viewBox=\"0 0 24 24\"\n",
       "       width=\"24px\">\n",
       "    <path d=\"M7,19H8.4L18.45,9,17,7.55,7,17.6ZM5,21V16.75L18.45,3.32a2,2,0,0,1,2.83,0l1.4,1.43a1.91,1.91,0,0,1,.58,1.4,1.91,1.91,0,0,1-.58,1.4L9.25,21ZM18.45,9,17,7.55Zm-12,3A5.31,5.31,0,0,0,4.9,8.1,5.31,5.31,0,0,0,1,6.5,5.31,5.31,0,0,0,4.9,4.9,5.31,5.31,0,0,0,6.5,1,5.31,5.31,0,0,0,8.1,4.9,5.31,5.31,0,0,0,12,6.5,5.46,5.46,0,0,0,6.5,12Z\"/>\n",
       "  </svg>\n",
       "    </button>\n",
       "    <script>\n",
       "      (() => {\n",
       "      const buttonEl =\n",
       "        document.querySelector('#id_2d89efca-0383-4757-b9ea-e488705817b5 button.colab-df-generate');\n",
       "      buttonEl.style.display =\n",
       "        google.colab.kernel.accessAllowed ? 'block' : 'none';\n",
       "\n",
       "      buttonEl.onclick = () => {\n",
       "        google.colab.notebook.generateWithVariable('grouped_connections_df');\n",
       "      }\n",
       "      })();\n",
       "    </script>\n",
       "  </div>\n",
       "\n",
       "    </div>\n",
       "  </div>\n"
      ],
      "text/plain": [
       "                                 node_a                         node_b  \\\n",
       "0    aida-0001-50-Alessandro_Cagliostro       aida-0001-50-Jean_Marais   \n",
       "1         aida-0001-50-Alexander_Dubček   aida-0001-50-Antonín_Novotný   \n",
       "2         aida-0001-50-Alexander_Dubček      aida-0001-50-Gustáv_Husák   \n",
       "3         aida-0001-50-Alexander_Dubček     aida-0001-50-Harold_Wilson   \n",
       "4         aida-0001-50-Alexander_Dubček        aida-0001-50-Jan_Palach   \n",
       "..                                  ...                            ...   \n",
       "101           aida-0001-50-Willy_Brandt   aida-0001-50-Johannes_Brahms   \n",
       "102           aida-0001-50-Willy_Brandt  aida-0001-50-Lubomír_Štrougal   \n",
       "103           aida-0001-50-Willy_Brandt   aida-0001-50-Walter_Ulbricht   \n",
       "104          aida-0001-50-Zdeněk_Mlynář      aida-0001-50-Jiří_Pelikán   \n",
       "105          aida-0001-50-Zdeněk_Mlynář      aida-0001-50-Pavel_Kohout   \n",
       "\n",
       "                                             timestamp  count  \\\n",
       "0                                 1975-10-02T00:00:00Z      6   \n",
       "1    1967-10-02T00:00:00Z, 1968-10-02T00:00:00Z, 19...      7   \n",
       "2    1968-10-02T00:00:00Z, 1969-10-02T00:00:00Z, 19...     24   \n",
       "3    1968-10-02T00:00:00Z, 1969-10-02T00:00:00Z, 19...      3   \n",
       "4    1969-10-02T00:00:00Z, 1972-10-02T00:00:00Z, 19...      4   \n",
       "..                                                 ...    ...   \n",
       "101                               1969-10-02T00:00:00Z      1   \n",
       "102                               1969-10-02T00:00:00Z      1   \n",
       "103         1969-10-02T00:00:00Z, 1970-10-02T00:00:00Z      2   \n",
       "104                               1977-10-02T00:00:00Z      1   \n",
       "105                               1976-10-02T00:00:00Z      1   \n",
       "\n",
       "                                                   url  \n",
       "0    https://impresso-project.ch/app/search?index=s...  \n",
       "1    https://impresso-project.ch/app/search?index=s...  \n",
       "2    https://impresso-project.ch/app/search?index=s...  \n",
       "3    https://impresso-project.ch/app/search?index=s...  \n",
       "4    https://impresso-project.ch/app/search?index=s...  \n",
       "..                                                 ...  \n",
       "101  https://impresso-project.ch/app/search?index=s...  \n",
       "102  https://impresso-project.ch/app/search?index=s...  \n",
       "103  https://impresso-project.ch/app/search?index=s...  \n",
       "104  https://impresso-project.ch/app/search?index=s...  \n",
       "105  https://impresso-project.ch/app/search?index=s...  \n",
       "\n",
       "[106 rows x 5 columns]"
      ]
     },
     "execution_count": 17,
     "metadata": {},
     "output_type": "execute_result"
    }
   ],
   "source": [
    "grouped_connections_df = connections_df.groupby(['node_a', 'node_b']) \\\n",
    "    .agg({'timestamp': lambda x: ', '.join(list(x)), 'count': 'sum', 'url': lambda x: list(set(x))[0]}) \\\n",
    "    .reset_index()\n",
    "grouped_connections_df"
   ]
  },
  {
   "cell_type": "markdown",
   "metadata": {
    "id": "McwgutkEfYIl"
   },
   "source": [
    "In the cell below, we use the [NetworkX](https://networkx.org) python library, designed for the creation, manipulation, and study of the structure, dynamics, and functions of complex networks.\n",
    "\n",
    "Here, we start creating our network by defining the 'source' and 'target', as well as the edges attributes."
   ]
  },
  {
   "cell_type": "code",
   "execution_count": 18,
   "metadata": {
    "colab": {
     "base_uri": "https://localhost:8080/"
    },
    "id": "MDvmvxTIo1-D",
    "outputId": "a1e2290d-b5f4-4d64-d71d-7721aac493fe"
   },
   "outputs": [
    {
     "data": {
      "text/plain": [
       "NodeView(('aida-0001-50-Alessandro_Cagliostro', 'aida-0001-50-Jean_Marais', 'aida-0001-50-Alexander_Dubček', 'aida-0001-50-Antonín_Novotný', 'aida-0001-50-Gustáv_Husák', 'aida-0001-50-Harold_Wilson', 'aida-0001-50-Jan_Palach', 'aida-0001-50-Jiří_Hájek', 'aida-0001-50-Josef_Smrkovský', 'aida-0001-50-Lubomír_Štrougal', 'aida-0001-50-Ludvík_Svoboda', 'aida-0001-50-Mikhail_Gorbachev', 'aida-0001-50-Miloš_Forman', 'aida-0001-50-Oldřich_Černík', 'aida-0001-50-Ota_Šik', 'aida-0001-50-Pavel_Kohout', 'aida-0001-50-Václav_Havel', 'aida-0001-50-Walter_Ulbricht', 'aida-0001-50-Willy_Brandt', 'aida-0001-50-Zdeněk_Mlynář', 'aida-0001-50-Věra_Chytilová', 'aida-0001-50-Jaromil_Jireš', 'aida-0001-50-Jiří_Menzel', 'aida-0001-50-Paul_Lendvai', 'aida-0001-50-Richard_Nixon', 'aida-0001-50-Herbert_von_Karajan', 'aida-0001-50-Bedřich_Smetana', 'aida-0001-50-Joseph_Haydn', 'aida-0001-50-Johannes_Brahms', 'aida-0001-50-Jiří_Pelikán'))"
      ]
     },
     "execution_count": 18,
     "metadata": {},
     "output_type": "execute_result"
    }
   ],
   "source": [
    "import networkx as nx\n",
    "\n",
    "# Create a MultiGraph from the edge list with count and url as edge attributes\n",
    "G = nx.from_pandas_edgelist(\n",
    "    grouped_connections_df,\n",
    "    source='node_a',\n",
    "    target='node_b',\n",
    "    edge_attr=['count', 'url'],\n",
    "    create_using=nx.MultiGraph()\n",
    ")\n",
    "\n",
    "# Add a URL attribute to each node linking to its Impresso entity page\n",
    "for i in sorted(G.nodes()):\n",
    "    G.nodes[i]['url'] = f\"https://impresso-project.ch/app/entities/{i}\"\n",
    "G.nodes"
   ]
  },
  {
   "cell_type": "markdown",
   "metadata": {
    "id": "Y9wwBmJXfYIm"
   },
   "source": [
    "To ensure reprocibility, save the file so that it can be downloaded and used elsewhere.\n",
    "> The file format GEFX is compatible with other network analysis tools like Gephi"
   ]
  },
  {
   "cell_type": "code",
   "execution_count": 19,
   "metadata": {
    "colab": {
     "base_uri": "https://localhost:8080/",
     "height": 52
    },
    "id": "wlKjTDFqEAJ-",
    "outputId": "abc7cd31-7d04-4586-ac00-d84ca8a26eab"
   },
   "outputs": [
    {
     "name": "stdout",
     "output_type": "stream",
     "text": [
      "Enter the gefx filename: impresso_network_gefx\n",
      "File saved in /tmp/impresso_network_gefx.gefx\n"
     ]
    },
    {
     "data": {
      "application/javascript": [
       "\n",
       "    async function download(id, filename, size) {\n",
       "      if (!google.colab.kernel.accessAllowed) {\n",
       "        return;\n",
       "      }\n",
       "      const div = document.createElement('div');\n",
       "      const label = document.createElement('label');\n",
       "      label.textContent = `Downloading \"${filename}\": `;\n",
       "      div.appendChild(label);\n",
       "      const progress = document.createElement('progress');\n",
       "      progress.max = size;\n",
       "      div.appendChild(progress);\n",
       "      document.body.appendChild(div);\n",
       "\n",
       "      const buffers = [];\n",
       "      let downloaded = 0;\n",
       "\n",
       "      const channel = await google.colab.kernel.comms.open(id);\n",
       "      // Send a message to notify the kernel that we're ready.\n",
       "      channel.send({})\n",
       "\n",
       "      for await (const message of channel.messages) {\n",
       "        // Send a message to notify the kernel that we're ready.\n",
       "        channel.send({})\n",
       "        if (message.buffers) {\n",
       "          for (const buffer of message.buffers) {\n",
       "            buffers.push(buffer);\n",
       "            downloaded += buffer.byteLength;\n",
       "            progress.value = downloaded;\n",
       "          }\n",
       "        }\n",
       "      }\n",
       "      const blob = new Blob(buffers, {type: 'application/binary'});\n",
       "      const a = document.createElement('a');\n",
       "      a.href = window.URL.createObjectURL(blob);\n",
       "      a.download = filename;\n",
       "      div.appendChild(a);\n",
       "      a.click();\n",
       "      div.remove();\n",
       "    }\n",
       "  "
      ],
      "text/plain": [
       "<IPython.core.display.Javascript object>"
      ]
     },
     "metadata": {},
     "output_type": "display_data"
    },
    {
     "data": {
      "application/javascript": [
       "download(\"download_d19436c8-58d2-42c7-bb53-3fe708155cf2\", \"impresso_network_gefx.gefx\", 65473)"
      ],
      "text/plain": [
       "<IPython.core.display.Javascript object>"
      ]
     },
     "metadata": {},
     "output_type": "display_data"
    }
   ],
   "source": [
    "from tempfile import gettempdir\n",
    "\n",
    "temp_dir = gettempdir()\n",
    "\n",
    "gefx_filename = input(\"Enter the gefx filename: \").replace(\" \", \"_\")\n",
    "gefx_filepath = f\"{temp_dir}/{gefx_filename}.gefx\"\n",
    "\n",
    "nx.write_gexf(G, gefx_filepath)\n",
    "\n",
    "print(f\"File saved in {gefx_filepath}\")\n",
    "\n",
    "# Download file (if using Google Colab)\n",
    "files.download(gefx_filepath)"
   ]
  },
  {
   "cell_type": "markdown",
   "metadata": {
    "id": "2f2IZBSYfYIm"
   },
   "source": [
    "If running in Colab, activate custom widgets to allow `ipysigma` to render the graph by running the cell below.\n",
    "\n",
    "Ipysigma allows you to produce an interactive graph, as well as manipulate the graph's settings.\n"
   ]
  },
  {
   "cell_type": "code",
   "execution_count": 20,
   "metadata": {
    "id": "_98XMUAfU45K"
   },
   "outputs": [],
   "source": [
    "try:\n",
    "    from google.colab import output\n",
    "    output.enable_custom_widget_manager()\n",
    "except:\n",
    "    pass"
   ]
  },
  {
   "cell_type": "markdown",
   "metadata": {
    "id": "4G3JITj7fYIn"
   },
   "source": [
    "Run the cell below to render the graph.\n",
    "\n",
    "The output will prompt you to choose from a dropdown list 'what should represent the size of the nodes', i.e. which centrality measure should determine the size of the nodes in your graph. Select it before you continue. These measures help reveal the structural importance of each node within the network."
   ]
  },
  {
   "cell_type": "code",
   "execution_count": 21,
   "metadata": {
    "colab": {
     "base_uri": "https://localhost:8080/",
     "height": 49,
     "referenced_widgets": [
      "f6163a4f620e4d5e91e10974897cae52",
      "33d8d09dfd4b4214a93da0e6cc49bdf7",
      "a654c3fe4bde475bab130494721b4b3b",
      "758c967b607e477ea7879de09da72034",
      "270b8fb57d2340ceb86c7869dfcef501",
      "9f32564522c4412caafa7c34c37e25cb",
      "534550aa69a44b4da426a4c7caa2b4f6",
      "89ff2d77a9db4ffebd152fd29e4fd61d"
     ]
    },
    "id": "DDw_2MT0fYIn",
    "outputId": "1dafab1d-baae-4b89-91b1-65c766cdd28b"
   },
   "outputs": [
    {
     "data": {
      "application/vnd.jupyter.widget-view+json": {
       "model_id": "f6163a4f620e4d5e91e10974897cae52",
       "version_major": 2,
       "version_minor": 0
      },
      "text/plain": [
       "Box(children=(Label(value='What should represent the size of the nodes:'), Dropdown(layout=Layout(width='max-c…"
      ]
     },
     "metadata": {
      "application/vnd.jupyter.widget-view+json": {
       "colab": {
        "custom_widget_manager": {
         "url": "https://ssl.gstatic.com/colaboratory-static/widgets/colab-cdn-widget-manager/2b70e893a8ba7c0f/manager.min.js"
        }
       }
      }
     },
     "output_type": "display_data"
    }
   ],
   "source": [
    "import ipywidgets\n",
    "\n",
    "node_size_widget = ipywidgets.Dropdown(\n",
    "    options=['Degree', 'Betweenness', 'Eigenvector', 'Closeness'],\n",
    "    value='Degree',\n",
    "    disabled=False,\n",
    "    layout={'width': 'max-content'}\n",
    ")\n",
    "ipywidgets.Box(\n",
    "    [\n",
    "        ipywidgets.Label(value='What should represent the size of the nodes:'),\n",
    "        node_size_widget\n",
    "    ]\n",
    ")\n"
   ]
  },
  {
   "cell_type": "markdown",
   "metadata": {
    "id": "oTk6R1ElfYIn"
   },
   "source": [
    "The next cell reads the node size method chosen above and plots the visualisation.\n",
    ">If you want to change the centrality measure above, re-run the next cell to update the visualisation\n"
   ]
  },
  {
   "cell_type": "code",
   "execution_count": 22,
   "metadata": {
    "colab": {
     "base_uri": "https://localhost:8080/",
     "height": 574,
     "referenced_widgets": [
      "3367b892750b4e86850c9159976e017f"
     ]
    },
    "id": "pzXtYjKZUvZm",
    "outputId": "11b79505-6ca0-4d60-f49e-4bdaa87c5ddf"
   },
   "outputs": [
    {
     "name": "stdout",
     "output_type": "stream",
     "text": [
      "Node size method: Degree.\n",
      "See the following link for more information about centrality measures: https://networkx.org/documentation/stable/reference/algorithms/centrality.html\n"
     ]
    },
    {
     "data": {
      "application/vnd.jupyter.widget-view+json": {
       "model_id": "3367b892750b4e86850c9159976e017f",
       "version_major": 2,
       "version_minor": 0
      },
      "text/plain": [
       "Sigma(nx.Graph with 30 nodes and 106 edges)"
      ]
     },
     "metadata": {
      "application/vnd.jupyter.widget-view+json": {
       "colab": {
        "custom_widget_manager": {
         "url": "https://ssl.gstatic.com/colaboratory-static/widgets/colab-cdn-widget-manager/2b70e893a8ba7c0f/manager.min.js"
        }
       }
      }
     },
     "output_type": "display_data"
    }
   ],
   "source": [
    "import networkx as nx\n",
    "from ipysigma import Sigma\n",
    "\n",
    "# Importing a gexf graph\n",
    "g = nx.read_gexf(gefx_filepath)\n",
    "\n",
    "node_size = None\n",
    "# Read node size method\n",
    "match node_size_widget.value:\n",
    "    case 'Degree':\n",
    "        node_size = g.degree\n",
    "    case 'Betweenness':\n",
    "        node_size = nx.betweenness_centrality(g)\n",
    "    case 'Eigenvector':\n",
    "        node_size = nx.eigenvector_centrality(g)\n",
    "    case 'Closeness':\n",
    "        node_size = nx.closeness_centrality(g)\n",
    "    case _:\n",
    "        node_size = g.degree\n",
    "\n",
    "print(f\"Node size method: {node_size_widget.value}.\")\n",
    "print(\"See the following link for more information about centrality measures: https://networkx.org/documentation/stable/reference/algorithms/centrality.html\")\n",
    "\n",
    "# node size based on the selected centrality measure\n",
    "# edge thickness based on co-occurrence count\n",
    "Sigma(g, node_size=node_size, edge_size='count', clickable_edges=True, )"
   ]
  },
  {
   "cell_type": "markdown",
   "metadata": {
    "id": "FG1cA79jfYIo"
   },
   "source": [
    "The graph display allows you to download the visualisation in png, svg, gexf, and json."
   ]
  },
  {
   "cell_type": "markdown",
   "metadata": {
    "id": "Ad0fhrw6fYIo"
   },
   "source": [
    "## Conclusion\n",
    "\n",
    "This notebook provided you with a comprehensive pipeline to create network graphs using the Impresso corpus.\n",
    "\n",
    "It is important to have in mind that only persons who have been tagged as entity 'persons' in the Impresso corpus will be added to this graph. Because of the way Named Entity Recognition (NER) works, it is possible that some people that are mentioned in the texts are not recognised as 'person' by the algorithms. In this case, those people will not be shown in the graph. For more information on NER, check our [FAQ](https://impresso-project.ch/app/faq#what-is-nep).\n",
    "\n",
    "## Next Steps\n",
    "\n",
    "That's it for now! Next, you can explore:\n",
    "\n",
    "- the [Visualising Place Entities on Maps](https://github.com/impresso/impresso-datalab-notebooks/blob/main/annotate/NE-processing_ImpressoAPI.ipynb) notebook, which demonstrates how to visualise in a map mentions to places in the Impresso corpus.\n",
    "- the [Named Entity Recognition with impresso-pipelines]() notebook, which allows you reuse Impresso NER models and apply them to your own data.\n",
    "\n",
    "**Also, a suggestion of other resources:**\n",
    "\n",
    "[Introduction to Social Network Analysis](https://www.youtube.com/playlist?list=PL4iQXwvEG8CQSy4T1Z3cJZunvPtQp4dRy): Youtube tutorials by Martin Grandjean reviewing the main concepts of social network analysis, and highlighting the challenges that arise when analyzing relational historical objects.\n",
    "\n",
    "[Demystifying Networks, Parts I & II by Scott B. Weingart](https://journalofdigitalhumanities.org/1-1/demystifying-networks-by-scott-weingart/): an older but still interesting resource with a simple introduction to networks, including concept definitions and key vocabulary\n",
    "\n",
    "[The Six Degrees of Francis Bacon Project](http://sixdegreesoffrancisbacon.com/?ids=10000473&min_confidence=60&type=network): a DH project that reconstructs the social network of early modern intellectual life in Britain and includes publications and methodology.\n",
    "\n",
    "[Historical Network Research Community](https://historicalnetworkresearch.org/): A hub for scholars working at the intersection of history and network analysis. Offers conference proceedings, reading lists, and tutorials."
   ]
  },
  {
   "cell_type": "markdown",
   "metadata": {
    "id": "OhPcfgL-fYIo"
   },
   "source": [
    "---\n",
    "## Project and License info\n",
    "\n",
    "### Notebook credits [![CreditLogo.png](data:image/png;base64,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)](https://credit.niso.org/)\n",
    "**Writing - Original draft:** Roman Kalyakin. **Conceptualization:** Roman Kalyakin, Marten Düring. **Software:** Roman Kalyakin. **Writing - Review & Editing:** Caio Mello. **Validation:** Marten Düring, Ferdaous Affan. **Datalab editorial board:** Caio Mello (Managing), Pauline Conti, Emanuela Boros, Marten Düring, Juri Opitz, Martin Grandjean, Estelle Bunout. **Data curation & Formal analysis:** Maud Ehrmann, Emanuela Boros, Pauline Conti, Simon Clematide, Juri Opitz, Andrianos Michail. **Methodology:** Roman Kalyakin. **Supervision:** Marten Düring. **Funding aquisition:** Maud Ehrmann, Simon Clematide, Marten Düring, Raphaëlle Ruppen Coutaz.\n",
    "\n",
    "<br><a target=\"_blank\" href=\"https://creativecommons.org/licenses/by/4.0/\">\n",
    "  <img src=\"https://mirrors.creativecommons.org/presskit/buttons/88x31/png/by.png\"  width=\"100\" alt=\"Open In Colab\"/>\n",
    "</a>\n",
    "\n",
    "This notebook is published under [CC BY 4.0 License](https://creativecommons.org/licenses/by/4.0/)\n",
    "\n",
    "For feedback on this notebook, please send an email to info@impresso-project.ch\n",
    "\n",
    "### Impresso project\n",
    "\n",
    "[Impresso - Media Monitoring of the Past](https://impresso-project.ch) is an interdisciplinary research project that aims to develop and consolidate tools for processing and exploring large collections of media archives across modalities, time, languages and national borders. The first project (2017-2021) was funded by the Swiss National Science Foundation under grant No. [CRSII5_173719](http://p3.snf.ch/project-173719) and the second project (2023-2027) by the SNSF under grant No. [CRSII5_213585](https://data.snf.ch/grants/grant/213585) and the Luxembourg National Research Fund under grant No. 17498891.\n",
    "<br></br>\n",
    "### License\n",
    "\n",
    "All Impresso code is published open source under the [GNU Affero General Public License](https://github.com/impresso/impresso-pyindexation/blob/master/LICENSE) v3 or later.\n",
    "\n",
    "\n",
    "---\n",
    "\n",
    "<p align=\"center\">\n",
    "  <img src=\"https://github.com/impresso/impresso.github.io/blob/master/assets/images/3x1--Yellow-Impresso-Black-on-White--transparent.png?raw=true\" width=\"350\" alt=\"Impresso Project Logo\"/>\n",
    "</p>\n"
   ]
  }
 ],
 "metadata": {
  "colab": {
   "collapsed_sections": [
    "TwR9UmpvaLhp",
    "q1NQ9Kq9aVm4"
   ],
   "provenance": []
  },
  "kernelspec": {
   "display_name": "Python [conda env:network]",
   "language": "python",
   "name": "conda-env-network-py"
  },
  "language_info": {
   "codemirror_mode": {
    "name": "ipython",
    "version": 3
   },
   "file_extension": ".py",
   "mimetype": "text/x-python",
   "name": "python",
   "nbconvert_exporter": "python",
   "pygments_lexer": "ipython3",
   "version": "3.13.5"
  },
  "widgets": {
   "application/vnd.jupyter.widget-state+json": {
    "270b8fb57d2340ceb86c7869dfcef501": {
     "model_module": "@jupyter-widgets/base",
     "model_module_version": "1.2.0",
     "model_name": "LayoutModel",
     "state": {
      "_model_module": "@jupyter-widgets/base",
      "_model_module_version": "1.2.0",
      "_model_name": "LayoutModel",
      "_view_count": null,
      "_view_module": "@jupyter-widgets/base",
      "_view_module_version": "1.2.0",
      "_view_name": "LayoutView",
      "align_content": null,
      "align_items": null,
      "align_self": null,
      "border": null,
      "bottom": null,
      "display": null,
      "flex": null,
      "flex_flow": null,
      "grid_area": null,
      "grid_auto_columns": null,
      "grid_auto_flow": null,
      "grid_auto_rows": null,
      "grid_column": null,
      "grid_gap": null,
      "grid_row": null,
      "grid_template_areas": null,
      "grid_template_columns": null,
      "grid_template_rows": null,
      "height": null,
      "justify_content": null,
      "justify_items": null,
      "left": null,
      "margin": null,
      "max_height": null,
      "max_width": null,
      "min_height": null,
      "min_width": null,
      "object_fit": null,
      "object_position": null,
      "order": null,
      "overflow": null,
      "overflow_x": null,
      "overflow_y": null,
      "padding": null,
      "right": null,
      "top": null,
      "visibility": null,
      "width": null
     }
    },
    "3367b892750b4e86850c9159976e017f": {
     "model_module": "ipysigma",
     "model_module_version": "^0.24.5",
     "model_name": "SigmaModel",
     "state": {
      "_dom_classes": [],
      "_model_module": "ipysigma",
      "_model_module_version": "^0.24.5",
      "_model_name": "SigmaModel",
      "_view_count": null,
      "_view_module": "ipysigma",
      "_view_module_version": "^0.24.5",
      "_view_name": "SigmaView",
      "background_color": "white",
      "camera_state": {
       "angle": 0,
       "ratio": 1,
       "x": 0.5,
       "y": 0.5
      },
      "clickable_edges": true,
      "data": {
       "edges": [
        {
         "attributes": {
          "count": 6,
          "id": "0",
          "url": "https://impresso-project.ch/app/search?index=search&facet=type&domain=daterange&sq=CjgYByoQUHJhZ2VyIEZyw7xobGluZyoTUHJpbnRlbXBzIGRlIFByYWd1ZSoNUHJhZ3VlIFNwcmluZwpCEAEYCCoiYWlkYS0wMDAxLTUwLUFsZXNzYW5kcm9fQ2FnbGlvc3RybyoYYWlkYS0wMDAxLTUwLUplYW5fTWFyYWlz&p=1"
         },
         "source": "aida-0001-50-Alessandro_Cagliostro",
         "target": "aida-0001-50-Jean_Marais"
        },
        {
         "attributes": {
          "count": 1,
          "id": "1",
          "url": "https://impresso-project.ch/app/search?index=search&facet=type&domain=daterange&sq=CjgYByoQUHJhZ2VyIEZyw7xobGluZyoTUHJpbnRlbXBzIGRlIFByYWd1ZSoNUHJhZ3VlIFNwcmluZwpEEAEYCCoiYWlkYS0wMDAxLTUwLUFsZXNzYW5kcm9fQ2FnbGlvc3RybyoaYWlkYS0wMDAxLTUwLUppxZnDrV9NZW56ZWw=&p=1"
         },
         "source": "aida-0001-50-Alessandro_Cagliostro",
         "target": "aida-0001-50-Jiří_Menzel"
        },
        {
         "attributes": {
          "count": 1,
          "id": "2",
          "url": "https://impresso-project.ch/app/search?index=search&facet=type&domain=daterange&sq=CjgYByoQUHJhZ2VyIEZyw7xobGluZyoTUHJpbnRlbXBzIGRlIFByYWd1ZSoNUHJhZ3VlIFNwcmluZwpEEAEYCCoiYWlkYS0wMDAxLTUwLUFsZXNzYW5kcm9fQ2FnbGlvc3RybyoaYWlkYS0wMDAxLTUwLU1pbG/FoV9Gb3JtYW4=&p=1"
         },
         "source": "aida-0001-50-Alessandro_Cagliostro",
         "target": "aida-0001-50-Miloš_Forman"
        },
        {
         "attributes": {
          "count": 1,
          "id": "3",
          "url": "https://impresso-project.ch/app/search?index=search&facet=type&domain=daterange&sq=CjgYByoQUHJhZ2VyIEZyw7xobGluZyoTUHJpbnRlbXBzIGRlIFByYWd1ZSoNUHJhZ3VlIFNwcmluZwpHEAEYCCoiYWlkYS0wMDAxLTUwLUFsZXNzYW5kcm9fQ2FnbGlvc3RybyodYWlkYS0wMDAxLTUwLVbEm3JhX0NoeXRpbG92w6E=&p=1"
         },
         "source": "aida-0001-50-Alessandro_Cagliostro",
         "target": "aida-0001-50-Věra_Chytilová"
        },
        {
         "attributes": {
          "count": 1,
          "id": "4",
          "url": "https://impresso-project.ch/app/search?index=search&facet=type&domain=daterange&sq=CjgYByoQUHJhZ2VyIEZyw7xobGluZyoTUHJpbnRlbXBzIGRlIFByYWd1ZSoNUHJhZ3VlIFNwcmluZwo6EAEYCCoaYWlkYS0wMDAxLTUwLU1pbG/FoV9Gb3JtYW4qGGFpZGEtMDAwMS01MC1KZWFuX01hcmFpcw==&p=1"
         },
         "source": "aida-0001-50-Jean_Marais",
         "target": "aida-0001-50-Miloš_Forman"
        },
        {
         "attributes": {
          "count": 1,
          "id": "5",
          "url": "https://impresso-project.ch/app/search?index=search&facet=type&domain=daterange&sq=CjgYByoQUHJhZ2VyIEZyw7xobGluZyoTUHJpbnRlbXBzIGRlIFByYWd1ZSoNUHJhZ3VlIFNwcmluZwo9EAEYCCodYWlkYS0wMDAxLTUwLVbEm3JhX0NoeXRpbG92w6EqGGFpZGEtMDAwMS01MC1KZWFuX01hcmFpcw==&p=1"
         },
         "source": "aida-0001-50-Jean_Marais",
         "target": "aida-0001-50-Věra_Chytilová"
        },
        {
         "attributes": {
          "count": 7,
          "id": "6",
          "url": "https://impresso-project.ch/app/search?index=search&facet=type&domain=daterange&sq=CjgYByoQUHJhZ2VyIEZyw7xobGluZyoTUHJpbnRlbXBzIGRlIFByYWd1ZSoNUHJhZ3VlIFNwcmluZwpEEAEYCCoeYWlkYS0wMDAxLTUwLUFsZXhhbmRlcl9EdWLEjWVrKh5haWRhLTAwMDEtNTAtQW50b27DrW5fTm92b3Ruw70=&p=1"
         },
         "source": "aida-0001-50-Alexander_Dubček",
         "target": "aida-0001-50-Antonín_Novotný"
        },
        {
         "attributes": {
          "count": 24,
          "id": "7",
          "url": "https://impresso-project.ch/app/search?index=search&facet=type&domain=daterange&sq=CjgYByoQUHJhZ2VyIEZyw7xobGluZyoTUHJpbnRlbXBzIGRlIFByYWd1ZSoNUHJhZ3VlIFNwcmluZwpBEAEYCCoeYWlkYS0wMDAxLTUwLUFsZXhhbmRlcl9EdWLEjWVrKhthaWRhLTAwMDEtNTAtR3VzdMOhdl9IdXPDoWs=&p=1"
         },
         "source": "aida-0001-50-Alexander_Dubček",
         "target": "aida-0001-50-Gustáv_Husák"
        },
        {
         "attributes": {
          "count": 3,
          "id": "8",
          "url": "https://impresso-project.ch/app/search?index=search&facet=type&domain=daterange&sq=CjgYByoQUHJhZ2VyIEZyw7xobGluZyoTUHJpbnRlbXBzIGRlIFByYWd1ZSoNUHJhZ3VlIFNwcmluZwpAEAEYCCoeYWlkYS0wMDAxLTUwLUFsZXhhbmRlcl9EdWLEjWVrKhphaWRhLTAwMDEtNTAtSGFyb2xkX1dpbHNvbg==&p=1"
         },
         "source": "aida-0001-50-Alexander_Dubček",
         "target": "aida-0001-50-Harold_Wilson"
        },
        {
         "attributes": {
          "count": 4,
          "id": "9",
          "url": "https://impresso-project.ch/app/search?index=search&facet=type&domain=daterange&sq=CjgYByoQUHJhZ2VyIEZyw7xobGluZyoTUHJpbnRlbXBzIGRlIFByYWd1ZSoNUHJhZ3VlIFNwcmluZwo9EAEYCCoeYWlkYS0wMDAxLTUwLUFsZXhhbmRlcl9EdWLEjWVrKhdhaWRhLTAwMDEtNTAtSmFuX1BhbGFjaA==&p=1"
         },
         "source": "aida-0001-50-Alexander_Dubček",
         "target": "aida-0001-50-Jan_Palach"
        },
        {
         "attributes": {
          "count": 2,
          "id": "10",
          "url": "https://impresso-project.ch/app/search?index=search&facet=type&domain=daterange&sq=CjgYByoQUHJhZ2VyIEZyw7xobGluZyoTUHJpbnRlbXBzIGRlIFByYWd1ZSoNUHJhZ3VlIFNwcmluZwpAEAEYCCoeYWlkYS0wMDAxLTUwLUFsZXhhbmRlcl9EdWLEjWVrKhphaWRhLTAwMDEtNTAtSmnFmcOtX0jDoWplaw==&p=1"
         },
         "source": "aida-0001-50-Alexander_Dubček",
         "target": "aida-0001-50-Jiří_Hájek"
        },
        {
         "attributes": {
          "count": 8,
          "id": "11",
          "url": "https://impresso-project.ch/app/search?index=search&facet=type&domain=daterange&sq=CjgYByoQUHJhZ2VyIEZyw7xobGluZyoTUHJpbnRlbXBzIGRlIFByYWd1ZSoNUHJhZ3VlIFNwcmluZwpDEAEYCCoeYWlkYS0wMDAxLTUwLUFsZXhhbmRlcl9EdWLEjWVrKh1haWRhLTAwMDEtNTAtSm9zZWZfU21ya292c2vDvQ==&p=1"
         },
         "source": "aida-0001-50-Alexander_Dubček",
         "target": "aida-0001-50-Josef_Smrkovský"
        },
        {
         "attributes": {
          "count": 2,
          "id": "12",
          "url": "https://impresso-project.ch/app/search?index=search&facet=type&domain=daterange&sq=CjgYByoQUHJhZ2VyIEZyw7xobGluZyoTUHJpbnRlbXBzIGRlIFByYWd1ZSoNUHJhZ3VlIFNwcmluZwpFEAEYCCoeYWlkYS0wMDAxLTUwLUFsZXhhbmRlcl9EdWLEjWVrKh9haWRhLTAwMDEtNTAtTHVib23DrXJfxaB0cm91Z2Fs&p=1"
         },
         "source": "aida-0001-50-Alexander_Dubček",
         "target": "aida-0001-50-Lubomír_Štrougal"
        },
        {
         "attributes": {
          "count": 7,
          "id": "13",
          "url": "https://impresso-project.ch/app/search?index=search&facet=type&domain=daterange&sq=CjgYByoQUHJhZ2VyIEZyw7xobGluZyoTUHJpbnRlbXBzIGRlIFByYWd1ZSoNUHJhZ3VlIFNwcmluZwpCEAEYCCoeYWlkYS0wMDAxLTUwLUFsZXhhbmRlcl9EdWLEjWVrKhxhaWRhLTAwMDEtNTAtTHVkdsOta19Tdm9ib2Rh&p=1"
         },
         "source": "aida-0001-50-Alexander_Dubček",
         "target": "aida-0001-50-Ludvík_Svoboda"
        },
        {
         "attributes": {
          "count": 7,
          "id": "14",
          "url": "https://impresso-project.ch/app/search?index=search&facet=type&domain=daterange&sq=CjgYByoQUHJhZ2VyIEZyw7xobGluZyoTUHJpbnRlbXBzIGRlIFByYWd1ZSoNUHJhZ3VlIFNwcmluZwpEEAEYCCoeYWlkYS0wMDAxLTUwLUFsZXhhbmRlcl9EdWLEjWVrKh5haWRhLTAwMDEtNTAtTWlraGFpbF9Hb3JiYWNoZXY=&p=1"
         },
         "source": "aida-0001-50-Alexander_Dubček",
         "target": "aida-0001-50-Mikhail_Gorbachev"
        },
        {
         "attributes": {
          "count": 1,
          "id": "15",
          "url": "https://impresso-project.ch/app/search?index=search&facet=type&domain=daterange&sq=CjgYByoQUHJhZ2VyIEZyw7xobGluZyoTUHJpbnRlbXBzIGRlIFByYWd1ZSoNUHJhZ3VlIFNwcmluZwpAEAEYCCoeYWlkYS0wMDAxLTUwLUFsZXhhbmRlcl9EdWLEjWVrKhphaWRhLTAwMDEtNTAtTWlsb8WhX0Zvcm1hbg==&p=1"
         },
         "source": "aida-0001-50-Alexander_Dubček",
         "target": "aida-0001-50-Miloš_Forman"
        },
        {
         "attributes": {
          "count": 9,
          "id": "16",
          "url": "https://impresso-project.ch/app/search?index=search&facet=type&domain=daterange&sq=CjgYByoQUHJhZ2VyIEZyw7xobGluZyoTUHJpbnRlbXBzIGRlIFByYWd1ZSoNUHJhZ3VlIFNwcmluZwpEEAEYCCoeYWlkYS0wMDAxLTUwLUFsZXhhbmRlcl9EdWLEjWVrKh5haWRhLTAwMDEtNTAtT2xkxZlpY2hfxIxlcm7DrWs=&p=1"
         },
         "source": "aida-0001-50-Alexander_Dubček",
         "target": "aida-0001-50-Oldřich_Černík"
        },
        {
         "attributes": {
          "count": 7,
          "id": "17",
          "url": "https://impresso-project.ch/app/search?index=search&facet=type&domain=daterange&sq=CjgYByoQUHJhZ2VyIEZyw7xobGluZyoTUHJpbnRlbXBzIGRlIFByYWd1ZSoNUHJhZ3VlIFNwcmluZwo7EAEYCCoeYWlkYS0wMDAxLTUwLUFsZXhhbmRlcl9EdWLEjWVrKhVhaWRhLTAwMDEtNTAtT3RhX8WgaWs=&p=1"
         },
         "source": "aida-0001-50-Alexander_Dubček",
         "target": "aida-0001-50-Ota_Šik"
        },
        {
         "attributes": {
          "count": 1,
          "id": "18",
          "url": "https://impresso-project.ch/app/search?index=search&facet=type&domain=daterange&sq=CjgYByoQUHJhZ2VyIEZyw7xobGluZyoTUHJpbnRlbXBzIGRlIFByYWd1ZSoNUHJhZ3VlIFNwcmluZwo/EAEYCCoeYWlkYS0wMDAxLTUwLUFsZXhhbmRlcl9EdWLEjWVrKhlhaWRhLTAwMDEtNTAtUGF2ZWxfS29ob3V0&p=1"
         },
         "source": "aida-0001-50-Alexander_Dubček",
         "target": "aida-0001-50-Pavel_Kohout"
        },
        {
         "attributes": {
          "count": 13,
          "id": "19",
          "url": "https://impresso-project.ch/app/search?index=search&facet=type&domain=daterange&sq=CjgYByoQUHJhZ2VyIEZyw7xobGluZyoTUHJpbnRlbXBzIGRlIFByYWd1ZSoNUHJhZ3VlIFNwcmluZwpAEAEYCCoeYWlkYS0wMDAxLTUwLUFsZXhhbmRlcl9EdWLEjWVrKhphaWRhLTAwMDEtNTAtVsOhY2xhdl9IYXZlbA==&p=1"
         },
         "source": "aida-0001-50-Alexander_Dubček",
         "target": "aida-0001-50-Václav_Havel"
        },
        {
         "attributes": {
          "count": 1,
          "id": "20",
          "url": "https://impresso-project.ch/app/search?index=search&facet=type&domain=daterange&sq=CjgYByoQUHJhZ2VyIEZyw7xobGluZyoTUHJpbnRlbXBzIGRlIFByYWd1ZSoNUHJhZ3VlIFNwcmluZwpCEAEYCCoeYWlkYS0wMDAxLTUwLUFsZXhhbmRlcl9EdWLEjWVrKhxhaWRhLTAwMDEtNTAtV2FsdGVyX1VsYnJpY2h0&p=1"
         },
         "source": "aida-0001-50-Alexander_Dubček",
         "target": "aida-0001-50-Walter_Ulbricht"
        },
        {
         "attributes": {
          "count": 1,
          "id": "21",
          "url": "https://impresso-project.ch/app/search?index=search&facet=type&domain=daterange&sq=CjgYByoQUHJhZ2VyIEZyw7xobGluZyoTUHJpbnRlbXBzIGRlIFByYWd1ZSoNUHJhZ3VlIFNwcmluZwo/EAEYCCoeYWlkYS0wMDAxLTUwLUFsZXhhbmRlcl9EdWLEjWVrKhlhaWRhLTAwMDEtNTAtV2lsbHlfQnJhbmR0&p=1"
         },
         "source": "aida-0001-50-Alexander_Dubček",
         "target": "aida-0001-50-Willy_Brandt"
        },
        {
         "attributes": {
          "count": 2,
          "id": "22",
          "url": "https://impresso-project.ch/app/search?index=search&facet=type&domain=daterange&sq=CjgYByoQUHJhZ2VyIEZyw7xobGluZyoTUHJpbnRlbXBzIGRlIFByYWd1ZSoNUHJhZ3VlIFNwcmluZwpDEAEYCCoeYWlkYS0wMDAxLTUwLUFsZXhhbmRlcl9EdWLEjWVrKh1haWRhLTAwMDEtNTAtWmRlbsSba19NbHluw6HFmQ==&p=1"
         },
         "source": "aida-0001-50-Alexander_Dubček",
         "target": "aida-0001-50-Zdeněk_Mlynář"
        },
        {
         "attributes": {
          "count": 1,
          "id": "23",
          "url": "https://impresso-project.ch/app/search?index=search&facet=type&domain=daterange&sq=CjgYByoQUHJhZ2VyIEZyw7xobGluZyoTUHJpbnRlbXBzIGRlIFByYWd1ZSoNUHJhZ3VlIFNwcmluZwpDEAEYCCoeYWlkYS0wMDAxLTUwLUFudG9uw61uX05vdm90bsO9Kh1haWRhLTAwMDEtNTAtVsSbcmFfQ2h5dGlsb3bDoQ==&p=1"
         },
         "source": "aida-0001-50-Antonín_Novotný",
         "target": "aida-0001-50-Věra_Chytilová"
        },
        {
         "attributes": {
          "count": 1,
          "id": "24",
          "url": "https://impresso-project.ch/app/search?index=search&facet=type&domain=daterange&sq=CjgYByoQUHJhZ2VyIEZyw7xobGluZyoTUHJpbnRlbXBzIGRlIFByYWd1ZSoNUHJhZ3VlIFNwcmluZwpCEAEYCCoeYWlkYS0wMDAxLTUwLUFudG9uw61uX05vdm90bsO9KhxhaWRhLTAwMDEtNTAtV2FsdGVyX1VsYnJpY2h0&p=1"
         },
         "source": "aida-0001-50-Antonín_Novotný",
         "target": "aida-0001-50-Walter_Ulbricht"
        },
        {
         "attributes": {
          "count": 4,
          "id": "25",
          "url": "https://impresso-project.ch/app/search?index=search&facet=type&domain=daterange&sq=CjgYByoQUHJhZ2VyIEZyw7xobGluZyoTUHJpbnRlbXBzIGRlIFByYWd1ZSoNUHJhZ3VlIFNwcmluZwpBEAEYCCoeYWlkYS0wMDAxLTUwLUFudG9uw61uX05vdm90bsO9KhthaWRhLTAwMDEtNTAtR3VzdMOhdl9IdXPDoWs=&p=1"
         },
         "source": "aida-0001-50-Antonín_Novotný",
         "target": "aida-0001-50-Gustáv_Husák"
        },
        {
         "attributes": {
          "count": 1,
          "id": "26",
          "url": "https://impresso-project.ch/app/search?index=search&facet=type&domain=daterange&sq=CjgYByoQUHJhZ2VyIEZyw7xobGluZyoTUHJpbnRlbXBzIGRlIFByYWd1ZSoNUHJhZ3VlIFNwcmluZwpAEAEYCCoaYWlkYS0wMDAxLTUwLUppxZnDrV9NZW56ZWwqHmFpZGEtMDAwMS01MC1BbnRvbsOtbl9Ob3ZvdG7DvQ==&p=1"
         },
         "source": "aida-0001-50-Antonín_Novotný",
         "target": "aida-0001-50-Jiří_Menzel"
        },
        {
         "attributes": {
          "count": 1,
          "id": "27",
          "url": "https://impresso-project.ch/app/search?index=search&facet=type&domain=daterange&sq=CjgYByoQUHJhZ2VyIEZyw7xobGluZyoTUHJpbnRlbXBzIGRlIFByYWd1ZSoNUHJhZ3VlIFNwcmluZwpDEAEYCCoeYWlkYS0wMDAxLTUwLUFudG9uw61uX05vdm90bsO9Kh1haWRhLTAwMDEtNTAtSm9zZWZfU21ya292c2vDvQ==&p=1"
         },
         "source": "aida-0001-50-Antonín_Novotný",
         "target": "aida-0001-50-Josef_Smrkovský"
        },
        {
         "attributes": {
          "count": 4,
          "id": "28",
          "url": "https://impresso-project.ch/app/search?index=search&facet=type&domain=daterange&sq=CjgYByoQUHJhZ2VyIEZyw7xobGluZyoTUHJpbnRlbXBzIGRlIFByYWd1ZSoNUHJhZ3VlIFNwcmluZwpCEAEYCCoeYWlkYS0wMDAxLTUwLUFudG9uw61uX05vdm90bsO9KhxhaWRhLTAwMDEtNTAtTHVkdsOta19Tdm9ib2Rh&p=1"
         },
         "source": "aida-0001-50-Antonín_Novotný",
         "target": "aida-0001-50-Ludvík_Svoboda"
        },
        {
         "attributes": {
          "count": 2,
          "id": "29",
          "url": "https://impresso-project.ch/app/search?index=search&facet=type&domain=daterange&sq=CjgYByoQUHJhZ2VyIEZyw7xobGluZyoTUHJpbnRlbXBzIGRlIFByYWd1ZSoNUHJhZ3VlIFNwcmluZwpEEAEYCCoeYWlkYS0wMDAxLTUwLUFudG9uw61uX05vdm90bsO9Kh5haWRhLTAwMDEtNTAtT2xkxZlpY2hfxIxlcm7DrWs=&p=1"
         },
         "source": "aida-0001-50-Antonín_Novotný",
         "target": "aida-0001-50-Oldřich_Černík"
        },
        {
         "attributes": {
          "count": 2,
          "id": "30",
          "url": "https://impresso-project.ch/app/search?index=search&facet=type&domain=daterange&sq=CjgYByoQUHJhZ2VyIEZyw7xobGluZyoTUHJpbnRlbXBzIGRlIFByYWd1ZSoNUHJhZ3VlIFNwcmluZwo7EAEYCCoeYWlkYS0wMDAxLTUwLUFudG9uw61uX05vdm90bsO9KhVhaWRhLTAwMDEtNTAtT3RhX8WgaWs=&p=1"
         },
         "source": "aida-0001-50-Antonín_Novotný",
         "target": "aida-0001-50-Ota_Šik"
        },
        {
         "attributes": {
          "count": 3,
          "id": "31",
          "url": "https://impresso-project.ch/app/search?index=search&facet=type&domain=daterange&sq=CjgYByoQUHJhZ2VyIEZyw7xobGluZyoTUHJpbnRlbXBzIGRlIFByYWd1ZSoNUHJhZ3VlIFNwcmluZwo9EAEYCCoaYWlkYS0wMDAxLTUwLUhhcm9sZF9XaWxzb24qG2FpZGEtMDAwMS01MC1HdXN0w6F2X0h1c8Ohaw==&p=1"
         },
         "source": "aida-0001-50-Gustáv_Husák",
         "target": "aida-0001-50-Harold_Wilson"
        },
        {
         "attributes": {
          "count": 1,
          "id": "32",
          "url": "https://impresso-project.ch/app/search?index=search&facet=type&domain=daterange&sq=CjgYByoQUHJhZ2VyIEZyw7xobGluZyoTUHJpbnRlbXBzIGRlIFByYWd1ZSoNUHJhZ3VlIFNwcmluZwo6EAEYCCobYWlkYS0wMDAxLTUwLUd1c3TDoXZfSHVzw6FrKhdhaWRhLTAwMDEtNTAtSmFuX1BhbGFjaA==&p=1"
         },
         "source": "aida-0001-50-Gustáv_Husák",
         "target": "aida-0001-50-Jan_Palach"
        },
        {
         "attributes": {
          "count": 1,
          "id": "33",
          "url": "https://impresso-project.ch/app/search?index=search&facet=type&domain=daterange&sq=CjgYByoQUHJhZ2VyIEZyw7xobGluZyoTUHJpbnRlbXBzIGRlIFByYWd1ZSoNUHJhZ3VlIFNwcmluZwo+EAEYCCobYWlkYS0wMDAxLTUwLUphcm9taWxfSmlyZcWhKhthaWRhLTAwMDEtNTAtR3VzdMOhdl9IdXPDoWs=&p=1"
         },
         "source": "aida-0001-50-Gustáv_Husák",
         "target": "aida-0001-50-Jaromil_Jireš"
        },
        {
         "attributes": {
          "count": 2,
          "id": "34",
          "url": "https://impresso-project.ch/app/search?index=search&facet=type&domain=daterange&sq=CjgYByoQUHJhZ2VyIEZyw7xobGluZyoTUHJpbnRlbXBzIGRlIFByYWd1ZSoNUHJhZ3VlIFNwcmluZwo9EAEYCCoaYWlkYS0wMDAxLTUwLUppxZnDrV9Iw6FqZWsqG2FpZGEtMDAwMS01MC1HdXN0w6F2X0h1c8Ohaw==&p=1"
         },
         "source": "aida-0001-50-Gustáv_Husák",
         "target": "aida-0001-50-Jiří_Hájek"
        },
        {
         "attributes": {
          "count": 1,
          "id": "35",
          "url": "https://impresso-project.ch/app/search?index=search&facet=type&domain=daterange&sq=CjgYByoQUHJhZ2VyIEZyw7xobGluZyoTUHJpbnRlbXBzIGRlIFByYWd1ZSoNUHJhZ3VlIFNwcmluZwo9EAEYCCoaYWlkYS0wMDAxLTUwLUppxZnDrV9NZW56ZWwqG2FpZGEtMDAwMS01MC1HdXN0w6F2X0h1c8Ohaw==&p=1"
         },
         "source": "aida-0001-50-Gustáv_Husák",
         "target": "aida-0001-50-Jiří_Menzel"
        },
        {
         "attributes": {
          "count": 5,
          "id": "36",
          "url": "https://impresso-project.ch/app/search?index=search&facet=type&domain=daterange&sq=CjgYByoQUHJhZ2VyIEZyw7xobGluZyoTUHJpbnRlbXBzIGRlIFByYWd1ZSoNUHJhZ3VlIFNwcmluZwpAEAEYCCodYWlkYS0wMDAxLTUwLUpvc2VmX1NtcmtvdnNrw70qG2FpZGEtMDAwMS01MC1HdXN0w6F2X0h1c8Ohaw==&p=1"
         },
         "source": "aida-0001-50-Gustáv_Husák",
         "target": "aida-0001-50-Josef_Smrkovský"
        },
        {
         "attributes": {
          "count": 3,
          "id": "37",
          "url": "https://impresso-project.ch/app/search?index=search&facet=type&domain=daterange&sq=CjgYByoQUHJhZ2VyIEZyw7xobGluZyoTUHJpbnRlbXBzIGRlIFByYWd1ZSoNUHJhZ3VlIFNwcmluZwpCEAEYCCobYWlkYS0wMDAxLTUwLUd1c3TDoXZfSHVzw6FrKh9haWRhLTAwMDEtNTAtTHVib23DrXJfxaB0cm91Z2Fs&p=1"
         },
         "source": "aida-0001-50-Gustáv_Husák",
         "target": "aida-0001-50-Lubomír_Štrougal"
        },
        {
         "attributes": {
          "count": 3,
          "id": "38",
          "url": "https://impresso-project.ch/app/search?index=search&facet=type&domain=daterange&sq=CjgYByoQUHJhZ2VyIEZyw7xobGluZyoTUHJpbnRlbXBzIGRlIFByYWd1ZSoNUHJhZ3VlIFNwcmluZwo/EAEYCCocYWlkYS0wMDAxLTUwLUx1ZHbDrWtfU3ZvYm9kYSobYWlkYS0wMDAxLTUwLUd1c3TDoXZfSHVzw6Fr&p=1"
         },
         "source": "aida-0001-50-Gustáv_Husák",
         "target": "aida-0001-50-Ludvík_Svoboda"
        },
        {
         "attributes": {
          "count": 1,
          "id": "39",
          "url": "https://impresso-project.ch/app/search?index=search&facet=type&domain=daterange&sq=CjgYByoQUHJhZ2VyIEZyw7xobGluZyoTUHJpbnRlbXBzIGRlIFByYWd1ZSoNUHJhZ3VlIFNwcmluZwpBEAEYCCoeYWlkYS0wMDAxLTUwLU1pa2hhaWxfR29yYmFjaGV2KhthaWRhLTAwMDEtNTAtR3VzdMOhdl9IdXPDoWs=&p=1"
         },
         "source": "aida-0001-50-Gustáv_Husák",
         "target": "aida-0001-50-Mikhail_Gorbachev"
        },
        {
         "attributes": {
          "count": 6,
          "id": "40",
          "url": "https://impresso-project.ch/app/search?index=search&facet=type&domain=daterange&sq=CjgYByoQUHJhZ2VyIEZyw7xobGluZyoTUHJpbnRlbXBzIGRlIFByYWd1ZSoNUHJhZ3VlIFNwcmluZwpBEAEYCCoeYWlkYS0wMDAxLTUwLU9sZMWZaWNoX8SMZXJuw61rKhthaWRhLTAwMDEtNTAtR3VzdMOhdl9IdXPDoWs=&p=1"
         },
         "source": "aida-0001-50-Gustáv_Husák",
         "target": "aida-0001-50-Oldřich_Černík"
        },
        {
         "attributes": {
          "count": 7,
          "id": "41",
          "url": "https://impresso-project.ch/app/search?index=search&facet=type&domain=daterange&sq=CjgYByoQUHJhZ2VyIEZyw7xobGluZyoTUHJpbnRlbXBzIGRlIFByYWd1ZSoNUHJhZ3VlIFNwcmluZwo4EAEYCCoVYWlkYS0wMDAxLTUwLU90YV/FoGlrKhthaWRhLTAwMDEtNTAtR3VzdMOhdl9IdXPDoWs=&p=1"
         },
         "source": "aida-0001-50-Gustáv_Husák",
         "target": "aida-0001-50-Ota_Šik"
        },
        {
         "attributes": {
          "count": 2,
          "id": "42",
          "url": "https://impresso-project.ch/app/search?index=search&facet=type&domain=daterange&sq=CjgYByoQUHJhZ2VyIEZyw7xobGluZyoTUHJpbnRlbXBzIGRlIFByYWd1ZSoNUHJhZ3VlIFNwcmluZwo8EAEYCCobYWlkYS0wMDAxLTUwLUd1c3TDoXZfSHVzw6FrKhlhaWRhLTAwMDEtNTAtUGF1bF9MZW5kdmFp&p=1"
         },
         "source": "aida-0001-50-Gustáv_Husák",
         "target": "aida-0001-50-Paul_Lendvai"
        },
        {
         "attributes": {
          "count": 2,
          "id": "43",
          "url": "https://impresso-project.ch/app/search?index=search&facet=type&domain=daterange&sq=CjgYByoQUHJhZ2VyIEZyw7xobGluZyoTUHJpbnRlbXBzIGRlIFByYWd1ZSoNUHJhZ3VlIFNwcmluZwo8EAEYCCoZYWlkYS0wMDAxLTUwLVBhdmVsX0tvaG91dCobYWlkYS0wMDAxLTUwLUd1c3TDoXZfSHVzw6Fr&p=1"
         },
         "source": "aida-0001-50-Gustáv_Husák",
         "target": "aida-0001-50-Pavel_Kohout"
        },
        {
         "attributes": {
          "count": 1,
          "id": "44",
          "url": "https://impresso-project.ch/app/search?index=search&facet=type&domain=daterange&sq=CjgYByoQUHJhZ2VyIEZyw7xobGluZyoTUHJpbnRlbXBzIGRlIFByYWd1ZSoNUHJhZ3VlIFNwcmluZwo9EAEYCCoaYWlkYS0wMDAxLTUwLVJpY2hhcmRfTml4b24qG2FpZGEtMDAwMS01MC1HdXN0w6F2X0h1c8Ohaw==&p=1"
         },
         "source": "aida-0001-50-Gustáv_Husák",
         "target": "aida-0001-50-Richard_Nixon"
        },
        {
         "attributes": {
          "count": 5,
          "id": "45",
          "url": "https://impresso-project.ch/app/search?index=search&facet=type&domain=daterange&sq=CjgYByoQUHJhZ2VyIEZyw7xobGluZyoTUHJpbnRlbXBzIGRlIFByYWd1ZSoNUHJhZ3VlIFNwcmluZwo9EAEYCCoaYWlkYS0wMDAxLTUwLVbDoWNsYXZfSGF2ZWwqG2FpZGEtMDAwMS01MC1HdXN0w6F2X0h1c8Ohaw==&p=1"
         },
         "source": "aida-0001-50-Gustáv_Husák",
         "target": "aida-0001-50-Václav_Havel"
        },
        {
         "attributes": {
          "count": 2,
          "id": "46",
          "url": "https://impresso-project.ch/app/search?index=search&facet=type&domain=daterange&sq=CjgYByoQUHJhZ2VyIEZyw7xobGluZyoTUHJpbnRlbXBzIGRlIFByYWd1ZSoNUHJhZ3VlIFNwcmluZwo/EAEYCCocYWlkYS0wMDAxLTUwLVdhbHRlcl9VbGJyaWNodCobYWlkYS0wMDAxLTUwLUd1c3TDoXZfSHVzw6Fr&p=1"
         },
         "source": "aida-0001-50-Gustáv_Husák",
         "target": "aida-0001-50-Walter_Ulbricht"
        },
        {
         "attributes": {
          "count": 3,
          "id": "47",
          "url": "https://impresso-project.ch/app/search?index=search&facet=type&domain=daterange&sq=CjgYByoQUHJhZ2VyIEZyw7xobGluZyoTUHJpbnRlbXBzIGRlIFByYWd1ZSoNUHJhZ3VlIFNwcmluZwo8EAEYCCoZYWlkYS0wMDAxLTUwLVdpbGx5X0JyYW5kdCobYWlkYS0wMDAxLTUwLUd1c3TDoXZfSHVzw6Fr&p=1"
         },
         "source": "aida-0001-50-Gustáv_Husák",
         "target": "aida-0001-50-Willy_Brandt"
        },
        {
         "attributes": {
          "count": 1,
          "id": "48",
          "url": "https://impresso-project.ch/app/search?index=search&facet=type&domain=daterange&sq=CjgYByoQUHJhZ2VyIEZyw7xobGluZyoTUHJpbnRlbXBzIGRlIFByYWd1ZSoNUHJhZ3VlIFNwcmluZwpAEAEYCCodYWlkYS0wMDAxLTUwLVpkZW7Em2tfTWx5bsOhxZkqG2FpZGEtMDAwMS01MC1HdXN0w6F2X0h1c8Ohaw==&p=1"
         },
         "source": "aida-0001-50-Gustáv_Husák",
         "target": "aida-0001-50-Zdeněk_Mlynář"
        },
        {
         "attributes": {
          "count": 1,
          "id": "49",
          "url": "https://impresso-project.ch/app/search?index=search&facet=type&domain=daterange&sq=CjgYByoQUHJhZ2VyIEZyw7xobGluZyoTUHJpbnRlbXBzIGRlIFByYWd1ZSoNUHJhZ3VlIFNwcmluZwo/EAEYCCodYWlkYS0wMDAxLTUwLUpvc2VmX1NtcmtvdnNrw70qGmFpZGEtMDAwMS01MC1IYXJvbGRfV2lsc29u&p=1"
         },
         "source": "aida-0001-50-Harold_Wilson",
         "target": "aida-0001-50-Josef_Smrkovský"
        },
        {
         "attributes": {
          "count": 1,
          "id": "50",
          "url": "https://impresso-project.ch/app/search?index=search&facet=type&domain=daterange&sq=CjgYByoQUHJhZ2VyIEZyw7xobGluZyoTUHJpbnRlbXBzIGRlIFByYWd1ZSoNUHJhZ3VlIFNwcmluZwo+EAEYCCoaYWlkYS0wMDAxLTUwLUhhcm9sZF9XaWxzb24qHGFpZGEtMDAwMS01MC1MdWR2w61rX1N2b2JvZGE=&p=1"
         },
         "source": "aida-0001-50-Harold_Wilson",
         "target": "aida-0001-50-Ludvík_Svoboda"
        },
        {
         "attributes": {
          "count": 1,
          "id": "51",
          "url": "https://impresso-project.ch/app/search?index=search&facet=type&domain=daterange&sq=CjgYByoQUHJhZ2VyIEZyw7xobGluZyoTUHJpbnRlbXBzIGRlIFByYWd1ZSoNUHJhZ3VlIFNwcmluZwpAEAEYCCoeYWlkYS0wMDAxLTUwLU9sZMWZaWNoX8SMZXJuw61rKhphaWRhLTAwMDEtNTAtSGFyb2xkX1dpbHNvbg==&p=1"
         },
         "source": "aida-0001-50-Harold_Wilson",
         "target": "aida-0001-50-Oldřich_Černík"
        },
        {
         "attributes": {
          "count": 1,
          "id": "52",
          "url": "https://impresso-project.ch/app/search?index=search&facet=type&domain=daterange&sq=CjgYByoQUHJhZ2VyIEZyw7xobGluZyoTUHJpbnRlbXBzIGRlIFByYWd1ZSoNUHJhZ3VlIFNwcmluZwo3EAEYCCoVYWlkYS0wMDAxLTUwLU90YV/FoGlrKhphaWRhLTAwMDEtNTAtSGFyb2xkX1dpbHNvbg==&p=1"
         },
         "source": "aida-0001-50-Harold_Wilson",
         "target": "aida-0001-50-Ota_Šik"
        },
        {
         "attributes": {
          "count": 1,
          "id": "53",
          "url": "https://impresso-project.ch/app/search?index=search&facet=type&domain=daterange&sq=CjgYByoQUHJhZ2VyIEZyw7xobGluZyoTUHJpbnRlbXBzIGRlIFByYWd1ZSoNUHJhZ3VlIFNwcmluZwo7EAEYCCoZYWlkYS0wMDAxLTUwLVdpbGx5X0JyYW5kdCoaYWlkYS0wMDAxLTUwLUhhcm9sZF9XaWxzb24=&p=1"
         },
         "source": "aida-0001-50-Harold_Wilson",
         "target": "aida-0001-50-Willy_Brandt"
        },
        {
         "attributes": {
          "count": 1,
          "id": "54",
          "url": "https://impresso-project.ch/app/search?index=search&facet=type&domain=daterange&sq=CjgYByoQUHJhZ2VyIEZyw7xobGluZyoTUHJpbnRlbXBzIGRlIFByYWd1ZSoNUHJhZ3VlIFNwcmluZwo4EAEYCCoZYWlkYS0wMDAxLTUwLVdpbGx5X0JyYW5kdCoXYWlkYS0wMDAxLTUwLUphbl9QYWxhY2g=&p=1"
         },
         "source": "aida-0001-50-Jan_Palach",
         "target": "aida-0001-50-Willy_Brandt"
        },
        {
         "attributes": {
          "count": 2,
          "id": "55",
          "url": "https://impresso-project.ch/app/search?index=search&facet=type&domain=daterange&sq=CjgYByoQUHJhZ2VyIEZyw7xobGluZyoTUHJpbnRlbXBzIGRlIFByYWd1ZSoNUHJhZ3VlIFNwcmluZwo8EAEYCCodYWlkYS0wMDAxLTUwLVpkZW7Em2tfTWx5bsOhxZkqF2FpZGEtMDAwMS01MC1KYW5fUGFsYWNo&p=1"
         },
         "source": "aida-0001-50-Jan_Palach",
         "target": "aida-0001-50-Zdeněk_Mlynář"
        },
        {
         "attributes": {
          "count": 1,
          "id": "56",
          "url": "https://impresso-project.ch/app/search?index=search&facet=type&domain=daterange&sq=CjgYByoQUHJhZ2VyIEZyw7xobGluZyoTUHJpbnRlbXBzIGRlIFByYWd1ZSoNUHJhZ3VlIFNwcmluZwo0EAEYCCoVYWlkYS0wMDAxLTUwLU90YV/FoGlrKhdhaWRhLTAwMDEtNTAtSmFuX1BhbGFjaA==&p=1"
         },
         "source": "aida-0001-50-Jan_Palach",
         "target": "aida-0001-50-Ota_Šik"
        },
        {
         "attributes": {
          "count": 2,
          "id": "57",
          "url": "https://impresso-project.ch/app/search?index=search&facet=type&domain=daterange&sq=CjgYByoQUHJhZ2VyIEZyw7xobGluZyoTUHJpbnRlbXBzIGRlIFByYWd1ZSoNUHJhZ3VlIFNwcmluZwo5EAEYCCoaYWlkYS0wMDAxLTUwLVbDoWNsYXZfSGF2ZWwqF2FpZGEtMDAwMS01MC1KYW5fUGFsYWNo&p=1"
         },
         "source": "aida-0001-50-Jan_Palach",
         "target": "aida-0001-50-Václav_Havel"
        },
        {
         "attributes": {
          "count": 1,
          "id": "58",
          "url": "https://impresso-project.ch/app/search?index=search&facet=type&domain=daterange&sq=CjgYByoQUHJhZ2VyIEZyw7xobGluZyoTUHJpbnRlbXBzIGRlIFByYWd1ZSoNUHJhZ3VlIFNwcmluZwo/EAEYCCodYWlkYS0wMDAxLTUwLUpvc2VmX1NtcmtvdnNrw70qGmFpZGEtMDAwMS01MC1KacWZw61fSMOhamVr&p=1"
         },
         "source": "aida-0001-50-Jiří_Hájek",
         "target": "aida-0001-50-Josef_Smrkovský"
        },
        {
         "attributes": {
          "count": 1,
          "id": "59",
          "url": "https://impresso-project.ch/app/search?index=search&facet=type&domain=daterange&sq=CjgYByoQUHJhZ2VyIEZyw7xobGluZyoTUHJpbnRlbXBzIGRlIFByYWd1ZSoNUHJhZ3VlIFNwcmluZwo+EAEYCCoaYWlkYS0wMDAxLTUwLUppxZnDrV9Iw6FqZWsqHGFpZGEtMDAwMS01MC1MdWR2w61rX1N2b2JvZGE=&p=1"
         },
         "source": "aida-0001-50-Jiří_Hájek",
         "target": "aida-0001-50-Ludvík_Svoboda"
        },
        {
         "attributes": {
          "count": 1,
          "id": "60",
          "url": "https://impresso-project.ch/app/search?index=search&facet=type&domain=daterange&sq=CjgYByoQUHJhZ2VyIEZyw7xobGluZyoTUHJpbnRlbXBzIGRlIFByYWd1ZSoNUHJhZ3VlIFNwcmluZwpAEAEYCCoaYWlkYS0wMDAxLTUwLUppxZnDrV9Iw6FqZWsqHmFpZGEtMDAwMS01MC1PbGTFmWljaF/EjGVybsOtaw==&p=1"
         },
         "source": "aida-0001-50-Jiří_Hájek",
         "target": "aida-0001-50-Oldřich_Černík"
        },
        {
         "attributes": {
          "count": 2,
          "id": "61",
          "url": "https://impresso-project.ch/app/search?index=search&facet=type&domain=daterange&sq=CjgYByoQUHJhZ2VyIEZyw7xobGluZyoTUHJpbnRlbXBzIGRlIFByYWd1ZSoNUHJhZ3VlIFNwcmluZwo3EAEYCCoaYWlkYS0wMDAxLTUwLUppxZnDrV9Iw6FqZWsqFWFpZGEtMDAwMS01MC1PdGFfxaBpaw==&p=1"
         },
         "source": "aida-0001-50-Jiří_Hájek",
         "target": "aida-0001-50-Ota_Šik"
        },
        {
         "attributes": {
          "count": 1,
          "id": "62",
          "url": "https://impresso-project.ch/app/search?index=search&facet=type&domain=daterange&sq=CjgYByoQUHJhZ2VyIEZyw7xobGluZyoTUHJpbnRlbXBzIGRlIFByYWd1ZSoNUHJhZ3VlIFNwcmluZwo7EAEYCCoaYWlkYS0wMDAxLTUwLUppxZnDrV9Iw6FqZWsqGWFpZGEtMDAwMS01MC1QYXVsX0xlbmR2YWk=&p=1"
         },
         "source": "aida-0001-50-Jiří_Hájek",
         "target": "aida-0001-50-Paul_Lendvai"
        },
        {
         "attributes": {
          "count": 1,
          "id": "63",
          "url": "https://impresso-project.ch/app/search?index=search&facet=type&domain=daterange&sq=CjgYByoQUHJhZ2VyIEZyw7xobGluZyoTUHJpbnRlbXBzIGRlIFByYWd1ZSoNUHJhZ3VlIFNwcmluZwo8EAEYCCoaYWlkYS0wMDAxLTUwLUppxZnDrV9Iw6FqZWsqGmFpZGEtMDAwMS01MC1Ww6FjbGF2X0hhdmVs&p=1"
         },
         "source": "aida-0001-50-Jiří_Hájek",
         "target": "aida-0001-50-Václav_Havel"
        },
        {
         "attributes": {
          "count": 1,
          "id": "64",
          "url": "https://impresso-project.ch/app/search?index=search&facet=type&domain=daterange&sq=CjgYByoQUHJhZ2VyIEZyw7xobGluZyoTUHJpbnRlbXBzIGRlIFByYWd1ZSoNUHJhZ3VlIFNwcmluZwpBEAEYCCodYWlkYS0wMDAxLTUwLUpvc2VmX1NtcmtvdnNrw70qHGFpZGEtMDAwMS01MC1KacWZw61fUGVsaWvDoW4=&p=1"
         },
         "source": "aida-0001-50-Josef_Smrkovský",
         "target": "aida-0001-50-Jiří_Pelikán"
        },
        {
         "attributes": {
          "count": 1,
          "id": "65",
          "url": "https://impresso-project.ch/app/search?index=search&facet=type&domain=daterange&sq=CjgYByoQUHJhZ2VyIEZyw7xobGluZyoTUHJpbnRlbXBzIGRlIFByYWd1ZSoNUHJhZ3VlIFNwcmluZwpBEAEYCCodYWlkYS0wMDAxLTUwLUpvc2VmX1NtcmtvdnNrw70qHGFpZGEtMDAwMS01MC1MdWR2w61rX1N2b2JvZGE=&p=1"
         },
         "source": "aida-0001-50-Josef_Smrkovský",
         "target": "aida-0001-50-Ludvík_Svoboda"
        },
        {
         "attributes": {
          "count": 2,
          "id": "66",
          "url": "https://impresso-project.ch/app/search?index=search&facet=type&domain=daterange&sq=CjgYByoQUHJhZ2VyIEZyw7xobGluZyoTUHJpbnRlbXBzIGRlIFByYWd1ZSoNUHJhZ3VlIFNwcmluZwpDEAEYCCodYWlkYS0wMDAxLTUwLUpvc2VmX1NtcmtvdnNrw70qHmFpZGEtMDAwMS01MC1PbGTFmWljaF/EjGVybsOtaw==&p=1"
         },
         "source": "aida-0001-50-Josef_Smrkovský",
         "target": "aida-0001-50-Oldřich_Černík"
        },
        {
         "attributes": {
          "count": 1,
          "id": "67",
          "url": "https://impresso-project.ch/app/search?index=search&facet=type&domain=daterange&sq=CjgYByoQUHJhZ2VyIEZyw7xobGluZyoTUHJpbnRlbXBzIGRlIFByYWd1ZSoNUHJhZ3VlIFNwcmluZwpBEAEYCCodYWlkYS0wMDAxLTUwLUpvc2VmX1NtcmtvdnNrw70qHGFpZGEtMDAwMS01MC1XYWx0ZXJfVWxicmljaHQ=&p=1"
         },
         "source": "aida-0001-50-Josef_Smrkovský",
         "target": "aida-0001-50-Walter_Ulbricht"
        },
        {
         "attributes": {
          "count": 1,
          "id": "68",
          "url": "https://impresso-project.ch/app/search?index=search&facet=type&domain=daterange&sq=CjgYByoQUHJhZ2VyIEZyw7xobGluZyoTUHJpbnRlbXBzIGRlIFByYWd1ZSoNUHJhZ3VlIFNwcmluZwo+EAEYCCoZYWlkYS0wMDAxLTUwLVdpbGx5X0JyYW5kdCodYWlkYS0wMDAxLTUwLUpvc2VmX1NtcmtvdnNrw70=&p=1"
         },
         "source": "aida-0001-50-Josef_Smrkovský",
         "target": "aida-0001-50-Willy_Brandt"
        },
        {
         "attributes": {
          "count": 1,
          "id": "69",
          "url": "https://impresso-project.ch/app/search?index=search&facet=type&domain=daterange&sq=CjgYByoQUHJhZ2VyIEZyw7xobGluZyoTUHJpbnRlbXBzIGRlIFByYWd1ZSoNUHJhZ3VlIFNwcmluZwpDEAEYCCocYWlkYS0wMDAxLTUwLUx1ZHbDrWtfU3ZvYm9kYSofYWlkYS0wMDAxLTUwLUx1Ym9tw61yX8WgdHJvdWdhbA==&p=1"
         },
         "source": "aida-0001-50-Lubomír_Štrougal",
         "target": "aida-0001-50-Ludvík_Svoboda"
        },
        {
         "attributes": {
          "count": 3,
          "id": "70",
          "url": "https://impresso-project.ch/app/search?index=search&facet=type&domain=daterange&sq=CjgYByoQUHJhZ2VyIEZyw7xobGluZyoTUHJpbnRlbXBzIGRlIFByYWd1ZSoNUHJhZ3VlIFNwcmluZwpFEAEYCCoeYWlkYS0wMDAxLTUwLU9sZMWZaWNoX8SMZXJuw61rKh9haWRhLTAwMDEtNTAtTHVib23DrXJfxaB0cm91Z2Fs&p=1"
         },
         "source": "aida-0001-50-Lubomír_Štrougal",
         "target": "aida-0001-50-Oldřich_Černík"
        },
        {
         "attributes": {
          "count": 3,
          "id": "71",
          "url": "https://impresso-project.ch/app/search?index=search&facet=type&domain=daterange&sq=CjgYByoQUHJhZ2VyIEZyw7xobGluZyoTUHJpbnRlbXBzIGRlIFByYWd1ZSoNUHJhZ3VlIFNwcmluZwo8EAEYCCoVYWlkYS0wMDAxLTUwLU90YV/FoGlrKh9haWRhLTAwMDEtNTAtTHVib23DrXJfxaB0cm91Z2Fs&p=1"
         },
         "source": "aida-0001-50-Lubomír_Štrougal",
         "target": "aida-0001-50-Ota_Šik"
        },
        {
         "attributes": {
          "count": 1,
          "id": "72",
          "url": "https://impresso-project.ch/app/search?index=search&facet=type&domain=daterange&sq=CjgYByoQUHJhZ2VyIEZyw7xobGluZyoTUHJpbnRlbXBzIGRlIFByYWd1ZSoNUHJhZ3VlIFNwcmluZwpAEAEYCCofYWlkYS0wMDAxLTUwLUx1Ym9tw61yX8WgdHJvdWdhbCoZYWlkYS0wMDAxLTUwLVBhdWxfTGVuZHZhaQ==&p=1"
         },
         "source": "aida-0001-50-Lubomír_Štrougal",
         "target": "aida-0001-50-Paul_Lendvai"
        },
        {
         "attributes": {
          "count": 1,
          "id": "73",
          "url": "https://impresso-project.ch/app/search?index=search&facet=type&domain=daterange&sq=CjgYByoQUHJhZ2VyIEZyw7xobGluZyoTUHJpbnRlbXBzIGRlIFByYWd1ZSoNUHJhZ3VlIFNwcmluZwpBEAEYCCoaYWlkYS0wMDAxLTUwLVbDoWNsYXZfSGF2ZWwqH2FpZGEtMDAwMS01MC1MdWJvbcOtcl/FoHRyb3VnYWw=&p=1"
         },
         "source": "aida-0001-50-Lubomír_Štrougal",
         "target": "aida-0001-50-Václav_Havel"
        },
        {
         "attributes": {
          "count": 1,
          "id": "74",
          "url": "https://impresso-project.ch/app/search?index=search&facet=type&domain=daterange&sq=CjgYByoQUHJhZ2VyIEZyw7xobGluZyoTUHJpbnRlbXBzIGRlIFByYWd1ZSoNUHJhZ3VlIFNwcmluZwpAEAEYCCoZYWlkYS0wMDAxLTUwLVdpbGx5X0JyYW5kdCofYWlkYS0wMDAxLTUwLUx1Ym9tw61yX8WgdHJvdWdhbA==&p=1"
         },
         "source": "aida-0001-50-Lubomír_Štrougal",
         "target": "aida-0001-50-Willy_Brandt"
        },
        {
         "attributes": {
          "count": 5,
          "id": "75",
          "url": "https://impresso-project.ch/app/search?index=search&facet=type&domain=daterange&sq=CjgYByoQUHJhZ2VyIEZyw7xobGluZyoTUHJpbnRlbXBzIGRlIFByYWd1ZSoNUHJhZ3VlIFNwcmluZwpCEAEYCCoeYWlkYS0wMDAxLTUwLU9sZMWZaWNoX8SMZXJuw61rKhxhaWRhLTAwMDEtNTAtTHVkdsOta19Tdm9ib2Rh&p=1"
         },
         "source": "aida-0001-50-Ludvík_Svoboda",
         "target": "aida-0001-50-Oldřich_Černík"
        },
        {
         "attributes": {
          "count": 1,
          "id": "76",
          "url": "https://impresso-project.ch/app/search?index=search&facet=type&domain=daterange&sq=CjgYByoQUHJhZ2VyIEZyw7xobGluZyoTUHJpbnRlbXBzIGRlIFByYWd1ZSoNUHJhZ3VlIFNwcmluZwpAEAEYCCocYWlkYS0wMDAxLTUwLVdhbHRlcl9VbGJyaWNodCocYWlkYS0wMDAxLTUwLUx1ZHbDrWtfU3ZvYm9kYQ==&p=1"
         },
         "source": "aida-0001-50-Ludvík_Svoboda",
         "target": "aida-0001-50-Walter_Ulbricht"
        },
        {
         "attributes": {
          "count": 4,
          "id": "77",
          "url": "https://impresso-project.ch/app/search?index=search&facet=type&domain=daterange&sq=CjgYByoQUHJhZ2VyIEZyw7xobGluZyoTUHJpbnRlbXBzIGRlIFByYWd1ZSoNUHJhZ3VlIFNwcmluZwo5EAEYCCoVYWlkYS0wMDAxLTUwLU90YV/FoGlrKhxhaWRhLTAwMDEtNTAtTHVkdsOta19Tdm9ib2Rh&p=1"
         },
         "source": "aida-0001-50-Ludvík_Svoboda",
         "target": "aida-0001-50-Ota_Šik"
        },
        {
         "attributes": {
          "count": 1,
          "id": "78",
          "url": "https://impresso-project.ch/app/search?index=search&facet=type&domain=daterange&sq=CjgYByoQUHJhZ2VyIEZyw7xobGluZyoTUHJpbnRlbXBzIGRlIFByYWd1ZSoNUHJhZ3VlIFNwcmluZwpDEAEYCCodYWlkYS0wMDAxLTUwLVpkZW7Em2tfTWx5bsOhxZkqHmFpZGEtMDAwMS01MC1NaWtoYWlsX0dvcmJhY2hldg==&p=1"
         },
         "source": "aida-0001-50-Mikhail_Gorbachev",
         "target": "aida-0001-50-Zdeněk_Mlynář"
        },
        {
         "attributes": {
          "count": 3,
          "id": "79",
          "url": "https://impresso-project.ch/app/search?index=search&facet=type&domain=daterange&sq=CjgYByoQUHJhZ2VyIEZyw7xobGluZyoTUHJpbnRlbXBzIGRlIFByYWd1ZSoNUHJhZ3VlIFNwcmluZwpAEAEYCCoaYWlkYS0wMDAxLTUwLVbDoWNsYXZfSGF2ZWwqHmFpZGEtMDAwMS01MC1NaWtoYWlsX0dvcmJhY2hldg==&p=1"
         },
         "source": "aida-0001-50-Mikhail_Gorbachev",
         "target": "aida-0001-50-Václav_Havel"
        },
        {
         "attributes": {
          "count": 1,
          "id": "80",
          "url": "https://impresso-project.ch/app/search?index=search&facet=type&domain=daterange&sq=CjgYByoQUHJhZ2VyIEZyw7xobGluZyoTUHJpbnRlbXBzIGRlIFByYWd1ZSoNUHJhZ3VlIFNwcmluZwo9EAEYCCobYWlkYS0wMDAxLTUwLUphcm9taWxfSmlyZcWhKhphaWRhLTAwMDEtNTAtTWlsb8WhX0Zvcm1hbg==&p=1"
         },
         "source": "aida-0001-50-Miloš_Forman",
         "target": "aida-0001-50-Jaromil_Jireš"
        },
        {
         "attributes": {
          "count": 3,
          "id": "81",
          "url": "https://impresso-project.ch/app/search?index=search&facet=type&domain=daterange&sq=CjgYByoQUHJhZ2VyIEZyw7xobGluZyoTUHJpbnRlbXBzIGRlIFByYWd1ZSoNUHJhZ3VlIFNwcmluZwo8EAEYCCoaYWlkYS0wMDAxLTUwLUppxZnDrV9NZW56ZWwqGmFpZGEtMDAwMS01MC1NaWxvxaFfRm9ybWFu&p=1"
         },
         "source": "aida-0001-50-Miloš_Forman",
         "target": "aida-0001-50-Jiří_Menzel"
        },
        {
         "attributes": {
          "count": 1,
          "id": "82",
          "url": "https://impresso-project.ch/app/search?index=search&facet=type&domain=daterange&sq=CjgYByoQUHJhZ2VyIEZyw7xobGluZyoTUHJpbnRlbXBzIGRlIFByYWd1ZSoNUHJhZ3VlIFNwcmluZwo/EAEYCCoaYWlkYS0wMDAxLTUwLU1pbG/FoV9Gb3JtYW4qHWFpZGEtMDAwMS01MC1WxJtyYV9DaHl0aWxvdsOh&p=1"
         },
         "source": "aida-0001-50-Miloš_Forman",
         "target": "aida-0001-50-Věra_Chytilová"
        },
        {
         "attributes": {
          "count": 2,
          "id": "83",
          "url": "https://impresso-project.ch/app/search?index=search&facet=type&domain=daterange&sq=CjgYByoQUHJhZ2VyIEZyw7xobGluZyoTUHJpbnRlbXBzIGRlIFByYWd1ZSoNUHJhZ3VlIFNwcmluZwpCEAEYCCocYWlkYS0wMDAxLTUwLVdhbHRlcl9VbGJyaWNodCoeYWlkYS0wMDAxLTUwLU9sZMWZaWNoX8SMZXJuw61r&p=1"
         },
         "source": "aida-0001-50-Oldřich_Černík",
         "target": "aida-0001-50-Walter_Ulbricht"
        },
        {
         "attributes": {
          "count": 1,
          "id": "84",
          "url": "https://impresso-project.ch/app/search?index=search&facet=type&domain=daterange&sq=CjgYByoQUHJhZ2VyIEZyw7xobGluZyoTUHJpbnRlbXBzIGRlIFByYWd1ZSoNUHJhZ3VlIFNwcmluZwo/EAEYCCoZYWlkYS0wMDAxLTUwLVdpbGx5X0JyYW5kdCoeYWlkYS0wMDAxLTUwLU9sZMWZaWNoX8SMZXJuw61r&p=1"
         },
         "source": "aida-0001-50-Oldřich_Černík",
         "target": "aida-0001-50-Willy_Brandt"
        },
        {
         "attributes": {
          "count": 4,
          "id": "85",
          "url": "https://impresso-project.ch/app/search?index=search&facet=type&domain=daterange&sq=CjgYByoQUHJhZ2VyIEZyw7xobGluZyoTUHJpbnRlbXBzIGRlIFByYWd1ZSoNUHJhZ3VlIFNwcmluZwo7EAEYCCoeYWlkYS0wMDAxLTUwLU9sZMWZaWNoX8SMZXJuw61rKhVhaWRhLTAwMDEtNTAtT3RhX8WgaWs=&p=1"
         },
         "source": "aida-0001-50-Oldřich_Černík",
         "target": "aida-0001-50-Ota_Šik"
        },
        {
         "attributes": {
          "count": 1,
          "id": "86",
          "url": "https://impresso-project.ch/app/search?index=search&facet=type&domain=daterange&sq=CjgYByoQUHJhZ2VyIEZyw7xobGluZyoTUHJpbnRlbXBzIGRlIFByYWd1ZSoNUHJhZ3VlIFNwcmluZwo5EAEYCCoVYWlkYS0wMDAxLTUwLU90YV/FoGlrKhxhaWRhLTAwMDEtNTAtSmnFmcOtX1BlbGlrw6Fu&p=1"
         },
         "source": "aida-0001-50-Ota_Šik",
         "target": "aida-0001-50-Jiří_Pelikán"
        },
        {
         "attributes": {
          "count": 1,
          "id": "87",
          "url": "https://impresso-project.ch/app/search?index=search&facet=type&domain=daterange&sq=CjgYByoQUHJhZ2VyIEZyw7xobGluZyoTUHJpbnRlbXBzIGRlIFByYWd1ZSoNUHJhZ3VlIFNwcmluZwo2EAEYCCoVYWlkYS0wMDAxLTUwLU90YV/FoGlrKhlhaWRhLTAwMDEtNTAtUGF1bF9MZW5kdmFp&p=1"
         },
         "source": "aida-0001-50-Ota_Šik",
         "target": "aida-0001-50-Paul_Lendvai"
        },
        {
         "attributes": {
          "count": 1,
          "id": "88",
          "url": "https://impresso-project.ch/app/search?index=search&facet=type&domain=daterange&sq=CjgYByoQUHJhZ2VyIEZyw7xobGluZyoTUHJpbnRlbXBzIGRlIFByYWd1ZSoNUHJhZ3VlIFNwcmluZwo2EAEYCCoZYWlkYS0wMDAxLTUwLVBhdmVsX0tvaG91dCoVYWlkYS0wMDAxLTUwLU90YV/FoGlr&p=1"
         },
         "source": "aida-0001-50-Ota_Šik",
         "target": "aida-0001-50-Pavel_Kohout"
        },
        {
         "attributes": {
          "count": 2,
          "id": "89",
          "url": "https://impresso-project.ch/app/search?index=search&facet=type&domain=daterange&sq=CjgYByoQUHJhZ2VyIEZyw7xobGluZyoTUHJpbnRlbXBzIGRlIFByYWd1ZSoNUHJhZ3VlIFNwcmluZwo3EAEYCCoVYWlkYS0wMDAxLTUwLU90YV/FoGlrKhphaWRhLTAwMDEtNTAtVsOhY2xhdl9IYXZlbA==&p=1"
         },
         "source": "aida-0001-50-Ota_Šik",
         "target": "aida-0001-50-Václav_Havel"
        },
        {
         "attributes": {
          "count": 1,
          "id": "90",
          "url": "https://impresso-project.ch/app/search?index=search&facet=type&domain=daterange&sq=CjgYByoQUHJhZ2VyIEZyw7xobGluZyoTUHJpbnRlbXBzIGRlIFByYWd1ZSoNUHJhZ3VlIFNwcmluZwo2EAEYCCoZYWlkYS0wMDAxLTUwLVdpbGx5X0JyYW5kdCoVYWlkYS0wMDAxLTUwLU90YV/FoGlr&p=1"
         },
         "source": "aida-0001-50-Ota_Šik",
         "target": "aida-0001-50-Willy_Brandt"
        },
        {
         "attributes": {
          "count": 2,
          "id": "91",
          "url": "https://impresso-project.ch/app/search?index=search&facet=type&domain=daterange&sq=CjgYByoQUHJhZ2VyIEZyw7xobGluZyoTUHJpbnRlbXBzIGRlIFByYWd1ZSoNUHJhZ3VlIFNwcmluZwo6EAEYCCodYWlkYS0wMDAxLTUwLVpkZW7Em2tfTWx5bsOhxZkqFWFpZGEtMDAwMS01MC1PdGFfxaBpaw==&p=1"
         },
         "source": "aida-0001-50-Ota_Šik",
         "target": "aida-0001-50-Zdeněk_Mlynář"
        },
        {
         "attributes": {
          "count": 4,
          "id": "92",
          "url": "https://impresso-project.ch/app/search?index=search&facet=type&domain=daterange&sq=CjgYByoQUHJhZ2VyIEZyw7xobGluZyoTUHJpbnRlbXBzIGRlIFByYWd1ZSoNUHJhZ3VlIFNwcmluZwo7EAEYCCoZYWlkYS0wMDAxLTUwLVBhdmVsX0tvaG91dCoaYWlkYS0wMDAxLTUwLVbDoWNsYXZfSGF2ZWw=&p=1"
         },
         "source": "aida-0001-50-Pavel_Kohout",
         "target": "aida-0001-50-Václav_Havel"
        },
        {
         "attributes": {
          "count": 1,
          "id": "93",
          "url": "https://impresso-project.ch/app/search?index=search&facet=type&domain=daterange&sq=CjgYByoQUHJhZ2VyIEZyw7xobGluZyoTUHJpbnRlbXBzIGRlIFByYWd1ZSoNUHJhZ3VlIFNwcmluZwo+EAEYCCodYWlkYS0wMDAxLTUwLVpkZW7Em2tfTWx5bsOhxZkqGWFpZGEtMDAwMS01MC1QYXZlbF9Lb2hvdXQ=&p=1"
         },
         "source": "aida-0001-50-Pavel_Kohout",
         "target": "aida-0001-50-Zdeněk_Mlynář"
        },
        {
         "attributes": {
          "count": 1,
          "id": "94",
          "url": "https://impresso-project.ch/app/search?index=search&facet=type&domain=daterange&sq=CjgYByoQUHJhZ2VyIEZyw7xobGluZyoTUHJpbnRlbXBzIGRlIFByYWd1ZSoNUHJhZ3VlIFNwcmluZwo8EAEYCCoaYWlkYS0wMDAxLTUwLUppxZnDrV9NZW56ZWwqGmFpZGEtMDAwMS01MC1Ww6FjbGF2X0hhdmVs&p=1"
         },
         "source": "aida-0001-50-Václav_Havel",
         "target": "aida-0001-50-Jiří_Menzel"
        },
        {
         "attributes": {
          "count": 1,
          "id": "95",
          "url": "https://impresso-project.ch/app/search?index=search&facet=type&domain=daterange&sq=CjgYByoQUHJhZ2VyIEZyw7xobGluZyoTUHJpbnRlbXBzIGRlIFByYWd1ZSoNUHJhZ3VlIFNwcmluZwo7EAEYCCoaYWlkYS0wMDAxLTUwLVbDoWNsYXZfSGF2ZWwqGWFpZGEtMDAwMS01MC1QYXVsX0xlbmR2YWk=&p=1"
         },
         "source": "aida-0001-50-Václav_Havel",
         "target": "aida-0001-50-Paul_Lendvai"
        },
        {
         "attributes": {
          "count": 1,
          "id": "96",
          "url": "https://impresso-project.ch/app/search?index=search&facet=type&domain=daterange&sq=CjgYByoQUHJhZ2VyIEZyw7xobGluZyoTUHJpbnRlbXBzIGRlIFByYWd1ZSoNUHJhZ3VlIFNwcmluZwpAEAEYCCocYWlkYS0wMDAxLTUwLVdhbHRlcl9VbGJyaWNodCocYWlkYS0wMDAxLTUwLUpvaGFubmVzX0JyYWhtcw==&p=1"
         },
         "source": "aida-0001-50-Walter_Ulbricht",
         "target": "aida-0001-50-Johannes_Brahms"
        },
        {
         "attributes": {
          "count": 2,
          "id": "97",
          "url": "https://impresso-project.ch/app/search?index=search&facet=type&domain=daterange&sq=CjgYByoQUHJhZ2VyIEZyw7xobGluZyoTUHJpbnRlbXBzIGRlIFByYWd1ZSoNUHJhZ3VlIFNwcmluZwo9EAEYCCoZYWlkYS0wMDAxLTUwLVdpbGx5X0JyYW5kdCocYWlkYS0wMDAxLTUwLVdhbHRlcl9VbGJyaWNodA==&p=1"
         },
         "source": "aida-0001-50-Walter_Ulbricht",
         "target": "aida-0001-50-Willy_Brandt"
        },
        {
         "attributes": {
          "count": 1,
          "id": "98",
          "url": "https://impresso-project.ch/app/search?index=search&facet=type&domain=daterange&sq=CjgYByoQUHJhZ2VyIEZyw7xobGluZyoTUHJpbnRlbXBzIGRlIFByYWd1ZSoNUHJhZ3VlIFNwcmluZwo9EAEYCCoZYWlkYS0wMDAxLTUwLVdpbGx5X0JyYW5kdCocYWlkYS0wMDAxLTUwLUpvaGFubmVzX0JyYWhtcw==&p=1"
         },
         "source": "aida-0001-50-Willy_Brandt",
         "target": "aida-0001-50-Johannes_Brahms"
        },
        {
         "attributes": {
          "count": 1,
          "id": "99",
          "url": "https://impresso-project.ch/app/search?index=search&facet=type&domain=daterange&sq=CjgYByoQUHJhZ2VyIEZyw7xobGluZyoTUHJpbnRlbXBzIGRlIFByYWd1ZSoNUHJhZ3VlIFNwcmluZwpBEAEYCCodYWlkYS0wMDAxLTUwLVpkZW7Em2tfTWx5bsOhxZkqHGFpZGEtMDAwMS01MC1KacWZw61fUGVsaWvDoW4=&p=1"
         },
         "source": "aida-0001-50-Zdeněk_Mlynář",
         "target": "aida-0001-50-Jiří_Pelikán"
        },
        {
         "attributes": {
          "count": 2,
          "id": "100",
          "url": "https://impresso-project.ch/app/search?index=search&facet=type&domain=daterange&sq=CjgYByoQUHJhZ2VyIEZyw7xobGluZyoTUHJpbnRlbXBzIGRlIFByYWd1ZSoNUHJhZ3VlIFNwcmluZwo/EAEYCCoaYWlkYS0wMDAxLTUwLUppxZnDrV9NZW56ZWwqHWFpZGEtMDAwMS01MC1WxJtyYV9DaHl0aWxvdsOh&p=1"
         },
         "source": "aida-0001-50-Věra_Chytilová",
         "target": "aida-0001-50-Jiří_Menzel"
        },
        {
         "attributes": {
          "count": 1,
          "id": "101",
          "url": "https://impresso-project.ch/app/search?index=search&facet=type&domain=daterange&sq=CjgYByoQUHJhZ2VyIEZyw7xobGluZyoTUHJpbnRlbXBzIGRlIFByYWd1ZSoNUHJhZ3VlIFNwcmluZwpAEAEYCCobYWlkYS0wMDAxLTUwLUphcm9taWxfSmlyZcWhKh1haWRhLTAwMDEtNTAtVsSbcmFfQ2h5dGlsb3bDoQ==&p=1"
         },
         "source": "aida-0001-50-Věra_Chytilová",
         "target": "aida-0001-50-Jaromil_Jireš"
        },
        {
         "attributes": {
          "count": 2,
          "id": "102",
          "url": "https://impresso-project.ch/app/search?index=search&facet=type&domain=daterange&sq=CjgYByoQUHJhZ2VyIEZyw7xobGluZyoTUHJpbnRlbXBzIGRlIFByYWd1ZSoNUHJhZ3VlIFNwcmluZwo9EAEYCCoaYWlkYS0wMDAxLTUwLUppxZnDrV9NZW56ZWwqG2FpZGEtMDAwMS01MC1KYXJvbWlsX0ppcmXFoQ==&p=1"
         },
         "source": "aida-0001-50-Jaromil_Jireš",
         "target": "aida-0001-50-Jiří_Menzel"
        },
        {
         "attributes": {
          "count": 1,
          "id": "103",
          "url": "https://impresso-project.ch/app/search?index=search&facet=type&domain=daterange&sq=CjgYByoQUHJhZ2VyIEZyw7xobGluZyoTUHJpbnRlbXBzIGRlIFByYWd1ZSoNUHJhZ3VlIFNwcmluZwpFEAEYCCodYWlkYS0wMDAxLTUwLUJlZMWZaWNoX1NtZXRhbmEqIGFpZGEtMDAwMS01MC1IZXJiZXJ0X3Zvbl9LYXJhamFu&p=1"
         },
         "source": "aida-0001-50-Herbert_von_Karajan",
         "target": "aida-0001-50-Bedřich_Smetana"
        },
        {
         "attributes": {
          "count": 1,
          "id": "104",
          "url": "https://impresso-project.ch/app/search?index=search&facet=type&domain=daterange&sq=CjgYByoQUHJhZ2VyIEZyw7xobGluZyoTUHJpbnRlbXBzIGRlIFByYWd1ZSoNUHJhZ3VlIFNwcmluZwpBEAEYCCogYWlkYS0wMDAxLTUwLUhlcmJlcnRfdm9uX0thcmFqYW4qGWFpZGEtMDAwMS01MC1Kb3NlcGhfSGF5ZG4=&p=1"
         },
         "source": "aida-0001-50-Herbert_von_Karajan",
         "target": "aida-0001-50-Joseph_Haydn"
        },
        {
         "attributes": {
          "count": 1,
          "id": "105",
          "url": "https://impresso-project.ch/app/search?index=search&facet=type&domain=daterange&sq=CjgYByoQUHJhZ2VyIEZyw7xobGluZyoTUHJpbnRlbXBzIGRlIFByYWd1ZSoNUHJhZ3VlIFNwcmluZwpBEAEYCCodYWlkYS0wMDAxLTUwLUJlZMWZaWNoX1NtZXRhbmEqHGFpZGEtMDAwMS01MC1Kb2hhbm5lc19CcmFobXM=&p=1"
         },
         "source": "aida-0001-50-Bedřich_Smetana",
         "target": "aida-0001-50-Johannes_Brahms"
        }
       ],
       "nodes": [
        {
         "attributes": {
          "ipysigma_kwarg_node_size": 4,
          "label": "aida-0001-50-Alessandro_Cagliostro",
          "url": "https://impresso-project.ch/app/entities/aida-0001-50-Alessandro_Cagliostro"
         },
         "key": "aida-0001-50-Alessandro_Cagliostro"
        },
        {
         "attributes": {
          "ipysigma_kwarg_node_size": 3,
          "label": "aida-0001-50-Jean_Marais",
          "url": "https://impresso-project.ch/app/entities/aida-0001-50-Jean_Marais"
         },
         "key": "aida-0001-50-Jean_Marais"
        },
        {
         "attributes": {
          "ipysigma_kwarg_node_size": 17,
          "label": "aida-0001-50-Alexander_Dubček",
          "url": "https://impresso-project.ch/app/entities/aida-0001-50-Alexander_Dubček"
         },
         "key": "aida-0001-50-Alexander_Dubček"
        },
        {
         "attributes": {
          "ipysigma_kwarg_node_size": 9,
          "label": "aida-0001-50-Antonín_Novotný",
          "url": "https://impresso-project.ch/app/entities/aida-0001-50-Antonín_Novotný"
         },
         "key": "aida-0001-50-Antonín_Novotný"
        },
        {
         "attributes": {
          "ipysigma_kwarg_node_size": 20,
          "label": "aida-0001-50-Gustáv_Husák",
          "url": "https://impresso-project.ch/app/entities/aida-0001-50-Gustáv_Husák"
         },
         "key": "aida-0001-50-Gustáv_Husák"
        },
        {
         "attributes": {
          "ipysigma_kwarg_node_size": 7,
          "label": "aida-0001-50-Harold_Wilson",
          "url": "https://impresso-project.ch/app/entities/aida-0001-50-Harold_Wilson"
         },
         "key": "aida-0001-50-Harold_Wilson"
        },
        {
         "attributes": {
          "ipysigma_kwarg_node_size": 6,
          "label": "aida-0001-50-Jan_Palach",
          "url": "https://impresso-project.ch/app/entities/aida-0001-50-Jan_Palach"
         },
         "key": "aida-0001-50-Jan_Palach"
        },
        {
         "attributes": {
          "ipysigma_kwarg_node_size": 8,
          "label": "aida-0001-50-Jiří_Hájek",
          "url": "https://impresso-project.ch/app/entities/aida-0001-50-Jiří_Hájek"
         },
         "key": "aida-0001-50-Jiří_Hájek"
        },
        {
         "attributes": {
          "ipysigma_kwarg_node_size": 10,
          "label": "aida-0001-50-Josef_Smrkovský",
          "url": "https://impresso-project.ch/app/entities/aida-0001-50-Josef_Smrkovský"
         },
         "key": "aida-0001-50-Josef_Smrkovský"
        },
        {
         "attributes": {
          "ipysigma_kwarg_node_size": 8,
          "label": "aida-0001-50-Lubomír_Štrougal",
          "url": "https://impresso-project.ch/app/entities/aida-0001-50-Lubomír_Štrougal"
         },
         "key": "aida-0001-50-Lubomír_Štrougal"
        },
        {
         "attributes": {
          "ipysigma_kwarg_node_size": 10,
          "label": "aida-0001-50-Ludvík_Svoboda",
          "url": "https://impresso-project.ch/app/entities/aida-0001-50-Ludvík_Svoboda"
         },
         "key": "aida-0001-50-Ludvík_Svoboda"
        },
        {
         "attributes": {
          "ipysigma_kwarg_node_size": 4,
          "label": "aida-0001-50-Mikhail_Gorbachev",
          "url": "https://impresso-project.ch/app/entities/aida-0001-50-Mikhail_Gorbachev"
         },
         "key": "aida-0001-50-Mikhail_Gorbachev"
        },
        {
         "attributes": {
          "ipysigma_kwarg_node_size": 6,
          "label": "aida-0001-50-Miloš_Forman",
          "url": "https://impresso-project.ch/app/entities/aida-0001-50-Miloš_Forman"
         },
         "key": "aida-0001-50-Miloš_Forman"
        },
        {
         "attributes": {
          "ipysigma_kwarg_node_size": 11,
          "label": "aida-0001-50-Oldřich_Černík",
          "url": "https://impresso-project.ch/app/entities/aida-0001-50-Oldřich_Černík"
         },
         "key": "aida-0001-50-Oldřich_Černík"
        },
        {
         "attributes": {
          "ipysigma_kwarg_node_size": 15,
          "label": "aida-0001-50-Ota_Šik",
          "url": "https://impresso-project.ch/app/entities/aida-0001-50-Ota_Šik"
         },
         "key": "aida-0001-50-Ota_Šik"
        },
        {
         "attributes": {
          "ipysigma_kwarg_node_size": 5,
          "label": "aida-0001-50-Pavel_Kohout",
          "url": "https://impresso-project.ch/app/entities/aida-0001-50-Pavel_Kohout"
         },
         "key": "aida-0001-50-Pavel_Kohout"
        },
        {
         "attributes": {
          "ipysigma_kwarg_node_size": 10,
          "label": "aida-0001-50-Václav_Havel",
          "url": "https://impresso-project.ch/app/entities/aida-0001-50-Václav_Havel"
         },
         "key": "aida-0001-50-Václav_Havel"
        },
        {
         "attributes": {
          "ipysigma_kwarg_node_size": 8,
          "label": "aida-0001-50-Walter_Ulbricht",
          "url": "https://impresso-project.ch/app/entities/aida-0001-50-Walter_Ulbricht"
         },
         "key": "aida-0001-50-Walter_Ulbricht"
        },
        {
         "attributes": {
          "ipysigma_kwarg_node_size": 10,
          "label": "aida-0001-50-Willy_Brandt",
          "url": "https://impresso-project.ch/app/entities/aida-0001-50-Willy_Brandt"
         },
         "key": "aida-0001-50-Willy_Brandt"
        },
        {
         "attributes": {
          "ipysigma_kwarg_node_size": 7,
          "label": "aida-0001-50-Zdeněk_Mlynář",
          "url": "https://impresso-project.ch/app/entities/aida-0001-50-Zdeněk_Mlynář"
         },
         "key": "aida-0001-50-Zdeněk_Mlynář"
        },
        {
         "attributes": {
          "ipysigma_kwarg_node_size": 6,
          "label": "aida-0001-50-Věra_Chytilová",
          "url": "https://impresso-project.ch/app/entities/aida-0001-50-Věra_Chytilová"
         },
         "key": "aida-0001-50-Věra_Chytilová"
        },
        {
         "attributes": {
          "ipysigma_kwarg_node_size": 4,
          "label": "aida-0001-50-Jaromil_Jireš",
          "url": "https://impresso-project.ch/app/entities/aida-0001-50-Jaromil_Jireš"
         },
         "key": "aida-0001-50-Jaromil_Jireš"
        },
        {
         "attributes": {
          "ipysigma_kwarg_node_size": 7,
          "label": "aida-0001-50-Jiří_Menzel",
          "url": "https://impresso-project.ch/app/entities/aida-0001-50-Jiří_Menzel"
         },
         "key": "aida-0001-50-Jiří_Menzel"
        },
        {
         "attributes": {
          "ipysigma_kwarg_node_size": 5,
          "label": "aida-0001-50-Paul_Lendvai",
          "url": "https://impresso-project.ch/app/entities/aida-0001-50-Paul_Lendvai"
         },
         "key": "aida-0001-50-Paul_Lendvai"
        },
        {
         "attributes": {
          "ipysigma_kwarg_node_size": 1,
          "label": "aida-0001-50-Richard_Nixon",
          "url": "https://impresso-project.ch/app/entities/aida-0001-50-Richard_Nixon"
         },
         "key": "aida-0001-50-Richard_Nixon"
        },
        {
         "attributes": {
          "ipysigma_kwarg_node_size": 2,
          "label": "aida-0001-50-Herbert_von_Karajan",
          "url": "https://impresso-project.ch/app/entities/aida-0001-50-Herbert_von_Karajan"
         },
         "key": "aida-0001-50-Herbert_von_Karajan"
        },
        {
         "attributes": {
          "ipysigma_kwarg_node_size": 2,
          "label": "aida-0001-50-Bedřich_Smetana",
          "url": "https://impresso-project.ch/app/entities/aida-0001-50-Bedřich_Smetana"
         },
         "key": "aida-0001-50-Bedřich_Smetana"
        },
        {
         "attributes": {
          "ipysigma_kwarg_node_size": 1,
          "label": "aida-0001-50-Joseph_Haydn",
          "url": "https://impresso-project.ch/app/entities/aida-0001-50-Joseph_Haydn"
         },
         "key": "aida-0001-50-Joseph_Haydn"
        },
        {
         "attributes": {
          "ipysigma_kwarg_node_size": 3,
          "label": "aida-0001-50-Johannes_Brahms",
          "url": "https://impresso-project.ch/app/entities/aida-0001-50-Johannes_Brahms"
         },
         "key": "aida-0001-50-Johannes_Brahms"
        },
        {
         "attributes": {
          "ipysigma_kwarg_node_size": 3,
          "label": "aida-0001-50-Jiří_Pelikán",
          "url": "https://impresso-project.ch/app/entities/aida-0001-50-Jiří_Pelikán"
         },
         "key": "aida-0001-50-Jiří_Pelikán"
        }
       ],
       "options": {
        "multi": false,
        "type": "undirected"
       }
      },
      "edge_weight": "weight",
      "height": "500px",
      "layout": {
       "aida-0001-50-Alessandro_Cagliostro": {
        "x": 0.15428948876230283,
        "y": 0.25273986629959766
       },
       "aida-0001-50-Alexander_Dubček": {
        "x": 0.4923045147706771,
        "y": 0.7549328770522359
       },
       "aida-0001-50-Antonín_Novotný": {
        "x": 0.536310160588477,
        "y": 0.6607164922702594
       },
       "aida-0001-50-Bedřich_Smetana": {
        "x": 0.9986165908231301,
        "y": 0.7337777626358047
       },
       "aida-0001-50-Gustáv_Husák": {
        "x": 0.17898877761019927,
        "y": 0.7423470400617883
       },
       "aida-0001-50-Harold_Wilson": {
        "x": 0.7654569574501733,
        "y": 0.2409002179776765
       },
       "aida-0001-50-Herbert_von_Karajan": {
        "x": 0.9153738228544446,
        "y": 0.8146601187658415
       },
       "aida-0001-50-Jan_Palach": {
        "x": 0.8666364121438902,
        "y": 0.3612731622048909
       },
       "aida-0001-50-Jaromil_Jireš": {
        "x": 0.9903121819953321,
        "y": 0.8396316085367288
       },
       "aida-0001-50-Jean_Marais": {
        "x": 0.5762050567157171,
        "y": 0.8675055755423209
       },
       "aida-0001-50-Jiří_Hájek": {
        "x": 0.3750092524652347,
        "y": 0.43898357292952234
       },
       "aida-0001-50-Jiří_Menzel": {
        "x": 0.19290933687632567,
        "y": 0.5507513853687954
       },
       "aida-0001-50-Jiří_Pelikán": {
        "x": 0.09606122757327866,
        "y": 0.9439512536142676
       },
       "aida-0001-50-Johannes_Brahms": {
        "x": 0.9420932357578089,
        "y": 0.9492478535538105
       },
       "aida-0001-50-Josef_Smrkovský": {
        "x": 0.686974614630136,
        "y": 0.44860358368004677
       },
       "aida-0001-50-Joseph_Haydn": {
        "x": 0.10060633047656747,
        "y": 0.2743234705841764
       },
       "aida-0001-50-Lubomír_Štrougal": {
        "x": 0.40559004582969205,
        "y": 0.8051142792853555
       },
       "aida-0001-50-Ludvík_Svoboda": {
        "x": 0.2755987667745767,
        "y": 0.4476774839346224
       },
       "aida-0001-50-Mikhail_Gorbachev": {
        "x": 0.692315680725632,
        "y": 0.22264914856719326
       },
       "aida-0001-50-Miloš_Forman": {
        "x": 0.6517501069627378,
        "y": 0.3711104926111498
       },
       "aida-0001-50-Oldřich_Černík": {
        "x": 0.2111467647774474,
        "y": 0.09947058602301147
       },
       "aida-0001-50-Ota_Šik": {
        "x": 0.599929496786351,
        "y": 0.0787483076490472
       },
       "aida-0001-50-Paul_Lendvai": {
        "x": 0.899447997714133,
        "y": 0.9174842837776478
       },
       "aida-0001-50-Pavel_Kohout": {
        "x": 0.5204078971266999,
        "y": 0.5260697341972731
       },
       "aida-0001-50-Richard_Nixon": {
        "x": 0.6178053192816517,
        "y": 0.6820744741878634
       },
       "aida-0001-50-Václav_Havel": {
        "x": 0.25573721555965384,
        "y": 0.4088724813190393
       },
       "aida-0001-50-Věra_Chytilová": {
        "x": 0.9388512412625218,
        "y": 0.4202011229550135
       },
       "aida-0001-50-Walter_Ulbricht": {
        "x": 0.5090945503764583,
        "y": 0.9307895945490127
       },
       "aida-0001-50-Willy_Brandt": {
        "x": 0.8692163042898542,
        "y": 0.057695617745493095
       },
       "aida-0001-50-Zdeněk_Mlynář": {
        "x": 0.6648696591608955,
        "y": 0.2771631331049608
       }
      },
      "layout_settings": null,
      "max_categorical_colors": 10,
      "name": null,
      "node_metrics": {},
      "program_settings": {},
      "renderer_settings": {
       "defaultEdgeType": "rectangle",
       "defaultNodeType": "point",
       "enableEdgeClickEvents": true,
       "enableEdgeHoverEvents": true,
       "hideEdgesOnMove": false,
       "labelDensity": 1,
       "labelFont": "sans-serif",
       "labelGridCellSize": 250,
       "renderEdgeLabels": true,
       "zIndex": true
      },
      "selected_edge": null,
      "selected_edge_category_values": null,
      "selected_node": null,
      "selected_node_category_values": null,
      "snapshot": null,
      "start_layout": false,
      "start_layout_for_seconds": null,
      "sync_key": null,
      "sync_targets": [
       "hover",
       "camera",
       "selection",
       "layout"
      ],
      "ui_settings": {
       "hideInfoPanel": false,
       "hideSearch": false
      },
      "visual_variables": {
       "edgeColor": {
        "attribute": "color",
        "default": "#ccc",
        "type": "raw"
       },
       "edgeCurveness": {
        "default": 0.25,
        "type": "constant"
       },
       "edgeLabel": {
        "attribute": "label",
        "default": null,
        "type": "raw"
       },
       "edgeSize": {
        "attribute": "count",
        "default": 0.5,
        "range": [
         0.5,
         10
        ],
        "type": "continuous"
       },
       "nodeBorderColor": {
        "default": null,
        "type": "disabled"
       },
       "nodeBorderRatio": {
        "default": null,
        "type": "disabled"
       },
       "nodeBorderSize": {
        "default": 1,
        "type": "constant"
       },
       "nodeColor": {
        "attribute": "color",
        "default": "#999",
        "type": "raw"
       },
       "nodeColorSaturation": {
        "default": null,
        "type": "disabled"
       },
       "nodeHaloColor": {
        "default": "red",
        "type": "constant"
       },
       "nodeHaloSize": {
        "default": null,
        "type": "disabled"
       },
       "nodeLabel": {
        "attribute": "label",
        "default": null,
        "type": "raw"
       },
       "nodeLabelColor": {
        "default": "#000",
        "type": "constant"
       },
       "nodeLabelSize": {
        "default": 12,
        "type": "constant"
       },
       "nodePictogram": {
        "default": null,
        "type": "disabled"
       },
       "nodePictogramColor": {
        "default": "#000",
        "type": "constant"
       },
       "nodeShape": {
        "default": null,
        "type": "disabled"
       },
       "nodeSize": {
        "attribute": "ipysigma_kwarg_node_size",
        "default": 3,
        "range": [
         3,
         15
        ],
        "type": "continuous"
       }
      }
     }
    },
    "33d8d09dfd4b4214a93da0e6cc49bdf7": {
     "model_module": "@jupyter-widgets/controls",
     "model_module_version": "1.5.0",
     "model_name": "LabelModel",
     "state": {
      "_dom_classes": [],
      "_model_module": "@jupyter-widgets/controls",
      "_model_module_version": "1.5.0",
      "_model_name": "LabelModel",
      "_view_count": null,
      "_view_module": "@jupyter-widgets/controls",
      "_view_module_version": "1.5.0",
      "_view_name": "LabelView",
      "description": "",
      "description_tooltip": null,
      "layout": "IPY_MODEL_270b8fb57d2340ceb86c7869dfcef501",
      "placeholder": "​",
      "style": "IPY_MODEL_9f32564522c4412caafa7c34c37e25cb",
      "value": "What should represent the size of the nodes:"
     }
    },
    "534550aa69a44b4da426a4c7caa2b4f6": {
     "model_module": "@jupyter-widgets/base",
     "model_module_version": "1.2.0",
     "model_name": "LayoutModel",
     "state": {
      "_model_module": "@jupyter-widgets/base",
      "_model_module_version": "1.2.0",
      "_model_name": "LayoutModel",
      "_view_count": null,
      "_view_module": "@jupyter-widgets/base",
      "_view_module_version": "1.2.0",
      "_view_name": "LayoutView",
      "align_content": null,
      "align_items": null,
      "align_self": null,
      "border": null,
      "bottom": null,
      "display": null,
      "flex": null,
      "flex_flow": null,
      "grid_area": null,
      "grid_auto_columns": null,
      "grid_auto_flow": null,
      "grid_auto_rows": null,
      "grid_column": null,
      "grid_gap": null,
      "grid_row": null,
      "grid_template_areas": null,
      "grid_template_columns": null,
      "grid_template_rows": null,
      "height": null,
      "justify_content": null,
      "justify_items": null,
      "left": null,
      "margin": null,
      "max_height": null,
      "max_width": null,
      "min_height": null,
      "min_width": null,
      "object_fit": null,
      "object_position": null,
      "order": null,
      "overflow": null,
      "overflow_x": null,
      "overflow_y": null,
      "padding": null,
      "right": null,
      "top": null,
      "visibility": null,
      "width": "max-content"
     }
    },
    "758c967b607e477ea7879de09da72034": {
     "model_module": "@jupyter-widgets/base",
     "model_module_version": "1.2.0",
     "model_name": "LayoutModel",
     "state": {
      "_model_module": "@jupyter-widgets/base",
      "_model_module_version": "1.2.0",
      "_model_name": "LayoutModel",
      "_view_count": null,
      "_view_module": "@jupyter-widgets/base",
      "_view_module_version": "1.2.0",
      "_view_name": "LayoutView",
      "align_content": null,
      "align_items": null,
      "align_self": null,
      "border": null,
      "bottom": null,
      "display": null,
      "flex": null,
      "flex_flow": null,
      "grid_area": null,
      "grid_auto_columns": null,
      "grid_auto_flow": null,
      "grid_auto_rows": null,
      "grid_column": null,
      "grid_gap": null,
      "grid_row": null,
      "grid_template_areas": null,
      "grid_template_columns": null,
      "grid_template_rows": null,
      "height": null,
      "justify_content": null,
      "justify_items": null,
      "left": null,
      "margin": null,
      "max_height": null,
      "max_width": null,
      "min_height": null,
      "min_width": null,
      "object_fit": null,
      "object_position": null,
      "order": null,
      "overflow": null,
      "overflow_x": null,
      "overflow_y": null,
      "padding": null,
      "right": null,
      "top": null,
      "visibility": null,
      "width": null
     }
    },
    "89ff2d77a9db4ffebd152fd29e4fd61d": {
     "model_module": "@jupyter-widgets/controls",
     "model_module_version": "1.5.0",
     "model_name": "DescriptionStyleModel",
     "state": {
      "_model_module": "@jupyter-widgets/controls",
      "_model_module_version": "1.5.0",
      "_model_name": "DescriptionStyleModel",
      "_view_count": null,
      "_view_module": "@jupyter-widgets/base",
      "_view_module_version": "1.2.0",
      "_view_name": "StyleView",
      "description_width": ""
     }
    },
    "9f32564522c4412caafa7c34c37e25cb": {
     "model_module": "@jupyter-widgets/controls",
     "model_module_version": "1.5.0",
     "model_name": "DescriptionStyleModel",
     "state": {
      "_model_module": "@jupyter-widgets/controls",
      "_model_module_version": "1.5.0",
      "_model_name": "DescriptionStyleModel",
      "_view_count": null,
      "_view_module": "@jupyter-widgets/base",
      "_view_module_version": "1.2.0",
      "_view_name": "StyleView",
      "description_width": ""
     }
    },
    "a654c3fe4bde475bab130494721b4b3b": {
     "model_module": "@jupyter-widgets/controls",
     "model_module_version": "1.5.0",
     "model_name": "DropdownModel",
     "state": {
      "_dom_classes": [],
      "_model_module": "@jupyter-widgets/controls",
      "_model_module_version": "1.5.0",
      "_model_name": "DropdownModel",
      "_options_labels": [
       "Degree",
       "Betweenness",
       "Eigenvector",
       "Closeness"
      ],
      "_view_count": null,
      "_view_module": "@jupyter-widgets/controls",
      "_view_module_version": "1.5.0",
      "_view_name": "DropdownView",
      "description": "",
      "description_tooltip": null,
      "disabled": false,
      "index": 0,
      "layout": "IPY_MODEL_534550aa69a44b4da426a4c7caa2b4f6",
      "style": "IPY_MODEL_89ff2d77a9db4ffebd152fd29e4fd61d"
     }
    },
    "f6163a4f620e4d5e91e10974897cae52": {
     "model_module": "@jupyter-widgets/controls",
     "model_module_version": "1.5.0",
     "model_name": "BoxModel",
     "state": {
      "_dom_classes": [],
      "_model_module": "@jupyter-widgets/controls",
      "_model_module_version": "1.5.0",
      "_model_name": "BoxModel",
      "_view_count": null,
      "_view_module": "@jupyter-widgets/controls",
      "_view_module_version": "1.5.0",
      "_view_name": "BoxView",
      "box_style": "",
      "children": [
       "IPY_MODEL_33d8d09dfd4b4214a93da0e6cc49bdf7",
       "IPY_MODEL_a654c3fe4bde475bab130494721b4b3b"
      ],
      "layout": "IPY_MODEL_758c967b607e477ea7879de09da72034"
     }
    }
   }
  }
 },
 "nbformat": 4,
 "nbformat_minor": 4
}
