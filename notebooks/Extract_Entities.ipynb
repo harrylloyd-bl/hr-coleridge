{
 "cells": [
  {
   "cell_type": "markdown",
   "id": "817724a9",
   "metadata": {
    "colab_type": "text",
    "id": "view-in-github"
   },
   "source": [
    "<a href=\"https://colab.research.google.com/github/harrylloyd-bl/hr-coleridge/blob/hr/Extract_Entities.ipynb\" target=\"_parent\"><img src=\"https://colab.research.google.com/assets/colab-badge.svg\" alt=\"Open In Colab\"/></a>"
   ]
  },
  {
   "cell_type": "markdown",
   "id": "dd0b9fc9-eaf2-4523-93d9-f418c8e11867",
   "metadata": {
    "id": "dd0b9fc9-eaf2-4523-93d9-f418c8e11867"
   },
   "source": [
    "# Extract Entities"
   ]
  },
  {
   "cell_type": "markdown",
   "id": "dO_-dzYodKcl",
   "metadata": {
    "id": "dO_-dzYodKcl"
   },
   "source": [
    "## Import Packages"
   ]
  },
  {
   "cell_type": "markdown",
   "id": "aG6Ll6zlelZ4",
   "metadata": {
    "id": "aG6Ll6zlelZ4"
   },
   "source": [
    "Import modules from the standard library to work with the file system xmls and regular expressions.\n",
    "\n",
    "\n",
    "*   glob - searches for filenames that match a specific pattern\n",
    "*   ElementTree - for working with xmls\n",
    "*   re - for regular expressions (patterns used to find specific parts of strings)\n",
    "*   os - os.remove for deleting files\n",
    "\n",
    "[Colab Markdown Cheat Sheet](https://colab.research.google.com/notebooks/markdown_guide.ipynb)\n"
   ]
  },
  {
   "cell_type": "code",
   "execution_count": 1,
   "id": "62cd1d6d-0aa7-4b86-a63b-6ad76c4b8be5",
   "metadata": {
    "id": "62cd1d6d-0aa7-4b86-a63b-6ad76c4b8be5"
   },
   "outputs": [],
   "source": [
    "import glob\n",
    "import xml.etree.ElementTree as ET\n",
    "import re\n",
    "import os\n",
    "import pandas as pd"
   ]
  },
  {
   "cell_type": "markdown",
   "id": "KsYhqnltmvU_",
   "metadata": {
    "id": "KsYhqnltmvU_"
   },
   "source": [
    "## Combine pages"
   ]
  },
  {
   "cell_type": "markdown",
   "id": "9nM4_JS5gjlS",
   "metadata": {
    "id": "9nM4_JS5gjlS"
   },
   "source": [
    "### Define report_date"
   ]
  },
  {
   "cell_type": "code",
   "execution_count": 2,
   "id": "NhHBxMDxxohO",
   "metadata": {
    "id": "NhHBxMDxxohO"
   },
   "outputs": [],
   "source": [
    "report_date = 1865"
   ]
  },
  {
   "cell_type": "markdown",
   "id": "oFlSkuq_SC5x",
   "metadata": {
    "id": "oFlSkuq_SC5x"
   },
   "source": [
    "### Define data path\n"
   ]
  },
  {
   "cell_type": "code",
   "execution_count": 3,
   "id": "a9971bcc-121f-4582-bc47-c9474ec4b227",
   "metadata": {
    "id": "a9971bcc-121f-4582-bc47-c9474ec4b227"
   },
   "outputs": [],
   "source": [
    "pages = glob.glob(f\"data/raw/{report_date}/00*.xml\")"
   ]
  },
  {
   "cell_type": "markdown",
   "id": "u-p46AR0YXv0",
   "metadata": {
    "id": "u-p46AR0YXv0"
   },
   "source": [
    "### Import data from path"
   ]
  },
  {
   "cell_type": "code",
   "execution_count": 4,
   "id": "9cadb519-1d83-4f52-923c-983f7530ac3d",
   "metadata": {
    "colab": {
     "base_uri": "https://localhost:8080/"
    },
    "id": "9cadb519-1d83-4f52-923c-983f7530ac3d",
    "outputId": "2c47dc7c-ac31-4b16-acbd-4811d5cc62fb"
   },
   "outputs": [
    {
     "data": {
      "text/plain": [
       "['data/raw/1865\\\\0001_1865_cover.xml',\n",
       " 'data/raw/1865\\\\0002_1865_letter.xml',\n",
       " 'data/raw/1865\\\\0003_1865_page_1.xml',\n",
       " 'data/raw/1865\\\\0004_p011.xml',\n",
       " 'data/raw/1865\\\\0005_p013.xml',\n",
       " 'data/raw/1865\\\\0006_p014.xml',\n",
       " 'data/raw/1865\\\\0007_p015.xml',\n",
       " 'data/raw/1865\\\\0008_p016.xml',\n",
       " 'data/raw/1865\\\\0009_p017.xml',\n",
       " 'data/raw/1865\\\\0010_p018.xml',\n",
       " 'data/raw/1865\\\\0011_p019.xml',\n",
       " 'data/raw/1865\\\\0012_p020.xml',\n",
       " 'data/raw/1865\\\\0013_p021.xml',\n",
       " 'data/raw/1865\\\\0014_p022.xml',\n",
       " 'data/raw/1865\\\\0015_p023.xml',\n",
       " 'data/raw/1865\\\\0016_p024.xml',\n",
       " 'data/raw/1865\\\\0017_p025.xml',\n",
       " 'data/raw/1865\\\\0018_p026.xml',\n",
       " 'data/raw/1865\\\\0019_p027.xml',\n",
       " 'data/raw/1865\\\\0020_p028.xml',\n",
       " 'data/raw/1865\\\\0021_p029.xml',\n",
       " 'data/raw/1865\\\\0022_p030.xml',\n",
       " 'data/raw/1865\\\\0023_p031.xml',\n",
       " 'data/raw/1865\\\\0024_p032.xml',\n",
       " 'data/raw/1865\\\\0025_p033.xml',\n",
       " 'data/raw/1865\\\\0026_p034.xml']"
      ]
     },
     "execution_count": 4,
     "metadata": {},
     "output_type": "execute_result"
    }
   ],
   "source": [
    "pages"
   ]
  },
  {
   "cell_type": "markdown",
   "id": "Uqq5mOZ3aWW_",
   "metadata": {
    "id": "Uqq5mOZ3aWW_"
   },
   "source": [
    "### Order pages correctly"
   ]
  },
  {
   "cell_type": "code",
   "execution_count": 5,
   "id": "ziWymWGun9wm",
   "metadata": {
    "colab": {
     "base_uri": "https://localhost:8080/"
    },
    "id": "ziWymWGun9wm",
    "outputId": "8e335819-7ecf-46fd-fa17-439f72000ca0"
   },
   "outputs": [
    {
     "data": {
      "text/plain": [
       "['data/raw/1865\\\\0001_1865_cover.xml',\n",
       " 'data/raw/1865\\\\0002_1865_letter.xml',\n",
       " 'data/raw/1865\\\\0003_1865_page_1.xml',\n",
       " 'data/raw/1865\\\\0004_p011.xml',\n",
       " 'data/raw/1865\\\\0005_p013.xml',\n",
       " 'data/raw/1865\\\\0006_p014.xml',\n",
       " 'data/raw/1865\\\\0007_p015.xml',\n",
       " 'data/raw/1865\\\\0008_p016.xml',\n",
       " 'data/raw/1865\\\\0009_p017.xml',\n",
       " 'data/raw/1865\\\\0010_p018.xml',\n",
       " 'data/raw/1865\\\\0011_p019.xml',\n",
       " 'data/raw/1865\\\\0012_p020.xml',\n",
       " 'data/raw/1865\\\\0013_p021.xml',\n",
       " 'data/raw/1865\\\\0014_p022.xml',\n",
       " 'data/raw/1865\\\\0015_p023.xml',\n",
       " 'data/raw/1865\\\\0016_p024.xml',\n",
       " 'data/raw/1865\\\\0017_p025.xml',\n",
       " 'data/raw/1865\\\\0018_p026.xml',\n",
       " 'data/raw/1865\\\\0019_p027.xml',\n",
       " 'data/raw/1865\\\\0020_p028.xml',\n",
       " 'data/raw/1865\\\\0021_p029.xml',\n",
       " 'data/raw/1865\\\\0022_p030.xml',\n",
       " 'data/raw/1865\\\\0023_p031.xml',\n",
       " 'data/raw/1865\\\\0024_p032.xml',\n",
       " 'data/raw/1865\\\\0025_p033.xml',\n",
       " 'data/raw/1865\\\\0026_p034.xml']"
      ]
     },
     "execution_count": 5,
     "metadata": {},
     "output_type": "execute_result"
    }
   ],
   "source": [
    "ordered_pages = sorted(pages, key=lambda x: int(x.split(\"\\\\\")[-1].split(\"_\")[0]))\n",
    "ordered_pages"
   ]
  },
  {
   "cell_type": "markdown",
   "id": "528OEQpqbPCk",
   "metadata": {
    "id": "528OEQpqbPCk"
   },
   "source": [
    "### Define tree and root"
   ]
  },
  {
   "cell_type": "code",
   "execution_count": 6,
   "id": "dcbaedb7-1424-4f77-8b50-af6cbb7326fe",
   "metadata": {
    "id": "dcbaedb7-1424-4f77-8b50-af6cbb7326fe"
   },
   "outputs": [],
   "source": [
    "trees, roots = [], []\n",
    "for p in ordered_pages:\n",
    "    if 'Table' not in p:\n",
    "      tree = ET.parse(p)\n",
    "      root = tree.getroot()\n",
    "\n",
    "      trees.append(tree)\n",
    "      roots.append(root)"
   ]
  },
  {
   "cell_type": "markdown",
   "id": "_BhcofvtdEWe",
   "metadata": {
    "id": "_BhcofvtdEWe"
   },
   "source": [
    "### Specify combined trees and roots"
   ]
  },
  {
   "cell_type": "code",
   "execution_count": 7,
   "id": "292fe6a2-d459-4c9c-abe3-00ed4f828935",
   "metadata": {
    "id": "292fe6a2-d459-4c9c-abe3-00ed4f828935"
   },
   "outputs": [],
   "source": [
    "combined_root = roots[0]\n",
    "combined_tree = trees[0]  # This references its root, so when the root is updated with more children, the tree also updates"
   ]
  },
  {
   "cell_type": "markdown",
   "id": "djBp_cwneI1i",
   "metadata": {
    "id": "djBp_cwneI1i"
   },
   "source": [
    "### Combine children into single list"
   ]
  },
  {
   "cell_type": "code",
   "execution_count": 9,
   "id": "f4a8783d-e7c6-4cd1-bfc7-0c478a21f1ca",
   "metadata": {
    "id": "f4a8783d-e7c6-4cd1-bfc7-0c478a21f1ca"
   },
   "outputs": [],
   "source": [
    "for root in roots[1:]:\n",
    "    for child in root:\n",
    "        combined_root.append(child)  # This also updates the combined_tree"
   ]
  },
  {
   "cell_type": "markdown",
   "id": "jjXvc7hAehsC",
   "metadata": {
    "id": "jjXvc7hAehsC"
   },
   "source": [
    "### Print combined list of children"
   ]
  },
  {
   "cell_type": "code",
   "execution_count": 9,
   "id": "089d2c39-7c5f-42b0-ac4a-25074a93d269",
   "metadata": {
    "colab": {
     "base_uri": "https://localhost:8080/"
    },
    "id": "089d2c39-7c5f-42b0-ac4a-25074a93d269",
    "outputId": "ffa42737-eb17-43af-8ed7-afec7e0f6cc1",
    "scrolled": true
   },
   "outputs": [
    {
     "name": "stdout",
     "output_type": "stream",
     "text": [
      "{http://schema.primaresearch.org/PAGE/gts/pagecontent/2013-07-15}Metadata\n",
      "{http://schema.primaresearch.org/PAGE/gts/pagecontent/2013-07-15}Page\n",
      "{http://schema.primaresearch.org/PAGE/gts/pagecontent/2013-07-15}Metadata\n",
      "{http://schema.primaresearch.org/PAGE/gts/pagecontent/2013-07-15}Page\n",
      "{http://schema.primaresearch.org/PAGE/gts/pagecontent/2013-07-15}Metadata\n",
      "{http://schema.primaresearch.org/PAGE/gts/pagecontent/2013-07-15}Page\n",
      "{http://schema.primaresearch.org/PAGE/gts/pagecontent/2013-07-15}Metadata\n",
      "{http://schema.primaresearch.org/PAGE/gts/pagecontent/2013-07-15}Page\n",
      "{http://schema.primaresearch.org/PAGE/gts/pagecontent/2013-07-15}Metadata\n",
      "{http://schema.primaresearch.org/PAGE/gts/pagecontent/2013-07-15}Page\n",
      "{http://schema.primaresearch.org/PAGE/gts/pagecontent/2013-07-15}Metadata\n",
      "{http://schema.primaresearch.org/PAGE/gts/pagecontent/2013-07-15}Page\n",
      "{http://schema.primaresearch.org/PAGE/gts/pagecontent/2013-07-15}Metadata\n",
      "{http://schema.primaresearch.org/PAGE/gts/pagecontent/2013-07-15}Page\n",
      "{http://schema.primaresearch.org/PAGE/gts/pagecontent/2013-07-15}Metadata\n",
      "{http://schema.primaresearch.org/PAGE/gts/pagecontent/2013-07-15}Page\n",
      "{http://schema.primaresearch.org/PAGE/gts/pagecontent/2013-07-15}Metadata\n",
      "{http://schema.primaresearch.org/PAGE/gts/pagecontent/2013-07-15}Page\n",
      "{http://schema.primaresearch.org/PAGE/gts/pagecontent/2013-07-15}Metadata\n",
      "{http://schema.primaresearch.org/PAGE/gts/pagecontent/2013-07-15}Page\n",
      "{http://schema.primaresearch.org/PAGE/gts/pagecontent/2013-07-15}Metadata\n",
      "{http://schema.primaresearch.org/PAGE/gts/pagecontent/2013-07-15}Page\n",
      "{http://schema.primaresearch.org/PAGE/gts/pagecontent/2013-07-15}Metadata\n",
      "{http://schema.primaresearch.org/PAGE/gts/pagecontent/2013-07-15}Page\n",
      "{http://schema.primaresearch.org/PAGE/gts/pagecontent/2013-07-15}Metadata\n",
      "{http://schema.primaresearch.org/PAGE/gts/pagecontent/2013-07-15}Page\n",
      "{http://schema.primaresearch.org/PAGE/gts/pagecontent/2013-07-15}Metadata\n",
      "{http://schema.primaresearch.org/PAGE/gts/pagecontent/2013-07-15}Page\n",
      "{http://schema.primaresearch.org/PAGE/gts/pagecontent/2013-07-15}Metadata\n",
      "{http://schema.primaresearch.org/PAGE/gts/pagecontent/2013-07-15}Page\n",
      "{http://schema.primaresearch.org/PAGE/gts/pagecontent/2013-07-15}Metadata\n",
      "{http://schema.primaresearch.org/PAGE/gts/pagecontent/2013-07-15}Page\n",
      "{http://schema.primaresearch.org/PAGE/gts/pagecontent/2013-07-15}Metadata\n",
      "{http://schema.primaresearch.org/PAGE/gts/pagecontent/2013-07-15}Page\n",
      "{http://schema.primaresearch.org/PAGE/gts/pagecontent/2013-07-15}Metadata\n",
      "{http://schema.primaresearch.org/PAGE/gts/pagecontent/2013-07-15}Page\n",
      "{http://schema.primaresearch.org/PAGE/gts/pagecontent/2013-07-15}Metadata\n",
      "{http://schema.primaresearch.org/PAGE/gts/pagecontent/2013-07-15}Page\n",
      "{http://schema.primaresearch.org/PAGE/gts/pagecontent/2013-07-15}Metadata\n",
      "{http://schema.primaresearch.org/PAGE/gts/pagecontent/2013-07-15}Page\n",
      "{http://schema.primaresearch.org/PAGE/gts/pagecontent/2013-07-15}Metadata\n",
      "{http://schema.primaresearch.org/PAGE/gts/pagecontent/2013-07-15}Page\n",
      "{http://schema.primaresearch.org/PAGE/gts/pagecontent/2013-07-15}Metadata\n",
      "{http://schema.primaresearch.org/PAGE/gts/pagecontent/2013-07-15}Page\n",
      "{http://schema.primaresearch.org/PAGE/gts/pagecontent/2013-07-15}Metadata\n",
      "{http://schema.primaresearch.org/PAGE/gts/pagecontent/2013-07-15}Page\n",
      "{http://schema.primaresearch.org/PAGE/gts/pagecontent/2013-07-15}Metadata\n",
      "{http://schema.primaresearch.org/PAGE/gts/pagecontent/2013-07-15}Page\n",
      "{http://schema.primaresearch.org/PAGE/gts/pagecontent/2013-07-15}Metadata\n",
      "{http://schema.primaresearch.org/PAGE/gts/pagecontent/2013-07-15}Page\n",
      "{http://schema.primaresearch.org/PAGE/gts/pagecontent/2013-07-15}Metadata\n",
      "{http://schema.primaresearch.org/PAGE/gts/pagecontent/2013-07-15}Page\n",
      "{http://schema.primaresearch.org/PAGE/gts/pagecontent/2013-07-15}Metadata\n",
      "{http://schema.primaresearch.org/PAGE/gts/pagecontent/2013-07-15}Page\n",
      "{http://schema.primaresearch.org/PAGE/gts/pagecontent/2013-07-15}Metadata\n",
      "{http://schema.primaresearch.org/PAGE/gts/pagecontent/2013-07-15}Page\n",
      "{http://schema.primaresearch.org/PAGE/gts/pagecontent/2013-07-15}Metadata\n",
      "{http://schema.primaresearch.org/PAGE/gts/pagecontent/2013-07-15}Page\n",
      "{http://schema.primaresearch.org/PAGE/gts/pagecontent/2013-07-15}Metadata\n",
      "{http://schema.primaresearch.org/PAGE/gts/pagecontent/2013-07-15}Page\n",
      "{http://schema.primaresearch.org/PAGE/gts/pagecontent/2013-07-15}Metadata\n",
      "{http://schema.primaresearch.org/PAGE/gts/pagecontent/2013-07-15}Page\n",
      "{http://schema.primaresearch.org/PAGE/gts/pagecontent/2013-07-15}Metadata\n",
      "{http://schema.primaresearch.org/PAGE/gts/pagecontent/2013-07-15}Page\n",
      "{http://schema.primaresearch.org/PAGE/gts/pagecontent/2013-07-15}Metadata\n",
      "{http://schema.primaresearch.org/PAGE/gts/pagecontent/2013-07-15}Page\n",
      "{http://schema.primaresearch.org/PAGE/gts/pagecontent/2013-07-15}Metadata\n",
      "{http://schema.primaresearch.org/PAGE/gts/pagecontent/2013-07-15}Page\n",
      "{http://schema.primaresearch.org/PAGE/gts/pagecontent/2013-07-15}Metadata\n",
      "{http://schema.primaresearch.org/PAGE/gts/pagecontent/2013-07-15}Page\n",
      "{http://schema.primaresearch.org/PAGE/gts/pagecontent/2013-07-15}Metadata\n",
      "{http://schema.primaresearch.org/PAGE/gts/pagecontent/2013-07-15}Page\n",
      "{http://schema.primaresearch.org/PAGE/gts/pagecontent/2013-07-15}Metadata\n",
      "{http://schema.primaresearch.org/PAGE/gts/pagecontent/2013-07-15}Page\n",
      "{http://schema.primaresearch.org/PAGE/gts/pagecontent/2013-07-15}Metadata\n",
      "{http://schema.primaresearch.org/PAGE/gts/pagecontent/2013-07-15}Page\n",
      "{http://schema.primaresearch.org/PAGE/gts/pagecontent/2013-07-15}Metadata\n",
      "{http://schema.primaresearch.org/PAGE/gts/pagecontent/2013-07-15}Page\n",
      "{http://schema.primaresearch.org/PAGE/gts/pagecontent/2013-07-15}Metadata\n",
      "{http://schema.primaresearch.org/PAGE/gts/pagecontent/2013-07-15}Page\n",
      "{http://schema.primaresearch.org/PAGE/gts/pagecontent/2013-07-15}Metadata\n",
      "{http://schema.primaresearch.org/PAGE/gts/pagecontent/2013-07-15}Page\n",
      "{http://schema.primaresearch.org/PAGE/gts/pagecontent/2013-07-15}Metadata\n",
      "{http://schema.primaresearch.org/PAGE/gts/pagecontent/2013-07-15}Page\n",
      "{http://schema.primaresearch.org/PAGE/gts/pagecontent/2013-07-15}Metadata\n",
      "{http://schema.primaresearch.org/PAGE/gts/pagecontent/2013-07-15}Page\n",
      "{http://schema.primaresearch.org/PAGE/gts/pagecontent/2013-07-15}Metadata\n",
      "{http://schema.primaresearch.org/PAGE/gts/pagecontent/2013-07-15}Page\n",
      "{http://schema.primaresearch.org/PAGE/gts/pagecontent/2013-07-15}Metadata\n",
      "{http://schema.primaresearch.org/PAGE/gts/pagecontent/2013-07-15}Page\n",
      "{http://schema.primaresearch.org/PAGE/gts/pagecontent/2013-07-15}Metadata\n",
      "{http://schema.primaresearch.org/PAGE/gts/pagecontent/2013-07-15}Page\n",
      "{http://schema.primaresearch.org/PAGE/gts/pagecontent/2013-07-15}Metadata\n",
      "{http://schema.primaresearch.org/PAGE/gts/pagecontent/2013-07-15}Page\n",
      "{http://schema.primaresearch.org/PAGE/gts/pagecontent/2013-07-15}Metadata\n",
      "{http://schema.primaresearch.org/PAGE/gts/pagecontent/2013-07-15}Page\n",
      "{http://schema.primaresearch.org/PAGE/gts/pagecontent/2013-07-15}Metadata\n",
      "{http://schema.primaresearch.org/PAGE/gts/pagecontent/2013-07-15}Page\n",
      "{http://schema.primaresearch.org/PAGE/gts/pagecontent/2013-07-15}Metadata\n",
      "{http://schema.primaresearch.org/PAGE/gts/pagecontent/2013-07-15}Page\n",
      "{http://schema.primaresearch.org/PAGE/gts/pagecontent/2013-07-15}Metadata\n",
      "{http://schema.primaresearch.org/PAGE/gts/pagecontent/2013-07-15}Page\n",
      "{http://schema.primaresearch.org/PAGE/gts/pagecontent/2013-07-15}Metadata\n",
      "{http://schema.primaresearch.org/PAGE/gts/pagecontent/2013-07-15}Page\n",
      "{http://schema.primaresearch.org/PAGE/gts/pagecontent/2013-07-15}Metadata\n",
      "{http://schema.primaresearch.org/PAGE/gts/pagecontent/2013-07-15}Page\n",
      "{http://schema.primaresearch.org/PAGE/gts/pagecontent/2013-07-15}Metadata\n",
      "{http://schema.primaresearch.org/PAGE/gts/pagecontent/2013-07-15}Page\n",
      "{http://schema.primaresearch.org/PAGE/gts/pagecontent/2013-07-15}Metadata\n",
      "{http://schema.primaresearch.org/PAGE/gts/pagecontent/2013-07-15}Page\n",
      "{http://schema.primaresearch.org/PAGE/gts/pagecontent/2013-07-15}Metadata\n",
      "{http://schema.primaresearch.org/PAGE/gts/pagecontent/2013-07-15}Page\n"
     ]
    }
   ],
   "source": [
    "for child in combined_root:\n",
    "    print(child.tag)"
   ]
  },
  {
   "cell_type": "markdown",
   "id": "-SPPIZIkesl6",
   "metadata": {
    "id": "-SPPIZIkesl6"
   },
   "source": [
    "### Save combined tree in a new file"
   ]
  },
  {
   "cell_type": "code",
   "execution_count": 10,
   "id": "4052de8f-df59-4bd5-b841-94c9ed94b482",
   "metadata": {
    "id": "4052de8f-df59-4bd5-b841-94c9ed94b482"
   },
   "outputs": [],
   "source": [
    "ET.indent(combined_tree, space=\"    \")\n",
    "# combined_tree.write(f\"{report_date}_combined_pages.xml\", encoding=\"UTF-8\")"
   ]
  },
  {
   "cell_type": "markdown",
   "id": "M5vbRfZ5STBr",
   "metadata": {
    "id": "M5vbRfZ5STBr"
   },
   "source": [
    "## Extract Attributes"
   ]
  },
  {
   "cell_type": "code",
   "execution_count": 11,
   "id": "1a834e04-5964-491a-9aef-d7070b9dc34c",
   "metadata": {},
   "outputs": [],
   "source": [
    "ns = {\n",
    "    \"page\": \"http://schema.primaresearch.org/PAGE/gts/pagecontent/2013-07-15\",\n",
    "    \"xsi\": \"http://www.w3.org/2001/XMLSchema-instance\"\n",
    "}"
   ]
  },
  {
   "cell_type": "markdown",
   "id": "ecdcdf58-4ad5-4ae9-9ba6-551327ee7e35",
   "metadata": {
    "id": "12VDv35tdUH2"
   },
   "source": [
    "### Parse person attributes"
   ]
  },
  {
   "cell_type": "code",
   "execution_count": 19,
   "id": "pXwreLg37CGX",
   "metadata": {
    "id": "pXwreLg37CGX"
   },
   "outputs": [],
   "source": [
    "def parse_attributes(attrib: str):\n",
    "    attrib_pair_re = re.compile(r\"(?P<tag>\\w+) (?P<text>\\{[\\.\\w\\s:;\\d]+\\})\")\n",
    "    attrib_inner_re = re.compile(r\"(?P<tag>\\w+):(?P<text>[\\.\\w\\s\\d]+)\")\n",
    "    all_attribs = attrib_pair_re.findall(attrib)\n",
    "    inner_found = {k:attrib_inner_re.findall(v[1:-1]) for k,v in all_attribs}\n",
    "    return {k0: {k1:v1 for k1, v1 in v0} for k0, v0 in inner_found.items()}"
   ]
  },
  {
   "cell_type": "code",
   "execution_count": 20,
   "id": "GzLij1WS7w5y",
   "metadata": {
    "colab": {
     "base_uri": "https://localhost:8080/"
    },
    "id": "GzLij1WS7w5y",
    "outputId": "195c3e37-3bf2-49c1-a923-74eadc60ecfc"
   },
   "outputs": [
    {
     "data": {
      "text/plain": [
       "{'readingOrder': {'index': '1'},\n",
       " 'person': {'offset': '0',\n",
       "  'length': '23',\n",
       "  'firstname': 'A. B.',\n",
       "  'title': 'Captian',\n",
       "  'lastname': 'Melville'},\n",
       " 'leader': {'offset': '0', 'length': '22'},\n",
       " 'Role': {'offset': '24',\n",
       "  'length': '9',\n",
       "  'continued': 'true',\n",
       "  'title': 'Executive Officer in Charge'}}"
      ]
     },
     "execution_count": 20,
     "metadata": {},
     "output_type": "execute_result"
    }
   ],
   "source": [
    "parse_attributes(\"readingOrder {index:1;} person {offset:0; length:23;firstname:A.\\u0020B.; title:Captian; lastname:Melville;} leader {offset:0; length:22;} Role {offset:24; length:9; continued:true;title:Executive\\u0020Officer\\u0020in\\u0020Charge;}\")"
   ]
  },
  {
   "cell_type": "markdown",
   "id": "f340af6e-00c6-4864-aedb-b3f9b7e2ee93",
   "metadata": {
    "id": "f340af6e-00c6-4864-aedb-b3f9b7e2ee93"
   },
   "source": [
    "### Parse header sections"
   ]
  },
  {
   "cell_type": "code",
   "execution_count": 28,
   "id": "b21d2fe2-a20b-4b0d-82d7-a0a9553b8a34",
   "metadata": {},
   "outputs": [
    {
     "data": {
      "text/plain": [
       "xml.etree.ElementTree.Element"
      ]
     },
     "execution_count": 28,
     "metadata": {},
     "output_type": "execute_result"
    }
   ],
   "source": [
    "type(line)"
   ]
  },
  {
   "cell_type": "code",
   "execution_count": 26,
   "id": "4d3b8c94-ab06-4d23-a5ff-17a91ac97eda",
   "metadata": {},
   "outputs": [],
   "source": [
    "def extract_attribute_text(line, attrib_name, attribs):\n",
    "    offset, length = attribs[attrib_name][\"offset\"], attribs[attrib_name][\"length\"]\n",
    "    return line[2][0].text[offset:offset + length]"
   ]
  },
  {
   "cell_type": "code",
   "execution_count": 27,
   "id": "b291a34b-0db3-436a-b607-4257c18686bf",
   "metadata": {
    "colab": {
     "base_uri": "https://localhost:8080/"
    },
    "id": "b291a34b-0db3-436a-b607-4257c18686bf",
    "outputId": "fca26ff7-f031-4c54-d2b8-d707b4e2d08f"
   },
   "outputs": [
    {
     "name": "stdout",
     "output_type": "stream",
     "text": [
      "{'child_idx': 13, 'id': 'r_2', 'custom': 'readingOrder {index:1;} structure {type:heading;}'}\n",
      "{'readingOrder': {'index': '0'}}\n",
      "EXECUTIVE SURVEYS.\n",
      "{'readingOrder': {'index': '1'}, 'survey_party': {'offset': '0', 'length': '25'}}\n",
      "No. 1 TOPOGRAPHICAL PARTY.\n",
      "{'readingOrder': {'index': '2'}, 'survey_area': {'offset': '0', 'length': '32'}}\n",
      "GWALIOR AND CENTRAL INDIA SURVEY,\n",
      "{'readingOrder': {'index': '3'}}\n",
      "AND\n",
      "{'readingOrder': {'index': '4'}, 'survey_party': {'offset': '0', 'length': '25'}, 'survey_area': {'offset': '27', 'length': '17'}, 'place': {'offset': '27', 'length': '10', 'wikiData': 'Q3929733', 'placeName': 'RAJPOOTANA'}}\n",
      "No. 7 TOPOGRAPHICAL PARTY, RAJPOOTANA SURVEY.\n",
      "{'readingOrder': {'index': '5'}}\n",
      "Season 1863-64.\n",
      "{'child_idx': 14, 'id': 'r', 'custom': 'readingOrder {index:2;} structure {type:credit;}'}\n"
     ]
    },
    {
     "ename": "TypeError",
     "evalue": "slice indices must be integers or None or have an __index__ method",
     "output_type": "error",
     "traceback": [
      "\u001b[1;31m---------------------------------------------------------------------------\u001b[0m",
      "\u001b[1;31mTypeError\u001b[0m                                 Traceback (most recent call last)",
      "Cell \u001b[1;32mIn[27], line 23\u001b[0m\n\u001b[0;32m     21\u001b[0m line_attributes \u001b[38;5;241m=\u001b[39m parse_attributes(line\u001b[38;5;241m.\u001b[39mattrib\u001b[38;5;241m.\u001b[39mget(\u001b[38;5;124m\"\u001b[39m\u001b[38;5;124mcustom\u001b[39m\u001b[38;5;124m\"\u001b[39m, []))\n\u001b[0;32m     22\u001b[0m \u001b[38;5;28;01mif\u001b[39;00m \u001b[38;5;124m\"\u001b[39m\u001b[38;5;124msurvey_party\u001b[39m\u001b[38;5;124m\"\u001b[39m \u001b[38;5;129;01min\u001b[39;00m line_attributes:\n\u001b[1;32m---> 23\u001b[0m     survey_party \u001b[38;5;241m=\u001b[39m \u001b[43mextract_attribute_text\u001b[49m\u001b[43m(\u001b[49m\u001b[43mline\u001b[49m\u001b[43m,\u001b[49m\u001b[43m \u001b[49m\u001b[38;5;124;43m\"\u001b[39;49m\u001b[38;5;124;43msurvey_party\u001b[39;49m\u001b[38;5;124;43m\"\u001b[39;49m\u001b[43m,\u001b[49m\u001b[43m \u001b[49m\u001b[43mline_attributes\u001b[49m\u001b[43m)\u001b[49m\n\u001b[0;32m     24\u001b[0m \u001b[38;5;28;01mif\u001b[39;00m \u001b[38;5;124m\"\u001b[39m\u001b[38;5;124msurvey_area\u001b[39m\u001b[38;5;124m\"\u001b[39m \u001b[38;5;129;01min\u001b[39;00m line_attributes:\n\u001b[0;32m     25\u001b[0m     survey_area \u001b[38;5;241m=\u001b[39m extract_attribute_text(line, \u001b[38;5;124m\"\u001b[39m\u001b[38;5;124msurvey_area\u001b[39m\u001b[38;5;124m\"\u001b[39m, line_attributes)\n",
      "Cell \u001b[1;32mIn[26], line 3\u001b[0m, in \u001b[0;36mextract_attribute_text\u001b[1;34m(line, attrib_name, attribs)\u001b[0m\n\u001b[0;32m      1\u001b[0m \u001b[38;5;28;01mdef\u001b[39;00m \u001b[38;5;21mextract_attribute_text\u001b[39m(line, attrib_name, attribs):\n\u001b[0;32m      2\u001b[0m     offset, length \u001b[38;5;241m=\u001b[39m attribs[attrib_name][\u001b[38;5;124m\"\u001b[39m\u001b[38;5;124moffset\u001b[39m\u001b[38;5;124m\"\u001b[39m], attribs[attrib_name][\u001b[38;5;124m\"\u001b[39m\u001b[38;5;124mlength\u001b[39m\u001b[38;5;124m\"\u001b[39m]\n\u001b[1;32m----> 3\u001b[0m     \u001b[38;5;28;01mreturn\u001b[39;00m \u001b[43mline\u001b[49m\u001b[43m[\u001b[49m\u001b[38;5;241;43m2\u001b[39;49m\u001b[43m]\u001b[49m\u001b[43m[\u001b[49m\u001b[38;5;241;43m0\u001b[39;49m\u001b[43m]\u001b[49m\u001b[38;5;241;43m.\u001b[39;49m\u001b[43mtext\u001b[49m\u001b[43m[\u001b[49m\u001b[43moffset\u001b[49m\u001b[43m:\u001b[49m\u001b[43moffset\u001b[49m\u001b[43m \u001b[49m\u001b[38;5;241;43m+\u001b[39;49m\u001b[43m \u001b[49m\u001b[43mlength\u001b[49m\u001b[43m]\u001b[49m\n",
      "\u001b[1;31mTypeError\u001b[0m: slice indices must be integers or None or have an __index__ method"
     ]
    }
   ],
   "source": [
    "entities = []\n",
    "for i, region in enumerate(combined_root.iter(f\"{{{ns['page']}}}TextRegion\")):\n",
    "    if \"{type:heading;}\" in region.attrib.get(\"custom\", []):\n",
    "        print({\"child_idx\": i} | region.attrib)\n",
    "        survey_party_lines = []\n",
    "        for line in region[1:-1]:\n",
    "            line_attributes = parse_attributes(line.attrib.get(\"custom\", []))\n",
    "            print(line_attributes)\n",
    "            print(line[2][0].text)\n",
    "            if line[2][0].text and \"TOPOGRAPHICAL\" in line[2][0].text:\n",
    "                survey_party_lines.append(line[2][0].text.rstrip(\".\"))\n",
    "            elif line[2][0].text and \"SURVEY\" in line[2][0].text:\n",
    "                survey = line[2][0].text\n",
    "            elif \"Season\" in line[2][0].text:\n",
    "                season = line[2][0].text\n",
    "        survey_party = \", \".join(survey_party_lines)\n",
    "        # heading.append((region, survey_party))\n",
    "    elif \"{type:credit;}\" in region.attrib.get(\"custom\", []):\n",
    "        print({\"child_idx\": i} | region.attrib)\n",
    "        for line in region[1:-1]:  # TODO add 'continued logic'\n",
    "            line_attributes = parse_attributes(line.attrib.get(\"custom\", []))\n",
    "            if \"survey_party\" in line_attributes:\n",
    "                survey_party = extract_attribute_text(line, \"survey_party\", line_attributes)\n",
    "            if \"survey_area\" in line_attributes:\n",
    "                survey_area = extract_attribute_text(line, \"survey_area\", line_attributes)\n",
    "            if \"place\" in line_attributes:\n",
    "                place = extract_attribute_text(line, \"place\", line_attributes)\n",
    "            print(line_attributes)\n",
    "            if \"person\" in line_attributes:\n",
    "                # print(line_attributes.get(\"person\"))\n",
    "                # print(line[2][0].text)\n",
    "                entity = {}\n",
    "                for attrib in line_attributes.get(\"person\")[2:]:\n",
    "                    entity[attrib[0]] = attrib[1]\n",
    "                entity[\"survey_party\"] = survey_party\n",
    "                entity[\"survey\"] = survey\n",
    "                entity[\"season\"] = season\n",
    "                entities.append(entity)"
   ]
  },
  {
   "cell_type": "code",
   "execution_count": 82,
   "id": "9XNWkhVlcCYu",
   "metadata": {
    "colab": {
     "base_uri": "https://localhost:8080/"
    },
    "id": "9XNWkhVlcCYu",
    "outputId": "e01568b2-db9d-4eb3-c6b7-7a7783afdffd"
   },
   "outputs": [
    {
     "name": "stdout",
     "output_type": "stream",
     "text": [
      "<class 'pandas.core.frame.DataFrame'>\n",
      "RangeIndex: 83 entries, 0 to 82\n",
      "Data columns (total 7 columns):\n",
      " #   Column        Non-Null Count  Dtype \n",
      "---  ------        --------------  ----- \n",
      " 0   title         63 non-null     object\n",
      " 1   firstname     42 non-null     object\n",
      " 2   lastname      83 non-null     object\n",
      " 3   survey_party  83 non-null     object\n",
      " 4   survey        83 non-null     object\n",
      " 5   season        83 non-null     object\n",
      " 6   continued     1 non-null      object\n",
      "dtypes: object(7)\n",
      "memory usage: 4.7+ KB\n"
     ]
    }
   ],
   "source": [
    "entity_df = pd.DataFrame(entities)\n",
    "title = entity_df[\"title\"]\n",
    "entity_df = entity_df.drop(columns=\"title\")\n",
    "entity_df.insert(0, \"title\", title)\n",
    "entity_df.info()"
   ]
  },
  {
   "cell_type": "code",
   "execution_count": 83,
   "id": "13e14498-560b-4e8d-bcf9-a240961cd41c",
   "metadata": {},
   "outputs": [
    {
     "data": {
      "text/html": [
       "<div>\n",
       "<style scoped>\n",
       "    .dataframe tbody tr th:only-of-type {\n",
       "        vertical-align: middle;\n",
       "    }\n",
       "\n",
       "    .dataframe tbody tr th {\n",
       "        vertical-align: top;\n",
       "    }\n",
       "\n",
       "    .dataframe thead th {\n",
       "        text-align: right;\n",
       "    }\n",
       "</style>\n",
       "<table border=\"1\" class=\"dataframe\">\n",
       "  <thead>\n",
       "    <tr style=\"text-align: right;\">\n",
       "      <th></th>\n",
       "      <th>title</th>\n",
       "      <th>firstname</th>\n",
       "      <th>lastname</th>\n",
       "      <th>survey_party</th>\n",
       "      <th>survey</th>\n",
       "      <th>season</th>\n",
       "      <th>continued</th>\n",
       "    </tr>\n",
       "  </thead>\n",
       "  <tbody>\n",
       "    <tr>\n",
       "      <th>22</th>\n",
       "      <td>Esq</td>\n",
       "      <td>James</td>\n",
       "      <td>Mulheran</td>\n",
       "      <td>No. 2 TOPOGRAPHICAL PARTY</td>\n",
       "      <td>HYDERABAD SURVEY.</td>\n",
       "      <td>Season 1863-64.</td>\n",
       "      <td>NaN</td>\n",
       "    </tr>\n",
       "    <tr>\n",
       "      <th>23</th>\n",
       "      <td>Mr</td>\n",
       "      <td>A.</td>\n",
       "      <td>Chamarett</td>\n",
       "      <td>No. 2 TOPOGRAPHICAL PARTY</td>\n",
       "      <td>HYDERABAD SURVEY.</td>\n",
       "      <td>Season 1863-64.</td>\n",
       "      <td>NaN</td>\n",
       "    </tr>\n",
       "    <tr>\n",
       "      <th>24</th>\n",
       "      <td>Mr</td>\n",
       "      <td>A.</td>\n",
       "      <td>Chenell</td>\n",
       "      <td>No. 2 TOPOGRAPHICAL PARTY</td>\n",
       "      <td>HYDERABAD SURVEY.</td>\n",
       "      <td>Season 1863-64.</td>\n",
       "      <td>NaN</td>\n",
       "    </tr>\n",
       "    <tr>\n",
       "      <th>25</th>\n",
       "      <td>Mr</td>\n",
       "      <td>B.</td>\n",
       "      <td>Maine</td>\n",
       "      <td>No. 2 TOPOGRAPHICAL PARTY</td>\n",
       "      <td>HYDERABAD SURVEY.</td>\n",
       "      <td>Season 1863-64.</td>\n",
       "      <td>NaN</td>\n",
       "    </tr>\n",
       "    <tr>\n",
       "      <th>26</th>\n",
       "      <td>NaN</td>\n",
       "      <td>NaN</td>\n",
       "      <td>Baparno</td>\n",
       "      <td>No. 2 TOPOGRAPHICAL PARTY</td>\n",
       "      <td>HYDERABAD SURVEY.</td>\n",
       "      <td>Season 1863-64.</td>\n",
       "      <td>NaN</td>\n",
       "    </tr>\n",
       "    <tr>\n",
       "      <th>27</th>\n",
       "      <td>NaN</td>\n",
       "      <td>NaN</td>\n",
       "      <td>Mypatrao</td>\n",
       "      <td>No. 2 TOPOGRAPHICAL PARTY</td>\n",
       "      <td>HYDERABAD SURVEY.</td>\n",
       "      <td>Season 1863-64.</td>\n",
       "      <td>NaN</td>\n",
       "    </tr>\n",
       "    <tr>\n",
       "      <th>28</th>\n",
       "      <td>Mr</td>\n",
       "      <td>NaN</td>\n",
       "      <td>Smith</td>\n",
       "      <td>No. 2 TOPOGRAPHICAL PARTY</td>\n",
       "      <td>HYDERABAD SURVEY.</td>\n",
       "      <td>Season 1863-64.</td>\n",
       "      <td>NaN</td>\n",
       "    </tr>\n",
       "    <tr>\n",
       "      <th>29</th>\n",
       "      <td>NaN</td>\n",
       "      <td>NaN</td>\n",
       "      <td>Farrel</td>\n",
       "      <td>No. 2 TOPOGRAPHICAL PARTY</td>\n",
       "      <td>HYDERABAD SURVEY.</td>\n",
       "      <td>Season 1863-64.</td>\n",
       "      <td>NaN</td>\n",
       "    </tr>\n",
       "    <tr>\n",
       "      <th>30</th>\n",
       "      <td>Mr</td>\n",
       "      <td>NaN</td>\n",
       "      <td>Chennell</td>\n",
       "      <td>No. 2 TOPOGRAPHICAL PARTY</td>\n",
       "      <td>HYDERABAD SURVEY.</td>\n",
       "      <td>Season 1863-64.</td>\n",
       "      <td>NaN</td>\n",
       "    </tr>\n",
       "    <tr>\n",
       "      <th>31</th>\n",
       "      <td>Mr</td>\n",
       "      <td>NaN</td>\n",
       "      <td>Maine</td>\n",
       "      <td>No. 2 TOPOGRAPHICAL PARTY</td>\n",
       "      <td>HYDERABAD SURVEY.</td>\n",
       "      <td>Season 1863-64.</td>\n",
       "      <td>NaN</td>\n",
       "    </tr>\n",
       "    <tr>\n",
       "      <th>32</th>\n",
       "      <td>NaN</td>\n",
       "      <td>Panda</td>\n",
       "      <td>Rao</td>\n",
       "      <td>No. 2 TOPOGRAPHICAL PARTY</td>\n",
       "      <td>HYDERABAD SURVEY.</td>\n",
       "      <td>Season 1863-64.</td>\n",
       "      <td>NaN</td>\n",
       "    </tr>\n",
       "    <tr>\n",
       "      <th>33</th>\n",
       "      <td>NaN</td>\n",
       "      <td>NaN</td>\n",
       "      <td>Baparao</td>\n",
       "      <td>No. 2 TOPOGRAPHICAL PARTY</td>\n",
       "      <td>HYDERABAD SURVEY.</td>\n",
       "      <td>Season 1863-64.</td>\n",
       "      <td>NaN</td>\n",
       "    </tr>\n",
       "    <tr>\n",
       "      <th>34</th>\n",
       "      <td>NaN</td>\n",
       "      <td>NaN</td>\n",
       "      <td>Mypatrao</td>\n",
       "      <td>No. 2 TOPOGRAPHICAL PARTY</td>\n",
       "      <td>HYDERABAD SURVEY.</td>\n",
       "      <td>Season 1863-64.</td>\n",
       "      <td>NaN</td>\n",
       "    </tr>\n",
       "  </tbody>\n",
       "</table>\n",
       "</div>"
      ],
      "text/plain": [
       "   title firstname   lastname               survey_party             survey   \n",
       "22   Esq     James   Mulheran  No. 2 TOPOGRAPHICAL PARTY  HYDERABAD SURVEY.  \\\n",
       "23    Mr        A.  Chamarett  No. 2 TOPOGRAPHICAL PARTY  HYDERABAD SURVEY.   \n",
       "24    Mr        A.    Chenell  No. 2 TOPOGRAPHICAL PARTY  HYDERABAD SURVEY.   \n",
       "25    Mr        B.      Maine  No. 2 TOPOGRAPHICAL PARTY  HYDERABAD SURVEY.   \n",
       "26   NaN       NaN    Baparno  No. 2 TOPOGRAPHICAL PARTY  HYDERABAD SURVEY.   \n",
       "27   NaN       NaN   Mypatrao  No. 2 TOPOGRAPHICAL PARTY  HYDERABAD SURVEY.   \n",
       "28    Mr       NaN      Smith  No. 2 TOPOGRAPHICAL PARTY  HYDERABAD SURVEY.   \n",
       "29   NaN       NaN     Farrel  No. 2 TOPOGRAPHICAL PARTY  HYDERABAD SURVEY.   \n",
       "30    Mr       NaN   Chennell  No. 2 TOPOGRAPHICAL PARTY  HYDERABAD SURVEY.   \n",
       "31    Mr       NaN      Maine  No. 2 TOPOGRAPHICAL PARTY  HYDERABAD SURVEY.   \n",
       "32   NaN     Panda        Rao  No. 2 TOPOGRAPHICAL PARTY  HYDERABAD SURVEY.   \n",
       "33   NaN       NaN    Baparao  No. 2 TOPOGRAPHICAL PARTY  HYDERABAD SURVEY.   \n",
       "34   NaN       NaN   Mypatrao  No. 2 TOPOGRAPHICAL PARTY  HYDERABAD SURVEY.   \n",
       "\n",
       "             season continued  \n",
       "22  Season 1863-64.       NaN  \n",
       "23  Season 1863-64.       NaN  \n",
       "24  Season 1863-64.       NaN  \n",
       "25  Season 1863-64.       NaN  \n",
       "26  Season 1863-64.       NaN  \n",
       "27  Season 1863-64.       NaN  \n",
       "28  Season 1863-64.       NaN  \n",
       "29  Season 1863-64.       NaN  \n",
       "30  Season 1863-64.       NaN  \n",
       "31  Season 1863-64.       NaN  \n",
       "32  Season 1863-64.       NaN  \n",
       "33  Season 1863-64.       NaN  \n",
       "34  Season 1863-64.       NaN  "
      ]
     },
     "execution_count": 83,
     "metadata": {},
     "output_type": "execute_result"
    }
   ],
   "source": [
    "entity_df.query(\"survey_party == 'No. 2 TOPOGRAPHICAL PARTY'\")"
   ]
  },
  {
   "cell_type": "code",
   "execution_count": 78,
   "id": "e1c6b6f1-9302-4835-9e02-8227269a7f04",
   "metadata": {},
   "outputs": [
    {
     "data": {
      "text/plain": [
       "array(['No. 1 TOPOGRAPHICAL PARTY, No. 7 TOPOGRAPHICAL PARTY, RAJPOOTANA SURVEY',\n",
       "       'No. 2 TOPOGRAPHICAL PARTY', 'No. 3 TOPOGRAPHICAL PARTY',\n",
       "       'No. 4 TOPOGRAPHICAL PARTY', 'No. 5 TOPOGRAPHICAL PARTY',\n",
       "       'No. 6 TOPOGRAPHICAL SURVEY', 'No. 7 TOPOGRAPHICAL PARTY',\n",
       "       'No. 8 TOPOGRAPHICAL PARTY'], dtype=object)"
      ]
     },
     "execution_count": 78,
     "metadata": {},
     "output_type": "execute_result"
    }
   ],
   "source": [
    "entity_df[\"survey_party\"].unique()"
   ]
  },
  {
   "cell_type": "markdown",
   "id": "qRHQO6Zp1d3m",
   "metadata": {
    "id": "qRHQO6Zp1d3m"
   },
   "source": [
    "### Find Person"
   ]
  },
  {
   "cell_type": "code",
   "execution_count": 12,
   "id": "ZaIuwQM61jen",
   "metadata": {
    "colab": {
     "base_uri": "https://localhost:8080/"
    },
    "id": "ZaIuwQM61jen",
    "outputId": "ff763c01-c0bd-4f68-e416-d52d2647fee7"
   },
   "outputs": [
    {
     "name": "stdout",
     "output_type": "stream",
     "text": [
      "{'id': 'r_2', 'custom': 'readingOrder {index:3;} structure {type:credit;}'}\n",
      "PERSONNEL.\n",
      "{'id': 'r_3', 'custom': 'readingOrder {index:1;} structure {type:credit;}'}\n",
      "No. 1 PARTY.\n",
      "{'id': 'r_3', 'custom': 'readingOrder {index:2;} structure {type:credit;}'}\n",
      "PERSONNEL.\n",
      "{'id': 'r_4', 'custom': 'readingOrder {index:3;} structure {type:credit;}'}\n",
      "Square miles.\n",
      "{'id': 'r_5', 'custom': 'readingOrder {index:2;} structure {type:credit;}'}\n",
      "Square miles.\n",
      "{'id': 'r_4', 'custom': 'readingOrder {index:3;} structure {type:credit;}'}\n",
      "PERSONNEL.\n",
      "{'id': 'r_9', 'custom': 'readingOrder {index:2;} structure {type:credit;}'}\n",
      "PERSONNEL.\n",
      "{'id': 'r_10', 'custom': 'readingOrder {index:3;} structure {type:credit;}'}\n",
      "Mr. McGill,\n",
      "{'id': 'r_4', 'custom': 'readingOrder {index:2;} structure {type:credit;}'}\n",
      "PERSONNEL.\n",
      "{'id': 'r_5', 'custom': 'readingOrder {index:3;} structure {type:credit;}'}\n",
      "Square miles\n",
      "{'id': 'r_4', 'custom': 'readingOrder {index:3;} structure {type:credit;}'}\n",
      "PERSONNEL.\n",
      "{'id': 'r_5', 'custom': 'readingOrder {index:4;} structure {type:credit;}'}\n",
      "Mr. Atkinson, ... 40\n",
      "{'id': 'r_7', 'custom': 'readingOrder {index:5;} structure {type:credit;}'}\n",
      "PERSONNEL.\n",
      "{'id': 'r_3', 'custom': 'readingOrder {index:2;} structure {type:credit;}'}\n",
      "W. Crossley and Jas. Mackenzie.\n",
      "{'id': 'r_3', 'custom': 'readingOrder {index:1;} structure {type:credit;}'}\n",
      "Mr. D. Atkinson,\n",
      "{'id': 'r_4', 'custom': 'readingOrder {index:2;} structure {type:credit;}'}\n",
      "Mr. R. W. Chew.\n",
      "{'id': 'r_5', 'custom': 'readingOrder {index:3;} structure {type:credit;}'}\n",
      "Mr. J. Harper.\n",
      "{'id': 'r_6', 'custom': 'readingOrder {index:4;} structure {type:credit;}'}\n",
      "Mr. Adams.\n",
      "{'id': 'r', 'custom': 'readingOrder {index:1;} structure {type:credit;}'}\n",
      "Mr. J. A. May.\n",
      "{'id': 'r_3', 'custom': 'readingOrder {index:2;} structure {type:credit;}'}\n",
      "Mr. Rayner, and Mr.\n",
      "{'id': 'r_4', 'custom': 'readingOrder {index:3;} structure {type:credit;}'}\n",
      "Abdul Rahman.\n",
      "{'id': 'r_5', 'custom': 'readingOrder {index:4;} structure {type:credit;}'}\n",
      "Hediatoollah.\n",
      "{'id': 'r', 'custom': 'readingOrder {index:1;} structure {type:credit;}'}\n",
      "Mr. Apothecary\n",
      "{'id': 'r_8', 'custom': 'readingOrder {index:2;} structure {type:credit;}'}\n",
      "1ST CLASS, \n",
      "{'id': 'r', 'custom': 'readingOrder {index:2;} structure {type:credit;}'}\n",
      "Mr. F. B. Girdlestone. \n",
      "{'id': 'r_5', 'custom': 'readingOrder {index:2;} structure {type:credit;}'}\n",
      "﻿Obligatory\n"
     ]
    }
   ],
   "source": [
    "# TODO Some credit sections are tables of square miles covered, these are poorly OCR'd and have been downloaded as separate tables\n",
    "# Find a way to exclude these sections from network analysis\n",
    "\n",
    "credits = []\n",
    "for i, child in enumerate(combined_root.iter(\"{http://schema.primaresearch.org/PAGE/gts/pagecontent/2013-07-15}TextRegion\")):\n",
    "  if \"structure {type:credit;}\" in child.attrib.get(\"custom\", []):\n",
    "    print(child.attrib)\n",
    "    try:\n",
    "      print(child[1][2][0].text)\n",
    "      credits.append(child)\n",
    "    except IndexError:\n",
    "      print(\"Error in Credit {i}\")\n",
    "    # if child.tag.split(\"}\")[1] == \"Page\":\n",
    "    #     for region in child:\n",
    "    #         if \"structure {type:credit;}\" in region.attrib.get(\"custom\", []):\n",
    "    #             credits.append(region)"
   ]
  },
  {
   "cell_type": "markdown",
   "id": "bebc97bf-5e19-4254-82bb-2ebc31b8e25a",
   "metadata": {
    "id": "45zAzSowdziP"
   },
   "source": [
    "### Extract person attributes"
   ]
  },
  {
   "cell_type": "code",
   "execution_count": null,
   "id": "e5265f6b-a0ce-4ef0-92e2-ca564bee3fa7",
   "metadata": {},
   "outputs": [],
   "source": [
    "credits = []"
   ]
  },
  {
   "cell_type": "code",
   "execution_count": 14,
   "id": "cOhQNOaa3vAL",
   "metadata": {
    "colab": {
     "base_uri": "https://localhost:8080/"
    },
    "id": "cOhQNOaa3vAL",
    "outputId": "f66bf943-89a2-4e89-8d43-7d070595d6f2"
   },
   "outputs": [
    {
     "ename": "TypeError",
     "evalue": "'_Printer' object is not subscriptable",
     "output_type": "error",
     "traceback": [
      "\u001b[1;31m---------------------------------------------------------------------------\u001b[0m",
      "\u001b[1;31mTypeError\u001b[0m                                 Traceback (most recent call last)",
      "Cell \u001b[1;32mIn[14], line 1\u001b[0m\n\u001b[1;32m----> 1\u001b[0m \u001b[38;5;28;01mfor\u001b[39;00m line \u001b[38;5;129;01min\u001b[39;00m \u001b[43mcredits\u001b[49m\u001b[43m[\u001b[49m\u001b[38;5;241;43m0\u001b[39;49m\u001b[43m]\u001b[49m\u001b[38;5;241m.\u001b[39miter(\u001b[38;5;124m\"\u001b[39m\u001b[38;5;124m{\u001b[39m\u001b[38;5;124mhttp://schema.primaresearch.org/PAGE/gts/pagecontent/2013-07-15}TextLine\u001b[39m\u001b[38;5;124m\"\u001b[39m):\n\u001b[0;32m      2\u001b[0m   line_attributes \u001b[38;5;241m=\u001b[39m parse_attributes(line\u001b[38;5;241m.\u001b[39mattrib\u001b[38;5;241m.\u001b[39mget(\u001b[38;5;124m\"\u001b[39m\u001b[38;5;124mcustom\u001b[39m\u001b[38;5;124m\"\u001b[39m, []))\n\u001b[0;32m      3\u001b[0m   \u001b[38;5;28;01mif\u001b[39;00m \u001b[38;5;124m\"\u001b[39m\u001b[38;5;124mperson\u001b[39m\u001b[38;5;124m\"\u001b[39m \u001b[38;5;129;01min\u001b[39;00m line_attributes:\n",
      "\u001b[1;31mTypeError\u001b[0m: '_Printer' object is not subscriptable"
     ]
    }
   ],
   "source": [
    "for line in credits[0].iter(\"{http://schema.primaresearch.org/PAGE/gts/pagecontent/2013-07-15}TextLine\"):\n",
    "    line_attributes = parse_attributes(line.attrib.get(\"custom\", []))\n",
    "    if \"person\" in line_attributes:\n",
    "        print(line_attributes.get(\"person\"))\n",
    "        print(line[2][0].text)\n",
    "        entity = {}\n",
    "        for attrib in line_attributes.get(\"person\")[2:]:\n",
    "          entity[attrib[0]] = attrib[1]\n",
    "        entities.append(entity)"
   ]
  },
  {
   "cell_type": "markdown",
   "id": "ODPxiDJtdZXJ",
   "metadata": {
    "id": "ODPxiDJtdZXJ"
   },
   "source": [
    "### Create entities list"
   ]
  },
  {
   "cell_type": "code",
   "execution_count": 15,
   "id": "JnBPakQkAx00",
   "metadata": {
    "id": "JnBPakQkAx00"
   },
   "outputs": [],
   "source": [
    "entities = []"
   ]
  },
  {
   "cell_type": "markdown",
   "id": "NKXHYb8KfnX2",
   "metadata": {
    "id": "NKXHYb8KfnX2"
   },
   "source": [
    "### List entities"
   ]
  },
  {
   "cell_type": "code",
   "execution_count": 17,
   "id": "52GyJ95gFmto",
   "metadata": {
    "colab": {
     "base_uri": "https://localhost:8080/"
    },
    "id": "52GyJ95gFmto",
    "outputId": "e59c8dc5-89db-4a43-f1b2-c183869b5568"
   },
   "outputs": [
    {
     "data": {
      "text/plain": [
       "[{'firstname': 'G.', 'title': 'Lieut.', 'lastname': 'Strahan'},\n",
       " {'firstname': 'C.', 'title': 'Lieut.', 'lastname': 'Strahan'},\n",
       " {'firstname': 'H.', 'title': 'Mr.', 'lastname': 'Horst'},\n",
       " {'firstname': 'G.', 'title': 'Mr.', 'lastname': 'Chill'},\n",
       " {'firstname': 'W.', 'title': 'Mr.', 'lastname': 'Chapman'},\n",
       " {'firstname': 'G.', 'title': 'Mr.', 'lastname': 'McCarthy'},\n",
       " {'firstname': 'J.', 'title': 'Mr.', 'lastname': 'Hussey'},\n",
       " {'firstname': 'R.', 'title': 'Mr.', 'lastname': 'Todd'},\n",
       " {'firstname': 'C.', 'title': 'Mr.', 'lastname': 'Tapsell'},\n",
       " {'firstname': 'F.', 'title': 'Mr.', 'lastname': 'Kitchen'},\n",
       " {'firstname': 'C.', 'title': 'Mr.', 'lastname': 'Kirk'},\n",
       " {'firstname': 'W.', 'title': 'Mr.', 'lastname': 'Stotesbury'},\n",
       " {'lastname': 'Chooramun'},\n",
       " {'firstname': 'Hurlall', 'lastname': 'Singh'}]"
      ]
     },
     "execution_count": 17,
     "metadata": {},
     "output_type": "execute_result"
    }
   ],
   "source": [
    "entities"
   ]
  },
  {
   "cell_type": "markdown",
   "id": "b5xFOvWweC6-",
   "metadata": {
    "id": "b5xFOvWweC6-"
   },
   "source": [
    "### Extract entities to data frame"
   ]
  },
  {
   "cell_type": "code",
   "execution_count": 18,
   "id": "jfXvgEvjGgRB",
   "metadata": {
    "colab": {
     "base_uri": "https://localhost:8080/",
     "height": 488
    },
    "id": "jfXvgEvjGgRB",
    "outputId": "1892cdbc-e322-4f60-e5a9-9a45d9779487"
   },
   "outputs": [
    {
     "data": {
      "application/vnd.google.colaboratory.intrinsic+json": {
       "summary": "{\n  \"name\": \"pd\",\n  \"rows\": 14,\n  \"fields\": [\n    {\n      \"column\": \"firstname\",\n      \"properties\": {\n        \"dtype\": \"string\",\n        \"num_unique_values\": 8,\n        \"samples\": [\n          \"C.\",\n          \"R.\",\n          \"G.\"\n        ],\n        \"semantic_type\": \"\",\n        \"description\": \"\"\n      }\n    },\n    {\n      \"column\": \"title\",\n      \"properties\": {\n        \"dtype\": \"category\",\n        \"num_unique_values\": 2,\n        \"samples\": [\n          \"Mr.\",\n          \"Lieut.\"\n        ],\n        \"semantic_type\": \"\",\n        \"description\": \"\"\n      }\n    },\n    {\n      \"column\": \"lastname\",\n      \"properties\": {\n        \"dtype\": \"string\",\n        \"num_unique_values\": 13,\n        \"samples\": [\n          \"Chooramun\",\n          \"Kirk\"\n        ],\n        \"semantic_type\": \"\",\n        \"description\": \"\"\n      }\n    }\n  ]\n}",
       "type": "dataframe"
      },
      "text/html": [
       "\n",
       "  <div id=\"df-836137d9-45a4-4f7d-854e-b2be3dac0972\" class=\"colab-df-container\">\n",
       "    <div>\n",
       "<style scoped>\n",
       "    .dataframe tbody tr th:only-of-type {\n",
       "        vertical-align: middle;\n",
       "    }\n",
       "\n",
       "    .dataframe tbody tr th {\n",
       "        vertical-align: top;\n",
       "    }\n",
       "\n",
       "    .dataframe thead th {\n",
       "        text-align: right;\n",
       "    }\n",
       "</style>\n",
       "<table border=\"1\" class=\"dataframe\">\n",
       "  <thead>\n",
       "    <tr style=\"text-align: right;\">\n",
       "      <th></th>\n",
       "      <th>firstname</th>\n",
       "      <th>title</th>\n",
       "      <th>lastname</th>\n",
       "    </tr>\n",
       "  </thead>\n",
       "  <tbody>\n",
       "    <tr>\n",
       "      <th>0</th>\n",
       "      <td>G.</td>\n",
       "      <td>Lieut.</td>\n",
       "      <td>Strahan</td>\n",
       "    </tr>\n",
       "    <tr>\n",
       "      <th>1</th>\n",
       "      <td>C.</td>\n",
       "      <td>Lieut.</td>\n",
       "      <td>Strahan</td>\n",
       "    </tr>\n",
       "    <tr>\n",
       "      <th>2</th>\n",
       "      <td>H.</td>\n",
       "      <td>Mr.</td>\n",
       "      <td>Horst</td>\n",
       "    </tr>\n",
       "    <tr>\n",
       "      <th>3</th>\n",
       "      <td>G.</td>\n",
       "      <td>Mr.</td>\n",
       "      <td>Chill</td>\n",
       "    </tr>\n",
       "    <tr>\n",
       "      <th>4</th>\n",
       "      <td>W.</td>\n",
       "      <td>Mr.</td>\n",
       "      <td>Chapman</td>\n",
       "    </tr>\n",
       "    <tr>\n",
       "      <th>5</th>\n",
       "      <td>G.</td>\n",
       "      <td>Mr.</td>\n",
       "      <td>McCarthy</td>\n",
       "    </tr>\n",
       "    <tr>\n",
       "      <th>6</th>\n",
       "      <td>J.</td>\n",
       "      <td>Mr.</td>\n",
       "      <td>Hussey</td>\n",
       "    </tr>\n",
       "    <tr>\n",
       "      <th>7</th>\n",
       "      <td>R.</td>\n",
       "      <td>Mr.</td>\n",
       "      <td>Todd</td>\n",
       "    </tr>\n",
       "    <tr>\n",
       "      <th>8</th>\n",
       "      <td>C.</td>\n",
       "      <td>Mr.</td>\n",
       "      <td>Tapsell</td>\n",
       "    </tr>\n",
       "    <tr>\n",
       "      <th>9</th>\n",
       "      <td>F.</td>\n",
       "      <td>Mr.</td>\n",
       "      <td>Kitchen</td>\n",
       "    </tr>\n",
       "    <tr>\n",
       "      <th>10</th>\n",
       "      <td>C.</td>\n",
       "      <td>Mr.</td>\n",
       "      <td>Kirk</td>\n",
       "    </tr>\n",
       "    <tr>\n",
       "      <th>11</th>\n",
       "      <td>W.</td>\n",
       "      <td>Mr.</td>\n",
       "      <td>Stotesbury</td>\n",
       "    </tr>\n",
       "    <tr>\n",
       "      <th>12</th>\n",
       "      <td>NaN</td>\n",
       "      <td>NaN</td>\n",
       "      <td>Chooramun</td>\n",
       "    </tr>\n",
       "    <tr>\n",
       "      <th>13</th>\n",
       "      <td>Hurlall</td>\n",
       "      <td>NaN</td>\n",
       "      <td>Singh</td>\n",
       "    </tr>\n",
       "  </tbody>\n",
       "</table>\n",
       "</div>\n",
       "    <div class=\"colab-df-buttons\">\n",
       "\n",
       "  <div class=\"colab-df-container\">\n",
       "    <button class=\"colab-df-convert\" onclick=\"convertToInteractive('df-836137d9-45a4-4f7d-854e-b2be3dac0972')\"\n",
       "            title=\"Convert this dataframe to an interactive table.\"\n",
       "            style=\"display:none;\">\n",
       "\n",
       "  <svg xmlns=\"http://www.w3.org/2000/svg\" height=\"24px\" viewBox=\"0 -960 960 960\">\n",
       "    <path d=\"M120-120v-720h720v720H120Zm60-500h600v-160H180v160Zm220 220h160v-160H400v160Zm0 220h160v-160H400v160ZM180-400h160v-160H180v160Zm440 0h160v-160H620v160ZM180-180h160v-160H180v160Zm440 0h160v-160H620v160Z\"/>\n",
       "  </svg>\n",
       "    </button>\n",
       "\n",
       "  <style>\n",
       "    .colab-df-container {\n",
       "      display:flex;\n",
       "      gap: 12px;\n",
       "    }\n",
       "\n",
       "    .colab-df-convert {\n",
       "      background-color: #E8F0FE;\n",
       "      border: none;\n",
       "      border-radius: 50%;\n",
       "      cursor: pointer;\n",
       "      display: none;\n",
       "      fill: #1967D2;\n",
       "      height: 32px;\n",
       "      padding: 0 0 0 0;\n",
       "      width: 32px;\n",
       "    }\n",
       "\n",
       "    .colab-df-convert:hover {\n",
       "      background-color: #E2EBFA;\n",
       "      box-shadow: 0px 1px 2px rgba(60, 64, 67, 0.3), 0px 1px 3px 1px rgba(60, 64, 67, 0.15);\n",
       "      fill: #174EA6;\n",
       "    }\n",
       "\n",
       "    .colab-df-buttons div {\n",
       "      margin-bottom: 4px;\n",
       "    }\n",
       "\n",
       "    [theme=dark] .colab-df-convert {\n",
       "      background-color: #3B4455;\n",
       "      fill: #D2E3FC;\n",
       "    }\n",
       "\n",
       "    [theme=dark] .colab-df-convert:hover {\n",
       "      background-color: #434B5C;\n",
       "      box-shadow: 0px 1px 3px 1px rgba(0, 0, 0, 0.15);\n",
       "      filter: drop-shadow(0px 1px 2px rgba(0, 0, 0, 0.3));\n",
       "      fill: #FFFFFF;\n",
       "    }\n",
       "  </style>\n",
       "\n",
       "    <script>\n",
       "      const buttonEl =\n",
       "        document.querySelector('#df-836137d9-45a4-4f7d-854e-b2be3dac0972 button.colab-df-convert');\n",
       "      buttonEl.style.display =\n",
       "        google.colab.kernel.accessAllowed ? 'block' : 'none';\n",
       "\n",
       "      async function convertToInteractive(key) {\n",
       "        const element = document.querySelector('#df-836137d9-45a4-4f7d-854e-b2be3dac0972');\n",
       "        const dataTable =\n",
       "          await google.colab.kernel.invokeFunction('convertToInteractive',\n",
       "                                                    [key], {});\n",
       "        if (!dataTable) return;\n",
       "\n",
       "        const docLinkHtml = 'Like what you see? Visit the ' +\n",
       "          '<a target=\"_blank\" href=https://colab.research.google.com/notebooks/data_table.ipynb>data table notebook</a>'\n",
       "          + ' to learn more about interactive tables.';\n",
       "        element.innerHTML = '';\n",
       "        dataTable['output_type'] = 'display_data';\n",
       "        await google.colab.output.renderOutput(dataTable, element);\n",
       "        const docLink = document.createElement('div');\n",
       "        docLink.innerHTML = docLinkHtml;\n",
       "        element.appendChild(docLink);\n",
       "      }\n",
       "    </script>\n",
       "  </div>\n",
       "\n",
       "\n",
       "    <div id=\"df-13d78cc0-547e-44a4-b60c-abba3f5e8ace\">\n",
       "      <button class=\"colab-df-quickchart\" onclick=\"quickchart('df-13d78cc0-547e-44a4-b60c-abba3f5e8ace')\"\n",
       "                title=\"Suggest charts\"\n",
       "                style=\"display:none;\">\n",
       "\n",
       "<svg xmlns=\"http://www.w3.org/2000/svg\" height=\"24px\"viewBox=\"0 0 24 24\"\n",
       "     width=\"24px\">\n",
       "    <g>\n",
       "        <path d=\"M19 3H5c-1.1 0-2 .9-2 2v14c0 1.1.9 2 2 2h14c1.1 0 2-.9 2-2V5c0-1.1-.9-2-2-2zM9 17H7v-7h2v7zm4 0h-2V7h2v10zm4 0h-2v-4h2v4z\"/>\n",
       "    </g>\n",
       "</svg>\n",
       "      </button>\n",
       "\n",
       "<style>\n",
       "  .colab-df-quickchart {\n",
       "      --bg-color: #E8F0FE;\n",
       "      --fill-color: #1967D2;\n",
       "      --hover-bg-color: #E2EBFA;\n",
       "      --hover-fill-color: #174EA6;\n",
       "      --disabled-fill-color: #AAA;\n",
       "      --disabled-bg-color: #DDD;\n",
       "  }\n",
       "\n",
       "  [theme=dark] .colab-df-quickchart {\n",
       "      --bg-color: #3B4455;\n",
       "      --fill-color: #D2E3FC;\n",
       "      --hover-bg-color: #434B5C;\n",
       "      --hover-fill-color: #FFFFFF;\n",
       "      --disabled-bg-color: #3B4455;\n",
       "      --disabled-fill-color: #666;\n",
       "  }\n",
       "\n",
       "  .colab-df-quickchart {\n",
       "    background-color: var(--bg-color);\n",
       "    border: none;\n",
       "    border-radius: 50%;\n",
       "    cursor: pointer;\n",
       "    display: none;\n",
       "    fill: var(--fill-color);\n",
       "    height: 32px;\n",
       "    padding: 0;\n",
       "    width: 32px;\n",
       "  }\n",
       "\n",
       "  .colab-df-quickchart:hover {\n",
       "    background-color: var(--hover-bg-color);\n",
       "    box-shadow: 0 1px 2px rgba(60, 64, 67, 0.3), 0 1px 3px 1px rgba(60, 64, 67, 0.15);\n",
       "    fill: var(--button-hover-fill-color);\n",
       "  }\n",
       "\n",
       "  .colab-df-quickchart-complete:disabled,\n",
       "  .colab-df-quickchart-complete:disabled:hover {\n",
       "    background-color: var(--disabled-bg-color);\n",
       "    fill: var(--disabled-fill-color);\n",
       "    box-shadow: none;\n",
       "  }\n",
       "\n",
       "  .colab-df-spinner {\n",
       "    border: 2px solid var(--fill-color);\n",
       "    border-color: transparent;\n",
       "    border-bottom-color: var(--fill-color);\n",
       "    animation:\n",
       "      spin 1s steps(1) infinite;\n",
       "  }\n",
       "\n",
       "  @keyframes spin {\n",
       "    0% {\n",
       "      border-color: transparent;\n",
       "      border-bottom-color: var(--fill-color);\n",
       "      border-left-color: var(--fill-color);\n",
       "    }\n",
       "    20% {\n",
       "      border-color: transparent;\n",
       "      border-left-color: var(--fill-color);\n",
       "      border-top-color: var(--fill-color);\n",
       "    }\n",
       "    30% {\n",
       "      border-color: transparent;\n",
       "      border-left-color: var(--fill-color);\n",
       "      border-top-color: var(--fill-color);\n",
       "      border-right-color: var(--fill-color);\n",
       "    }\n",
       "    40% {\n",
       "      border-color: transparent;\n",
       "      border-right-color: var(--fill-color);\n",
       "      border-top-color: var(--fill-color);\n",
       "    }\n",
       "    60% {\n",
       "      border-color: transparent;\n",
       "      border-right-color: var(--fill-color);\n",
       "    }\n",
       "    80% {\n",
       "      border-color: transparent;\n",
       "      border-right-color: var(--fill-color);\n",
       "      border-bottom-color: var(--fill-color);\n",
       "    }\n",
       "    90% {\n",
       "      border-color: transparent;\n",
       "      border-bottom-color: var(--fill-color);\n",
       "    }\n",
       "  }\n",
       "</style>\n",
       "\n",
       "      <script>\n",
       "        async function quickchart(key) {\n",
       "          const quickchartButtonEl =\n",
       "            document.querySelector('#' + key + ' button');\n",
       "          quickchartButtonEl.disabled = true;  // To prevent multiple clicks.\n",
       "          quickchartButtonEl.classList.add('colab-df-spinner');\n",
       "          try {\n",
       "            const charts = await google.colab.kernel.invokeFunction(\n",
       "                'suggestCharts', [key], {});\n",
       "          } catch (error) {\n",
       "            console.error('Error during call to suggestCharts:', error);\n",
       "          }\n",
       "          quickchartButtonEl.classList.remove('colab-df-spinner');\n",
       "          quickchartButtonEl.classList.add('colab-df-quickchart-complete');\n",
       "        }\n",
       "        (() => {\n",
       "          let quickchartButtonEl =\n",
       "            document.querySelector('#df-13d78cc0-547e-44a4-b60c-abba3f5e8ace button');\n",
       "          quickchartButtonEl.style.display =\n",
       "            google.colab.kernel.accessAllowed ? 'block' : 'none';\n",
       "        })();\n",
       "      </script>\n",
       "    </div>\n",
       "\n",
       "    </div>\n",
       "  </div>\n"
      ],
      "text/plain": [
       "   firstname   title    lastname\n",
       "0         G.  Lieut.     Strahan\n",
       "1         C.  Lieut.     Strahan\n",
       "2         H.     Mr.       Horst\n",
       "3         G.     Mr.       Chill\n",
       "4         W.     Mr.     Chapman\n",
       "5         G.     Mr.    McCarthy\n",
       "6         J.     Mr.      Hussey\n",
       "7         R.     Mr.        Todd\n",
       "8         C.     Mr.     Tapsell\n",
       "9         F.     Mr.     Kitchen\n",
       "10        C.     Mr.        Kirk\n",
       "11        W.     Mr.  Stotesbury\n",
       "12       NaN     NaN   Chooramun\n",
       "13   Hurlall     NaN       Singh"
      ]
     },
     "execution_count": 18,
     "metadata": {},
     "output_type": "execute_result"
    }
   ],
   "source": [
    "pd.DataFrame(entities)"
   ]
  },
  {
   "cell_type": "markdown",
   "id": "0e4PhARJUK5J",
   "metadata": {
    "id": "0e4PhARJUK5J"
   },
   "source": [
    "# Redundant Cells"
   ]
  },
  {
   "cell_type": "markdown",
   "id": "6yHDK98cSkeF",
   "metadata": {
    "id": "6yHDK98cSkeF"
   },
   "source": [
    "### Parse report date"
   ]
  },
  {
   "cell_type": "code",
   "execution_count": null,
   "id": "Ejzx3PJySt4k",
   "metadata": {
    "id": "Ejzx3PJySt4k"
   },
   "outputs": [],
   "source": []
  },
  {
   "cell_type": "markdown",
   "id": "xC5oCJjlSJ9H",
   "metadata": {
    "id": "xC5oCJjlSJ9H"
   },
   "source": [
    "### Parse name"
   ]
  },
  {
   "cell_type": "code",
   "execution_count": null,
   "id": "b97df8a9-b5be-4a6e-a5ee-84b0fd811a28",
   "metadata": {
    "id": "b97df8a9-b5be-4a6e-a5ee-84b0fd811a28"
   },
   "outputs": [],
   "source": [
    "def parse_xml_attrib(s):\n",
    "    return re.findall(r\"(?<attr_name>\\w*)\\s\\(?<attr_value>{[\\w:\\s\\d]*;\\})\", s)"
   ]
  },
  {
   "cell_type": "code",
   "execution_count": null,
   "id": "083b814d-5b2f-428d-a9e6-ca213e507955",
   "metadata": {
    "colab": {
     "base_uri": "https://localhost:8080/",
     "height": 36
    },
    "id": "083b814d-5b2f-428d-a9e6-ca213e507955",
    "outputId": "5712a918-2490-4038-f2e1-b498da9d71ee"
   },
   "outputs": [
    {
     "data": {
      "application/vnd.google.colaboratory.intrinsic+json": {
       "type": "string"
      },
      "text/plain": [
       "'readingOrder {index:2;} Role {offset:0; length:18; continued:true;title:Executive\\\\u0020Officer\\\\u0020in\\\\u0020Charge;}'"
      ]
     },
     "execution_count": 66,
     "metadata": {},
     "output_type": "execute_result"
    }
   ],
   "source": [
    "s = credits[0][3].attrib[\"custom\"]\n",
    "s"
   ]
  },
  {
   "cell_type": "code",
   "execution_count": null,
   "id": "62a55765-eadb-4907-bb2e-1aeb1e24f4f9",
   "metadata": {
    "colab": {
     "base_uri": "https://localhost:8080/"
    },
    "id": "62a55765-eadb-4907-bb2e-1aeb1e24f4f9",
    "outputId": "ca1b8093-ef64-4b5b-bad0-ee476463b3ca"
   },
   "outputs": [
    {
     "data": {
      "text/plain": [
       "[('readingOrder', '{index:2;}')]"
      ]
     },
     "execution_count": 67,
     "metadata": {},
     "output_type": "execute_result"
    }
   ],
   "source": [
    "re.findall(r\"(?P<attr_name>\\w*)\\s(?P<attr_value>\\{[\\w:;\\s\\d]*;\\})\", s)"
   ]
  },
  {
   "cell_type": "markdown",
   "id": "gsP1Qdy5NbO6",
   "metadata": {
    "id": "gsP1Qdy5NbO6"
   },
   "source": [
    "## Define pages to delete with path"
   ]
  },
  {
   "cell_type": "code",
   "execution_count": null,
   "id": "Ka87o-aIi3YW",
   "metadata": {
    "id": "Ka87o-aIi3YW"
   },
   "outputs": [],
   "source": [
    "pages_to_delete = glob.glob(\"sample_data/00*.xml\")"
   ]
  },
  {
   "cell_type": "code",
   "execution_count": null,
   "id": "Z75BDAwJjEV9",
   "metadata": {
    "id": "Z75BDAwJjEV9"
   },
   "outputs": [],
   "source": [
    "for page in pages_to_delete:\n",
    "  os.remove(page)"
   ]
  },
  {
   "cell_type": "markdown",
   "id": "A39u437dYkmn",
   "metadata": {
    "id": "A39u437dYkmn"
   },
   "source": [
    "## Split filename string demo"
   ]
  },
  {
   "cell_type": "code",
   "execution_count": null,
   "id": "C1ZnfsfwkTon",
   "metadata": {
    "colab": {
     "base_uri": "https://localhost:8080/"
    },
    "id": "C1ZnfsfwkTon",
    "outputId": "47e033ea-5e04-4e5c-f36e-1272d3e55b3f"
   },
   "outputs": [
    {
     "data": {
      "text/plain": [
       "9"
      ]
     },
     "execution_count": 70,
     "metadata": {},
     "output_type": "execute_result"
    }
   ],
   "source": [
    "int(pages[7].split(\"/\")[-1].split(\"_\")[0])"
   ]
  },
  {
   "cell_type": "markdown",
   "id": "4ueph3QSbD77",
   "metadata": {
    "id": "4ueph3QSbD77"
   },
   "source": [
    "## Print integer demo"
   ]
  },
  {
   "cell_type": "code",
   "execution_count": null,
   "id": "kGDzunSvtU8Z",
   "metadata": {
    "colab": {
     "base_uri": "https://localhost:8080/"
    },
    "id": "kGDzunSvtU8Z",
    "outputId": "3d28fe9d-064a-4f37-df04-52bea432db6c"
   },
   "outputs": [
    {
     "name": "stdout",
     "output_type": "stream",
     "text": [
      "0\n",
      "1\n",
      "2\n",
      "3\n",
      "4\n"
     ]
    }
   ],
   "source": [
    "for i in [0,1,2,3,4]:\n",
    "  print(i)"
   ]
  },
  {
   "cell_type": "markdown",
   "id": "aR2LPHuwddKL",
   "metadata": {
    "id": "aR2LPHuwddKL"
   },
   "source": [
    "## Print children demo"
   ]
  },
  {
   "cell_type": "code",
   "execution_count": null,
   "id": "jQUagjoNU7Qv",
   "metadata": {
    "id": "jQUagjoNU7Qv"
   },
   "outputs": [],
   "source": []
  },
  {
   "cell_type": "code",
   "execution_count": null,
   "id": "6ecb67b2-f82d-42b8-a75d-8f9aaec82185",
   "metadata": {
    "colab": {
     "base_uri": "https://localhost:8080/"
    },
    "id": "6ecb67b2-f82d-42b8-a75d-8f9aaec82185",
    "outputId": "9d5bc793-b94b-480f-d587-9425bb1950e3"
   },
   "outputs": [
    {
     "name": "stdout",
     "output_type": "stream",
     "text": [
      "<Element '{http://schema.primaresearch.org/PAGE/gts/pagecontent/2013-07-15}Metadata' at 0x7d80ff3149f0>\n",
      "<Element '{http://schema.primaresearch.org/PAGE/gts/pagecontent/2013-07-15}Page' at 0x7d80ffa48bd0>\n",
      "<Element '{http://schema.primaresearch.org/PAGE/gts/pagecontent/2013-07-15}Metadata' at 0x7d80fefe0310>\n",
      "<Element '{http://schema.primaresearch.org/PAGE/gts/pagecontent/2013-07-15}Page' at 0x7d80fefe0540>\n",
      "<Element '{http://schema.primaresearch.org/PAGE/gts/pagecontent/2013-07-15}Metadata' at 0x7d80feff5490>\n",
      "<Element '{http://schema.primaresearch.org/PAGE/gts/pagecontent/2013-07-15}Page' at 0x7d80feff56c0>\n",
      "<Element '{http://schema.primaresearch.org/PAGE/gts/pagecontent/2013-07-15}Metadata' at 0x7d80ff007880>\n",
      "<Element '{http://schema.primaresearch.org/PAGE/gts/pagecontent/2013-07-15}Page' at 0x7d80ff007ab0>\n",
      "<Element '{http://schema.primaresearch.org/PAGE/gts/pagecontent/2013-07-15}Metadata' at 0x7d80ff01c4a0>\n",
      "<Element '{http://schema.primaresearch.org/PAGE/gts/pagecontent/2013-07-15}Page' at 0x7d80ff01c6d0>\n",
      "<Element '{http://schema.primaresearch.org/PAGE/gts/pagecontent/2013-07-15}Metadata' at 0x7d80ff0299e0>\n",
      "<Element '{http://schema.primaresearch.org/PAGE/gts/pagecontent/2013-07-15}Page' at 0x7d80ff029c10>\n",
      "<Element '{http://schema.primaresearch.org/PAGE/gts/pagecontent/2013-07-15}Metadata' at 0x7d80ff045120>\n",
      "<Element '{http://schema.primaresearch.org/PAGE/gts/pagecontent/2013-07-15}Page' at 0x7d80ff045350>\n",
      "<Element '{http://schema.primaresearch.org/PAGE/gts/pagecontent/2013-07-15}Metadata' at 0x7d80ff05f830>\n",
      "<Element '{http://schema.primaresearch.org/PAGE/gts/pagecontent/2013-07-15}Page' at 0x7d80ff05fa60>\n",
      "<Element '{http://schema.primaresearch.org/PAGE/gts/pagecontent/2013-07-15}Metadata' at 0x7d80ff07d850>\n",
      "<Element '{http://schema.primaresearch.org/PAGE/gts/pagecontent/2013-07-15}Page' at 0x7d80ff07da80>\n",
      "<Element '{http://schema.primaresearch.org/PAGE/gts/pagecontent/2013-07-15}Metadata' at 0x7d80feeb1e40>\n",
      "<Element '{http://schema.primaresearch.org/PAGE/gts/pagecontent/2013-07-15}Page' at 0x7d80feeb2070>\n",
      "<Element '{http://schema.primaresearch.org/PAGE/gts/pagecontent/2013-07-15}Metadata' at 0x7d80feed2980>\n",
      "<Element '{http://schema.primaresearch.org/PAGE/gts/pagecontent/2013-07-15}Page' at 0x7d80feed2bb0>\n",
      "<Element '{http://schema.primaresearch.org/PAGE/gts/pagecontent/2013-07-15}Metadata' at 0x7d80feeecea0>\n",
      "<Element '{http://schema.primaresearch.org/PAGE/gts/pagecontent/2013-07-15}Page' at 0x7d80feeed0d0>\n",
      "<Element '{http://schema.primaresearch.org/PAGE/gts/pagecontent/2013-07-15}Metadata' at 0x7d80fef10130>\n",
      "<Element '{http://schema.primaresearch.org/PAGE/gts/pagecontent/2013-07-15}Page' at 0x7d80fef10360>\n",
      "<Element '{http://schema.primaresearch.org/PAGE/gts/pagecontent/2013-07-15}Metadata' at 0x7d80fef45760>\n",
      "<Element '{http://schema.primaresearch.org/PAGE/gts/pagecontent/2013-07-15}Page' at 0x7d80fef45990>\n",
      "<Element '{http://schema.primaresearch.org/PAGE/gts/pagecontent/2013-07-15}Metadata' at 0x7d80fef58fe0>\n",
      "<Element '{http://schema.primaresearch.org/PAGE/gts/pagecontent/2013-07-15}Page' at 0x7d80fef59210>\n",
      "<Element '{http://schema.primaresearch.org/PAGE/gts/pagecontent/2013-07-15}Metadata' at 0x7d80fef598f0>\n",
      "<Element '{http://schema.primaresearch.org/PAGE/gts/pagecontent/2013-07-15}Page' at 0x7d80fef59b20>\n",
      "<Element '{http://schema.primaresearch.org/PAGE/gts/pagecontent/2013-07-15}Metadata' at 0x7d80fef5a020>\n",
      "<Element '{http://schema.primaresearch.org/PAGE/gts/pagecontent/2013-07-15}Page' at 0x7d80fef5a250>\n",
      "<Element '{http://schema.primaresearch.org/PAGE/gts/pagecontent/2013-07-15}Metadata' at 0x7d80fef5ab10>\n",
      "<Element '{http://schema.primaresearch.org/PAGE/gts/pagecontent/2013-07-15}Page' at 0x7d80fef5ad40>\n",
      "<Element '{http://schema.primaresearch.org/PAGE/gts/pagecontent/2013-07-15}Metadata' at 0x7d80fef5b420>\n",
      "<Element '{http://schema.primaresearch.org/PAGE/gts/pagecontent/2013-07-15}Page' at 0x7d80fef5b650>\n",
      "<Element '{http://schema.primaresearch.org/PAGE/gts/pagecontent/2013-07-15}Metadata' at 0x7d80fef5b970>\n",
      "<Element '{http://schema.primaresearch.org/PAGE/gts/pagecontent/2013-07-15}Page' at 0x7d80fef5bba0>\n",
      "<Element '{http://schema.primaresearch.org/PAGE/gts/pagecontent/2013-07-15}Metadata' at 0x7d80fef6c0e0>\n",
      "<Element '{http://schema.primaresearch.org/PAGE/gts/pagecontent/2013-07-15}Page' at 0x7d80fef6c310>\n",
      "<Element '{http://schema.primaresearch.org/PAGE/gts/pagecontent/2013-07-15}Metadata' at 0x7d80fef6cf90>\n",
      "<Element '{http://schema.primaresearch.org/PAGE/gts/pagecontent/2013-07-15}Page' at 0x7d80fef6d1c0>\n",
      "<Element '{http://schema.primaresearch.org/PAGE/gts/pagecontent/2013-07-15}Metadata' at 0x7d80fef6d8a0>\n",
      "<Element '{http://schema.primaresearch.org/PAGE/gts/pagecontent/2013-07-15}Page' at 0x7d80fef6dad0>\n",
      "<Element '{http://schema.primaresearch.org/PAGE/gts/pagecontent/2013-07-15}Metadata' at 0x7d80fef6e8e0>\n",
      "<Element '{http://schema.primaresearch.org/PAGE/gts/pagecontent/2013-07-15}Page' at 0x7d80fef6eb10>\n",
      "<Element '{http://schema.primaresearch.org/PAGE/gts/pagecontent/2013-07-15}Metadata' at 0x7d80fedacb30>\n",
      "<Element '{http://schema.primaresearch.org/PAGE/gts/pagecontent/2013-07-15}Page' at 0x7d80fedacd60>\n",
      "<Element '{http://schema.primaresearch.org/PAGE/gts/pagecontent/2013-07-15}Metadata' at 0x7d80fedcb100>\n",
      "<Element '{http://schema.primaresearch.org/PAGE/gts/pagecontent/2013-07-15}Page' at 0x7d80fedcb330>\n",
      "<Element '{http://schema.primaresearch.org/PAGE/gts/pagecontent/2013-07-15}Metadata' at 0x7d80fedcb650>\n",
      "<Element '{http://schema.primaresearch.org/PAGE/gts/pagecontent/2013-07-15}Page' at 0x7d80fedcb880>\n",
      "<Element '{http://schema.primaresearch.org/PAGE/gts/pagecontent/2013-07-15}Metadata' at 0x7d80fedf1f80>\n",
      "<Element '{http://schema.primaresearch.org/PAGE/gts/pagecontent/2013-07-15}Page' at 0x7d80fedf21b0>\n",
      "<Element '{http://schema.primaresearch.org/PAGE/gts/pagecontent/2013-07-15}Metadata' at 0x7d80fee1c5e0>\n",
      "<Element '{http://schema.primaresearch.org/PAGE/gts/pagecontent/2013-07-15}Page' at 0x7d80fee1c810>\n",
      "<Element '{http://schema.primaresearch.org/PAGE/gts/pagecontent/2013-07-15}Metadata' at 0x7d80fee38f40>\n",
      "<Element '{http://schema.primaresearch.org/PAGE/gts/pagecontent/2013-07-15}Page' at 0x7d80fee39170>\n",
      "<Element '{http://schema.primaresearch.org/PAGE/gts/pagecontent/2013-07-15}Metadata' at 0x7d80fee72200>\n",
      "<Element '{http://schema.primaresearch.org/PAGE/gts/pagecontent/2013-07-15}Page' at 0x7d80fee72430>\n",
      "<Element '{http://schema.primaresearch.org/PAGE/gts/pagecontent/2013-07-15}Metadata' at 0x7d80fecb2cf0>\n",
      "<Element '{http://schema.primaresearch.org/PAGE/gts/pagecontent/2013-07-15}Page' at 0x7d80fecb2f20>\n",
      "<Element '{http://schema.primaresearch.org/PAGE/gts/pagecontent/2013-07-15}Metadata' at 0x7d80fecdfce0>\n",
      "<Element '{http://schema.primaresearch.org/PAGE/gts/pagecontent/2013-07-15}Page' at 0x7d80fecdff10>\n",
      "<Element '{http://schema.primaresearch.org/PAGE/gts/pagecontent/2013-07-15}Metadata' at 0x7d80fed214e0>\n",
      "<Element '{http://schema.primaresearch.org/PAGE/gts/pagecontent/2013-07-15}Page' at 0x7d80fed21710>\n",
      "<Element '{http://schema.primaresearch.org/PAGE/gts/pagecontent/2013-07-15}Metadata' at 0x7d80fed55c10>\n",
      "<Element '{http://schema.primaresearch.org/PAGE/gts/pagecontent/2013-07-15}Page' at 0x7d80fed55e40>\n",
      "<Element '{http://schema.primaresearch.org/PAGE/gts/pagecontent/2013-07-15}Metadata' at 0x7d80fed8aa20>\n",
      "<Element '{http://schema.primaresearch.org/PAGE/gts/pagecontent/2013-07-15}Page' at 0x7d80fed8ac50>\n",
      "<Element '{http://schema.primaresearch.org/PAGE/gts/pagecontent/2013-07-15}Metadata' at 0x7d80feba69d0>\n",
      "<Element '{http://schema.primaresearch.org/PAGE/gts/pagecontent/2013-07-15}Page' at 0x7d80feba6c00>\n",
      "<Element '{http://schema.primaresearch.org/PAGE/gts/pagecontent/2013-07-15}Metadata' at 0x7d80febde4d0>\n",
      "<Element '{http://schema.primaresearch.org/PAGE/gts/pagecontent/2013-07-15}Page' at 0x7d80febde700>\n",
      "<Element '{http://schema.primaresearch.org/PAGE/gts/pagecontent/2013-07-15}Metadata' at 0x7d80fec08db0>\n",
      "<Element '{http://schema.primaresearch.org/PAGE/gts/pagecontent/2013-07-15}Page' at 0x7d80fec08fe0>\n",
      "<Element '{http://schema.primaresearch.org/PAGE/gts/pagecontent/2013-07-15}Metadata' at 0x7d80fec3a2a0>\n",
      "<Element '{http://schema.primaresearch.org/PAGE/gts/pagecontent/2013-07-15}Page' at 0x7d80fec3a4d0>\n",
      "<Element '{http://schema.primaresearch.org/PAGE/gts/pagecontent/2013-07-15}Metadata' at 0x7d80fec6db20>\n",
      "<Element '{http://schema.primaresearch.org/PAGE/gts/pagecontent/2013-07-15}Page' at 0x7d80fec6dd50>\n",
      "<Element '{http://schema.primaresearch.org/PAGE/gts/pagecontent/2013-07-15}Metadata' at 0x7d80feaa1120>\n",
      "<Element '{http://schema.primaresearch.org/PAGE/gts/pagecontent/2013-07-15}Page' at 0x7d80feaa1350>\n",
      "<Element '{http://schema.primaresearch.org/PAGE/gts/pagecontent/2013-07-15}Metadata' at 0x7d80feabdd50>\n",
      "<Element '{http://schema.primaresearch.org/PAGE/gts/pagecontent/2013-07-15}Page' at 0x7d80feabdf80>\n",
      "<Element '{http://schema.primaresearch.org/PAGE/gts/pagecontent/2013-07-15}Metadata' at 0x7d80feaf2e30>\n",
      "<Element '{http://schema.primaresearch.org/PAGE/gts/pagecontent/2013-07-15}Page' at 0x7d80feaf3060>\n",
      "<Element '{http://schema.primaresearch.org/PAGE/gts/pagecontent/2013-07-15}Metadata' at 0x7d80feb3c770>\n",
      "<Element '{http://schema.primaresearch.org/PAGE/gts/pagecontent/2013-07-15}Page' at 0x7d80feb3c9a0>\n",
      "<Element '{http://schema.primaresearch.org/PAGE/gts/pagecontent/2013-07-15}Metadata' at 0x7d80feb75030>\n",
      "<Element '{http://schema.primaresearch.org/PAGE/gts/pagecontent/2013-07-15}Page' at 0x7d80feb75260>\n",
      "<Element '{http://schema.primaresearch.org/PAGE/gts/pagecontent/2013-07-15}Metadata' at 0x7d80fe9b1710>\n",
      "<Element '{http://schema.primaresearch.org/PAGE/gts/pagecontent/2013-07-15}Page' at 0x7d80fe9b1940>\n",
      "<Element '{http://schema.primaresearch.org/PAGE/gts/pagecontent/2013-07-15}Metadata' at 0x7d80fe9de5c0>\n",
      "<Element '{http://schema.primaresearch.org/PAGE/gts/pagecontent/2013-07-15}Page' at 0x7d80fe9de7f0>\n",
      "<Element '{http://schema.primaresearch.org/PAGE/gts/pagecontent/2013-07-15}Metadata' at 0x7d80fea13790>\n",
      "<Element '{http://schema.primaresearch.org/PAGE/gts/pagecontent/2013-07-15}Page' at 0x7d80fea139c0>\n",
      "<Element '{http://schema.primaresearch.org/PAGE/gts/pagecontent/2013-07-15}Metadata' at 0x7d80fea2b790>\n",
      "<Element '{http://schema.primaresearch.org/PAGE/gts/pagecontent/2013-07-15}Page' at 0x7d80fea2b9c0>\n",
      "<Element '{http://schema.primaresearch.org/PAGE/gts/pagecontent/2013-07-15}Metadata' at 0x7d80fea5e7f0>\n",
      "<Element '{http://schema.primaresearch.org/PAGE/gts/pagecontent/2013-07-15}Page' at 0x7d80fea5ea20>\n",
      "<Element '{http://schema.primaresearch.org/PAGE/gts/pagecontent/2013-07-15}Metadata' at 0x7d80fe8b2a70>\n",
      "<Element '{http://schema.primaresearch.org/PAGE/gts/pagecontent/2013-07-15}Page' at 0x7d80fe8b2ca0>\n",
      "<Element '{http://schema.primaresearch.org/PAGE/gts/pagecontent/2013-07-15}Metadata' at 0x7d80fe8e8f90>\n",
      "<Element '{http://schema.primaresearch.org/PAGE/gts/pagecontent/2013-07-15}Page' at 0x7d80fe8e91c0>\n",
      "<Element '{http://schema.primaresearch.org/PAGE/gts/pagecontent/2013-07-15}Metadata' at 0x7d80fe916610>\n",
      "<Element '{http://schema.primaresearch.org/PAGE/gts/pagecontent/2013-07-15}Page' at 0x7d80fe916840>\n",
      "<Element '{http://schema.primaresearch.org/PAGE/gts/pagecontent/2013-07-15}Metadata' at 0x7d80fe94bb00>\n",
      "<Element '{http://schema.primaresearch.org/PAGE/gts/pagecontent/2013-07-15}Page' at 0x7d80fe94bd30>\n",
      "<Element '{http://schema.primaresearch.org/PAGE/gts/pagecontent/2013-07-15}Metadata' at 0x7d80fe798ae0>\n",
      "<Element '{http://schema.primaresearch.org/PAGE/gts/pagecontent/2013-07-15}Page' at 0x7d80fe798d10>\n",
      "<Element '{http://schema.primaresearch.org/PAGE/gts/pagecontent/2013-07-15}Metadata' at 0x7d80fe7d0090>\n",
      "<Element '{http://schema.primaresearch.org/PAGE/gts/pagecontent/2013-07-15}Page' at 0x7d80fe7d02c0>\n",
      "<Element '{http://schema.primaresearch.org/PAGE/gts/pagecontent/2013-07-15}Metadata' at 0x7d80fe7eb8d0>\n",
      "<Element '{http://schema.primaresearch.org/PAGE/gts/pagecontent/2013-07-15}Page' at 0x7d80fe7ebb00>\n",
      "<Element '{http://schema.primaresearch.org/PAGE/gts/pagecontent/2013-07-15}Metadata' at 0x7d80fe822660>\n",
      "<Element '{http://schema.primaresearch.org/PAGE/gts/pagecontent/2013-07-15}Page' at 0x7d80fe822890>\n",
      "<Element '{http://schema.primaresearch.org/PAGE/gts/pagecontent/2013-07-15}Metadata' at 0x7d80fe851760>\n",
      "<Element '{http://schema.primaresearch.org/PAGE/gts/pagecontent/2013-07-15}Page' at 0x7d80fe851990>\n",
      "<Element '{http://schema.primaresearch.org/PAGE/gts/pagecontent/2013-07-15}Metadata' at 0x7d80fe888e50>\n",
      "<Element '{http://schema.primaresearch.org/PAGE/gts/pagecontent/2013-07-15}Page' at 0x7d80fe889080>\n",
      "<Element '{http://schema.primaresearch.org/PAGE/gts/pagecontent/2013-07-15}Metadata' at 0x7d80fe6c4630>\n",
      "<Element '{http://schema.primaresearch.org/PAGE/gts/pagecontent/2013-07-15}Page' at 0x7d80fe6c4860>\n",
      "<Element '{http://schema.primaresearch.org/PAGE/gts/pagecontent/2013-07-15}Metadata' at 0x7d80fe6dbec0>\n",
      "<Element '{http://schema.primaresearch.org/PAGE/gts/pagecontent/2013-07-15}Page' at 0x7d80fe6f0130>\n",
      "<Element '{http://schema.primaresearch.org/PAGE/gts/pagecontent/2013-07-15}Metadata' at 0x7d80fe72ce00>\n",
      "<Element '{http://schema.primaresearch.org/PAGE/gts/pagecontent/2013-07-15}Page' at 0x7d80fe72d030>\n",
      "<Element '{http://schema.primaresearch.org/PAGE/gts/pagecontent/2013-07-15}Metadata' at 0x7d80ff2a7ec0>\n",
      "<Element '{http://schema.primaresearch.org/PAGE/gts/pagecontent/2013-07-15}Page' at 0x7d80fe72e660>\n",
      "<Element '{http://schema.primaresearch.org/PAGE/gts/pagecontent/2013-07-15}Metadata' at 0x7d80fe7604f0>\n",
      "<Element '{http://schema.primaresearch.org/PAGE/gts/pagecontent/2013-07-15}Page' at 0x7d80fe760720>\n",
      "<Element '{http://schema.primaresearch.org/PAGE/gts/pagecontent/2013-07-15}Metadata' at 0x7d80fe77f4c0>\n",
      "<Element '{http://schema.primaresearch.org/PAGE/gts/pagecontent/2013-07-15}Page' at 0x7d80fe77f6f0>\n",
      "<Element '{http://schema.primaresearch.org/PAGE/gts/pagecontent/2013-07-15}Metadata' at 0x7d80fe5b29d0>\n",
      "<Element '{http://schema.primaresearch.org/PAGE/gts/pagecontent/2013-07-15}Page' at 0x7d80fe5b2c00>\n",
      "<Element '{http://schema.primaresearch.org/PAGE/gts/pagecontent/2013-07-15}Metadata' at 0x7d80fe5e90d0>\n",
      "<Element '{http://schema.primaresearch.org/PAGE/gts/pagecontent/2013-07-15}Page' at 0x7d80fe5e9300>\n",
      "<Element '{http://schema.primaresearch.org/PAGE/gts/pagecontent/2013-07-15}Metadata' at 0x7d80fe5fba60>\n",
      "<Element '{http://schema.primaresearch.org/PAGE/gts/pagecontent/2013-07-15}Page' at 0x7d80fe5fbc90>\n",
      "<Element '{http://schema.primaresearch.org/PAGE/gts/pagecontent/2013-07-15}Metadata' at 0x7d80fe611f30>\n",
      "<Element '{http://schema.primaresearch.org/PAGE/gts/pagecontent/2013-07-15}Page' at 0x7d80fe612160>\n",
      "<Element '{http://schema.primaresearch.org/PAGE/gts/pagecontent/2013-07-15}Metadata' at 0x7d80fe6505e0>\n",
      "<Element '{http://schema.primaresearch.org/PAGE/gts/pagecontent/2013-07-15}Page' at 0x7d80fe650810>\n",
      "<Element '{http://schema.primaresearch.org/PAGE/gts/pagecontent/2013-07-15}Metadata' at 0x7d80fe678310>\n",
      "<Element '{http://schema.primaresearch.org/PAGE/gts/pagecontent/2013-07-15}Page' at 0x7d80fe678540>\n",
      "<Element '{http://schema.primaresearch.org/PAGE/gts/pagecontent/2013-07-15}Metadata' at 0x7d80fe496660>\n",
      "<Element '{http://schema.primaresearch.org/PAGE/gts/pagecontent/2013-07-15}Page' at 0x7d80fe496890>\n",
      "<Element '{http://schema.primaresearch.org/PAGE/gts/pagecontent/2013-07-15}Metadata' at 0x7d80fe4cf920>\n",
      "<Element '{http://schema.primaresearch.org/PAGE/gts/pagecontent/2013-07-15}Page' at 0x7d80fe4cfb50>\n",
      "<Element '{http://schema.primaresearch.org/PAGE/gts/pagecontent/2013-07-15}Metadata' at 0x7d80fe4fb470>\n",
      "<Element '{http://schema.primaresearch.org/PAGE/gts/pagecontent/2013-07-15}Page' at 0x7d80fe4fb6a0>\n",
      "<Element '{http://schema.primaresearch.org/PAGE/gts/pagecontent/2013-07-15}Metadata' at 0x7d80fe52e4d0>\n",
      "<Element '{http://schema.primaresearch.org/PAGE/gts/pagecontent/2013-07-15}Page' at 0x7d80fe52e700>\n",
      "<Element '{http://schema.primaresearch.org/PAGE/gts/pagecontent/2013-07-15}Metadata' at 0x7d80fe549990>\n",
      "<Element '{http://schema.primaresearch.org/PAGE/gts/pagecontent/2013-07-15}Page' at 0x7d80fe549bc0>\n",
      "<Element '{http://schema.primaresearch.org/PAGE/gts/pagecontent/2013-07-15}Metadata' at 0x7d80fe579ad0>\n",
      "<Element '{http://schema.primaresearch.org/PAGE/gts/pagecontent/2013-07-15}Page' at 0x7d80fe579d00>\n"
     ]
    }
   ],
   "source": [
    "for child in roots[0]:\n",
    "    print(child)"
   ]
  },
  {
   "cell_type": "markdown",
   "id": "kGOohzRKdpaE",
   "metadata": {
    "id": "kGOohzRKdpaE"
   },
   "source": [
    "## Print text line demo"
   ]
  },
  {
   "cell_type": "code",
   "execution_count": null,
   "id": "e66eaa25-810e-4e05-8387-bd1244d15cd9",
   "metadata": {
    "colab": {
     "base_uri": "https://localhost:8080/",
     "height": 164
    },
    "id": "e66eaa25-810e-4e05-8387-bd1244d15cd9",
    "outputId": "84602b30-20e5-4f5d-bc12-dc7a9c4c33f0"
   },
   "outputs": [
    {
     "ename": "IndexError",
     "evalue": "child index out of range",
     "output_type": "error",
     "traceback": [
      "\u001b[0;31m---------------------------------------------------------------------------\u001b[0m",
      "\u001b[0;31mIndexError\u001b[0m                                Traceback (most recent call last)",
      "\u001b[0;32m/tmp/ipython-input-3486957132.py\u001b[0m in \u001b[0;36m<cell line: 0>\u001b[0;34m()\u001b[0m\n\u001b[0;32m----> 1\u001b[0;31m \u001b[0;32mfor\u001b[0m \u001b[0mchild\u001b[0m \u001b[0;32min\u001b[0m \u001b[0mroots\u001b[0m\u001b[0;34m[\u001b[0m\u001b[0;36m2\u001b[0m\u001b[0;34m]\u001b[0m\u001b[0;34m[\u001b[0m\u001b[0;36m2\u001b[0m\u001b[0;34m]\u001b[0m\u001b[0;34m[\u001b[0m\u001b[0;36m5\u001b[0m\u001b[0;34m]\u001b[0m\u001b[0;34m[\u001b[0m\u001b[0;36m7\u001b[0m\u001b[0;34m]\u001b[0m\u001b[0;34m[\u001b[0m\u001b[0;36m2\u001b[0m\u001b[0;34m]\u001b[0m\u001b[0;34m:\u001b[0m\u001b[0;34m\u001b[0m\u001b[0;34m\u001b[0m\u001b[0m\n\u001b[0m\u001b[1;32m      2\u001b[0m     \u001b[0mprint\u001b[0m\u001b[0;34m(\u001b[0m\u001b[0mchild\u001b[0m\u001b[0;34m.\u001b[0m\u001b[0mtext\u001b[0m\u001b[0;34m)\u001b[0m\u001b[0;34m\u001b[0m\u001b[0;34m\u001b[0m\u001b[0m\n",
      "\u001b[0;31mIndexError\u001b[0m: child index out of range"
     ]
    }
   ],
   "source": [
    "for child in roots[2][2][5][7][2]:\n",
    "    print(child.text)"
   ]
  }
 ],
 "metadata": {
  "colab": {
   "include_colab_link": true,
   "provenance": []
  },
  "kernelspec": {
   "display_name": "Python [conda env:incu]",
   "language": "python",
   "name": "conda-env-incu-py"
  },
  "language_info": {
   "codemirror_mode": {
    "name": "ipython",
    "version": 3
   },
   "file_extension": ".py",
   "mimetype": "text/x-python",
   "name": "python",
   "nbconvert_exporter": "python",
   "pygments_lexer": "ipython3",
   "version": "3.11.2"
  }
 },
 "nbformat": 4,
 "nbformat_minor": 5
}
