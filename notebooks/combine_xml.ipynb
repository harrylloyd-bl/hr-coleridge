{
  "cells": [
    {
      "cell_type": "markdown",
      "metadata": {
        "id": "view-in-github",
        "colab_type": "text"
      },
      "source": [
        "<a href=\"https://colab.research.google.com/github/harrylloyd-bl/hr-coleridge/blob/hr/combine_xml.ipynb\" target=\"_parent\"><img src=\"https://colab.research.google.com/assets/colab-badge.svg\" alt=\"Open In Colab\"/></a>"
      ]
    },
    {
      "cell_type": "markdown",
      "id": "dd0b9fc9-eaf2-4523-93d9-f418c8e11867",
      "metadata": {
        "id": "dd0b9fc9-eaf2-4523-93d9-f418c8e11867"
      },
      "source": [
        "# Combine XMLs"
      ]
    },
    {
      "cell_type": "markdown",
      "source": [
        "## Import Packages"
      ],
      "metadata": {
        "id": "dO_-dzYodKcl"
      },
      "id": "dO_-dzYodKcl"
    },
    {
      "cell_type": "markdown",
      "source": [
        "Import modules from the standard library to work with the file system xmls and regular expressions.\n",
        "\n",
        "\n",
        "*   glob - searches for filenames that match a specific pattern\n",
        "*   ElementTree - for working with xmls\n",
        "*   re - for regular expressions (patterns used to find specific parts of strings)\n",
        "\n",
        "[Colab Markdown Cheat Sheet](https://colab.research.google.com/notebooks/markdown_guide.ipynb)\n"
      ],
      "metadata": {
        "id": "aG6Ll6zlelZ4"
      },
      "id": "aG6Ll6zlelZ4"
    },
    {
      "cell_type": "code",
      "execution_count": null,
      "id": "62cd1d6d-0aa7-4b86-a63b-6ad76c4b8be5",
      "metadata": {
        "id": "62cd1d6d-0aa7-4b86-a63b-6ad76c4b8be5"
      },
      "outputs": [],
      "source": [
        "import glob\n",
        "import xml.etree.ElementTree as ET\n",
        "import re"
      ]
    },
    {
      "cell_type": "markdown",
      "source": [
        "Define path for data\n"
      ],
      "metadata": {
        "id": "oFlSkuq_SC5x"
      },
      "id": "oFlSkuq_SC5x"
    },
    {
      "cell_type": "code",
      "execution_count": null,
      "id": "a9971bcc-121f-4582-bc47-c9474ec4b227",
      "metadata": {
        "id": "a9971bcc-121f-4582-bc47-c9474ec4b227"
      },
      "outputs": [],
      "source": [
        "pages = glob.glob(\"sample_data/data/raw/1865/00*.xml\")"
      ]
    },
    {
      "cell_type": "markdown",
      "source": [
        "Imports data from the defined path"
      ],
      "metadata": {
        "id": "u-p46AR0YXv0"
      },
      "id": "u-p46AR0YXv0"
    },
    {
      "cell_type": "code",
      "execution_count": null,
      "id": "9cadb519-1d83-4f52-923c-983f7530ac3d",
      "metadata": {
        "id": "9cadb519-1d83-4f52-923c-983f7530ac3d",
        "outputId": "b6f1b198-8485-4076-f764-492a2a992cc2",
        "colab": {
          "base_uri": "https://localhost:8080/"
        }
      },
      "outputs": [
        {
          "output_type": "execute_result",
          "data": {
            "text/plain": [
              "['sample_data/data/raw/1865/0005_p013.xml',\n",
              " 'sample_data/data/raw/1865/0003_1865_page_1.xml',\n",
              " 'sample_data/data/raw/1865/0021_p029.xml',\n",
              " 'sample_data/data/raw/1865/0012_p020.xml',\n",
              " 'sample_data/data/raw/1865/0017_p025.xml',\n",
              " 'sample_data/data/raw/1865/0013_p021.xml',\n",
              " 'sample_data/data/raw/1865/0023_p031.xml',\n",
              " 'sample_data/data/raw/1865/0024_p032.xml',\n",
              " 'sample_data/data/raw/1865/0022_p030.xml',\n",
              " 'sample_data/data/raw/1865/0001_1865_cover.xml',\n",
              " 'sample_data/data/raw/1865/0018_p026.xml',\n",
              " 'sample_data/data/raw/1865/0014_p022.xml',\n",
              " 'sample_data/data/raw/1865/0011_p019.xml',\n",
              " 'sample_data/data/raw/1865/0002_1865_letter.xml',\n",
              " 'sample_data/data/raw/1865/0015_p023.xml',\n",
              " 'sample_data/data/raw/1865/0016_p024.xml',\n",
              " 'sample_data/data/raw/1865/0009_p017.xml',\n",
              " 'sample_data/data/raw/1865/0006_p014.xml',\n",
              " 'sample_data/data/raw/1865/0008_p016.xml',\n",
              " 'sample_data/data/raw/1865/0026_p034.xml',\n",
              " 'sample_data/data/raw/1865/0019_p027.xml',\n",
              " 'sample_data/data/raw/1865/0004_p011.xml',\n",
              " 'sample_data/data/raw/1865/0010_p018.xml',\n",
              " 'sample_data/data/raw/1865/0007_p015.xml',\n",
              " 'sample_data/data/raw/1865/0020_p028.xml',\n",
              " 'sample_data/data/raw/1865/0025_p033.xml']"
            ]
          },
          "metadata": {},
          "execution_count": 17
        }
      ],
      "source": [
        "pages"
      ]
    },
    {
      "cell_type": "markdown",
      "source": [
        "Splits filename string in two places for one page to demonstrate correct functioning"
      ],
      "metadata": {
        "id": "A39u437dYkmn"
      },
      "id": "A39u437dYkmn"
    },
    {
      "cell_type": "code",
      "source": [
        "int(pages[7].split(\"/\")[-1].split(\"_\")[0])"
      ],
      "metadata": {
        "id": "C1ZnfsfwkTon",
        "outputId": "b6c48a95-1956-4eae-d8cf-b3840f0e62cf",
        "colab": {
          "base_uri": "https://localhost:8080/"
        }
      },
      "id": "C1ZnfsfwkTon",
      "execution_count": null,
      "outputs": [
        {
          "output_type": "execute_result",
          "data": {
            "text/plain": [
              "24"
            ]
          },
          "metadata": {},
          "execution_count": 21
        }
      ]
    },
    {
      "cell_type": "markdown",
      "source": [
        "Splits filename string in two places on every page and orders correctly"
      ],
      "metadata": {
        "id": "Uqq5mOZ3aWW_"
      },
      "id": "Uqq5mOZ3aWW_"
    },
    {
      "cell_type": "code",
      "source": [
        "ordered_pages = sorted(pages, key=lambda x: int(x.split(\"/\")[-1].split(\"_\")[0]))\n",
        "ordered_pages"
      ],
      "metadata": {
        "id": "ziWymWGun9wm",
        "outputId": "0d028a36-a642-4d32-8467-66f038b6e6df",
        "colab": {
          "base_uri": "https://localhost:8080/"
        }
      },
      "id": "ziWymWGun9wm",
      "execution_count": null,
      "outputs": [
        {
          "output_type": "execute_result",
          "data": {
            "text/plain": [
              "['sample_data/data/raw/1865/0001_1865_cover.xml',\n",
              " 'sample_data/data/raw/1865/0002_1865_letter.xml',\n",
              " 'sample_data/data/raw/1865/0003_1865_page_1.xml',\n",
              " 'sample_data/data/raw/1865/0004_p011.xml',\n",
              " 'sample_data/data/raw/1865/0005_p013.xml',\n",
              " 'sample_data/data/raw/1865/0006_p014.xml',\n",
              " 'sample_data/data/raw/1865/0007_p015.xml',\n",
              " 'sample_data/data/raw/1865/0008_p016.xml',\n",
              " 'sample_data/data/raw/1865/0009_p017.xml',\n",
              " 'sample_data/data/raw/1865/0010_p018.xml',\n",
              " 'sample_data/data/raw/1865/0011_p019.xml',\n",
              " 'sample_data/data/raw/1865/0012_p020.xml',\n",
              " 'sample_data/data/raw/1865/0013_p021.xml',\n",
              " 'sample_data/data/raw/1865/0014_p022.xml',\n",
              " 'sample_data/data/raw/1865/0015_p023.xml',\n",
              " 'sample_data/data/raw/1865/0016_p024.xml',\n",
              " 'sample_data/data/raw/1865/0017_p025.xml',\n",
              " 'sample_data/data/raw/1865/0018_p026.xml',\n",
              " 'sample_data/data/raw/1865/0019_p027.xml',\n",
              " 'sample_data/data/raw/1865/0020_p028.xml',\n",
              " 'sample_data/data/raw/1865/0021_p029.xml',\n",
              " 'sample_data/data/raw/1865/0022_p030.xml',\n",
              " 'sample_data/data/raw/1865/0023_p031.xml',\n",
              " 'sample_data/data/raw/1865/0024_p032.xml',\n",
              " 'sample_data/data/raw/1865/0025_p033.xml',\n",
              " 'sample_data/data/raw/1865/0026_p034.xml']"
            ]
          },
          "metadata": {},
          "execution_count": 19
        }
      ]
    },
    {
      "cell_type": "markdown",
      "source": [
        "Prints integer of ordered list to demonstrate correct functioning"
      ],
      "metadata": {
        "id": "4ueph3QSbD77"
      },
      "id": "4ueph3QSbD77"
    },
    {
      "cell_type": "code",
      "source": [
        "for i in [0,1,2,3,4]:\n",
        "  print(i)"
      ],
      "metadata": {
        "id": "kGDzunSvtU8Z",
        "outputId": "1c5a2b21-621f-4977-918c-457231430bcc",
        "colab": {
          "base_uri": "https://localhost:8080/"
        }
      },
      "id": "kGDzunSvtU8Z",
      "execution_count": null,
      "outputs": [
        {
          "output_type": "stream",
          "name": "stdout",
          "text": [
            "0\n",
            "1\n",
            "2\n",
            "3\n",
            "4\n"
          ]
        }
      ]
    },
    {
      "cell_type": "markdown",
      "source": [
        "Specifies definition of tree and root"
      ],
      "metadata": {
        "id": "528OEQpqbPCk"
      },
      "id": "528OEQpqbPCk"
    },
    {
      "cell_type": "code",
      "execution_count": null,
      "id": "dcbaedb7-1424-4f77-8b50-af6cbb7326fe",
      "metadata": {
        "id": "dcbaedb7-1424-4f77-8b50-af6cbb7326fe"
      },
      "outputs": [],
      "source": [
        "trees, roots = [], []\n",
        "for p in ordered_pages:\n",
        "    tree = ET.parse(p)\n",
        "    root = tree.getroot()\n",
        "\n",
        "    trees.append(tree)\n",
        "    roots.append(root)"
      ]
    },
    {
      "cell_type": "markdown",
      "source": [
        "Specifies combined trees and roots"
      ],
      "metadata": {
        "id": "_BhcofvtdEWe"
      },
      "id": "_BhcofvtdEWe"
    },
    {
      "cell_type": "code",
      "execution_count": null,
      "id": "292fe6a2-d459-4c9c-abe3-00ed4f828935",
      "metadata": {
        "id": "292fe6a2-d459-4c9c-abe3-00ed4f828935"
      },
      "outputs": [],
      "source": [
        "combined_root = roots[0]\n",
        "combined_tree = trees[0]"
      ]
    },
    {
      "cell_type": "markdown",
      "source": [
        "Prints children of first root"
      ],
      "metadata": {
        "id": "aR2LPHuwddKL"
      },
      "id": "aR2LPHuwddKL"
    },
    {
      "cell_type": "code",
      "execution_count": null,
      "id": "6ecb67b2-f82d-42b8-a75d-8f9aaec82185",
      "metadata": {
        "id": "6ecb67b2-f82d-42b8-a75d-8f9aaec82185",
        "outputId": "ad866dae-d30f-4424-b624-4280da0e6ff7",
        "colab": {
          "base_uri": "https://localhost:8080/"
        }
      },
      "outputs": [
        {
          "output_type": "stream",
          "name": "stdout",
          "text": [
            "<Element '{http://schema.primaresearch.org/PAGE/gts/pagecontent/2013-07-15}Metadata' at 0x79ccf03b1ee0>\n",
            "<Element '{http://schema.primaresearch.org/PAGE/gts/pagecontent/2013-07-15}Page' at 0x79ccf0218ef0>\n"
          ]
        }
      ],
      "source": [
        "for child in roots[0]:\n",
        "    print(child)"
      ]
    },
    {
      "cell_type": "markdown",
      "source": [
        "Prints the line of text identified through tree branches"
      ],
      "metadata": {
        "id": "kGOohzRKdpaE"
      },
      "id": "kGOohzRKdpaE"
    },
    {
      "cell_type": "code",
      "execution_count": null,
      "id": "e66eaa25-810e-4e05-8387-bd1244d15cd9",
      "metadata": {
        "id": "e66eaa25-810e-4e05-8387-bd1244d15cd9",
        "outputId": "910b21ad-48c0-4103-9ab0-c1d47996e833",
        "colab": {
          "base_uri": "https://localhost:8080/"
        }
      },
      "outputs": [
        {
          "output_type": "stream",
          "name": "stdout",
          "text": [
            "of bringing the whole of the surveys under the Home Department, as proposed in Lieutenant\n"
          ]
        }
      ],
      "source": [
        "for child in roots[2][1][5][7][2]:\n",
        "    print(child.text)"
      ]
    },
    {
      "cell_type": "markdown",
      "source": [
        "Combines children into single list"
      ],
      "metadata": {
        "id": "djBp_cwneI1i"
      },
      "id": "djBp_cwneI1i"
    },
    {
      "cell_type": "code",
      "execution_count": null,
      "id": "f4a8783d-e7c6-4cd1-bfc7-0c478a21f1ca",
      "metadata": {
        "id": "f4a8783d-e7c6-4cd1-bfc7-0c478a21f1ca"
      },
      "outputs": [],
      "source": [
        "for root in roots[1:]:\n",
        "    for child in root:\n",
        "        combined_root.append(child)"
      ]
    },
    {
      "cell_type": "markdown",
      "source": [
        "Prints the combined list of children"
      ],
      "metadata": {
        "id": "jjXvc7hAehsC"
      },
      "id": "jjXvc7hAehsC"
    },
    {
      "cell_type": "code",
      "execution_count": null,
      "id": "089d2c39-7c5f-42b0-ac4a-25074a93d269",
      "metadata": {
        "id": "089d2c39-7c5f-42b0-ac4a-25074a93d269",
        "outputId": "6c4b5e6d-e703-473c-e366-ccc86a41511d",
        "colab": {
          "base_uri": "https://localhost:8080/"
        }
      },
      "outputs": [
        {
          "output_type": "stream",
          "name": "stdout",
          "text": [
            "{http://schema.primaresearch.org/PAGE/gts/pagecontent/2013-07-15}Metadata\n",
            "{http://schema.primaresearch.org/PAGE/gts/pagecontent/2013-07-15}Page\n",
            "{http://schema.primaresearch.org/PAGE/gts/pagecontent/2013-07-15}Metadata\n",
            "{http://schema.primaresearch.org/PAGE/gts/pagecontent/2013-07-15}Page\n",
            "{http://schema.primaresearch.org/PAGE/gts/pagecontent/2013-07-15}Metadata\n",
            "{http://schema.primaresearch.org/PAGE/gts/pagecontent/2013-07-15}Page\n",
            "{http://schema.primaresearch.org/PAGE/gts/pagecontent/2013-07-15}Metadata\n",
            "{http://schema.primaresearch.org/PAGE/gts/pagecontent/2013-07-15}Page\n",
            "{http://schema.primaresearch.org/PAGE/gts/pagecontent/2013-07-15}Metadata\n",
            "{http://schema.primaresearch.org/PAGE/gts/pagecontent/2013-07-15}Page\n",
            "{http://schema.primaresearch.org/PAGE/gts/pagecontent/2013-07-15}Metadata\n",
            "{http://schema.primaresearch.org/PAGE/gts/pagecontent/2013-07-15}Page\n",
            "{http://schema.primaresearch.org/PAGE/gts/pagecontent/2013-07-15}Metadata\n",
            "{http://schema.primaresearch.org/PAGE/gts/pagecontent/2013-07-15}Page\n",
            "{http://schema.primaresearch.org/PAGE/gts/pagecontent/2013-07-15}Metadata\n",
            "{http://schema.primaresearch.org/PAGE/gts/pagecontent/2013-07-15}Page\n",
            "{http://schema.primaresearch.org/PAGE/gts/pagecontent/2013-07-15}Metadata\n",
            "{http://schema.primaresearch.org/PAGE/gts/pagecontent/2013-07-15}Page\n",
            "{http://schema.primaresearch.org/PAGE/gts/pagecontent/2013-07-15}Metadata\n",
            "{http://schema.primaresearch.org/PAGE/gts/pagecontent/2013-07-15}Page\n",
            "{http://schema.primaresearch.org/PAGE/gts/pagecontent/2013-07-15}Metadata\n",
            "{http://schema.primaresearch.org/PAGE/gts/pagecontent/2013-07-15}Page\n",
            "{http://schema.primaresearch.org/PAGE/gts/pagecontent/2013-07-15}Metadata\n",
            "{http://schema.primaresearch.org/PAGE/gts/pagecontent/2013-07-15}Page\n",
            "{http://schema.primaresearch.org/PAGE/gts/pagecontent/2013-07-15}Metadata\n",
            "{http://schema.primaresearch.org/PAGE/gts/pagecontent/2013-07-15}Page\n",
            "{http://schema.primaresearch.org/PAGE/gts/pagecontent/2013-07-15}Metadata\n",
            "{http://schema.primaresearch.org/PAGE/gts/pagecontent/2013-07-15}Page\n",
            "{http://schema.primaresearch.org/PAGE/gts/pagecontent/2013-07-15}Metadata\n",
            "{http://schema.primaresearch.org/PAGE/gts/pagecontent/2013-07-15}Page\n",
            "{http://schema.primaresearch.org/PAGE/gts/pagecontent/2013-07-15}Metadata\n",
            "{http://schema.primaresearch.org/PAGE/gts/pagecontent/2013-07-15}Page\n",
            "{http://schema.primaresearch.org/PAGE/gts/pagecontent/2013-07-15}Metadata\n",
            "{http://schema.primaresearch.org/PAGE/gts/pagecontent/2013-07-15}Page\n",
            "{http://schema.primaresearch.org/PAGE/gts/pagecontent/2013-07-15}Metadata\n",
            "{http://schema.primaresearch.org/PAGE/gts/pagecontent/2013-07-15}Page\n",
            "{http://schema.primaresearch.org/PAGE/gts/pagecontent/2013-07-15}Metadata\n",
            "{http://schema.primaresearch.org/PAGE/gts/pagecontent/2013-07-15}Page\n",
            "{http://schema.primaresearch.org/PAGE/gts/pagecontent/2013-07-15}Metadata\n",
            "{http://schema.primaresearch.org/PAGE/gts/pagecontent/2013-07-15}Page\n",
            "{http://schema.primaresearch.org/PAGE/gts/pagecontent/2013-07-15}Metadata\n",
            "{http://schema.primaresearch.org/PAGE/gts/pagecontent/2013-07-15}Page\n",
            "{http://schema.primaresearch.org/PAGE/gts/pagecontent/2013-07-15}Metadata\n",
            "{http://schema.primaresearch.org/PAGE/gts/pagecontent/2013-07-15}Page\n",
            "{http://schema.primaresearch.org/PAGE/gts/pagecontent/2013-07-15}Metadata\n",
            "{http://schema.primaresearch.org/PAGE/gts/pagecontent/2013-07-15}Page\n",
            "{http://schema.primaresearch.org/PAGE/gts/pagecontent/2013-07-15}Metadata\n",
            "{http://schema.primaresearch.org/PAGE/gts/pagecontent/2013-07-15}Page\n",
            "{http://schema.primaresearch.org/PAGE/gts/pagecontent/2013-07-15}Metadata\n",
            "{http://schema.primaresearch.org/PAGE/gts/pagecontent/2013-07-15}Page\n",
            "{http://schema.primaresearch.org/PAGE/gts/pagecontent/2013-07-15}Metadata\n",
            "{http://schema.primaresearch.org/PAGE/gts/pagecontent/2013-07-15}Page\n"
          ]
        }
      ],
      "source": [
        "for child in combined_root:\n",
        "    print(child.tag)"
      ]
    },
    {
      "cell_type": "markdown",
      "source": [
        "Saves the combined tree into a new file called combined_pages.xml"
      ],
      "metadata": {
        "id": "-SPPIZIkesl6"
      },
      "id": "-SPPIZIkesl6"
    },
    {
      "cell_type": "code",
      "execution_count": null,
      "id": "4052de8f-df59-4bd5-b841-94c9ed94b482",
      "metadata": {
        "id": "4052de8f-df59-4bd5-b841-94c9ed94b482"
      },
      "outputs": [],
      "source": [
        "ET.indent(combined_tree, space=\"    \")\n",
        "combined_tree.write(\"combined_pages.xml\", encoding=\"UTF-8\")"
      ]
    },
    {
      "cell_type": "markdown",
      "id": "f340af6e-00c6-4864-aedb-b3f9b7e2ee93",
      "metadata": {
        "id": "f340af6e-00c6-4864-aedb-b3f9b7e2ee93"
      },
      "source": [
        "### Parse credit sections"
      ]
    },
    {
      "cell_type": "code",
      "execution_count": null,
      "id": "6a99277f-dfbe-4d56-97c3-dcc9e6c43a16",
      "metadata": {
        "id": "6a99277f-dfbe-4d56-97c3-dcc9e6c43a16",
        "outputId": "a7c0603d-eaa3-4905-8538-885e95a51ca8",
        "colab": {
          "base_uri": "https://localhost:8080/",
          "height": 141
        }
      },
      "outputs": [
        {
          "output_type": "error",
          "ename": "IndexError",
          "evalue": "child index out of range",
          "traceback": [
            "\u001b[0;31m---------------------------------------------------------------------------\u001b[0m",
            "\u001b[0;31mIndexError\u001b[0m                                Traceback (most recent call last)",
            "\u001b[0;32m/tmp/ipython-input-31-3561711603.py\u001b[0m in \u001b[0;36m<cell line: 0>\u001b[0;34m()\u001b[0m\n\u001b[0;32m----> 1\u001b[0;31m \u001b[0;34m\"structure {type:credit;}\"\u001b[0m \u001b[0;32min\u001b[0m \u001b[0mcombined_root\u001b[0m\u001b[0;34m[\u001b[0m\u001b[0;36m1\u001b[0m\u001b[0;34m]\u001b[0m\u001b[0;34m[\u001b[0m\u001b[0;36m5\u001b[0m\u001b[0;34m]\u001b[0m\u001b[0;34m.\u001b[0m\u001b[0mattrib\u001b[0m\u001b[0;34m[\u001b[0m\u001b[0;34m\"custom\"\u001b[0m\u001b[0;34m]\u001b[0m\u001b[0;34m\u001b[0m\u001b[0;34m\u001b[0m\u001b[0m\n\u001b[0m",
            "\u001b[0;31mIndexError\u001b[0m: child index out of range"
          ]
        }
      ],
      "source": [
        "\"structure {type:credit;}\" in combined_root[1][5].attrib[\"custom\"]"
      ]
    },
    {
      "cell_type": "code",
      "execution_count": null,
      "id": "b291a34b-0db3-436a-b607-4257c18686bf",
      "metadata": {
        "id": "b291a34b-0db3-436a-b607-4257c18686bf"
      },
      "outputs": [],
      "source": [
        "credits = []\n",
        "for child in combined_root:\n",
        "    if child.tag.split(\"}\")[1] == \"Page\":\n",
        "        for region in child:\n",
        "            if \"structure {type:credit;}\" in region.attrib.get(\"custom\", []):\n",
        "                credits.append(region)"
      ]
    },
    {
      "cell_type": "code",
      "execution_count": null,
      "id": "b97df8a9-b5be-4a6e-a5ee-84b0fd811a28",
      "metadata": {
        "id": "b97df8a9-b5be-4a6e-a5ee-84b0fd811a28"
      },
      "outputs": [],
      "source": [
        "def parse_xml_attrib(s):\n",
        "    return re.findall(r\"(?<attr_name>\\w*)\\s\\(?<attr_value>{[\\w:\\s\\d]*;\\})\", s)"
      ]
    },
    {
      "cell_type": "code",
      "execution_count": null,
      "id": "083b814d-5b2f-428d-a9e6-ca213e507955",
      "metadata": {
        "id": "083b814d-5b2f-428d-a9e6-ca213e507955"
      },
      "outputs": [],
      "source": [
        "s = credits[0][3].attrib[\"custom\"]\n",
        "s"
      ]
    },
    {
      "cell_type": "code",
      "execution_count": null,
      "id": "62a55765-eadb-4907-bb2e-1aeb1e24f4f9",
      "metadata": {
        "id": "62a55765-eadb-4907-bb2e-1aeb1e24f4f9"
      },
      "outputs": [],
      "source": [
        "re.findall(r\"(?P<attr_name>\\w*)\\s(?P<attr_value>\\{[\\w:;\\s\\d]*;\\})\", s)"
      ]
    }
  ],
  "metadata": {
    "kernelspec": {
      "display_name": "Python [conda env:base-plus] *",
      "language": "python",
      "name": "conda-env-base-plus-py"
    },
    "language_info": {
      "codemirror_mode": {
        "name": "ipython",
        "version": 3
      },
      "file_extension": ".py",
      "mimetype": "text/x-python",
      "name": "python",
      "nbconvert_exporter": "python",
      "pygments_lexer": "ipython3",
      "version": "3.13.0"
    },
    "colab": {
      "provenance": [],
      "include_colab_link": true
    }
  },
  "nbformat": 4,
  "nbformat_minor": 5
}