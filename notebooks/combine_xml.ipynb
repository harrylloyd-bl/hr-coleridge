{
  "cells": [
    {
      "cell_type": "markdown",
      "id": "dd0b9fc9-eaf2-4523-93d9-f418c8e11867",
      "metadata": {
        "id": "dd0b9fc9-eaf2-4523-93d9-f418c8e11867"
      },
      "source": [
        "### Combine XMLs"
      ]
    },
    {
      "cell_type": "code",
      "execution_count": 9,
      "id": "62cd1d6d-0aa7-4b86-a63b-6ad76c4b8be5",
      "metadata": {
        "id": "62cd1d6d-0aa7-4b86-a63b-6ad76c4b8be5"
      },
      "outputs": [],
      "source": [
        "import glob\n",
        "import xml.etree.ElementTree as ET\n",
        "import re"
      ]
    },
    {
      "cell_type": "code",
      "execution_count": 6,
      "id": "a9971bcc-121f-4582-bc47-c9474ec4b227",
      "metadata": {
        "id": "a9971bcc-121f-4582-bc47-c9474ec4b227"
      },
      "outputs": [],
      "source": [
        "pages = glob.glob(\"00*.xml\")"
      ]
    },
    {
      "cell_type": "code",
      "execution_count": 35,
      "id": "9cadb519-1d83-4f52-923c-983f7530ac3d",
      "metadata": {
        "id": "9cadb519-1d83-4f52-923c-983f7530ac3d",
        "outputId": "915c6b50-87c1-46a1-be7d-e613ad25adcd",
        "colab": {
          "base_uri": "https://localhost:8080/"
        }
      },
      "outputs": [
        {
          "output_type": "execute_result",
          "data": {
            "text/plain": [
              "['0001_1865_cover.xml', '0002_1865_letter.xml', '0003_1865_page_1.xml']"
            ]
          },
          "metadata": {},
          "execution_count": 35
        }
      ],
      "source": [
        "pages"
      ]
    },
    {
      "cell_type": "code",
      "execution_count": 10,
      "id": "dcbaedb7-1424-4f77-8b50-af6cbb7326fe",
      "metadata": {
        "id": "dcbaedb7-1424-4f77-8b50-af6cbb7326fe"
      },
      "outputs": [],
      "source": [
        "trees, roots = [], []\n",
        "for p in pages:\n",
        "    tree = ET.parse(p)\n",
        "    root = tree.getroot()\n",
        "\n",
        "    trees.append(tree)\n",
        "    roots.append(root)"
      ]
    },
    {
      "cell_type": "code",
      "execution_count": 11,
      "id": "292fe6a2-d459-4c9c-abe3-00ed4f828935",
      "metadata": {
        "id": "292fe6a2-d459-4c9c-abe3-00ed4f828935"
      },
      "outputs": [],
      "source": [
        "combined_root = roots[0]\n",
        "combined_tree = trees[0]"
      ]
    },
    {
      "cell_type": "code",
      "execution_count": 12,
      "id": "6ecb67b2-f82d-42b8-a75d-8f9aaec82185",
      "metadata": {
        "id": "6ecb67b2-f82d-42b8-a75d-8f9aaec82185",
        "outputId": "edff066d-220e-4683-f979-01b0c4fc2f41",
        "colab": {
          "base_uri": "https://localhost:8080/"
        }
      },
      "outputs": [
        {
          "output_type": "stream",
          "name": "stdout",
          "text": [
            "<Element '{http://schema.primaresearch.org/PAGE/gts/pagecontent/2013-07-15}Metadata' at 0x7a17b32c9850>\n",
            "<Element '{http://schema.primaresearch.org/PAGE/gts/pagecontent/2013-07-15}Page' at 0x7a17b32c9a80>\n"
          ]
        }
      ],
      "source": [
        "for child in roots[0]:\n",
        "    print(child)"
      ]
    },
    {
      "cell_type": "code",
      "execution_count": 33,
      "id": "e66eaa25-810e-4e05-8387-bd1244d15cd9",
      "metadata": {
        "id": "e66eaa25-810e-4e05-8387-bd1244d15cd9",
        "outputId": "bca3156e-c728-429d-ca12-9705a193b096",
        "colab": {
          "base_uri": "https://localhost:8080/"
        }
      },
      "outputs": [
        {
          "output_type": "stream",
          "name": "stdout",
          "text": [
            "of bringing the whole of the surveys under the Home Department, as proposed in Lieutenant\n"
          ]
        }
      ],
      "source": [
        "for child in roots[2][1][5][7][2]:\n",
        "    print(child.text)"
      ]
    },
    {
      "cell_type": "code",
      "execution_count": 16,
      "id": "f4a8783d-e7c6-4cd1-bfc7-0c478a21f1ca",
      "metadata": {
        "id": "f4a8783d-e7c6-4cd1-bfc7-0c478a21f1ca"
      },
      "outputs": [],
      "source": [
        "for root in roots[1:]:\n",
        "    for child in root:\n",
        "        combined_root.append(child)"
      ]
    },
    {
      "cell_type": "code",
      "execution_count": 17,
      "id": "089d2c39-7c5f-42b0-ac4a-25074a93d269",
      "metadata": {
        "id": "089d2c39-7c5f-42b0-ac4a-25074a93d269",
        "outputId": "36f1ebf4-4947-461c-99af-412cdbe4a883",
        "colab": {
          "base_uri": "https://localhost:8080/"
        }
      },
      "outputs": [
        {
          "output_type": "stream",
          "name": "stdout",
          "text": [
            "{http://schema.primaresearch.org/PAGE/gts/pagecontent/2013-07-15}Metadata\n",
            "{http://schema.primaresearch.org/PAGE/gts/pagecontent/2013-07-15}Page\n",
            "{http://schema.primaresearch.org/PAGE/gts/pagecontent/2013-07-15}Metadata\n",
            "{http://schema.primaresearch.org/PAGE/gts/pagecontent/2013-07-15}Page\n",
            "{http://schema.primaresearch.org/PAGE/gts/pagecontent/2013-07-15}Metadata\n",
            "{http://schema.primaresearch.org/PAGE/gts/pagecontent/2013-07-15}Page\n"
          ]
        }
      ],
      "source": [
        "for child in combined_root:\n",
        "    print(child.tag)"
      ]
    },
    {
      "cell_type": "code",
      "execution_count": 34,
      "id": "4052de8f-df59-4bd5-b841-94c9ed94b482",
      "metadata": {
        "id": "4052de8f-df59-4bd5-b841-94c9ed94b482"
      },
      "outputs": [],
      "source": [
        "ET.indent(combined_tree, space=\"    \")\n",
        "combined_tree.write(\"combined_pages.xml\", encoding=\"UTF-8\")"
      ]
    },
    {
      "cell_type": "markdown",
      "id": "f340af6e-00c6-4864-aedb-b3f9b7e2ee93",
      "metadata": {
        "id": "f340af6e-00c6-4864-aedb-b3f9b7e2ee93"
      },
      "source": [
        "### Parse credit sections"
      ]
    },
    {
      "cell_type": "code",
      "execution_count": null,
      "id": "6a99277f-dfbe-4d56-97c3-dcc9e6c43a16",
      "metadata": {
        "id": "6a99277f-dfbe-4d56-97c3-dcc9e6c43a16"
      },
      "outputs": [],
      "source": [
        "\"structure {type:credit;}\" in combined_root[1][5].attrib[\"custom\"]"
      ]
    },
    {
      "cell_type": "code",
      "execution_count": null,
      "id": "b291a34b-0db3-436a-b607-4257c18686bf",
      "metadata": {
        "id": "b291a34b-0db3-436a-b607-4257c18686bf"
      },
      "outputs": [],
      "source": [
        "credits = []\n",
        "for child in combined_root:\n",
        "    if child.tag.split(\"}\")[1] == \"Page\":\n",
        "        for region in child:\n",
        "            if \"structure {type:credit;}\" in region.attrib.get(\"custom\", []):\n",
        "                credits.append(region)"
      ]
    },
    {
      "cell_type": "code",
      "execution_count": null,
      "id": "b97df8a9-b5be-4a6e-a5ee-84b0fd811a28",
      "metadata": {
        "id": "b97df8a9-b5be-4a6e-a5ee-84b0fd811a28"
      },
      "outputs": [],
      "source": [
        "def parse_xml_attrib(s):\n",
        "    return re.findall(r\"(?<attr_name>\\w*)\\s\\(?<attr_value>{[\\w:\\s\\d]*;\\})\", s)"
      ]
    },
    {
      "cell_type": "code",
      "execution_count": null,
      "id": "083b814d-5b2f-428d-a9e6-ca213e507955",
      "metadata": {
        "id": "083b814d-5b2f-428d-a9e6-ca213e507955"
      },
      "outputs": [],
      "source": [
        "s = credits[0][3].attrib[\"custom\"]\n",
        "s"
      ]
    },
    {
      "cell_type": "code",
      "execution_count": null,
      "id": "62a55765-eadb-4907-bb2e-1aeb1e24f4f9",
      "metadata": {
        "id": "62a55765-eadb-4907-bb2e-1aeb1e24f4f9"
      },
      "outputs": [],
      "source": [
        "re.findall(r\"(?P<attr_name>\\w*)\\s(?P<attr_value>\\{[\\w:;\\s\\d]*;\\})\", s)"
      ]
    }
  ],
  "metadata": {
    "kernelspec": {
      "display_name": "Python [conda env:base-plus] *",
      "language": "python",
      "name": "conda-env-base-plus-py"
    },
    "language_info": {
      "codemirror_mode": {
        "name": "ipython",
        "version": 3
      },
      "file_extension": ".py",
      "mimetype": "text/x-python",
      "name": "python",
      "nbconvert_exporter": "python",
      "pygments_lexer": "ipython3",
      "version": "3.13.0"
    },
    "colab": {
      "provenance": []
    }
  },
  "nbformat": 4,
  "nbformat_minor": 5
}